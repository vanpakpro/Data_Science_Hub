{
 "cells": [
  {
   "cell_type": "markdown",
   "id": "42289889-bd57-434e-9637-d3e354756316",
   "metadata": {
    "id": "42289889-bd57-434e-9637-d3e354756316"
   },
   "source": [
    "<center> <img src = https://raw.githubusercontent.com/AndreyRysistov/DatasetsForPandas/main/hh%20label.jpg alt=\"drawing\" style=\"width:400px;\">"
   ]
  },
  {
   "cell_type": "markdown",
   "id": "829cb75b-f14e-4ba8-9195-7ba929a7d656",
   "metadata": {
    "id": "829cb75b-f14e-4ba8-9195-7ba929a7d656",
    "tags": []
   },
   "source": [
    "# <center> Проект: Анализ вакансий из HeadHunter\n",
    "   "
   ]
  },
  {
   "cell_type": "code",
   "execution_count": 1,
   "id": "dccfde33-2452-43fb-a8a5-5c6ebc02a71d",
   "metadata": {
    "id": "dccfde33-2452-43fb-a8a5-5c6ebc02a71d"
   },
   "outputs": [],
   "source": [
    "import pandas as pd\n",
    "import psycopg2\n",
    "import urllib.parse as req"
   ]
  },
  {
   "cell_type": "code",
   "execution_count": 2,
   "id": "oVKH4ehvf8Ay",
   "metadata": {
    "id": "oVKH4ehvf8Ay"
   },
   "outputs": [],
   "source": [
    "# вставьте сюда параметры подключения из юнита 1. Работа с базой данных из Python\n",
    "DBNAME = 'project_sql'\n",
    "USER = 'skillfactory'\n",
    "PASSWORD = 'cCkxxLVrDE8EbvjueeMedPKt'\n",
    "HOST = '84.201.134.129'\n",
    "PORT = 5432"
   ]
  },
  {
   "cell_type": "code",
   "execution_count": 3,
   "id": "d1463af3",
   "metadata": {},
   "outputs": [],
   "source": [
    "n = 10\n",
    "query = f'''SELECT * \n",
    "            FROM public.vacancies \n",
    "            LIMIT {n}\n",
    "         '''"
   ]
  },
  {
   "cell_type": "code",
   "execution_count": 4,
   "id": "0cf18043",
   "metadata": {},
   "outputs": [
    {
     "data": {
      "text/html": [
       "<div>\n",
       "<style scoped>\n",
       "    .dataframe tbody tr th:only-of-type {\n",
       "        vertical-align: middle;\n",
       "    }\n",
       "\n",
       "    .dataframe tbody tr th {\n",
       "        vertical-align: top;\n",
       "    }\n",
       "\n",
       "    .dataframe thead th {\n",
       "        text-align: right;\n",
       "    }\n",
       "</style>\n",
       "<table border=\"1\" class=\"dataframe\">\n",
       "  <thead>\n",
       "    <tr style=\"text-align: right;\">\n",
       "      <th></th>\n",
       "      <th>id</th>\n",
       "      <th>name</th>\n",
       "      <th>key_skills</th>\n",
       "      <th>schedule</th>\n",
       "      <th>experience</th>\n",
       "      <th>employment</th>\n",
       "      <th>salary_from</th>\n",
       "      <th>salary_to</th>\n",
       "      <th>area_id</th>\n",
       "      <th>employer_id</th>\n",
       "    </tr>\n",
       "  </thead>\n",
       "  <tbody>\n",
       "    <tr>\n",
       "      <th>0</th>\n",
       "      <td>55312386</td>\n",
       "      <td>Компьютерный Мастер</td>\n",
       "      <td>Пользователь ПК\\tРабота в команде\\tРемонт ноут...</td>\n",
       "      <td>Полный день</td>\n",
       "      <td>Нет опыта</td>\n",
       "      <td>Полная занятость</td>\n",
       "      <td>64000.0</td>\n",
       "      <td>NaN</td>\n",
       "      <td>1516</td>\n",
       "      <td>5724811</td>\n",
       "    </tr>\n",
       "    <tr>\n",
       "      <th>1</th>\n",
       "      <td>55843014</td>\n",
       "      <td>Системный администратор</td>\n",
       "      <td>Средства криптографической защиты информации\\t...</td>\n",
       "      <td>Полный день</td>\n",
       "      <td>От 3 до 6 лет</td>\n",
       "      <td>Полная занятость</td>\n",
       "      <td>NaN</td>\n",
       "      <td>NaN</td>\n",
       "      <td>130</td>\n",
       "      <td>4903713</td>\n",
       "    </tr>\n",
       "    <tr>\n",
       "      <th>2</th>\n",
       "      <td>54525964</td>\n",
       "      <td>Lead Java Developer to Poland</td>\n",
       "      <td>Spring Framework\\tSQL\\tHibernate ORM\\tJava\\tGit</td>\n",
       "      <td>Удаленная работа</td>\n",
       "      <td>От 3 до 6 лет</td>\n",
       "      <td>Полная занятость</td>\n",
       "      <td>NaN</td>\n",
       "      <td>NaN</td>\n",
       "      <td>160</td>\n",
       "      <td>69961</td>\n",
       "    </tr>\n",
       "    <tr>\n",
       "      <th>3</th>\n",
       "      <td>54525965</td>\n",
       "      <td>Lead Java Developer to Poland</td>\n",
       "      <td>Spring Framework\\tSQL\\tHibernate ORM\\tJava\\tGit</td>\n",
       "      <td>Удаленная работа</td>\n",
       "      <td>От 3 до 6 лет</td>\n",
       "      <td>Полная занятость</td>\n",
       "      <td>NaN</td>\n",
       "      <td>NaN</td>\n",
       "      <td>159</td>\n",
       "      <td>69961</td>\n",
       "    </tr>\n",
       "    <tr>\n",
       "      <th>4</th>\n",
       "      <td>55354053</td>\n",
       "      <td>Специалист службы поддержки с техническими зна...</td>\n",
       "      <td>None</td>\n",
       "      <td>Удаленная работа</td>\n",
       "      <td>Нет опыта</td>\n",
       "      <td>Частичная занятость</td>\n",
       "      <td>15000.0</td>\n",
       "      <td>NaN</td>\n",
       "      <td>1955</td>\n",
       "      <td>1740</td>\n",
       "    </tr>\n",
       "    <tr>\n",
       "      <th>5</th>\n",
       "      <td>55906072</td>\n",
       "      <td>Корректор</td>\n",
       "      <td>Корректура текстов\\tГрамотность\\tРабота в кома...</td>\n",
       "      <td>Полный день</td>\n",
       "      <td>Нет опыта</td>\n",
       "      <td>Полная занятость</td>\n",
       "      <td>NaN</td>\n",
       "      <td>NaN</td>\n",
       "      <td>2323</td>\n",
       "      <td>584934</td>\n",
       "    </tr>\n",
       "    <tr>\n",
       "      <th>6</th>\n",
       "      <td>55523207</td>\n",
       "      <td>React Front-end Middle Developer</td>\n",
       "      <td>JavaScript\\tTypeScript\\tCSS3\\tNode.js\\tHTML5</td>\n",
       "      <td>Гибкий график</td>\n",
       "      <td>От 1 года до 3 лет</td>\n",
       "      <td>Полная занятость</td>\n",
       "      <td>NaN</td>\n",
       "      <td>NaN</td>\n",
       "      <td>2759</td>\n",
       "      <td>204511</td>\n",
       "    </tr>\n",
       "    <tr>\n",
       "      <th>7</th>\n",
       "      <td>55050261</td>\n",
       "      <td>Инженер-программист</td>\n",
       "      <td>Java SE\\tSpring Framework\\tSpring Boot\\tGit\\tS...</td>\n",
       "      <td>Полный день</td>\n",
       "      <td>Нет опыта</td>\n",
       "      <td>Полная занятость</td>\n",
       "      <td>40000.0</td>\n",
       "      <td>60000.0</td>\n",
       "      <td>49</td>\n",
       "      <td>4448636</td>\n",
       "    </tr>\n",
       "    <tr>\n",
       "      <th>8</th>\n",
       "      <td>55583432</td>\n",
       "      <td>Системный администратор</td>\n",
       "      <td>Linux\\tАдминистрирование сетевого оборудования...</td>\n",
       "      <td>Полный день</td>\n",
       "      <td>От 1 года до 3 лет</td>\n",
       "      <td>Полная занятость</td>\n",
       "      <td>50000.0</td>\n",
       "      <td>NaN</td>\n",
       "      <td>3</td>\n",
       "      <td>55126</td>\n",
       "    </tr>\n",
       "    <tr>\n",
       "      <th>9</th>\n",
       "      <td>55312414</td>\n",
       "      <td>Ведущий специалист группы разработки систем</td>\n",
       "      <td>1С программирование\\t1С: Предприятие 8\\t1С: До...</td>\n",
       "      <td>Полный день</td>\n",
       "      <td>От 3 до 6 лет</td>\n",
       "      <td>Полная занятость</td>\n",
       "      <td>NaN</td>\n",
       "      <td>NaN</td>\n",
       "      <td>47</td>\n",
       "      <td>1413754</td>\n",
       "    </tr>\n",
       "  </tbody>\n",
       "</table>\n",
       "</div>"
      ],
      "text/plain": [
       "         id                                               name  \\\n",
       "0  55312386                                Компьютерный Мастер   \n",
       "1  55843014                            Системный администратор   \n",
       "2  54525964                      Lead Java Developer to Poland   \n",
       "3  54525965                      Lead Java Developer to Poland   \n",
       "4  55354053  Специалист службы поддержки с техническими зна...   \n",
       "5  55906072                                          Корректор   \n",
       "6  55523207                   React Front-end Middle Developer   \n",
       "7  55050261                                Инженер-программист   \n",
       "8  55583432                            Системный администратор   \n",
       "9  55312414        Ведущий специалист группы разработки систем   \n",
       "\n",
       "                                          key_skills          schedule  \\\n",
       "0  Пользователь ПК\\tРабота в команде\\tРемонт ноут...       Полный день   \n",
       "1  Средства криптографической защиты информации\\t...       Полный день   \n",
       "2    Spring Framework\\tSQL\\tHibernate ORM\\tJava\\tGit  Удаленная работа   \n",
       "3    Spring Framework\\tSQL\\tHibernate ORM\\tJava\\tGit  Удаленная работа   \n",
       "4                                               None  Удаленная работа   \n",
       "5  Корректура текстов\\tГрамотность\\tРабота в кома...       Полный день   \n",
       "6       JavaScript\\tTypeScript\\tCSS3\\tNode.js\\tHTML5     Гибкий график   \n",
       "7  Java SE\\tSpring Framework\\tSpring Boot\\tGit\\tS...       Полный день   \n",
       "8  Linux\\tАдминистрирование сетевого оборудования...       Полный день   \n",
       "9  1С программирование\\t1С: Предприятие 8\\t1С: До...       Полный день   \n",
       "\n",
       "           experience           employment  salary_from  salary_to  area_id  \\\n",
       "0           Нет опыта     Полная занятость      64000.0        NaN     1516   \n",
       "1       От 3 до 6 лет     Полная занятость          NaN        NaN      130   \n",
       "2       От 3 до 6 лет     Полная занятость          NaN        NaN      160   \n",
       "3       От 3 до 6 лет     Полная занятость          NaN        NaN      159   \n",
       "4           Нет опыта  Частичная занятость      15000.0        NaN     1955   \n",
       "5           Нет опыта     Полная занятость          NaN        NaN     2323   \n",
       "6  От 1 года до 3 лет     Полная занятость          NaN        NaN     2759   \n",
       "7           Нет опыта     Полная занятость      40000.0    60000.0       49   \n",
       "8  От 1 года до 3 лет     Полная занятость      50000.0        NaN        3   \n",
       "9       От 3 до 6 лет     Полная занятость          NaN        NaN       47   \n",
       "\n",
       "   employer_id  \n",
       "0      5724811  \n",
       "1      4903713  \n",
       "2        69961  \n",
       "3        69961  \n",
       "4         1740  \n",
       "5       584934  \n",
       "6       204511  \n",
       "7      4448636  \n",
       "8        55126  \n",
       "9      1413754  "
      ]
     },
     "execution_count": 4,
     "metadata": {},
     "output_type": "execute_result"
    }
   ],
   "source": [
    "conn_url = f'postgresql+psycopg2://{USER}:{PASSWORD}@{HOST}:{PORT}/{DBNAME}'\n",
    "pd.read_sql(query, conn_url)"
   ]
  },
  {
   "cell_type": "markdown",
   "id": "0dc6476b-7a00-44f1-ac93-6e3baed33a29",
   "metadata": {
    "id": "0dc6476b-7a00-44f1-ac93-6e3baed33a29"
   },
   "source": [
    "# Юнит 3. Предварительный анализ данных"
   ]
  },
  {
   "cell_type": "markdown",
   "id": "889782b6-8d1c-410e-8920-e57f27917c64",
   "metadata": {
    "id": "889782b6-8d1c-410e-8920-e57f27917c64"
   },
   "source": [
    "1. Напишите запрос, который посчитает количество вакансий в нашей базе (вакансии находятся в таблице vacancies). "
   ]
  },
  {
   "cell_type": "code",
   "execution_count": 5,
   "id": "bc39e68e-ed02-4ee2-9235-7258a2f867a8",
   "metadata": {
    "id": "bc39e68e-ed02-4ee2-9235-7258a2f867a8"
   },
   "outputs": [],
   "source": [
    "# текст запроса\n",
    "query_3_1 = f'''SELECT COUNT(id)\n",
    "                FROM vacancies\n",
    "            '''"
   ]
  },
  {
   "cell_type": "code",
   "execution_count": 6,
   "id": "7mAwtsk4hEHY",
   "metadata": {
    "id": "7mAwtsk4hEHY"
   },
   "outputs": [
    {
     "name": "stdout",
     "output_type": "stream",
     "text": [
      "Количество вакансий в базе данных: 49197\n"
     ]
    }
   ],
   "source": [
    "query_3_1 = pd.read_sql(query_3_1, conn_url)\n",
    "print(f\"Количество вакансий в базе данных: {query_3_1.loc[0, 'count']}\")"
   ]
  },
  {
   "cell_type": "markdown",
   "id": "b583485d-1f9e-494e-ada4-80ffff7c53d6",
   "metadata": {
    "id": "b583485d-1f9e-494e-ada4-80ffff7c53d6"
   },
   "source": [
    "2. Напишите запрос, который посчитает количество работодателей (таблица employers). "
   ]
  },
  {
   "cell_type": "code",
   "execution_count": 7,
   "id": "5408c52c-3407-4a63-b25b-1aafa2322d28",
   "metadata": {
    "id": "5408c52c-3407-4a63-b25b-1aafa2322d28"
   },
   "outputs": [],
   "source": [
    "# текст запроса\n",
    "query_3_2 = f'''SELECT COUNT(id)\n",
    "                FROM employers\n",
    "            '''"
   ]
  },
  {
   "cell_type": "code",
   "execution_count": 8,
   "id": "jVL4eshKhdqc",
   "metadata": {
    "id": "jVL4eshKhdqc"
   },
   "outputs": [
    {
     "name": "stdout",
     "output_type": "stream",
     "text": [
      "Количество работодателей: 23501\n"
     ]
    }
   ],
   "source": [
    "# результат запроса\n",
    "query_3_2 = pd.read_sql(query_3_2, conn_url)\n",
    "print(f\"Количество работодателей: {query_3_2.loc[0, 'count']}\")"
   ]
  },
  {
   "cell_type": "markdown",
   "id": "a2bfff1f-c975-4bf6-84be-2185d79dcb76",
   "metadata": {
    "id": "a2bfff1f-c975-4bf6-84be-2185d79dcb76"
   },
   "source": [
    "3. Посчитайте с помощью запроса количество регионов (таблица areas)."
   ]
  },
  {
   "cell_type": "code",
   "execution_count": 9,
   "id": "1m8QJwBYhey6",
   "metadata": {
    "id": "1m8QJwBYhey6"
   },
   "outputs": [],
   "source": [
    "# текст запроса\n",
    "query_3_3 = f'''SELECT COUNT(id)\n",
    "                FROM areas\n",
    "            '''"
   ]
  },
  {
   "cell_type": "code",
   "execution_count": 10,
   "id": "EZsn9tlfhe7f",
   "metadata": {
    "id": "EZsn9tlfhe7f"
   },
   "outputs": [
    {
     "name": "stdout",
     "output_type": "stream",
     "text": [
      "Количество регионов: 1362\n"
     ]
    }
   ],
   "source": [
    "# результат запроса\n",
    "query_3_3 = pd.read_sql(query_3_3, conn_url)\n",
    "print(f\"Количество регионов: {query_3_3.loc[0, 'count']}\")"
   ]
  },
  {
   "cell_type": "markdown",
   "id": "41bb59f3-53cc-4a67-a5bc-bedf573955e4",
   "metadata": {
    "id": "41bb59f3-53cc-4a67-a5bc-bedf573955e4"
   },
   "source": [
    "4. Посчитайте с помощью запроса количество сфер деятельности в базе (таблица industries)."
   ]
  },
  {
   "cell_type": "code",
   "execution_count": 11,
   "id": "d286cf4c-707b-4cd2-9190-7ab3587d04a1",
   "metadata": {
    "id": "d286cf4c-707b-4cd2-9190-7ab3587d04a1"
   },
   "outputs": [],
   "source": [
    "# текст запроса\n",
    "query_3_4 = f'''SELECT COUNT(DISTINCT(id))\n",
    "                FROM industries\n",
    "            '''"
   ]
  },
  {
   "cell_type": "code",
   "execution_count": 12,
   "id": "JYAaoZ4qhfzW",
   "metadata": {
    "id": "JYAaoZ4qhfzW"
   },
   "outputs": [
    {
     "name": "stdout",
     "output_type": "stream",
     "text": [
      "Количество сфер деятельности: 294\n"
     ]
    }
   ],
   "source": [
    "# результат запроса\n",
    "query_3_4 = pd.read_sql(query_3_4, conn_url)\n",
    "print(f\"Количество сфер деятельности: {query_3_4.loc[0, 'count']}\")"
   ]
  },
  {
   "cell_type": "markdown",
   "id": "c1c4ba46",
   "metadata": {
    "id": "be4e9bd3-a4db-4a20-82fb-6b02fc2957e0"
   },
   "source": [
    "Итак, в наших данных представлено 49197 вакансий от 23501 различного работодателя. География присутствия также достаточно широкая - 1362 региона, включая города и населенные пункты из разных стран (не только Россия). Вакансии работодателей разнообразные и распределены по 294 сферам деятельности. В среднем, в каждой компании открыты как минимум две вакансии."
   ]
  },
  {
   "cell_type": "markdown",
   "id": "8d62a9f3-f64e-4fe7-bdac-c4dffa16155e",
   "metadata": {
    "id": "8d62a9f3-f64e-4fe7-bdac-c4dffa16155e"
   },
   "source": [
    "# Юнит 4. Детальный анализ вакансий"
   ]
  },
  {
   "cell_type": "markdown",
   "id": "93053d3d-b284-481a-9cf7-012d7014c0e0",
   "metadata": {
    "id": "93053d3d-b284-481a-9cf7-012d7014c0e0"
   },
   "source": [
    "1. Напишите запрос, который позволит узнать, сколько (cnt) вакансий в каждом регионе (area).\n",
    "Отсортируйте по количеству вакансий в порядке убывания."
   ]
  },
  {
   "cell_type": "code",
   "execution_count": 13,
   "id": "3f069da6-fdc9-4ae7-b514-fafe2675efd3",
   "metadata": {
    "id": "3f069da6-fdc9-4ae7-b514-fafe2675efd3"
   },
   "outputs": [],
   "source": [
    "# текст запроса\n",
    "query_4_1 = f'''SELECT a.name AS area,\n",
    "                COUNT(v.id) AS cnt\n",
    "                FROM vacancies v\n",
    "                JOIN areas a ON v.area_id = a.id\n",
    "                GROUP BY 1\n",
    "                ORDER BY 2 DESC\n",
    "                LIMIT 5\n",
    "            '''"
   ]
  },
  {
   "cell_type": "code",
   "execution_count": 14,
   "id": "P7QL86hrjhRJ",
   "metadata": {
    "id": "P7QL86hrjhRJ"
   },
   "outputs": [
    {
     "data": {
      "text/html": [
       "<div>\n",
       "<style scoped>\n",
       "    .dataframe tbody tr th:only-of-type {\n",
       "        vertical-align: middle;\n",
       "    }\n",
       "\n",
       "    .dataframe tbody tr th {\n",
       "        vertical-align: top;\n",
       "    }\n",
       "\n",
       "    .dataframe thead th {\n",
       "        text-align: right;\n",
       "    }\n",
       "</style>\n",
       "<table border=\"1\" class=\"dataframe\">\n",
       "  <thead>\n",
       "    <tr style=\"text-align: right;\">\n",
       "      <th></th>\n",
       "      <th>area</th>\n",
       "      <th>cnt</th>\n",
       "    </tr>\n",
       "  </thead>\n",
       "  <tbody>\n",
       "    <tr>\n",
       "      <th>0</th>\n",
       "      <td>Москва</td>\n",
       "      <td>5333</td>\n",
       "    </tr>\n",
       "    <tr>\n",
       "      <th>1</th>\n",
       "      <td>Санкт-Петербург</td>\n",
       "      <td>2851</td>\n",
       "    </tr>\n",
       "    <tr>\n",
       "      <th>2</th>\n",
       "      <td>Минск</td>\n",
       "      <td>2112</td>\n",
       "    </tr>\n",
       "    <tr>\n",
       "      <th>3</th>\n",
       "      <td>Новосибирск</td>\n",
       "      <td>2006</td>\n",
       "    </tr>\n",
       "    <tr>\n",
       "      <th>4</th>\n",
       "      <td>Алматы</td>\n",
       "      <td>1892</td>\n",
       "    </tr>\n",
       "  </tbody>\n",
       "</table>\n",
       "</div>"
      ],
      "text/plain": [
       "              area   cnt\n",
       "0           Москва  5333\n",
       "1  Санкт-Петербург  2851\n",
       "2            Минск  2112\n",
       "3      Новосибирск  2006\n",
       "4           Алматы  1892"
      ]
     },
     "execution_count": 14,
     "metadata": {},
     "output_type": "execute_result"
    }
   ],
   "source": [
    "# результат запроса\n",
    "query_4_1 = pd.read_sql(query_4_1, conn_url)\n",
    "query_4_1"
   ]
  },
  {
   "cell_type": "markdown",
   "id": "4266f0b6-1646-492a-88b4-2f6a46502135",
   "metadata": {
    "id": "4266f0b6-1646-492a-88b4-2f6a46502135"
   },
   "source": [
    "2. Напишите запрос, чтобы определить у какого количества вакансий заполнено хотя бы одно из двух полей с зарплатой."
   ]
  },
  {
   "cell_type": "code",
   "execution_count": 15,
   "id": "0c44b350-72eb-4d65-8b54-a1fc449ba9fd",
   "metadata": {
    "id": "0c44b350-72eb-4d65-8b54-a1fc449ba9fd"
   },
   "outputs": [],
   "source": [
    "# текст запроса\n",
    "query_4_2 = f'''SELECT COUNT(id)\n",
    "                FROM vacancies\n",
    "                WHERE (salary_from IS NOT NULL AND salary_to IS NOT NULL)\n",
    "                OR (salary_from IS NOT NULL AND salary_to IS NULL)\n",
    "                OR (salary_from IS NULL and salary_to IS NOT NULL)\n",
    "            '''"
   ]
  },
  {
   "cell_type": "code",
   "execution_count": 16,
   "id": "rhvwaMDkoWTi",
   "metadata": {
    "id": "rhvwaMDkoWTi"
   },
   "outputs": [
    {
     "name": "stdout",
     "output_type": "stream",
     "text": [
      "Количество вакансий: 24073\n"
     ]
    }
   ],
   "source": [
    "# результат запроса\n",
    "query_4_2 = pd.read_sql(query_4_2, conn_url)\n",
    "print(f\"Количество вакансий: {query_4_2.loc[0, 'count']}\")"
   ]
  },
  {
   "cell_type": "markdown",
   "id": "635c4d5d-f323-4c66-b428-50a088120aa0",
   "metadata": {
    "id": "635c4d5d-f323-4c66-b428-50a088120aa0"
   },
   "source": [
    "3. Найдите средние значения для нижней и верхней границы зарплатной вилки. Округлите значения до целого."
   ]
  },
  {
   "cell_type": "code",
   "execution_count": 17,
   "id": "603cdbe4-0ec3-4106-8eaf-c73fcdd29165",
   "metadata": {
    "id": "603cdbe4-0ec3-4106-8eaf-c73fcdd29165"
   },
   "outputs": [],
   "source": [
    "# текст запроса\n",
    "query_4_3 = f'''SELECT AVG(salary_from) AS min,\n",
    "                AVG(salary_to) AS max\n",
    "                FROM vacancies\n",
    "            '''"
   ]
  },
  {
   "cell_type": "code",
   "execution_count": 18,
   "id": "pswpAb66ovZZ",
   "metadata": {
    "id": "pswpAb66ovZZ"
   },
   "outputs": [
    {
     "name": "stdout",
     "output_type": "stream",
     "text": [
      "Среднее значение по нижней границе: 71065 руб.\n",
      "Среднее значение по верхней границе: 110537 руб.\n"
     ]
    }
   ],
   "source": [
    "# результат запроса\n",
    "query_4_3 = pd.read_sql(query_4_3, conn_url)\n",
    "print(f\"Среднее значение по нижней границе: {round(query_4_3.loc[0, 'min'])} руб.\")\n",
    "print(f\"Среднее значение по верхней границе: {round(query_4_3.loc[0, 'max'])} руб.\")"
   ]
  },
  {
   "cell_type": "markdown",
   "id": "f3fdaec9-5fd3-4260-9cf5-1d7406b628a5",
   "metadata": {
    "id": "f3fdaec9-5fd3-4260-9cf5-1d7406b628a5"
   },
   "source": [
    "4. Напишите запрос, который выведет количество вакансий для каждого сочетания типа рабочего графика (schedule) и типа трудоустройства (employment), используемого в вакансиях. Результат отсортируйте по убыванию количества.\n"
   ]
  },
  {
   "cell_type": "code",
   "execution_count": 19,
   "id": "1ea710ec-871b-431e-9462-c7d0fd87011b",
   "metadata": {
    "id": "1ea710ec-871b-431e-9462-c7d0fd87011b"
   },
   "outputs": [],
   "source": [
    "# текст запроса\n",
    "query_4_4 = f'''SELECT schedule,\n",
    "                employment,\n",
    "                COUNT(id) AS vacancies_cnt\n",
    "                FROM vacancies\n",
    "                GROUP BY 1, 2\n",
    "                ORDER BY 3 DESC\n",
    "            '''"
   ]
  },
  {
   "cell_type": "code",
   "execution_count": 20,
   "id": "lGUVqavdo4JQ",
   "metadata": {
    "id": "lGUVqavdo4JQ"
   },
   "outputs": [
    {
     "data": {
      "text/html": [
       "<div>\n",
       "<style scoped>\n",
       "    .dataframe tbody tr th:only-of-type {\n",
       "        vertical-align: middle;\n",
       "    }\n",
       "\n",
       "    .dataframe tbody tr th {\n",
       "        vertical-align: top;\n",
       "    }\n",
       "\n",
       "    .dataframe thead th {\n",
       "        text-align: right;\n",
       "    }\n",
       "</style>\n",
       "<table border=\"1\" class=\"dataframe\">\n",
       "  <thead>\n",
       "    <tr style=\"text-align: right;\">\n",
       "      <th></th>\n",
       "      <th>schedule</th>\n",
       "      <th>employment</th>\n",
       "      <th>vacancies_cnt</th>\n",
       "    </tr>\n",
       "  </thead>\n",
       "  <tbody>\n",
       "    <tr>\n",
       "      <th>0</th>\n",
       "      <td>Полный день</td>\n",
       "      <td>Полная занятость</td>\n",
       "      <td>35367</td>\n",
       "    </tr>\n",
       "    <tr>\n",
       "      <th>1</th>\n",
       "      <td>Удаленная работа</td>\n",
       "      <td>Полная занятость</td>\n",
       "      <td>7802</td>\n",
       "    </tr>\n",
       "    <tr>\n",
       "      <th>2</th>\n",
       "      <td>Гибкий график</td>\n",
       "      <td>Полная занятость</td>\n",
       "      <td>1593</td>\n",
       "    </tr>\n",
       "    <tr>\n",
       "      <th>3</th>\n",
       "      <td>Удаленная работа</td>\n",
       "      <td>Частичная занятость</td>\n",
       "      <td>1312</td>\n",
       "    </tr>\n",
       "    <tr>\n",
       "      <th>4</th>\n",
       "      <td>Сменный график</td>\n",
       "      <td>Полная занятость</td>\n",
       "      <td>940</td>\n",
       "    </tr>\n",
       "    <tr>\n",
       "      <th>5</th>\n",
       "      <td>Полный день</td>\n",
       "      <td>Стажировка</td>\n",
       "      <td>569</td>\n",
       "    </tr>\n",
       "    <tr>\n",
       "      <th>6</th>\n",
       "      <td>Вахтовый метод</td>\n",
       "      <td>Полная занятость</td>\n",
       "      <td>367</td>\n",
       "    </tr>\n",
       "    <tr>\n",
       "      <th>7</th>\n",
       "      <td>Полный день</td>\n",
       "      <td>Частичная занятость</td>\n",
       "      <td>347</td>\n",
       "    </tr>\n",
       "    <tr>\n",
       "      <th>8</th>\n",
       "      <td>Гибкий график</td>\n",
       "      <td>Частичная занятость</td>\n",
       "      <td>312</td>\n",
       "    </tr>\n",
       "    <tr>\n",
       "      <th>9</th>\n",
       "      <td>Полный день</td>\n",
       "      <td>Проектная работа</td>\n",
       "      <td>141</td>\n",
       "    </tr>\n",
       "    <tr>\n",
       "      <th>10</th>\n",
       "      <td>Удаленная работа</td>\n",
       "      <td>Проектная работа</td>\n",
       "      <td>133</td>\n",
       "    </tr>\n",
       "    <tr>\n",
       "      <th>11</th>\n",
       "      <td>Гибкий график</td>\n",
       "      <td>Стажировка</td>\n",
       "      <td>116</td>\n",
       "    </tr>\n",
       "    <tr>\n",
       "      <th>12</th>\n",
       "      <td>Сменный график</td>\n",
       "      <td>Частичная занятость</td>\n",
       "      <td>101</td>\n",
       "    </tr>\n",
       "    <tr>\n",
       "      <th>13</th>\n",
       "      <td>Удаленная работа</td>\n",
       "      <td>Стажировка</td>\n",
       "      <td>64</td>\n",
       "    </tr>\n",
       "    <tr>\n",
       "      <th>14</th>\n",
       "      <td>Гибкий график</td>\n",
       "      <td>Проектная работа</td>\n",
       "      <td>18</td>\n",
       "    </tr>\n",
       "    <tr>\n",
       "      <th>15</th>\n",
       "      <td>Сменный график</td>\n",
       "      <td>Стажировка</td>\n",
       "      <td>12</td>\n",
       "    </tr>\n",
       "    <tr>\n",
       "      <th>16</th>\n",
       "      <td>Вахтовый метод</td>\n",
       "      <td>Проектная работа</td>\n",
       "      <td>2</td>\n",
       "    </tr>\n",
       "    <tr>\n",
       "      <th>17</th>\n",
       "      <td>Сменный график</td>\n",
       "      <td>Проектная работа</td>\n",
       "      <td>1</td>\n",
       "    </tr>\n",
       "  </tbody>\n",
       "</table>\n",
       "</div>"
      ],
      "text/plain": [
       "            schedule           employment  vacancies_cnt\n",
       "0        Полный день     Полная занятость          35367\n",
       "1   Удаленная работа     Полная занятость           7802\n",
       "2      Гибкий график     Полная занятость           1593\n",
       "3   Удаленная работа  Частичная занятость           1312\n",
       "4     Сменный график     Полная занятость            940\n",
       "5        Полный день           Стажировка            569\n",
       "6     Вахтовый метод     Полная занятость            367\n",
       "7        Полный день  Частичная занятость            347\n",
       "8      Гибкий график  Частичная занятость            312\n",
       "9        Полный день     Проектная работа            141\n",
       "10  Удаленная работа     Проектная работа            133\n",
       "11     Гибкий график           Стажировка            116\n",
       "12    Сменный график  Частичная занятость            101\n",
       "13  Удаленная работа           Стажировка             64\n",
       "14     Гибкий график     Проектная работа             18\n",
       "15    Сменный график           Стажировка             12\n",
       "16    Вахтовый метод     Проектная работа              2\n",
       "17    Сменный график     Проектная работа              1"
      ]
     },
     "execution_count": 20,
     "metadata": {},
     "output_type": "execute_result"
    }
   ],
   "source": [
    "# результат запроса\n",
    "query_4_4 = pd.read_sql(query_4_4, conn_url)\n",
    "query_4_4"
   ]
  },
  {
   "cell_type": "markdown",
   "id": "0136ffee-0ead-4a6b-b608-61d1c753a438",
   "metadata": {
    "id": "0136ffee-0ead-4a6b-b608-61d1c753a438"
   },
   "source": [
    "5. Напишите запрос, выводящий значения поля Требуемый опыт работы (experience) в порядке возрастания количества вакансий, в которых указан данный вариант опыта. "
   ]
  },
  {
   "cell_type": "code",
   "execution_count": 21,
   "id": "5b3a8e79-f7ab-4008-b767-12aea3a205ea",
   "metadata": {
    "id": "5b3a8e79-f7ab-4008-b767-12aea3a205ea"
   },
   "outputs": [],
   "source": [
    "# текст запроса\n",
    "query_4_5 = f'''SELECT experience,\n",
    "                COUNT(id) AS vacancies_cnt\n",
    "                FROM vacancies\n",
    "                GROUP BY 1\n",
    "                ORDER BY 2\n",
    "            '''"
   ]
  },
  {
   "cell_type": "code",
   "execution_count": 22,
   "id": "3Is64Y-hpDpq",
   "metadata": {
    "id": "3Is64Y-hpDpq"
   },
   "outputs": [
    {
     "data": {
      "text/html": [
       "<div>\n",
       "<style scoped>\n",
       "    .dataframe tbody tr th:only-of-type {\n",
       "        vertical-align: middle;\n",
       "    }\n",
       "\n",
       "    .dataframe tbody tr th {\n",
       "        vertical-align: top;\n",
       "    }\n",
       "\n",
       "    .dataframe thead th {\n",
       "        text-align: right;\n",
       "    }\n",
       "</style>\n",
       "<table border=\"1\" class=\"dataframe\">\n",
       "  <thead>\n",
       "    <tr style=\"text-align: right;\">\n",
       "      <th></th>\n",
       "      <th>experience</th>\n",
       "      <th>vacancies_cnt</th>\n",
       "    </tr>\n",
       "  </thead>\n",
       "  <tbody>\n",
       "    <tr>\n",
       "      <th>0</th>\n",
       "      <td>Более 6 лет</td>\n",
       "      <td>1337</td>\n",
       "    </tr>\n",
       "    <tr>\n",
       "      <th>1</th>\n",
       "      <td>Нет опыта</td>\n",
       "      <td>7197</td>\n",
       "    </tr>\n",
       "    <tr>\n",
       "      <th>2</th>\n",
       "      <td>От 3 до 6 лет</td>\n",
       "      <td>14511</td>\n",
       "    </tr>\n",
       "    <tr>\n",
       "      <th>3</th>\n",
       "      <td>От 1 года до 3 лет</td>\n",
       "      <td>26152</td>\n",
       "    </tr>\n",
       "  </tbody>\n",
       "</table>\n",
       "</div>"
      ],
      "text/plain": [
       "           experience  vacancies_cnt\n",
       "0         Более 6 лет           1337\n",
       "1           Нет опыта           7197\n",
       "2       От 3 до 6 лет          14511\n",
       "3  От 1 года до 3 лет          26152"
      ]
     },
     "execution_count": 22,
     "metadata": {},
     "output_type": "execute_result"
    }
   ],
   "source": [
    "# результат запроса\n",
    "query_4_5 = pd.read_sql(query_4_5, conn_url)\n",
    "query_4_5"
   ]
  },
  {
   "cell_type": "markdown",
   "id": "42d043df",
   "metadata": {},
   "source": [
    "**Большинство вакансий сосредоточено в Москве и крупных городах**, таких как Санкт-Петербург, Новосибирск, Минск. При этом половина работодателей не указывает зарплатную вилку при подборе сотрудников, а определяет ценность каждого кандидата в индивидуальном порядке при собеседовании, исходя из имеющегося опыта соискателя, его умений и навыков. В среднем, **работодатели готовы оплачивать труд своих специалистов в диапазоне от 71 до 110 тыс. руб**.\n",
    "\n",
    "**Подавляющее число компаний проводит набор сотрудников на полный рабочий день и предлагает осуществлять деятельность на территории работодателя** - таких вакансий более 35 тыс. Следующим по популярности рабочим графиком является удаленная работа - некоторые компании привыкли к такому взаимодействию с сотрудниками, особенно это характерно для IT-компаний и онлайн маркетинга.\n",
    "\n",
    "**Большинство компаний ищет сотрудников с минимальным опытом работы от 1 года до 3 лет**. Вакансий без опыта работы меньше в 4 раза - чуть более 7 тыс. На сайте HeadHunter также можно найти вакансии для сотрудников с высокой квалификацией и солидным опытом работы более 6 лет - таких вакансий 1337."
   ]
  },
  {
   "cell_type": "markdown",
   "id": "7ea20ab6-04a7-40a0-adec-443a0e5a42c3",
   "metadata": {
    "id": "7ea20ab6-04a7-40a0-adec-443a0e5a42c3"
   },
   "source": [
    "# Юнит 5. Анализ работодателей"
   ]
  },
  {
   "cell_type": "markdown",
   "id": "968aed80-74ef-4ffb-b5bf-c65b84e9caea",
   "metadata": {
    "id": "968aed80-74ef-4ffb-b5bf-c65b84e9caea"
   },
   "source": [
    "1. Напишите запрос, который позволит узнать, какие работодатели находятся на первом и пятом месте по количеству вакансий."
   ]
  },
  {
   "cell_type": "code",
   "execution_count": 23,
   "id": "f2d62796-d400-4ec1-a675-88112739a50e",
   "metadata": {
    "id": "f2d62796-d400-4ec1-a675-88112739a50e"
   },
   "outputs": [],
   "source": [
    "# текст запроса\n",
    "query_5_1 = f'''SELECT e.name AS employer,\n",
    "                COUNT(v.id) AS vacancies_cnt\n",
    "                FROM vacancies v\n",
    "                JOIN employers e ON v.employer_id = e.id\n",
    "                GROUP BY 1\n",
    "                ORDER BY 2 DESC\n",
    "                LIMIT 5\n",
    "            '''"
   ]
  },
  {
   "cell_type": "code",
   "execution_count": 24,
   "id": "64tOMkAxqkQk",
   "metadata": {
    "id": "64tOMkAxqkQk"
   },
   "outputs": [
    {
     "data": {
      "text/html": [
       "<div>\n",
       "<style scoped>\n",
       "    .dataframe tbody tr th:only-of-type {\n",
       "        vertical-align: middle;\n",
       "    }\n",
       "\n",
       "    .dataframe tbody tr th {\n",
       "        vertical-align: top;\n",
       "    }\n",
       "\n",
       "    .dataframe thead th {\n",
       "        text-align: right;\n",
       "    }\n",
       "</style>\n",
       "<table border=\"1\" class=\"dataframe\">\n",
       "  <thead>\n",
       "    <tr style=\"text-align: right;\">\n",
       "      <th></th>\n",
       "      <th>employer</th>\n",
       "      <th>vacancies_cnt</th>\n",
       "    </tr>\n",
       "  </thead>\n",
       "  <tbody>\n",
       "    <tr>\n",
       "      <th>1</th>\n",
       "      <td>Яндекс</td>\n",
       "      <td>1933</td>\n",
       "    </tr>\n",
       "    <tr>\n",
       "      <th>5</th>\n",
       "      <td>Газпром нефть</td>\n",
       "      <td>331</td>\n",
       "    </tr>\n",
       "  </tbody>\n",
       "</table>\n",
       "</div>"
      ],
      "text/plain": [
       "        employer  vacancies_cnt\n",
       "1         Яндекс           1933\n",
       "5  Газпром нефть            331"
      ]
     },
     "execution_count": 24,
     "metadata": {},
     "output_type": "execute_result"
    }
   ],
   "source": [
    "# результат запроса\n",
    "df = pd.read_sql(query_5_1, conn_url)\n",
    "# создаем новый столбец с индексами для визуального удобства\n",
    "df.index = range(1, len(df)+1)\n",
    "df = df.iloc[[0, 4]]\n",
    "df"
   ]
  },
  {
   "cell_type": "markdown",
   "id": "68377cfc-b378-43dc-ab7d-1195abf2c515",
   "metadata": {
    "id": "68377cfc-b378-43dc-ab7d-1195abf2c515"
   },
   "source": [
    "2. Напишите запрос, который для каждого региона выведет количество работодателей и вакансий в нём.\n",
    "Среди регионов, в которых нет вакансий, найдите тот, в котором наибольшее количество работодателей.\n"
   ]
  },
  {
   "cell_type": "code",
   "execution_count": 25,
   "id": "dd7df27a-e3e8-412e-a21a-5d389b71e891",
   "metadata": {
    "id": "dd7df27a-e3e8-412e-a21a-5d389b71e891"
   },
   "outputs": [],
   "source": [
    "# текст запроса\n",
    "query_5_2 = f'''SELECT a.name AS area,\n",
    "                COUNT(DISTINCT e.id) AS employers_cnt,\n",
    "                COUNT(DISTINCT v.id) AS vacancies_cnt\n",
    "                FROM areas a\n",
    "                JOIN employers e ON a.id = e.area\n",
    "                LEFT JOIN vacancies v ON v.area_id = a.id\n",
    "                GROUP BY a.id\n",
    "                ORDER BY vacancies_cnt, employers_cnt DESC \n",
    "            '''"
   ]
  },
  {
   "cell_type": "code",
   "execution_count": 26,
   "id": "x1ikWbydrbf6",
   "metadata": {
    "id": "x1ikWbydrbf6"
   },
   "outputs": [
    {
     "data": {
      "text/html": [
       "<div>\n",
       "<style scoped>\n",
       "    .dataframe tbody tr th:only-of-type {\n",
       "        vertical-align: middle;\n",
       "    }\n",
       "\n",
       "    .dataframe tbody tr th {\n",
       "        vertical-align: top;\n",
       "    }\n",
       "\n",
       "    .dataframe thead th {\n",
       "        text-align: right;\n",
       "    }\n",
       "</style>\n",
       "<table border=\"1\" class=\"dataframe\">\n",
       "  <thead>\n",
       "    <tr style=\"text-align: right;\">\n",
       "      <th></th>\n",
       "      <th>area</th>\n",
       "      <th>employers_cnt</th>\n",
       "      <th>vacancies_cnt</th>\n",
       "    </tr>\n",
       "  </thead>\n",
       "  <tbody>\n",
       "    <tr>\n",
       "      <th>0</th>\n",
       "      <td>Россия</td>\n",
       "      <td>410</td>\n",
       "      <td>0</td>\n",
       "    </tr>\n",
       "    <tr>\n",
       "      <th>1</th>\n",
       "      <td>Казахстан</td>\n",
       "      <td>207</td>\n",
       "      <td>0</td>\n",
       "    </tr>\n",
       "    <tr>\n",
       "      <th>2</th>\n",
       "      <td>Московская область</td>\n",
       "      <td>75</td>\n",
       "      <td>0</td>\n",
       "    </tr>\n",
       "    <tr>\n",
       "      <th>3</th>\n",
       "      <td>Краснодарский край</td>\n",
       "      <td>19</td>\n",
       "      <td>0</td>\n",
       "    </tr>\n",
       "    <tr>\n",
       "      <th>4</th>\n",
       "      <td>Беларусь</td>\n",
       "      <td>18</td>\n",
       "      <td>0</td>\n",
       "    </tr>\n",
       "    <tr>\n",
       "      <th>...</th>\n",
       "      <td>...</td>\n",
       "      <td>...</td>\n",
       "      <td>...</td>\n",
       "    </tr>\n",
       "    <tr>\n",
       "      <th>649</th>\n",
       "      <td>Алматы</td>\n",
       "      <td>721</td>\n",
       "      <td>1892</td>\n",
       "    </tr>\n",
       "    <tr>\n",
       "      <th>650</th>\n",
       "      <td>Новосибирск</td>\n",
       "      <td>573</td>\n",
       "      <td>2006</td>\n",
       "    </tr>\n",
       "    <tr>\n",
       "      <th>651</th>\n",
       "      <td>Минск</td>\n",
       "      <td>1115</td>\n",
       "      <td>2112</td>\n",
       "    </tr>\n",
       "    <tr>\n",
       "      <th>652</th>\n",
       "      <td>Санкт-Петербург</td>\n",
       "      <td>2217</td>\n",
       "      <td>2851</td>\n",
       "    </tr>\n",
       "    <tr>\n",
       "      <th>653</th>\n",
       "      <td>Москва</td>\n",
       "      <td>5864</td>\n",
       "      <td>5333</td>\n",
       "    </tr>\n",
       "  </tbody>\n",
       "</table>\n",
       "<p>654 rows × 3 columns</p>\n",
       "</div>"
      ],
      "text/plain": [
       "                   area  employers_cnt  vacancies_cnt\n",
       "0                Россия            410              0\n",
       "1             Казахстан            207              0\n",
       "2    Московская область             75              0\n",
       "3    Краснодарский край             19              0\n",
       "4              Беларусь             18              0\n",
       "..                  ...            ...            ...\n",
       "649              Алматы            721           1892\n",
       "650         Новосибирск            573           2006\n",
       "651               Минск           1115           2112\n",
       "652     Санкт-Петербург           2217           2851\n",
       "653              Москва           5864           5333\n",
       "\n",
       "[654 rows x 3 columns]"
      ]
     },
     "execution_count": 26,
     "metadata": {},
     "output_type": "execute_result"
    }
   ],
   "source": [
    "# результат запроса\n",
    "query_5_2 = pd.read_sql(query_5_2, conn_url)\n",
    "query_5_2"
   ]
  },
  {
   "cell_type": "markdown",
   "id": "f2fe0acb-ab1a-4e15-9326-2560e22d73c1",
   "metadata": {
    "id": "f2fe0acb-ab1a-4e15-9326-2560e22d73c1"
   },
   "source": [
    "3. Для каждого работодателя посчитайте количество регионов, в которых он публикует свои вакансии. Отсортируйте результат по убыванию количества.\n"
   ]
  },
  {
   "cell_type": "code",
   "execution_count": 27,
   "id": "6271f8ad-bd2e-4196-ae4a-5b39c4c1010e",
   "metadata": {
    "id": "6271f8ad-bd2e-4196-ae4a-5b39c4c1010e"
   },
   "outputs": [],
   "source": [
    "# текст запроса\n",
    "query_5_3 = f'''SELECT DISTINCT e.name AS employer,\n",
    "                COUNT(DISTINCT a.id) AS areas_cnt\n",
    "                FROM vacancies v\n",
    "                JOIN employers e ON v.employer_id = e.id\n",
    "                JOIN areas a ON v.area_id = a.id\n",
    "                GROUP BY e.id\n",
    "                ORDER BY 2 DESC\n",
    "            '''"
   ]
  },
  {
   "cell_type": "code",
   "execution_count": 28,
   "id": "1EIvX3HasH4F",
   "metadata": {
    "id": "1EIvX3HasH4F"
   },
   "outputs": [
    {
     "data": {
      "text/html": [
       "<div>\n",
       "<style scoped>\n",
       "    .dataframe tbody tr th:only-of-type {\n",
       "        vertical-align: middle;\n",
       "    }\n",
       "\n",
       "    .dataframe tbody tr th {\n",
       "        vertical-align: top;\n",
       "    }\n",
       "\n",
       "    .dataframe thead th {\n",
       "        text-align: right;\n",
       "    }\n",
       "</style>\n",
       "<table border=\"1\" class=\"dataframe\">\n",
       "  <thead>\n",
       "    <tr style=\"text-align: right;\">\n",
       "      <th></th>\n",
       "      <th>employer</th>\n",
       "      <th>areas_cnt</th>\n",
       "    </tr>\n",
       "  </thead>\n",
       "  <tbody>\n",
       "    <tr>\n",
       "      <th>0</th>\n",
       "      <td>Яндекс</td>\n",
       "      <td>181</td>\n",
       "    </tr>\n",
       "    <tr>\n",
       "      <th>1</th>\n",
       "      <td>Ростелеком</td>\n",
       "      <td>152</td>\n",
       "    </tr>\n",
       "    <tr>\n",
       "      <th>2</th>\n",
       "      <td>Спецремонт</td>\n",
       "      <td>116</td>\n",
       "    </tr>\n",
       "    <tr>\n",
       "      <th>3</th>\n",
       "      <td>Поляков Денис Иванович</td>\n",
       "      <td>88</td>\n",
       "    </tr>\n",
       "    <tr>\n",
       "      <th>4</th>\n",
       "      <td>ООО ЕФИН</td>\n",
       "      <td>71</td>\n",
       "    </tr>\n",
       "    <tr>\n",
       "      <th>...</th>\n",
       "      <td>...</td>\n",
       "      <td>...</td>\n",
       "    </tr>\n",
       "    <tr>\n",
       "      <th>14799</th>\n",
       "      <td>Яроцкий Е. В./ MoonX</td>\n",
       "      <td>1</td>\n",
       "    </tr>\n",
       "    <tr>\n",
       "      <th>14800</th>\n",
       "      <td>Ясли-сад №374 г. Минска</td>\n",
       "      <td>1</td>\n",
       "    </tr>\n",
       "    <tr>\n",
       "      <th>14801</th>\n",
       "      <td>ЯСП</td>\n",
       "      <td>1</td>\n",
       "    </tr>\n",
       "    <tr>\n",
       "      <th>14802</th>\n",
       "      <td>Ястро-Переработка</td>\n",
       "      <td>1</td>\n",
       "    </tr>\n",
       "    <tr>\n",
       "      <th>14803</th>\n",
       "      <td>ЯТСС</td>\n",
       "      <td>1</td>\n",
       "    </tr>\n",
       "  </tbody>\n",
       "</table>\n",
       "<p>14804 rows × 2 columns</p>\n",
       "</div>"
      ],
      "text/plain": [
       "                      employer  areas_cnt\n",
       "0                       Яндекс        181\n",
       "1                   Ростелеком        152\n",
       "2                   Спецремонт        116\n",
       "3       Поляков Денис Иванович         88\n",
       "4                    ООО ЕФИН          71\n",
       "...                        ...        ...\n",
       "14799     Яроцкий Е. В./ MoonX          1\n",
       "14800  Ясли-сад №374 г. Минска          1\n",
       "14801                      ЯСП          1\n",
       "14802        Ястро-Переработка          1\n",
       "14803                     ЯТСС          1\n",
       "\n",
       "[14804 rows x 2 columns]"
      ]
     },
     "execution_count": 28,
     "metadata": {},
     "output_type": "execute_result"
    }
   ],
   "source": [
    "# результат запроса\n",
    "query_5_3 = pd.read_sql(query_5_3, conn_url)\n",
    "query_5_3"
   ]
  },
  {
   "cell_type": "markdown",
   "id": "eab2206d-d95b-468b-8e5f-34381abf0ce7",
   "metadata": {
    "id": "eab2206d-d95b-468b-8e5f-34381abf0ce7"
   },
   "source": [
    "4. Напишите запрос для подсчёта количества работодателей, у которых не указана сфера деятельности. "
   ]
  },
  {
   "cell_type": "code",
   "execution_count": 29,
   "id": "80defb23-bfb1-4a18-8be6-bf36aa7165d5",
   "metadata": {
    "id": "80defb23-bfb1-4a18-8be6-bf36aa7165d5"
   },
   "outputs": [],
   "source": [
    "# текст запроса\n",
    "query_5_4 = f'''SELECT COUNT(DISTINCT e.id)\n",
    "                FROM employers e\n",
    "                LEFT JOIN employers_industries ei ON e.id = ei.employer_id\n",
    "                WHERE ei.industry_id IS NULL\n",
    "            '''"
   ]
  },
  {
   "cell_type": "code",
   "execution_count": 30,
   "id": "Dp_yCx6ysQSu",
   "metadata": {
    "id": "Dp_yCx6ysQSu"
   },
   "outputs": [
    {
     "name": "stdout",
     "output_type": "stream",
     "text": [
      "Количество работодателей: 8419\n"
     ]
    }
   ],
   "source": [
    "# результат запроса\n",
    "query_5_4 = pd.read_sql(query_5_4, conn_url)\n",
    "print(f\"Количество работодателей: {query_5_4.loc[0, 'count']}\")"
   ]
  },
  {
   "cell_type": "markdown",
   "id": "0112af31-f6b0-4e3b-82ab-71296e752e5e",
   "metadata": {
    "id": "0112af31-f6b0-4e3b-82ab-71296e752e5e"
   },
   "source": [
    "5. Напишите запрос, чтобы узнать название компании, находящейся на третьем месте в алфавитном списке (по названию) компаний, у которых указано четыре сферы деятельности. "
   ]
  },
  {
   "cell_type": "code",
   "execution_count": 31,
   "id": "973b0cfc-a972-470a-8b4a-68744ef220c4",
   "metadata": {
    "id": "973b0cfc-a972-470a-8b4a-68744ef220c4"
   },
   "outputs": [],
   "source": [
    "# текст запроса\n",
    "query_5_5 = f'''SELECT e.name AS name,\n",
    "                COUNT(DISTINCT ei.industry_id) AS industries_cnt\n",
    "                FROM employers e\n",
    "                LEFT JOIN employers_industries ei ON e.id = ei.employer_id\n",
    "                GROUP BY e.id\n",
    "                HAVING COUNT(DISTINCT ei.industry_id) = 4\n",
    "                ORDER BY 1\n",
    "            '''"
   ]
  },
  {
   "cell_type": "code",
   "execution_count": 32,
   "id": "xsPtpp8EsaED",
   "metadata": {
    "id": "xsPtpp8EsaED"
   },
   "outputs": [
    {
     "data": {
      "text/html": [
       "<div>\n",
       "<style scoped>\n",
       "    .dataframe tbody tr th:only-of-type {\n",
       "        vertical-align: middle;\n",
       "    }\n",
       "\n",
       "    .dataframe tbody tr th {\n",
       "        vertical-align: top;\n",
       "    }\n",
       "\n",
       "    .dataframe thead th {\n",
       "        text-align: right;\n",
       "    }\n",
       "</style>\n",
       "<table border=\"1\" class=\"dataframe\">\n",
       "  <thead>\n",
       "    <tr style=\"text-align: right;\">\n",
       "      <th></th>\n",
       "      <th>name</th>\n",
       "      <th>industries_cnt</th>\n",
       "    </tr>\n",
       "  </thead>\n",
       "  <tbody>\n",
       "    <tr>\n",
       "      <th>3</th>\n",
       "      <td>2ГИС</td>\n",
       "      <td>4</td>\n",
       "    </tr>\n",
       "  </tbody>\n",
       "</table>\n",
       "</div>"
      ],
      "text/plain": [
       "   name  industries_cnt\n",
       "3  2ГИС               4"
      ]
     },
     "execution_count": 32,
     "metadata": {},
     "output_type": "execute_result"
    }
   ],
   "source": [
    "# результат запроса\n",
    "df = pd.read_sql(query_5_5, conn_url)\n",
    "df.index = range(1, len(df)+1)\n",
    "df = df.iloc[[2]]\n",
    "df"
   ]
  },
  {
   "cell_type": "markdown",
   "id": "3bfcfdaf-755d-4d2b-8ed8-326201dc07ab",
   "metadata": {
    "id": "3bfcfdaf-755d-4d2b-8ed8-326201dc07ab"
   },
   "source": [
    "6. С помощью запроса выясните, у какого количества работодателей в качестве сферы деятельности указана Разработка программного обеспечения.\n"
   ]
  },
  {
   "cell_type": "code",
   "execution_count": 33,
   "id": "ad3f270f-2991-47eb-929b-e8f88a55b0d1",
   "metadata": {
    "id": "ad3f270f-2991-47eb-929b-e8f88a55b0d1"
   },
   "outputs": [],
   "source": [
    "# текст запроса\n",
    "query_5_6 = f'''SELECT COUNT(ei.employer_id)\n",
    "                FROM industries i\n",
    "                LEFT JOIN employers_industries ei ON i.id = ei.industry_id\n",
    "                WHERE i.name = 'Разработка программного обеспечения'\n",
    "            '''"
   ]
  },
  {
   "cell_type": "code",
   "execution_count": 34,
   "id": "H72qxWM0shPR",
   "metadata": {
    "id": "H72qxWM0shPR"
   },
   "outputs": [
    {
     "name": "stdout",
     "output_type": "stream",
     "text": [
      "Количество работодателей: 3553\n"
     ]
    }
   ],
   "source": [
    "# результат запроса\n",
    "query_5_6 = pd.read_sql(query_5_6, conn_url)\n",
    "print(f\"Количество работодателей: {query_5_6.loc[0, 'count']}\")"
   ]
  },
  {
   "cell_type": "markdown",
   "id": "7b02bb86-0546-40fb-94a4-242f050a5c57",
   "metadata": {
    "id": "7b02bb86-0546-40fb-94a4-242f050a5c57"
   },
   "source": [
    "7. Для компании «Яндекс» выведите список регионов-миллионников, в которых представлены вакансии компании, вместе с количеством вакансий в этих регионах. Также добавьте строку Total с общим количеством вакансий компании. Результат отсортируйте по возрастанию количества.\n",
    "\n",
    "Список городов-милионников надо взять [отсюда](https://ru.wikipedia.org/wiki/%D0%93%D0%BE%D1%80%D0%BE%D0%B4%D0%B0-%D0%BC%D0%B8%D0%BB%D0%BB%D0%B8%D0%BE%D0%BD%D0%B5%D1%80%D1%8B_%D0%A0%D0%BE%D1%81%D1%81%D0%B8%D0%B8). \n",
    "\n",
    "Если возникнут трудности с этим задание посмотрите материалы модуля  PYTHON-17. Как получать данные из веб-источников и API. "
   ]
  },
  {
   "cell_type": "code",
   "execution_count": 35,
   "id": "ZdfrL6gIs1Pn",
   "metadata": {
    "id": "ZdfrL6gIs1Pn"
   },
   "outputs": [
    {
     "data": {
      "text/plain": [
       "('Москва',\n",
       " 'Санкт-Петербург',\n",
       " 'Новосибирск',\n",
       " 'Екатеринбург',\n",
       " 'Казань',\n",
       " 'Нижний Новгород',\n",
       " 'Челябинск',\n",
       " 'Красноярск',\n",
       " 'Самара',\n",
       " 'Уфа',\n",
       " 'Ростов-на-Дону',\n",
       " 'Омск',\n",
       " 'Краснодар',\n",
       " 'Воронеж',\n",
       " 'Пермь',\n",
       " 'Волгоград')"
      ]
     },
     "execution_count": 35,
     "metadata": {},
     "output_type": "execute_result"
    }
   ],
   "source": [
    "# код для получения списка городов-милионников\n",
    "path_common = req.urlparse('https://ru.wikipedia.org/wiki/Города-миллионеры_России#Список_городов-миллионеров')\n",
    "\n",
    "# преобразование кириллицы в url\n",
    "url = path_common.scheme + '://' + req.quote(path_common.netloc) \\\n",
    "+ req.quote(path_common.path) + '#' + req.quote(path_common.fragment)\n",
    "\n",
    "df = pd.read_html(url)[1]\n",
    "cities = list(df['Город'])\n",
    "\n",
    "# приведение структуры данных к единому формату\n",
    "cities[13] = 'Воронеж'\n",
    "cities = tuple(cities)\n",
    "cities"
   ]
  },
  {
   "cell_type": "code",
   "execution_count": 36,
   "id": "5a0e32a4-e68a-4365-8a39-2fe24c542c36",
   "metadata": {
    "id": "5a0e32a4-e68a-4365-8a39-2fe24c542c36"
   },
   "outputs": [],
   "source": [
    "# текст запроса\n",
    "query_5_7 = f'''SELECT a.name AS city,\n",
    "                COUNT(v.id) AS vacancies_cnt\n",
    "                FROM vacancies v\n",
    "                LEFT JOIN areas a ON v.area_id = a.id\n",
    "                LEFT JOIN employers e ON v.employer_id = e.id\n",
    "                WHERE a.name IN {str(cities)} AND e.name = 'Яндекс'\n",
    "                GROUP BY a.id\n",
    "                \n",
    "                UNION ALL\n",
    "                \n",
    "                SELECT 'Total',\n",
    "                COUNT(v.id) AS vacancies_cnt\n",
    "                FROM vacancies v\n",
    "                LEFT JOIN areas a ON v.area_id = a.id\n",
    "                LEFT JOIN employers e ON v.employer_id = e.id\n",
    "                WHERE a.name IN {str(cities)} AND e.name = 'Яндекс'\n",
    "                ORDER BY 2 \n",
    "            '''"
   ]
  },
  {
   "cell_type": "code",
   "execution_count": 37,
   "id": "ttPhiO1rsvPq",
   "metadata": {
    "id": "ttPhiO1rsvPq"
   },
   "outputs": [
    {
     "data": {
      "text/html": [
       "<div>\n",
       "<style scoped>\n",
       "    .dataframe tbody tr th:only-of-type {\n",
       "        vertical-align: middle;\n",
       "    }\n",
       "\n",
       "    .dataframe tbody tr th {\n",
       "        vertical-align: top;\n",
       "    }\n",
       "\n",
       "    .dataframe thead th {\n",
       "        text-align: right;\n",
       "    }\n",
       "</style>\n",
       "<table border=\"1\" class=\"dataframe\">\n",
       "  <thead>\n",
       "    <tr style=\"text-align: right;\">\n",
       "      <th></th>\n",
       "      <th>city</th>\n",
       "      <th>vacancies_cnt</th>\n",
       "    </tr>\n",
       "  </thead>\n",
       "  <tbody>\n",
       "    <tr>\n",
       "      <th>0</th>\n",
       "      <td>Омск</td>\n",
       "      <td>21</td>\n",
       "    </tr>\n",
       "    <tr>\n",
       "      <th>1</th>\n",
       "      <td>Челябинск</td>\n",
       "      <td>22</td>\n",
       "    </tr>\n",
       "    <tr>\n",
       "      <th>2</th>\n",
       "      <td>Красноярск</td>\n",
       "      <td>23</td>\n",
       "    </tr>\n",
       "    <tr>\n",
       "      <th>3</th>\n",
       "      <td>Волгоград</td>\n",
       "      <td>24</td>\n",
       "    </tr>\n",
       "    <tr>\n",
       "      <th>4</th>\n",
       "      <td>Пермь</td>\n",
       "      <td>25</td>\n",
       "    </tr>\n",
       "    <tr>\n",
       "      <th>5</th>\n",
       "      <td>Казань</td>\n",
       "      <td>25</td>\n",
       "    </tr>\n",
       "    <tr>\n",
       "      <th>6</th>\n",
       "      <td>Ростов-на-Дону</td>\n",
       "      <td>25</td>\n",
       "    </tr>\n",
       "    <tr>\n",
       "      <th>7</th>\n",
       "      <td>Самара</td>\n",
       "      <td>26</td>\n",
       "    </tr>\n",
       "    <tr>\n",
       "      <th>8</th>\n",
       "      <td>Уфа</td>\n",
       "      <td>26</td>\n",
       "    </tr>\n",
       "    <tr>\n",
       "      <th>9</th>\n",
       "      <td>Краснодар</td>\n",
       "      <td>30</td>\n",
       "    </tr>\n",
       "    <tr>\n",
       "      <th>10</th>\n",
       "      <td>Воронеж</td>\n",
       "      <td>32</td>\n",
       "    </tr>\n",
       "    <tr>\n",
       "      <th>11</th>\n",
       "      <td>Новосибирск</td>\n",
       "      <td>35</td>\n",
       "    </tr>\n",
       "    <tr>\n",
       "      <th>12</th>\n",
       "      <td>Нижний Новгород</td>\n",
       "      <td>36</td>\n",
       "    </tr>\n",
       "    <tr>\n",
       "      <th>13</th>\n",
       "      <td>Екатеринбург</td>\n",
       "      <td>39</td>\n",
       "    </tr>\n",
       "    <tr>\n",
       "      <th>14</th>\n",
       "      <td>Санкт-Петербург</td>\n",
       "      <td>42</td>\n",
       "    </tr>\n",
       "    <tr>\n",
       "      <th>15</th>\n",
       "      <td>Москва</td>\n",
       "      <td>54</td>\n",
       "    </tr>\n",
       "    <tr>\n",
       "      <th>16</th>\n",
       "      <td>Total</td>\n",
       "      <td>485</td>\n",
       "    </tr>\n",
       "  </tbody>\n",
       "</table>\n",
       "</div>"
      ],
      "text/plain": [
       "               city  vacancies_cnt\n",
       "0              Омск             21\n",
       "1         Челябинск             22\n",
       "2        Красноярск             23\n",
       "3         Волгоград             24\n",
       "4             Пермь             25\n",
       "5            Казань             25\n",
       "6    Ростов-на-Дону             25\n",
       "7            Самара             26\n",
       "8               Уфа             26\n",
       "9         Краснодар             30\n",
       "10          Воронеж             32\n",
       "11      Новосибирск             35\n",
       "12  Нижний Новгород             36\n",
       "13     Екатеринбург             39\n",
       "14  Санкт-Петербург             42\n",
       "15           Москва             54\n",
       "16            Total            485"
      ]
     },
     "execution_count": 37,
     "metadata": {},
     "output_type": "execute_result"
    }
   ],
   "source": [
    "# результат запроса\n",
    "query_5_7 = pd.read_sql(query_5_7, conn_url)\n",
    "query_5_7"
   ]
  },
  {
   "cell_type": "markdown",
   "id": "cbecc968",
   "metadata": {
    "id": "aGGyER-yt4SR"
   },
   "source": [
    "**Большинство вакансий размещают крупнейшие компании, такие как Яндекс, Ростелеком, Газпром нефть**. У данных организаций большой штат сотрудников и множество подразделений, поэтому им постоянно требуются новые работники как на постоянной, так и на проектной основе. \n",
    "\n",
    "Яндекс имеет филиалы в других странах и практикует удаленный формат работы, поэтому география поиска людей в компанию у него наиболее широкая - 181 регион, включая страны ближнего зарубежья. \n",
    "\n",
    "**Основная часть работодателей все же ориентирована на российский рынок**. При этом некоторые работодатели указывают сразу несколько сфер деятельности (как, например, 2ГИС), а треть из них не указывают ее вовсе - в базе данных представлено 8419 таких организаций. 3553 работодателя в качестве сферы деятельности указали разработку программного обеспечения - это одна из самых востребованных и хорошо оплачиваемых сфер на сегодняшний день."
   ]
  },
  {
   "cell_type": "markdown",
   "id": "b1ef156a-efcb-49ce-bb23-90763e7f35b2",
   "metadata": {
    "id": "b1ef156a-efcb-49ce-bb23-90763e7f35b2",
    "tags": []
   },
   "source": [
    "# Юнит 6. Предметный анализ"
   ]
  },
  {
   "cell_type": "markdown",
   "id": "b9cd50a0-992d-4988-8463-2b2b1c4629b4",
   "metadata": {
    "id": "b9cd50a0-992d-4988-8463-2b2b1c4629b4"
   },
   "source": [
    "1. Сколько вакансий имеет отношение к данным?\n",
    "\n",
    "Считаем, что вакансия имеет отношение к данным, если в её названии содержатся слова 'data' или 'данн'.\n",
    "\n",
    "*Подсказка: Обратите внимание, что названия вакансий могут быть написаны в любом регистре.* \n"
   ]
  },
  {
   "cell_type": "code",
   "execution_count": 38,
   "id": "dc14f87a",
   "metadata": {},
   "outputs": [],
   "source": [
    "# текст запроса\n",
    "query_6_1 = f'''SELECT COUNT(id)\n",
    "                FROM vacancies\n",
    "                WHERE name ILIKE '%%data%%' OR name ILIKE '%%данн%%'\n",
    "            '''"
   ]
  },
  {
   "cell_type": "code",
   "execution_count": 39,
   "id": "9F1meAqsuUjd",
   "metadata": {
    "id": "9F1meAqsuUjd"
   },
   "outputs": [
    {
     "name": "stdout",
     "output_type": "stream",
     "text": [
      "Количество вакансий: 1771\n"
     ]
    }
   ],
   "source": [
    "# результат запроса\n",
    "query_6_1 = pd.read_sql(query_6_1, conn_url)\n",
    "print(f\"Количество вакансий: {query_6_1.loc[0, 'count']}\")"
   ]
  },
  {
   "cell_type": "markdown",
   "id": "4dea20cb-a36b-474a-a0b9-e08e8e3857a5",
   "metadata": {
    "id": "4dea20cb-a36b-474a-a0b9-e08e8e3857a5"
   },
   "source": [
    "2. Сколько есть подходящих вакансий для начинающего дата-сайентиста? \n",
    "Будем считать вакансиями для дата-сайентистов такие, в названии которых есть хотя бы одно из следующих сочетаний:\n",
    "* 'data scientist'\n",
    "* 'data science'\n",
    "* 'исследователь данных'\n",
    "* 'ML' (здесь не нужно брать вакансии по HTML)\n",
    "* 'machine learning'\n",
    "* 'машинн%обучен%'\n",
    "\n",
    "** В следующих заданиях мы продолжим работать с вакансиями по этому условию.*\n",
    "\n",
    "Считаем вакансиями для специалистов уровня Junior следующие:\n",
    "* в названии есть слово 'junior' *или*\n",
    "* требуемый опыт — Нет опыта *или*\n",
    "* тип трудоустройства — Стажировка.\n",
    " "
   ]
  },
  {
   "cell_type": "code",
   "execution_count": 40,
   "id": "9c61b3c0-bb66-46c9-ae1e-81d3f5752b4a",
   "metadata": {
    "id": "9c61b3c0-bb66-46c9-ae1e-81d3f5752b4a"
   },
   "outputs": [],
   "source": [
    "# текст запроса\n",
    "query_6_2 = f'''SELECT COUNT(id)\n",
    "                FROM vacancies\n",
    "                WHERE \n",
    "                ((name ILIKE '%%junior%%') OR\n",
    "                (experience ILIKE '%%нет опыта%%') OR\n",
    "                (employment ILIKE '%%стажировка%%'))\n",
    "                AND\n",
    "                ((name ILIKE '%%data scientist%%') OR \n",
    "                (name ILIKE '%%data science%%') OR\n",
    "                (name ILIKE '%%исследователь данных%%') OR\n",
    "                (name LIKE '%%ML%%' AND name NOT ILIKE '%%html%%') OR\n",
    "                (name ILIKE '%%machine learning%%') OR\n",
    "                (name ILIKE '%%машинн%%обучен%%'))\n",
    "            '''"
   ]
  },
  {
   "cell_type": "code",
   "execution_count": 41,
   "id": "ZNM-LLYuu1dj",
   "metadata": {
    "id": "ZNM-LLYuu1dj"
   },
   "outputs": [
    {
     "name": "stdout",
     "output_type": "stream",
     "text": [
      "Количество вакансий: 51\n"
     ]
    }
   ],
   "source": [
    "# результат запроса\n",
    "query_6_2 = pd.read_sql(query_6_2, conn_url)\n",
    "print(f\"Количество вакансий: {query_6_2.loc[0, 'count']}\")"
   ]
  },
  {
   "cell_type": "markdown",
   "id": "eedceb80-c5ca-480e-b27a-278dfb8b4438",
   "metadata": {
    "id": "eedceb80-c5ca-480e-b27a-278dfb8b4438"
   },
   "source": [
    "3. Сколько есть вакансий для DS, в которых в качестве ключевого навыка указан SQL или postgres?\n",
    "\n",
    "** Критерии для отнесения вакансии к DS указаны в предыдущем задании.*"
   ]
  },
  {
   "cell_type": "code",
   "execution_count": 42,
   "id": "69621713-0cc5-4f1b-a1d7-bb144fa6148c",
   "metadata": {
    "id": "69621713-0cc5-4f1b-a1d7-bb144fa6148c"
   },
   "outputs": [],
   "source": [
    "# текст запроса\n",
    "query_6_3 = f'''SELECT COUNT(id)\n",
    "                FROM vacancies \n",
    "                WHERE\n",
    "                ((name ILIKE '%%data scientist%%') OR \n",
    "                (name ILIKE '%%data science%%') OR\n",
    "                (name ILIKE '%%исследователь данных%%') OR\n",
    "                (name LIKE '%%ML%%' AND name NOT ILIKE '%%html%%') OR\n",
    "                (name ILIKE '%%machine learning%%') OR\n",
    "                (name ILIKE '%%машинн%%обучен%%'))\n",
    "                AND \n",
    "                ((key_skills ILIKE '%%SQL%%') OR \n",
    "                (key_skills ILIKE '%%postgres%%'))\n",
    "            '''"
   ]
  },
  {
   "cell_type": "code",
   "execution_count": 43,
   "id": "alA8WEAAvGdf",
   "metadata": {
    "id": "alA8WEAAvGdf"
   },
   "outputs": [
    {
     "name": "stdout",
     "output_type": "stream",
     "text": [
      "Количество вакансий: 201\n"
     ]
    }
   ],
   "source": [
    "# результат запроса\n",
    "query_6_3 = pd.read_sql(query_6_3, conn_url)\n",
    "print(f\"Количество вакансий: {query_6_3.loc[0, 'count']}\")"
   ]
  },
  {
   "cell_type": "markdown",
   "id": "1be1e9c6-37cf-4a5f-bfeb-04cab799dc80",
   "metadata": {
    "id": "1be1e9c6-37cf-4a5f-bfeb-04cab799dc80"
   },
   "source": [
    "4. Проверьте, насколько популярен Python в требованиях работодателей к DS.Для этого вычислите количество вакансий, в которых в качестве ключевого навыка указан Python.\n",
    "\n",
    "** Это можно сделать помощью запроса, аналогичного предыдущему.*"
   ]
  },
  {
   "cell_type": "code",
   "execution_count": 44,
   "id": "0036a355-9ccf-4564-8b01-73d8194297e7",
   "metadata": {
    "id": "0036a355-9ccf-4564-8b01-73d8194297e7"
   },
   "outputs": [],
   "source": [
    "# текст запроса\n",
    "query_6_4 = f'''SELECT COUNT(id)\n",
    "                FROM vacancies \n",
    "                WHERE\n",
    "                ((name ILIKE '%%data scientist%%') OR \n",
    "                (name ILIKE '%%data science%%') OR\n",
    "                (name ILIKE '%%исследователь данных%%') OR\n",
    "                (name LIKE '%%ML%%' AND name NOT ILIKE '%%html%%') OR\n",
    "                (name ILIKE '%%machine learning%%') OR\n",
    "                (name ILIKE '%%машинн%%обучен%%'))\n",
    "                AND \n",
    "                (key_skills ILIKE '%%Python%%') \n",
    "            '''"
   ]
  },
  {
   "cell_type": "code",
   "execution_count": 45,
   "id": "1i-5WyucvQ6v",
   "metadata": {
    "id": "1i-5WyucvQ6v"
   },
   "outputs": [
    {
     "name": "stdout",
     "output_type": "stream",
     "text": [
      "Количество вакансий: 351\n"
     ]
    }
   ],
   "source": [
    "# результат запроса\n",
    "query_6_4 = pd.read_sql(query_6_4, conn_url)\n",
    "print(f\"Количество вакансий: {query_6_4.loc[0, 'count']}\")"
   ]
  },
  {
   "cell_type": "markdown",
   "id": "ec3c8db7-fa21-4a41-a994-1af63742a642",
   "metadata": {
    "id": "ec3c8db7-fa21-4a41-a994-1af63742a642"
   },
   "source": [
    "5. Сколько ключевых навыков в среднем указывают в вакансиях для DS?\n",
    "Ответ округлите до двух знаков после точки-разделителя."
   ]
  },
  {
   "cell_type": "code",
   "execution_count": 46,
   "id": "e1f409e2",
   "metadata": {},
   "outputs": [],
   "source": [
    "query_6_5 = f'''SELECT \n",
    "                round(AVG(LENGTH(key_skills)-LENGTH(replace(key_skills, CHR(9), ''))+1), 2)\n",
    "                FROM vacancies\n",
    "                WHERE\n",
    "                ((name ILIKE '%%data scientist%%') OR \n",
    "                (name ILIKE '%%data science%%') OR\n",
    "                (name ILIKE '%%исследователь данных%%') OR\n",
    "                (name LIKE '%%ML%%' AND name NOT ILIKE '%%html%%') OR\n",
    "                (name ILIKE '%%machine learning%%') OR\n",
    "                (name ILIKE '%%машинн%%обучен%%'))\n",
    "             '''"
   ]
  },
  {
   "cell_type": "code",
   "execution_count": 47,
   "id": "087a973f",
   "metadata": {},
   "outputs": [
    {
     "name": "stdout",
     "output_type": "stream",
     "text": [
      "Average Key Skills: 6.41\n"
     ]
    }
   ],
   "source": [
    "query_6_5 = pd.read_sql(query_6_5, conn_url)\n",
    "print(f\"Average Key Skills: {query_6_5.loc[0, 'round']}\")"
   ]
  },
  {
   "cell_type": "markdown",
   "id": "1041c17a-ca8f-4543-a0ca-32778914fb00",
   "metadata": {
    "id": "1041c17a-ca8f-4543-a0ca-32778914fb00"
   },
   "source": [
    "6. Напишите запрос, позволяющий вычислить, какую зарплату для DS в **среднем** указывают для каждого типа требуемого опыта (уникальное значение из поля *experience*). \n",
    "\n",
    "При решении задачи примите во внимание следующее:\n",
    "1. Рассматриваем только вакансии, у которых заполнено хотя бы одно из двух полей с зарплатой.\n",
    "2. Если заполнены оба поля с зарплатой, то считаем зарплату по каждой вакансии как сумму двух полей, делённую на 2. Если заполнено только одно из полей, то его и считаем зарплатой по вакансии.\n",
    "3. Если в расчётах участвует null, в результате он тоже даст null (посмотрите, что возвращает запрос select 1 + null). Чтобы избежать этой ситуацию, мы воспользуемся функцией [coalesce](https://postgrespro.ru/docs/postgresql/9.5/functions-conditional#functions-coalesce-nvl-ifnull), которая заменит null на значение, которое мы передадим. Например, посмотрите, что возвращает запрос `select 1 + coalesce(null, 0)`\n",
    "\n",
    "Выясните, на какую зарплату в среднем может рассчитывать дата-сайентист с опытом работы от 3 до 6 лет. Результат округлите до целого числа. "
   ]
  },
  {
   "cell_type": "code",
   "execution_count": 48,
   "id": "6a743d39-5204-48d3-8271-b9f88e68d40e",
   "metadata": {
    "id": "6a743d39-5204-48d3-8271-b9f88e68d40e"
   },
   "outputs": [],
   "source": [
    "# текст запроса\n",
    "query_6_6 = f'''SELECT DISTINCT experience, \n",
    "                round(AVG(COALESCE((salary_from + salary_to)/2, \n",
    "                COALESCE(salary_from, salary_to)))) AS avg_salary\n",
    "                FROM vacancies\n",
    "                WHERE (salary_from IS NOT NULL OR salary_to IS NOT NULL)\n",
    "                AND\n",
    "                ((name ILIKE '%%data scientist%%') OR \n",
    "                (name ILIKE '%%data science%%') OR\n",
    "                (name ILIKE '%%исследователь данных%%') OR\n",
    "                (name LIKE '%%ML%%' AND name NOT ILIKE '%%html%%') OR\n",
    "                (name ILIKE '%%machine learning%%') OR\n",
    "                (name ILIKE '%%машинн%%обучен%%'))\n",
    "                GROUP BY 1\n",
    "             '''"
   ]
  },
  {
   "cell_type": "code",
   "execution_count": 49,
   "id": "aRIJ0mZEwU1_",
   "metadata": {
    "id": "aRIJ0mZEwU1_"
   },
   "outputs": [
    {
     "name": "stdout",
     "output_type": "stream",
     "text": [
      "Средняя зарплата: 243115 руб.\n"
     ]
    }
   ],
   "source": [
    "# результат запроса\n",
    "query_6_6 = pd.read_sql(query_6_6, conn_url)\n",
    "print(f\"Средняя зарплата: {int(query_6_6.loc[2, 'avg_salary'])} руб.\")"
   ]
  },
  {
   "cell_type": "markdown",
   "id": "d94d67ba",
   "metadata": {
    "id": "UjLWUptVwY1o"
   },
   "source": [
    "В базе данных представлена **1771 вакансия для специалистов по работе с данными**. Что касается обязательных и распространенных требований работодателей к потенциальным сотрудникам – это **знание Python (351 вакансия) и SQL (201 вакансия)**. **51 вакансия ориентирована на новичков уровня junior**. При росте уровня специалиста соответственно растет и его заработная плата. В целом, оплата труда DS специалистов выше по рынку относительно других специальностей, не относящихся к данным, что свидетельствует об острой востребованности таких профессионалов на рынке труда. Data Scientist с опытом работы от 3 до 6 лет может в среднем рассчитывать на сумму в 243 тыс. руб.  "
   ]
  },
  {
   "cell_type": "markdown",
   "id": "c0ED6fh7wiBT",
   "metadata": {
    "id": "c0ED6fh7wiBT"
   },
   "source": [
    "# Общий вывод по проекту"
   ]
  },
  {
   "cell_type": "markdown",
   "id": "83df8171",
   "metadata": {
    "id": "h9B3BL-wwj18"
   },
   "source": [
    "Современный рынок труда предоставляет много вариантов трудоустройства и реализации в карьере. **Больше всего возможностей имеется в мегаполисах и городах** – миллионниках, таких как Москва, Санкт-Петербург, Новосибирск, Минск. Огромное количество вакансий открывают такие **крупнейшие компании как Яндекс, Газпром, Ростелеком** – у них множество подразделений, которые постоянно нуждаются в новых сотрудниках, не боящихся развиваться вместе с компанией и брать на себя ответственность.\n",
    "\n",
    "При этом **удаленный формат работы с каждым днем становится все популярнее** и отвоевывает позиции у графика с полным рабочим днем и работой на территории работодателя. На момент проведения анализа соотношение составляет чуть менее 8 тыс. позиций против 35 тыс. Работодатели ощутили на себе все экономические преимущества взаимодействия с сотрудниками в гибридном и удаленном форматах. Кроме того, рынок труда меняется с огромной скоростью, а рабочие места автоматизируются. "
   ]
  },
  {
   "cell_type": "markdown",
   "id": "6f1d5e90",
   "metadata": {},
   "source": [
    "Чтобы подтвердить это данными, выведем в какой сфере деятельности сейчас больше всего вакансий:"
   ]
  },
  {
   "cell_type": "code",
   "execution_count": 50,
   "id": "2ba6c81b",
   "metadata": {},
   "outputs": [],
   "source": [
    "query_7_1 = f'''SELECT DISTINCT i.name,\n",
    "                COUNT(v.id) AS vacancies_cnt\n",
    "                FROM vacancies v\n",
    "                LEFT JOIN employers_industries ei ON v.employer_id = ei.employer_id\n",
    "                LEFT JOIN industries i ON i.id = ei.industry_id\n",
    "                GROUP BY 1\n",
    "                ORDER BY 2 DESC\n",
    "                LIMIT 1\n",
    "            '''"
   ]
  },
  {
   "cell_type": "code",
   "execution_count": 51,
   "id": "d85ba88e",
   "metadata": {},
   "outputs": [
    {
     "name": "stdout",
     "output_type": "stream",
     "text": [
      "Вакансий в сфере 'Разработка программного обеспечения: 12499\n"
     ]
    }
   ],
   "source": [
    "query_7_1 = pd.read_sql(query_7_1, conn_url)\n",
    "print(f\"Вакансий в сфере '{query_7_1.loc[0, 'name']}: {query_7_1.loc[0, 'vacancies_cnt']}\")"
   ]
  },
  {
   "cell_type": "markdown",
   "id": "56f57efc",
   "metadata": {},
   "source": [
    "В базе данных **доминируют технические вакансии** (четверть от всех представленных,  а IT – персонал является самым востребованным среди работодателей. Отдельную категорию составляют специалисты по анализу данных . Работа с данными  не привязана к конкретной индустрии и потребность в профессионалах, разбирающихся в Data Science, будет только возрастать. **Работодатели не предъявляют высокие требования к опыту работы соискателя – гораздо важнее его развитые профессиональные умения и навыки**.\n",
    "\n",
    "**В целом, тенденция увеличения количества вакансий без обязательного и ежедневного присутствия в офисе будет не просто сохраняться, а возрастать**. Через некоторое время можно провести повторное исследование и зафиксировать, насколько изменилось соотношение вакансий для «удаленщиков» по отношению к вакансиям традиционного формата."
   ]
  }
 ],
 "metadata": {
  "colab": {
   "collapsed_sections": [
    "8d62a9f3-f64e-4fe7-bdac-c4dffa16155e"
   ],
   "provenance": []
  },
  "kernelspec": {
   "display_name": "Python 3 (ipykernel)",
   "language": "python",
   "name": "python3"
  },
  "language_info": {
   "codemirror_mode": {
    "name": "ipython",
    "version": 3
   },
   "file_extension": ".py",
   "mimetype": "text/x-python",
   "name": "python",
   "nbconvert_exporter": "python",
   "pygments_lexer": "ipython3",
   "version": "3.9.13"
  }
 },
 "nbformat": 4,
 "nbformat_minor": 5
}
