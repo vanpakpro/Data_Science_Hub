{
 "cells": [
  {
   "attachments": {},
   "cell_type": "markdown",
   "id": "d50f8119",
   "metadata": {},
   "source": [
    "<center> <img src = https://bronirovanie-otelej-onlajn.ru/image/data/booking/booking%20(1).jpg alt=\"drawing\" style=\"width:400px;\">"
   ]
  },
  {
   "attachments": {},
   "cell_type": "markdown",
   "id": "aa673c5e",
   "metadata": {},
   "source": [
    "# <center> Проект: Прогнозирование рейтинга отеля на Booking.com"
   ]
  },
  {
   "cell_type": "code",
   "execution_count": null,
   "id": "7c0178d9",
   "metadata": {
    "_cell_guid": "b1076dfc-b9ad-4769-8c92-a6c4dae69d19",
    "_uuid": "8f2839f25d086af736a60e9eeb907d3b93b6e0e5",
    "execution": {
     "iopub.execute_input": "2023-05-24T01:14:44.457889Z",
     "iopub.status.busy": "2023-05-24T01:14:44.457338Z",
     "iopub.status.idle": "2023-05-24T01:14:46.390173Z",
     "shell.execute_reply": "2023-05-24T01:14:46.389098Z"
    },
    "papermill": {
     "duration": 1.955417,
     "end_time": "2023-05-24T01:14:46.392614",
     "exception": false,
     "start_time": "2023-05-24T01:14:44.437197",
     "status": "completed"
    },
    "tags": []
   },
   "outputs": [
    {
     "name": "stderr",
     "output_type": "stream",
     "text": [
      "/opt/conda/lib/python3.10/site-packages/scipy/__init__.py:146: UserWarning: A NumPy version >=1.16.5 and <1.23.0 is required for this version of SciPy (detected version 1.23.5\n",
      "  warnings.warn(f\"A NumPy version >={np_minversion} and <{np_maxversion}\"\n"
     ]
    },
    {
     "name": "stdout",
     "output_type": "stream",
     "text": [
      "/kaggle/input/sf-booking/hotels_test.csv\n",
      "/kaggle/input/sf-booking/hotels_train.csv\n",
      "/kaggle/input/sf-booking/submission.csv\n"
     ]
    }
   ],
   "source": [
    "# базовые библиотеки\n",
    "import numpy as np \n",
    "import pandas as pd \n",
    "\n",
    "# кодирование\n",
    "import category_encoders as ce\n",
    "from sklearn.preprocessing import LabelEncoder\n",
    "\n",
    "# визуализация\n",
    "import matplotlib.pyplot as plt\n",
    "import seaborn as sns\n",
    "%matplotlib inline\n",
    "\n",
    "# оценка значимости признаков\n",
    "from sklearn.feature_selection import f_classif, chi2\n",
    "\n",
    "# инструмент для разделения датасета\n",
    "from sklearn.model_selection import train_test_split\n",
    "\n",
    "# создание, обучение, оценка качества модели\n",
    "from sklearn.ensemble import RandomForestRegressor\n",
    "from sklearn import metrics\n",
    "\n",
    "import os\n",
    "for dirname, _, filenames in os.walk('/kaggle/input'):\n",
    "    for filename in filenames:\n",
    "        print(os.path.join(dirname, filename))"
   ]
  },
  {
   "attachments": {},
   "cell_type": "markdown",
   "id": "9a8cd684",
   "metadata": {
    "papermill": {
     "duration": 0.017823,
     "end_time": "2023-05-24T01:14:46.429058",
     "exception": false,
     "start_time": "2023-05-24T01:14:46.411235",
     "status": "completed"
    },
    "tags": []
   },
   "source": [
    "# Загрузка данных"
   ]
  },
  {
   "cell_type": "code",
   "execution_count": 2,
   "id": "53188ffc",
   "metadata": {
    "execution": {
     "iopub.execute_input": "2023-05-24T01:14:46.467047Z",
     "iopub.status.busy": "2023-05-24T01:14:46.466753Z",
     "iopub.status.idle": "2023-05-24T01:14:46.470906Z",
     "shell.execute_reply": "2023-05-24T01:14:46.469855Z"
    },
    "papermill": {
     "duration": 0.025122,
     "end_time": "2023-05-24T01:14:46.472493",
     "exception": false,
     "start_time": "2023-05-24T01:14:46.447371",
     "status": "completed"
    },
    "tags": []
   },
   "outputs": [],
   "source": [
    "# фиксируем RANDOM_SEED, чтобы эксперименты были воспроизводимы!\n",
    "\n",
    "RANDOM_SEED = 42"
   ]
  },
  {
   "cell_type": "code",
   "execution_count": 3,
   "id": "d6c3e0bb",
   "metadata": {
    "execution": {
     "iopub.execute_input": "2023-05-24T01:14:46.511148Z",
     "iopub.status.busy": "2023-05-24T01:14:46.510796Z",
     "iopub.status.idle": "2023-05-24T01:14:49.250769Z",
     "shell.execute_reply": "2023-05-24T01:14:49.249898Z"
    },
    "papermill": {
     "duration": 2.762008,
     "end_time": "2023-05-24T01:14:49.252818",
     "exception": false,
     "start_time": "2023-05-24T01:14:46.490810",
     "status": "completed"
    },
    "tags": []
   },
   "outputs": [],
   "source": [
    "# зафиксируем версию пакетов:\n",
    "\n",
    "!pip freeze > requirements.txt"
   ]
  },
  {
   "cell_type": "code",
   "execution_count": 4,
   "id": "d13539f4",
   "metadata": {
    "execution": {
     "iopub.execute_input": "2023-05-24T01:14:49.292473Z",
     "iopub.status.busy": "2023-05-24T01:14:49.292109Z",
     "iopub.status.idle": "2023-05-24T01:14:53.713472Z",
     "shell.execute_reply": "2023-05-24T01:14:53.712488Z"
    },
    "papermill": {
     "duration": 4.444631,
     "end_time": "2023-05-24T01:14:53.715868",
     "exception": false,
     "start_time": "2023-05-24T01:14:49.271237",
     "status": "completed"
    },
    "tags": []
   },
   "outputs": [],
   "source": [
    "# Подгрузим данные из соревнования\n",
    "\n",
    "DATA_DIR = '/kaggle/input/sf-booking/'\n",
    "df_train = pd.read_csv(DATA_DIR+'/hotels_train.csv') # датасет для обучения \n",
    "df_test = pd.read_csv(DATA_DIR+'hotels_test.csv') # датасет для предсказания\n",
    "sample_submission = pd.read_csv(DATA_DIR+'/submission.csv') # submission"
   ]
  },
  {
   "cell_type": "code",
   "execution_count": 5,
   "id": "04db4794",
   "metadata": {
    "execution": {
     "iopub.execute_input": "2023-05-24T01:14:53.755978Z",
     "iopub.status.busy": "2023-05-24T01:14:53.755651Z",
     "iopub.status.idle": "2023-05-24T01:14:54.202820Z",
     "shell.execute_reply": "2023-05-24T01:14:54.201780Z"
    },
    "papermill": {
     "duration": 0.46966,
     "end_time": "2023-05-24T01:14:54.205013",
     "exception": false,
     "start_time": "2023-05-24T01:14:53.735353",
     "status": "completed"
    },
    "tags": []
   },
   "outputs": [
    {
     "name": "stdout",
     "output_type": "stream",
     "text": [
      "<class 'pandas.core.frame.DataFrame'>\n",
      "RangeIndex: 386803 entries, 0 to 386802\n",
      "Data columns (total 17 columns):\n",
      " #   Column                                      Non-Null Count   Dtype  \n",
      "---  ------                                      --------------   -----  \n",
      " 0   hotel_address                               386803 non-null  object \n",
      " 1   additional_number_of_scoring                386803 non-null  int64  \n",
      " 2   review_date                                 386803 non-null  object \n",
      " 3   average_score                               386803 non-null  float64\n",
      " 4   hotel_name                                  386803 non-null  object \n",
      " 5   reviewer_nationality                        386803 non-null  object \n",
      " 6   negative_review                             386803 non-null  object \n",
      " 7   review_total_negative_word_counts           386803 non-null  int64  \n",
      " 8   total_number_of_reviews                     386803 non-null  int64  \n",
      " 9   positive_review                             386803 non-null  object \n",
      " 10  review_total_positive_word_counts           386803 non-null  int64  \n",
      " 11  total_number_of_reviews_reviewer_has_given  386803 non-null  int64  \n",
      " 12  reviewer_score                              386803 non-null  float64\n",
      " 13  tags                                        386803 non-null  object \n",
      " 14  days_since_review                           386803 non-null  object \n",
      " 15  lat                                         384355 non-null  float64\n",
      " 16  lng                                         384355 non-null  float64\n",
      "dtypes: float64(4), int64(5), object(8)\n",
      "memory usage: 50.2+ MB\n"
     ]
    }
   ],
   "source": [
    "df_train.info()"
   ]
  },
  {
   "cell_type": "code",
   "execution_count": 6,
   "id": "d42ed202",
   "metadata": {
    "execution": {
     "iopub.execute_input": "2023-05-24T01:14:54.242880Z",
     "iopub.status.busy": "2023-05-24T01:14:54.242586Z",
     "iopub.status.idle": "2023-05-24T01:14:54.272643Z",
     "shell.execute_reply": "2023-05-24T01:14:54.271816Z"
    },
    "papermill": {
     "duration": 0.050802,
     "end_time": "2023-05-24T01:14:54.274422",
     "exception": false,
     "start_time": "2023-05-24T01:14:54.223620",
     "status": "completed"
    },
    "tags": []
   },
   "outputs": [
    {
     "data": {
      "text/html": [
       "<div>\n",
       "<style scoped>\n",
       "    .dataframe tbody tr th:only-of-type {\n",
       "        vertical-align: middle;\n",
       "    }\n",
       "\n",
       "    .dataframe tbody tr th {\n",
       "        vertical-align: top;\n",
       "    }\n",
       "\n",
       "    .dataframe thead th {\n",
       "        text-align: right;\n",
       "    }\n",
       "</style>\n",
       "<table border=\"1\" class=\"dataframe\">\n",
       "  <thead>\n",
       "    <tr style=\"text-align: right;\">\n",
       "      <th></th>\n",
       "      <th>hotel_address</th>\n",
       "      <th>additional_number_of_scoring</th>\n",
       "      <th>review_date</th>\n",
       "      <th>average_score</th>\n",
       "      <th>hotel_name</th>\n",
       "      <th>reviewer_nationality</th>\n",
       "      <th>negative_review</th>\n",
       "      <th>review_total_negative_word_counts</th>\n",
       "      <th>total_number_of_reviews</th>\n",
       "      <th>positive_review</th>\n",
       "      <th>review_total_positive_word_counts</th>\n",
       "      <th>total_number_of_reviews_reviewer_has_given</th>\n",
       "      <th>reviewer_score</th>\n",
       "      <th>tags</th>\n",
       "      <th>days_since_review</th>\n",
       "      <th>lat</th>\n",
       "      <th>lng</th>\n",
       "    </tr>\n",
       "  </thead>\n",
       "  <tbody>\n",
       "    <tr>\n",
       "      <th>0</th>\n",
       "      <td>Stratton Street Mayfair Westminster Borough Lo...</td>\n",
       "      <td>581</td>\n",
       "      <td>2/19/2016</td>\n",
       "      <td>8.4</td>\n",
       "      <td>The May Fair Hotel</td>\n",
       "      <td>United Kingdom</td>\n",
       "      <td>Leaving</td>\n",
       "      <td>3</td>\n",
       "      <td>1994</td>\n",
       "      <td>Staff were amazing</td>\n",
       "      <td>4</td>\n",
       "      <td>7</td>\n",
       "      <td>10.0</td>\n",
       "      <td>[' Leisure trip ', ' Couple ', ' Studio Suite ...</td>\n",
       "      <td>531 day</td>\n",
       "      <td>51.507894</td>\n",
       "      <td>-0.143671</td>\n",
       "    </tr>\n",
       "    <tr>\n",
       "      <th>1</th>\n",
       "      <td>130 134 Southampton Row Camden London WC1B 5AF...</td>\n",
       "      <td>299</td>\n",
       "      <td>1/12/2017</td>\n",
       "      <td>8.3</td>\n",
       "      <td>Mercure London Bloomsbury Hotel</td>\n",
       "      <td>United Kingdom</td>\n",
       "      <td>poor breakfast</td>\n",
       "      <td>3</td>\n",
       "      <td>1361</td>\n",
       "      <td>location</td>\n",
       "      <td>2</td>\n",
       "      <td>14</td>\n",
       "      <td>6.3</td>\n",
       "      <td>[' Business trip ', ' Couple ', ' Standard Dou...</td>\n",
       "      <td>203 day</td>\n",
       "      <td>51.521009</td>\n",
       "      <td>-0.123097</td>\n",
       "    </tr>\n",
       "  </tbody>\n",
       "</table>\n",
       "</div>"
      ],
      "text/plain": [
       "                                       hotel_address  \\\n",
       "0  Stratton Street Mayfair Westminster Borough Lo...   \n",
       "1  130 134 Southampton Row Camden London WC1B 5AF...   \n",
       "\n",
       "   additional_number_of_scoring review_date  average_score  \\\n",
       "0                           581   2/19/2016            8.4   \n",
       "1                           299   1/12/2017            8.3   \n",
       "\n",
       "                        hotel_name reviewer_nationality  negative_review  \\\n",
       "0               The May Fair Hotel      United Kingdom          Leaving    \n",
       "1  Mercure London Bloomsbury Hotel      United Kingdom    poor breakfast   \n",
       "\n",
       "   review_total_negative_word_counts  total_number_of_reviews  \\\n",
       "0                                  3                     1994   \n",
       "1                                  3                     1361   \n",
       "\n",
       "       positive_review  review_total_positive_word_counts  \\\n",
       "0   Staff were amazing                                  4   \n",
       "1             location                                  2   \n",
       "\n",
       "   total_number_of_reviews_reviewer_has_given  reviewer_score  \\\n",
       "0                                           7            10.0   \n",
       "1                                          14             6.3   \n",
       "\n",
       "                                                tags days_since_review  \\\n",
       "0  [' Leisure trip ', ' Couple ', ' Studio Suite ...           531 day   \n",
       "1  [' Business trip ', ' Couple ', ' Standard Dou...           203 day   \n",
       "\n",
       "         lat       lng  \n",
       "0  51.507894 -0.143671  \n",
       "1  51.521009 -0.123097  "
      ]
     },
     "execution_count": 6,
     "metadata": {},
     "output_type": "execute_result"
    }
   ],
   "source": [
    "df_train.head(2)"
   ]
  },
  {
   "cell_type": "code",
   "execution_count": 7,
   "id": "607a658f",
   "metadata": {
    "execution": {
     "iopub.execute_input": "2023-05-24T01:14:54.313909Z",
     "iopub.status.busy": "2023-05-24T01:14:54.313609Z",
     "iopub.status.idle": "2023-05-24T01:14:54.468252Z",
     "shell.execute_reply": "2023-05-24T01:14:54.467245Z"
    },
    "papermill": {
     "duration": 0.176817,
     "end_time": "2023-05-24T01:14:54.470369",
     "exception": false,
     "start_time": "2023-05-24T01:14:54.293552",
     "status": "completed"
    },
    "tags": []
   },
   "outputs": [
    {
     "name": "stdout",
     "output_type": "stream",
     "text": [
      "<class 'pandas.core.frame.DataFrame'>\n",
      "RangeIndex: 128935 entries, 0 to 128934\n",
      "Data columns (total 16 columns):\n",
      " #   Column                                      Non-Null Count   Dtype  \n",
      "---  ------                                      --------------   -----  \n",
      " 0   hotel_address                               128935 non-null  object \n",
      " 1   additional_number_of_scoring                128935 non-null  int64  \n",
      " 2   review_date                                 128935 non-null  object \n",
      " 3   average_score                               128935 non-null  float64\n",
      " 4   hotel_name                                  128935 non-null  object \n",
      " 5   reviewer_nationality                        128935 non-null  object \n",
      " 6   negative_review                             128935 non-null  object \n",
      " 7   review_total_negative_word_counts           128935 non-null  int64  \n",
      " 8   total_number_of_reviews                     128935 non-null  int64  \n",
      " 9   positive_review                             128935 non-null  object \n",
      " 10  review_total_positive_word_counts           128935 non-null  int64  \n",
      " 11  total_number_of_reviews_reviewer_has_given  128935 non-null  int64  \n",
      " 12  tags                                        128935 non-null  object \n",
      " 13  days_since_review                           128935 non-null  object \n",
      " 14  lat                                         128115 non-null  float64\n",
      " 15  lng                                         128115 non-null  float64\n",
      "dtypes: float64(3), int64(5), object(8)\n",
      "memory usage: 15.7+ MB\n"
     ]
    }
   ],
   "source": [
    "df_test.info()"
   ]
  },
  {
   "cell_type": "code",
   "execution_count": 8,
   "id": "de262b0c",
   "metadata": {
    "execution": {
     "iopub.execute_input": "2023-05-24T01:14:54.511167Z",
     "iopub.status.busy": "2023-05-24T01:14:54.510831Z",
     "iopub.status.idle": "2023-05-24T01:14:54.524913Z",
     "shell.execute_reply": "2023-05-24T01:14:54.524204Z"
    },
    "papermill": {
     "duration": 0.036723,
     "end_time": "2023-05-24T01:14:54.526404",
     "exception": false,
     "start_time": "2023-05-24T01:14:54.489681",
     "status": "completed"
    },
    "tags": []
   },
   "outputs": [
    {
     "data": {
      "text/html": [
       "<div>\n",
       "<style scoped>\n",
       "    .dataframe tbody tr th:only-of-type {\n",
       "        vertical-align: middle;\n",
       "    }\n",
       "\n",
       "    .dataframe tbody tr th {\n",
       "        vertical-align: top;\n",
       "    }\n",
       "\n",
       "    .dataframe thead th {\n",
       "        text-align: right;\n",
       "    }\n",
       "</style>\n",
       "<table border=\"1\" class=\"dataframe\">\n",
       "  <thead>\n",
       "    <tr style=\"text-align: right;\">\n",
       "      <th></th>\n",
       "      <th>hotel_address</th>\n",
       "      <th>additional_number_of_scoring</th>\n",
       "      <th>review_date</th>\n",
       "      <th>average_score</th>\n",
       "      <th>hotel_name</th>\n",
       "      <th>reviewer_nationality</th>\n",
       "      <th>negative_review</th>\n",
       "      <th>review_total_negative_word_counts</th>\n",
       "      <th>total_number_of_reviews</th>\n",
       "      <th>positive_review</th>\n",
       "      <th>review_total_positive_word_counts</th>\n",
       "      <th>total_number_of_reviews_reviewer_has_given</th>\n",
       "      <th>tags</th>\n",
       "      <th>days_since_review</th>\n",
       "      <th>lat</th>\n",
       "      <th>lng</th>\n",
       "    </tr>\n",
       "  </thead>\n",
       "  <tbody>\n",
       "    <tr>\n",
       "      <th>0</th>\n",
       "      <td>Via Senigallia 6 20161 Milan Italy</td>\n",
       "      <td>904</td>\n",
       "      <td>7/21/2017</td>\n",
       "      <td>8.1</td>\n",
       "      <td>Hotel Da Vinci</td>\n",
       "      <td>United Kingdom</td>\n",
       "      <td>Would have appreciated a shop in the hotel th...</td>\n",
       "      <td>52</td>\n",
       "      <td>16670</td>\n",
       "      <td>Hotel was great clean friendly staff free bre...</td>\n",
       "      <td>62</td>\n",
       "      <td>1</td>\n",
       "      <td>[' Leisure trip ', ' Couple ', ' Double Room '...</td>\n",
       "      <td>13 days</td>\n",
       "      <td>45.533137</td>\n",
       "      <td>9.171102</td>\n",
       "    </tr>\n",
       "    <tr>\n",
       "      <th>1</th>\n",
       "      <td>Arlandaweg 10 Westpoort 1043 EW Amsterdam Neth...</td>\n",
       "      <td>612</td>\n",
       "      <td>12/12/2016</td>\n",
       "      <td>8.6</td>\n",
       "      <td>Urban Lodge Hotel</td>\n",
       "      <td>Belgium</td>\n",
       "      <td>No tissue paper box was present at the room</td>\n",
       "      <td>10</td>\n",
       "      <td>5018</td>\n",
       "      <td>No Positive</td>\n",
       "      <td>0</td>\n",
       "      <td>7</td>\n",
       "      <td>[' Leisure trip ', ' Group ', ' Triple Room ',...</td>\n",
       "      <td>234 day</td>\n",
       "      <td>52.385649</td>\n",
       "      <td>4.834443</td>\n",
       "    </tr>\n",
       "  </tbody>\n",
       "</table>\n",
       "</div>"
      ],
      "text/plain": [
       "                                       hotel_address  \\\n",
       "0                 Via Senigallia 6 20161 Milan Italy   \n",
       "1  Arlandaweg 10 Westpoort 1043 EW Amsterdam Neth...   \n",
       "\n",
       "   additional_number_of_scoring review_date  average_score         hotel_name  \\\n",
       "0                           904   7/21/2017            8.1     Hotel Da Vinci   \n",
       "1                           612  12/12/2016            8.6  Urban Lodge Hotel   \n",
       "\n",
       "  reviewer_nationality                                    negative_review  \\\n",
       "0      United Kingdom    Would have appreciated a shop in the hotel th...   \n",
       "1             Belgium         No tissue paper box was present at the room   \n",
       "\n",
       "   review_total_negative_word_counts  total_number_of_reviews  \\\n",
       "0                                 52                    16670   \n",
       "1                                 10                     5018   \n",
       "\n",
       "                                     positive_review  \\\n",
       "0   Hotel was great clean friendly staff free bre...   \n",
       "1                                        No Positive   \n",
       "\n",
       "   review_total_positive_word_counts  \\\n",
       "0                                 62   \n",
       "1                                  0   \n",
       "\n",
       "   total_number_of_reviews_reviewer_has_given  \\\n",
       "0                                           1   \n",
       "1                                           7   \n",
       "\n",
       "                                                tags days_since_review  \\\n",
       "0  [' Leisure trip ', ' Couple ', ' Double Room '...           13 days   \n",
       "1  [' Leisure trip ', ' Group ', ' Triple Room ',...           234 day   \n",
       "\n",
       "         lat       lng  \n",
       "0  45.533137  9.171102  \n",
       "1  52.385649  4.834443  "
      ]
     },
     "execution_count": 8,
     "metadata": {},
     "output_type": "execute_result"
    }
   ],
   "source": [
    "df_test.head(2)"
   ]
  },
  {
   "cell_type": "code",
   "execution_count": 9,
   "id": "a30f8706",
   "metadata": {
    "execution": {
     "iopub.execute_input": "2023-05-24T01:14:54.566444Z",
     "iopub.status.busy": "2023-05-24T01:14:54.565870Z",
     "iopub.status.idle": "2023-05-24T01:14:54.574482Z",
     "shell.execute_reply": "2023-05-24T01:14:54.573542Z"
    },
    "papermill": {
     "duration": 0.030529,
     "end_time": "2023-05-24T01:14:54.576302",
     "exception": false,
     "start_time": "2023-05-24T01:14:54.545773",
     "status": "completed"
    },
    "tags": []
   },
   "outputs": [
    {
     "data": {
      "text/html": [
       "<div>\n",
       "<style scoped>\n",
       "    .dataframe tbody tr th:only-of-type {\n",
       "        vertical-align: middle;\n",
       "    }\n",
       "\n",
       "    .dataframe tbody tr th {\n",
       "        vertical-align: top;\n",
       "    }\n",
       "\n",
       "    .dataframe thead th {\n",
       "        text-align: right;\n",
       "    }\n",
       "</style>\n",
       "<table border=\"1\" class=\"dataframe\">\n",
       "  <thead>\n",
       "    <tr style=\"text-align: right;\">\n",
       "      <th></th>\n",
       "      <th>reviewer_score</th>\n",
       "      <th>id</th>\n",
       "    </tr>\n",
       "  </thead>\n",
       "  <tbody>\n",
       "    <tr>\n",
       "      <th>0</th>\n",
       "      <td>1</td>\n",
       "      <td>488440</td>\n",
       "    </tr>\n",
       "    <tr>\n",
       "      <th>1</th>\n",
       "      <td>10</td>\n",
       "      <td>274649</td>\n",
       "    </tr>\n",
       "  </tbody>\n",
       "</table>\n",
       "</div>"
      ],
      "text/plain": [
       "   reviewer_score      id\n",
       "0               1  488440\n",
       "1              10  274649"
      ]
     },
     "execution_count": 9,
     "metadata": {},
     "output_type": "execute_result"
    }
   ],
   "source": [
    "sample_submission.head(2)"
   ]
  },
  {
   "cell_type": "code",
   "execution_count": 10,
   "id": "ab6d4a1b",
   "metadata": {
    "execution": {
     "iopub.execute_input": "2023-05-24T01:14:54.616862Z",
     "iopub.status.busy": "2023-05-24T01:14:54.616524Z",
     "iopub.status.idle": "2023-05-24T01:14:54.625807Z",
     "shell.execute_reply": "2023-05-24T01:14:54.625065Z"
    },
    "papermill": {
     "duration": 0.031278,
     "end_time": "2023-05-24T01:14:54.627262",
     "exception": false,
     "start_time": "2023-05-24T01:14:54.595984",
     "status": "completed"
    },
    "tags": []
   },
   "outputs": [
    {
     "name": "stdout",
     "output_type": "stream",
     "text": [
      "<class 'pandas.core.frame.DataFrame'>\n",
      "RangeIndex: 128935 entries, 0 to 128934\n",
      "Data columns (total 2 columns):\n",
      " #   Column          Non-Null Count   Dtype\n",
      "---  ------          --------------   -----\n",
      " 0   reviewer_score  128935 non-null  int64\n",
      " 1   id              128935 non-null  int64\n",
      "dtypes: int64(2)\n",
      "memory usage: 2.0 MB\n"
     ]
    }
   ],
   "source": [
    "sample_submission.info()"
   ]
  },
  {
   "cell_type": "code",
   "execution_count": 11,
   "id": "88eeb673",
   "metadata": {
    "execution": {
     "iopub.execute_input": "2023-05-24T01:14:54.667756Z",
     "iopub.status.busy": "2023-05-24T01:14:54.667235Z",
     "iopub.status.idle": "2023-05-24T01:14:54.953790Z",
     "shell.execute_reply": "2023-05-24T01:14:54.952864Z"
    },
    "papermill": {
     "duration": 0.308969,
     "end_time": "2023-05-24T01:14:54.955880",
     "exception": false,
     "start_time": "2023-05-24T01:14:54.646911",
     "status": "completed"
    },
    "tags": []
   },
   "outputs": [],
   "source": [
    "# Для корректной обработки признаков объединяем train и test в один датасет\n",
    "\n",
    "df_train['sample'] = 1 # помечаем где у нас трейн\n",
    "df_test['sample'] = 0 # помечаем где у нас тест\n",
    "df_test['reviewer_score'] = 0 # в тесте у нас нет значения reviewer_score, мы его должны предсказать, поэтому пока просто заполняем нулями\n",
    "\n",
    "data = pd.concat([df_train, df_test]).reset_index(drop=True)"
   ]
  },
  {
   "attachments": {},
   "cell_type": "markdown",
   "id": "ea766660",
   "metadata": {
    "papermill": {
     "duration": 0.019036,
     "end_time": "2023-05-24T01:14:54.994682",
     "exception": false,
     "start_time": "2023-05-24T01:14:54.975646",
     "status": "completed"
    },
    "tags": []
   },
   "source": [
    "# Исследование структуры данных"
   ]
  },
  {
   "attachments": {},
   "cell_type": "markdown",
   "id": "b45ec906",
   "metadata": {
    "execution": {
     "iopub.execute_input": "2023-05-23T23:01:51.367905Z",
     "iopub.status.busy": "2023-05-23T23:01:51.367319Z",
     "iopub.status.idle": "2023-05-23T23:01:51.380091Z",
     "shell.execute_reply": "2023-05-23T23:01:51.377919Z",
     "shell.execute_reply.started": "2023-05-23T23:01:51.367862Z"
    },
    "papermill": {
     "duration": 0.019058,
     "end_time": "2023-05-24T01:14:55.032712",
     "exception": false,
     "start_time": "2023-05-24T01:14:55.013654",
     "status": "completed"
    },
    "tags": []
   },
   "source": [
    "Выведем датасет на экран:"
   ]
  },
  {
   "cell_type": "code",
   "execution_count": 12,
   "id": "0a261e29",
   "metadata": {
    "execution": {
     "iopub.execute_input": "2023-05-24T01:14:55.072796Z",
     "iopub.status.busy": "2023-05-24T01:14:55.072474Z",
     "iopub.status.idle": "2023-05-24T01:14:55.087046Z",
     "shell.execute_reply": "2023-05-24T01:14:55.086232Z"
    },
    "papermill": {
     "duration": 0.036605,
     "end_time": "2023-05-24T01:14:55.088662",
     "exception": false,
     "start_time": "2023-05-24T01:14:55.052057",
     "status": "completed"
    },
    "tags": []
   },
   "outputs": [
    {
     "data": {
      "text/html": [
       "<div>\n",
       "<style scoped>\n",
       "    .dataframe tbody tr th:only-of-type {\n",
       "        vertical-align: middle;\n",
       "    }\n",
       "\n",
       "    .dataframe tbody tr th {\n",
       "        vertical-align: top;\n",
       "    }\n",
       "\n",
       "    .dataframe thead th {\n",
       "        text-align: right;\n",
       "    }\n",
       "</style>\n",
       "<table border=\"1\" class=\"dataframe\">\n",
       "  <thead>\n",
       "    <tr style=\"text-align: right;\">\n",
       "      <th></th>\n",
       "      <th>hotel_address</th>\n",
       "      <th>additional_number_of_scoring</th>\n",
       "      <th>review_date</th>\n",
       "      <th>average_score</th>\n",
       "      <th>hotel_name</th>\n",
       "      <th>reviewer_nationality</th>\n",
       "      <th>negative_review</th>\n",
       "      <th>review_total_negative_word_counts</th>\n",
       "      <th>total_number_of_reviews</th>\n",
       "      <th>positive_review</th>\n",
       "      <th>review_total_positive_word_counts</th>\n",
       "      <th>total_number_of_reviews_reviewer_has_given</th>\n",
       "      <th>reviewer_score</th>\n",
       "      <th>tags</th>\n",
       "      <th>days_since_review</th>\n",
       "      <th>lat</th>\n",
       "      <th>lng</th>\n",
       "      <th>sample</th>\n",
       "    </tr>\n",
       "  </thead>\n",
       "  <tbody>\n",
       "    <tr>\n",
       "      <th>0</th>\n",
       "      <td>Stratton Street Mayfair Westminster Borough Lo...</td>\n",
       "      <td>581</td>\n",
       "      <td>2/19/2016</td>\n",
       "      <td>8.4</td>\n",
       "      <td>The May Fair Hotel</td>\n",
       "      <td>United Kingdom</td>\n",
       "      <td>Leaving</td>\n",
       "      <td>3</td>\n",
       "      <td>1994</td>\n",
       "      <td>Staff were amazing</td>\n",
       "      <td>4</td>\n",
       "      <td>7</td>\n",
       "      <td>10.0</td>\n",
       "      <td>[' Leisure trip ', ' Couple ', ' Studio Suite ...</td>\n",
       "      <td>531 day</td>\n",
       "      <td>51.507894</td>\n",
       "      <td>-0.143671</td>\n",
       "      <td>1</td>\n",
       "    </tr>\n",
       "    <tr>\n",
       "      <th>1</th>\n",
       "      <td>130 134 Southampton Row Camden London WC1B 5AF...</td>\n",
       "      <td>299</td>\n",
       "      <td>1/12/2017</td>\n",
       "      <td>8.3</td>\n",
       "      <td>Mercure London Bloomsbury Hotel</td>\n",
       "      <td>United Kingdom</td>\n",
       "      <td>poor breakfast</td>\n",
       "      <td>3</td>\n",
       "      <td>1361</td>\n",
       "      <td>location</td>\n",
       "      <td>2</td>\n",
       "      <td>14</td>\n",
       "      <td>6.3</td>\n",
       "      <td>[' Business trip ', ' Couple ', ' Standard Dou...</td>\n",
       "      <td>203 day</td>\n",
       "      <td>51.521009</td>\n",
       "      <td>-0.123097</td>\n",
       "      <td>1</td>\n",
       "    </tr>\n",
       "    <tr>\n",
       "      <th>2</th>\n",
       "      <td>151 bis Rue de Rennes 6th arr 75006 Paris France</td>\n",
       "      <td>32</td>\n",
       "      <td>10/18/2016</td>\n",
       "      <td>8.9</td>\n",
       "      <td>Legend Saint Germain by Elegancia</td>\n",
       "      <td>China</td>\n",
       "      <td>No kettle in room</td>\n",
       "      <td>6</td>\n",
       "      <td>406</td>\n",
       "      <td>No Positive</td>\n",
       "      <td>0</td>\n",
       "      <td>14</td>\n",
       "      <td>7.5</td>\n",
       "      <td>[' Leisure trip ', ' Solo traveler ', ' Modern...</td>\n",
       "      <td>289 day</td>\n",
       "      <td>48.845377</td>\n",
       "      <td>2.325643</td>\n",
       "      <td>1</td>\n",
       "    </tr>\n",
       "  </tbody>\n",
       "</table>\n",
       "</div>"
      ],
      "text/plain": [
       "                                       hotel_address  \\\n",
       "0  Stratton Street Mayfair Westminster Borough Lo...   \n",
       "1  130 134 Southampton Row Camden London WC1B 5AF...   \n",
       "2   151 bis Rue de Rennes 6th arr 75006 Paris France   \n",
       "\n",
       "   additional_number_of_scoring review_date  average_score  \\\n",
       "0                           581   2/19/2016            8.4   \n",
       "1                           299   1/12/2017            8.3   \n",
       "2                            32  10/18/2016            8.9   \n",
       "\n",
       "                          hotel_name reviewer_nationality  \\\n",
       "0                 The May Fair Hotel      United Kingdom    \n",
       "1    Mercure London Bloomsbury Hotel      United Kingdom    \n",
       "2  Legend Saint Germain by Elegancia               China    \n",
       "\n",
       "       negative_review  review_total_negative_word_counts  \\\n",
       "0             Leaving                                   3   \n",
       "1       poor breakfast                                  3   \n",
       "2   No kettle in room                                   6   \n",
       "\n",
       "   total_number_of_reviews      positive_review  \\\n",
       "0                     1994   Staff were amazing   \n",
       "1                     1361             location   \n",
       "2                      406          No Positive   \n",
       "\n",
       "   review_total_positive_word_counts  \\\n",
       "0                                  4   \n",
       "1                                  2   \n",
       "2                                  0   \n",
       "\n",
       "   total_number_of_reviews_reviewer_has_given  reviewer_score  \\\n",
       "0                                           7            10.0   \n",
       "1                                          14             6.3   \n",
       "2                                          14             7.5   \n",
       "\n",
       "                                                tags days_since_review  \\\n",
       "0  [' Leisure trip ', ' Couple ', ' Studio Suite ...           531 day   \n",
       "1  [' Business trip ', ' Couple ', ' Standard Dou...           203 day   \n",
       "2  [' Leisure trip ', ' Solo traveler ', ' Modern...           289 day   \n",
       "\n",
       "         lat       lng  sample  \n",
       "0  51.507894 -0.143671       1  \n",
       "1  51.521009 -0.123097       1  \n",
       "2  48.845377  2.325643       1  "
      ]
     },
     "execution_count": 12,
     "metadata": {},
     "output_type": "execute_result"
    }
   ],
   "source": [
    "data.head(3)"
   ]
  },
  {
   "attachments": {},
   "cell_type": "markdown",
   "id": "340f2a4e",
   "metadata": {
    "papermill": {
     "duration": 0.019572,
     "end_time": "2023-05-24T01:14:55.128490",
     "exception": false,
     "start_time": "2023-05-24T01:14:55.108918",
     "status": "completed"
    },
    "tags": []
   },
   "source": [
    "### Данные содержат следующие признаки:  \n",
    "\n",
    "`hotel_address ` - адрес отеля; \n",
    "\n",
    "`review_date` - дата, когда рецензент разместил соответствующий отзыв; \n",
    "\n",
    "`average_score` - средний балл отеля, рассчитанный на основе последнего комментария за последний год;  \n",
    "\n",
    "`hotel_name` - название отеля;  \n",
    "\n",
    "`reviewer_nationality` - национальность рецензента;  \n",
    "\n",
    "`negative_review` - отрицательный отзыв, который рецензент дал отелю;  \n",
    "\n",
    "`review_total_negative_word_counts` - общее количество слов в отрицательном отзыв;  \n",
    "\n",
    "`positive_review` - положительный отзыв, который рецензент дал отелю;  \n",
    "\n",
    "`review_total_positive_word_counts` - общее количество слов в положительном отзыве;  \n",
    "\n",
    "`reviewer_score` - оценка, которую рецензент поставил отелю на основе своего опыта;  \n",
    "\n",
    "`total_number_of_reviews_reviewer_has_given` - количество отзывов, которые рецензенты дали в прошлом;  \n",
    "\n",
    "`total_number_of_reviews` - общее количество действительных отзывов об отеле;  \n",
    "\n",
    "`tags` - теги, которые рецензент дал отелю;  \n",
    "\n",
    "`days_since_review` - продолжительность между датой проверки и датой очистки;  \n",
    "\n",
    "`additional_number_of_scoring` - есть также некоторые гости, которые просто поставили оценку сервису, а не оставили отзыв. Это число указывает, сколько там действительных оценок без проверки;  \n",
    "\n",
    "`lat` - широта отеля;  \n",
    "\n",
    "`lng` - долгота отеля"
   ]
  },
  {
   "attachments": {},
   "cell_type": "markdown",
   "id": "b6c1956f",
   "metadata": {
    "papermill": {
     "duration": 0.019395,
     "end_time": "2023-05-24T01:14:55.167490",
     "exception": false,
     "start_time": "2023-05-24T01:14:55.148095",
     "status": "completed"
    },
    "tags": []
   },
   "source": [
    "Посмотрим на представленные типы данных:"
   ]
  },
  {
   "cell_type": "code",
   "execution_count": 13,
   "id": "20b9d16e",
   "metadata": {
    "execution": {
     "iopub.execute_input": "2023-05-24T01:14:55.210987Z",
     "iopub.status.busy": "2023-05-24T01:14:55.210154Z",
     "iopub.status.idle": "2023-05-24T01:14:55.791033Z",
     "shell.execute_reply": "2023-05-24T01:14:55.790065Z"
    },
    "papermill": {
     "duration": 0.603762,
     "end_time": "2023-05-24T01:14:55.792804",
     "exception": false,
     "start_time": "2023-05-24T01:14:55.189042",
     "status": "completed"
    },
    "tags": []
   },
   "outputs": [
    {
     "name": "stdout",
     "output_type": "stream",
     "text": [
      "<class 'pandas.core.frame.DataFrame'>\n",
      "RangeIndex: 515738 entries, 0 to 515737\n",
      "Data columns (total 18 columns):\n",
      " #   Column                                      Non-Null Count   Dtype  \n",
      "---  ------                                      --------------   -----  \n",
      " 0   hotel_address                               515738 non-null  object \n",
      " 1   additional_number_of_scoring                515738 non-null  int64  \n",
      " 2   review_date                                 515738 non-null  object \n",
      " 3   average_score                               515738 non-null  float64\n",
      " 4   hotel_name                                  515738 non-null  object \n",
      " 5   reviewer_nationality                        515738 non-null  object \n",
      " 6   negative_review                             515738 non-null  object \n",
      " 7   review_total_negative_word_counts           515738 non-null  int64  \n",
      " 8   total_number_of_reviews                     515738 non-null  int64  \n",
      " 9   positive_review                             515738 non-null  object \n",
      " 10  review_total_positive_word_counts           515738 non-null  int64  \n",
      " 11  total_number_of_reviews_reviewer_has_given  515738 non-null  int64  \n",
      " 12  reviewer_score                              515738 non-null  float64\n",
      " 13  tags                                        515738 non-null  object \n",
      " 14  days_since_review                           515738 non-null  object \n",
      " 15  lat                                         512470 non-null  float64\n",
      " 16  lng                                         512470 non-null  float64\n",
      " 17  sample                                      515738 non-null  int64  \n",
      "dtypes: float64(4), int64(6), object(8)\n",
      "memory usage: 70.8+ MB\n"
     ]
    }
   ],
   "source": [
    "data.info()"
   ]
  },
  {
   "attachments": {},
   "cell_type": "markdown",
   "id": "aaf57e05",
   "metadata": {
    "papermill": {
     "duration": 0.018804,
     "end_time": "2023-05-24T01:14:55.831337",
     "exception": false,
     "start_time": "2023-05-24T01:14:55.812533",
     "status": "completed"
    },
    "tags": []
   },
   "source": [
    "В последних двух столбцах с координатами lat и lng обнаружены пропуски.  \n",
    "\n",
    "Выведем на экран описательную статистику по столбцам датафрейма:"
   ]
  },
  {
   "cell_type": "code",
   "execution_count": 14,
   "id": "f9e76d78",
   "metadata": {
    "execution": {
     "iopub.execute_input": "2023-05-24T01:14:55.870725Z",
     "iopub.status.busy": "2023-05-24T01:14:55.870448Z",
     "iopub.status.idle": "2023-05-24T01:14:56.030775Z",
     "shell.execute_reply": "2023-05-24T01:14:56.029903Z"
    },
    "papermill": {
     "duration": 0.182214,
     "end_time": "2023-05-24T01:14:56.032499",
     "exception": false,
     "start_time": "2023-05-24T01:14:55.850285",
     "status": "completed"
    },
    "tags": []
   },
   "outputs": [
    {
     "data": {
      "text/html": [
       "<div>\n",
       "<style scoped>\n",
       "    .dataframe tbody tr th:only-of-type {\n",
       "        vertical-align: middle;\n",
       "    }\n",
       "\n",
       "    .dataframe tbody tr th {\n",
       "        vertical-align: top;\n",
       "    }\n",
       "\n",
       "    .dataframe thead th {\n",
       "        text-align: right;\n",
       "    }\n",
       "</style>\n",
       "<table border=\"1\" class=\"dataframe\">\n",
       "  <thead>\n",
       "    <tr style=\"text-align: right;\">\n",
       "      <th></th>\n",
       "      <th>additional_number_of_scoring</th>\n",
       "      <th>average_score</th>\n",
       "      <th>review_total_negative_word_counts</th>\n",
       "      <th>total_number_of_reviews</th>\n",
       "      <th>review_total_positive_word_counts</th>\n",
       "      <th>total_number_of_reviews_reviewer_has_given</th>\n",
       "      <th>reviewer_score</th>\n",
       "      <th>lat</th>\n",
       "      <th>lng</th>\n",
       "      <th>sample</th>\n",
       "    </tr>\n",
       "  </thead>\n",
       "  <tbody>\n",
       "    <tr>\n",
       "      <th>count</th>\n",
       "      <td>515738.000000</td>\n",
       "      <td>515738.000000</td>\n",
       "      <td>515738.000000</td>\n",
       "      <td>515738.000000</td>\n",
       "      <td>515738.000000</td>\n",
       "      <td>515738.000000</td>\n",
       "      <td>515738.000000</td>\n",
       "      <td>512470.000000</td>\n",
       "      <td>512470.000000</td>\n",
       "      <td>515738.000000</td>\n",
       "    </tr>\n",
       "    <tr>\n",
       "      <th>mean</th>\n",
       "      <td>498.081836</td>\n",
       "      <td>8.397487</td>\n",
       "      <td>18.539450</td>\n",
       "      <td>2743.743944</td>\n",
       "      <td>17.776458</td>\n",
       "      <td>7.166001</td>\n",
       "      <td>6.297672</td>\n",
       "      <td>49.442439</td>\n",
       "      <td>2.823803</td>\n",
       "      <td>0.749999</td>\n",
       "    </tr>\n",
       "    <tr>\n",
       "      <th>std</th>\n",
       "      <td>500.538467</td>\n",
       "      <td>0.548048</td>\n",
       "      <td>29.690831</td>\n",
       "      <td>2317.464868</td>\n",
       "      <td>21.804185</td>\n",
       "      <td>11.040228</td>\n",
       "      <td>3.902295</td>\n",
       "      <td>3.466325</td>\n",
       "      <td>4.579425</td>\n",
       "      <td>0.433014</td>\n",
       "    </tr>\n",
       "    <tr>\n",
       "      <th>min</th>\n",
       "      <td>1.000000</td>\n",
       "      <td>5.200000</td>\n",
       "      <td>0.000000</td>\n",
       "      <td>43.000000</td>\n",
       "      <td>0.000000</td>\n",
       "      <td>1.000000</td>\n",
       "      <td>0.000000</td>\n",
       "      <td>41.328376</td>\n",
       "      <td>-0.369758</td>\n",
       "      <td>0.000000</td>\n",
       "    </tr>\n",
       "    <tr>\n",
       "      <th>25%</th>\n",
       "      <td>169.000000</td>\n",
       "      <td>8.100000</td>\n",
       "      <td>2.000000</td>\n",
       "      <td>1161.000000</td>\n",
       "      <td>5.000000</td>\n",
       "      <td>1.000000</td>\n",
       "      <td>0.625000</td>\n",
       "      <td>48.214662</td>\n",
       "      <td>-0.143372</td>\n",
       "      <td>0.250000</td>\n",
       "    </tr>\n",
       "    <tr>\n",
       "      <th>50%</th>\n",
       "      <td>341.000000</td>\n",
       "      <td>8.400000</td>\n",
       "      <td>9.000000</td>\n",
       "      <td>2134.000000</td>\n",
       "      <td>11.000000</td>\n",
       "      <td>3.000000</td>\n",
       "      <td>7.900000</td>\n",
       "      <td>51.499981</td>\n",
       "      <td>0.010607</td>\n",
       "      <td>1.000000</td>\n",
       "    </tr>\n",
       "    <tr>\n",
       "      <th>75%</th>\n",
       "      <td>660.000000</td>\n",
       "      <td>8.800000</td>\n",
       "      <td>23.000000</td>\n",
       "      <td>3613.000000</td>\n",
       "      <td>22.000000</td>\n",
       "      <td>8.000000</td>\n",
       "      <td>9.600000</td>\n",
       "      <td>51.516288</td>\n",
       "      <td>4.834443</td>\n",
       "      <td>1.000000</td>\n",
       "    </tr>\n",
       "    <tr>\n",
       "      <th>max</th>\n",
       "      <td>2682.000000</td>\n",
       "      <td>9.800000</td>\n",
       "      <td>408.000000</td>\n",
       "      <td>16670.000000</td>\n",
       "      <td>395.000000</td>\n",
       "      <td>355.000000</td>\n",
       "      <td>10.000000</td>\n",
       "      <td>52.400181</td>\n",
       "      <td>16.429233</td>\n",
       "      <td>1.000000</td>\n",
       "    </tr>\n",
       "  </tbody>\n",
       "</table>\n",
       "</div>"
      ],
      "text/plain": [
       "       additional_number_of_scoring  average_score  \\\n",
       "count                 515738.000000  515738.000000   \n",
       "mean                     498.081836       8.397487   \n",
       "std                      500.538467       0.548048   \n",
       "min                        1.000000       5.200000   \n",
       "25%                      169.000000       8.100000   \n",
       "50%                      341.000000       8.400000   \n",
       "75%                      660.000000       8.800000   \n",
       "max                     2682.000000       9.800000   \n",
       "\n",
       "       review_total_negative_word_counts  total_number_of_reviews  \\\n",
       "count                      515738.000000            515738.000000   \n",
       "mean                           18.539450              2743.743944   \n",
       "std                            29.690831              2317.464868   \n",
       "min                             0.000000                43.000000   \n",
       "25%                             2.000000              1161.000000   \n",
       "50%                             9.000000              2134.000000   \n",
       "75%                            23.000000              3613.000000   \n",
       "max                           408.000000             16670.000000   \n",
       "\n",
       "       review_total_positive_word_counts  \\\n",
       "count                      515738.000000   \n",
       "mean                           17.776458   \n",
       "std                            21.804185   \n",
       "min                             0.000000   \n",
       "25%                             5.000000   \n",
       "50%                            11.000000   \n",
       "75%                            22.000000   \n",
       "max                           395.000000   \n",
       "\n",
       "       total_number_of_reviews_reviewer_has_given  reviewer_score  \\\n",
       "count                               515738.000000   515738.000000   \n",
       "mean                                     7.166001        6.297672   \n",
       "std                                     11.040228        3.902295   \n",
       "min                                      1.000000        0.000000   \n",
       "25%                                      1.000000        0.625000   \n",
       "50%                                      3.000000        7.900000   \n",
       "75%                                      8.000000        9.600000   \n",
       "max                                    355.000000       10.000000   \n",
       "\n",
       "                 lat            lng         sample  \n",
       "count  512470.000000  512470.000000  515738.000000  \n",
       "mean       49.442439       2.823803       0.749999  \n",
       "std         3.466325       4.579425       0.433014  \n",
       "min        41.328376      -0.369758       0.000000  \n",
       "25%        48.214662      -0.143372       0.250000  \n",
       "50%        51.499981       0.010607       1.000000  \n",
       "75%        51.516288       4.834443       1.000000  \n",
       "max        52.400181      16.429233       1.000000  "
      ]
     },
     "execution_count": 14,
     "metadata": {},
     "output_type": "execute_result"
    }
   ],
   "source": [
    "data.describe()"
   ]
  },
  {
   "attachments": {},
   "cell_type": "markdown",
   "id": "f60d2bd7",
   "metadata": {
    "papermill": {
     "duration": 0.019392,
     "end_time": "2023-05-24T01:14:56.071774",
     "exception": false,
     "start_time": "2023-05-24T01:14:56.052382",
     "status": "completed"
    },
    "tags": []
   },
   "source": [
    "Теперь по строковым признакам:"
   ]
  },
  {
   "cell_type": "code",
   "execution_count": 15,
   "id": "59668cb2",
   "metadata": {
    "execution": {
     "iopub.execute_input": "2023-05-24T01:14:56.112317Z",
     "iopub.status.busy": "2023-05-24T01:14:56.111964Z",
     "iopub.status.idle": "2023-05-24T01:14:57.205861Z",
     "shell.execute_reply": "2023-05-24T01:14:57.204998Z"
    },
    "papermill": {
     "duration": 1.116227,
     "end_time": "2023-05-24T01:14:57.207607",
     "exception": false,
     "start_time": "2023-05-24T01:14:56.091380",
     "status": "completed"
    },
    "tags": []
   },
   "outputs": [
    {
     "data": {
      "text/html": [
       "<div>\n",
       "<style scoped>\n",
       "    .dataframe tbody tr th:only-of-type {\n",
       "        vertical-align: middle;\n",
       "    }\n",
       "\n",
       "    .dataframe tbody tr th {\n",
       "        vertical-align: top;\n",
       "    }\n",
       "\n",
       "    .dataframe thead th {\n",
       "        text-align: right;\n",
       "    }\n",
       "</style>\n",
       "<table border=\"1\" class=\"dataframe\">\n",
       "  <thead>\n",
       "    <tr style=\"text-align: right;\">\n",
       "      <th></th>\n",
       "      <th>hotel_address</th>\n",
       "      <th>review_date</th>\n",
       "      <th>hotel_name</th>\n",
       "      <th>reviewer_nationality</th>\n",
       "      <th>negative_review</th>\n",
       "      <th>positive_review</th>\n",
       "      <th>tags</th>\n",
       "      <th>days_since_review</th>\n",
       "    </tr>\n",
       "  </thead>\n",
       "  <tbody>\n",
       "    <tr>\n",
       "      <th>count</th>\n",
       "      <td>515738</td>\n",
       "      <td>515738</td>\n",
       "      <td>515738</td>\n",
       "      <td>515738</td>\n",
       "      <td>515738</td>\n",
       "      <td>515738</td>\n",
       "      <td>515738</td>\n",
       "      <td>515738</td>\n",
       "    </tr>\n",
       "    <tr>\n",
       "      <th>unique</th>\n",
       "      <td>1493</td>\n",
       "      <td>731</td>\n",
       "      <td>1492</td>\n",
       "      <td>227</td>\n",
       "      <td>330011</td>\n",
       "      <td>412601</td>\n",
       "      <td>55242</td>\n",
       "      <td>731</td>\n",
       "    </tr>\n",
       "    <tr>\n",
       "      <th>top</th>\n",
       "      <td>163 Marsh Wall Docklands Tower Hamlets London ...</td>\n",
       "      <td>8/2/2017</td>\n",
       "      <td>Britannia International Hotel Canary Wharf</td>\n",
       "      <td>United Kingdom</td>\n",
       "      <td>No Negative</td>\n",
       "      <td>No Positive</td>\n",
       "      <td>[' Leisure trip ', ' Couple ', ' Double Room '...</td>\n",
       "      <td>1 days</td>\n",
       "    </tr>\n",
       "    <tr>\n",
       "      <th>freq</th>\n",
       "      <td>4789</td>\n",
       "      <td>2585</td>\n",
       "      <td>4789</td>\n",
       "      <td>245246</td>\n",
       "      <td>127890</td>\n",
       "      <td>35946</td>\n",
       "      <td>5101</td>\n",
       "      <td>2585</td>\n",
       "    </tr>\n",
       "  </tbody>\n",
       "</table>\n",
       "</div>"
      ],
      "text/plain": [
       "                                            hotel_address review_date  \\\n",
       "count                                              515738      515738   \n",
       "unique                                               1493         731   \n",
       "top     163 Marsh Wall Docklands Tower Hamlets London ...    8/2/2017   \n",
       "freq                                                 4789        2585   \n",
       "\n",
       "                                        hotel_name reviewer_nationality  \\\n",
       "count                                       515738               515738   \n",
       "unique                                        1492                  227   \n",
       "top     Britannia International Hotel Canary Wharf      United Kingdom    \n",
       "freq                                          4789               245246   \n",
       "\n",
       "       negative_review positive_review  \\\n",
       "count           515738          515738   \n",
       "unique          330011          412601   \n",
       "top        No Negative     No Positive   \n",
       "freq            127890           35946   \n",
       "\n",
       "                                                     tags days_since_review  \n",
       "count                                              515738            515738  \n",
       "unique                                              55242               731  \n",
       "top     [' Leisure trip ', ' Couple ', ' Double Room '...            1 days  \n",
       "freq                                                 5101              2585  "
      ]
     },
     "execution_count": 15,
     "metadata": {},
     "output_type": "execute_result"
    }
   ],
   "source": [
    "data.describe(include=['object'])"
   ]
  },
  {
   "attachments": {},
   "cell_type": "markdown",
   "id": "9e073de1",
   "metadata": {
    "execution": {
     "iopub.execute_input": "2023-05-23T23:10:13.423847Z",
     "iopub.status.busy": "2023-05-23T23:10:13.423395Z",
     "iopub.status.idle": "2023-05-23T23:10:13.432780Z",
     "shell.execute_reply": "2023-05-23T23:10:13.430363Z",
     "shell.execute_reply.started": "2023-05-23T23:10:13.423810Z"
    },
    "papermill": {
     "duration": 0.020311,
     "end_time": "2023-05-24T01:14:57.248892",
     "exception": false,
     "start_time": "2023-05-24T01:14:57.228581",
     "status": "completed"
    },
    "tags": []
   },
   "source": [
    "На первый взгляд, какие либо аномальные значения не выделяются из всего датафрейма.\n",
    "\n",
    "Изучим распределение в представленных данных:"
   ]
  },
  {
   "cell_type": "code",
   "execution_count": 16,
   "id": "e568648b",
   "metadata": {
    "execution": {
     "iopub.execute_input": "2023-05-24T01:14:57.291570Z",
     "iopub.status.busy": "2023-05-24T01:14:57.291270Z",
     "iopub.status.idle": "2023-05-24T01:14:59.039153Z",
     "shell.execute_reply": "2023-05-24T01:14:59.038528Z"
    },
    "papermill": {
     "duration": 1.771596,
     "end_time": "2023-05-24T01:14:59.040859",
     "exception": false,
     "start_time": "2023-05-24T01:14:57.269263",
     "status": "completed"
    },
    "tags": []
   },
   "outputs": [
    {
     "data": {
      "image/png": "[encoded data removed]",
      "text/plain": [
       "<Figure size 1800x1200 with 12 Axes>"
      ]
     },
     "metadata": {},
     "output_type": "display_data"
    }
   ],
   "source": [
    "data.hist(figsize=(18,12));"
   ]
  },
  {
   "attachments": {},
   "cell_type": "markdown",
   "id": "92a1010c",
   "metadata": {
    "papermill": {
     "duration": 0.022951,
     "end_time": "2023-05-24T01:14:59.086068",
     "exception": false,
     "start_time": "2023-05-24T01:14:59.063117",
     "status": "completed"
    },
    "tags": []
   },
   "source": [
    "Ни один из признаков внешне не напоминает распределение Гаусса. **Распределение некоторых признаков похоже на логнормальное**."
   ]
  },
  {
   "attachments": {},
   "cell_type": "markdown",
   "id": "c703c01a",
   "metadata": {
    "papermill": {
     "duration": 0.021943,
     "end_time": "2023-05-24T01:14:59.130448",
     "exception": false,
     "start_time": "2023-05-24T01:14:59.108505",
     "status": "completed"
    },
    "tags": []
   },
   "source": [
    "# Преобразование данных"
   ]
  },
  {
   "attachments": {},
   "cell_type": "markdown",
   "id": "c07317fe",
   "metadata": {
    "papermill": {
     "duration": 0.021908,
     "end_time": "2023-05-24T01:14:59.174622",
     "exception": false,
     "start_time": "2023-05-24T01:14:59.152714",
     "status": "completed"
    },
    "tags": []
   },
   "source": [
    "Начнем наши манипуляции с данными с признака адреса отеля. Данный признак содержит в себе множество информации, такой как:  \n",
    "- страна\n",
    "- город\n",
    "- район\n",
    "- почтовый индекс\n",
    "- название улицы\n",
    "- номер здания"
   ]
  },
  {
   "cell_type": "code",
   "execution_count": 17,
   "id": "81be045c",
   "metadata": {
    "execution": {
     "iopub.execute_input": "2023-05-24T01:14:59.219272Z",
     "iopub.status.busy": "2023-05-24T01:14:59.218693Z",
     "iopub.status.idle": "2023-05-24T01:14:59.262515Z",
     "shell.execute_reply": "2023-05-24T01:14:59.261686Z"
    },
    "papermill": {
     "duration": 0.068148,
     "end_time": "2023-05-24T01:14:59.264303",
     "exception": false,
     "start_time": "2023-05-24T01:14:59.196155",
     "status": "completed"
    },
    "tags": []
   },
   "outputs": [
    {
     "data": {
      "text/plain": [
       "163 Marsh Wall Docklands Tower Hamlets London E14 9SJ United Kingdom              4789\n",
       "372 Strand Westminster Borough London WC2R 0JJ United Kingdom                     4256\n",
       "Westminster Bridge Road Lambeth London SE1 7UT United Kingdom                     4169\n",
       "Scarsdale Place Kensington Kensington and Chelsea London W8 5SY United Kingdom    3578\n",
       "7 Pepys Street City of London London EC3N 4AF United Kingdom                      3212\n",
       "                                                                                  ... \n",
       "Via Palmanova 153 20132 Milan Italy                                                 12\n",
       "21 rue Lavoisier 8th arr 75008 Paris France                                         12\n",
       "Via M Buonarroti 13 Fiera Milano City 20149 Milan Italy                             10\n",
       "13 Rue Fran ois Ory 92120 Paris France                                              10\n",
       "Johann Staud Stra e 32 16 Ottakring 1160 Vienna Austria                              8\n",
       "Name: hotel_address, Length: 1493, dtype: int64"
      ]
     },
     "execution_count": 17,
     "metadata": {},
     "output_type": "execute_result"
    }
   ],
   "source": [
    "data['hotel_address'].value_counts()"
   ]
  },
  {
   "attachments": {},
   "cell_type": "markdown",
   "id": "fe3d2af7",
   "metadata": {
    "papermill": {
     "duration": 0.021845,
     "end_time": "2023-05-24T01:14:59.307956",
     "exception": false,
     "start_time": "2023-05-24T01:14:59.286111",
     "status": "completed"
    },
    "tags": []
   },
   "source": [
    "Всю эту информацию можно извлечь и разместить в новых признаках, но мы возьмем только самую необходимую.  \n",
    "\n",
    "Начнем извлечение **со страны и города, где располагается отель**.   \n",
    "\n",
    "Из адресов некоторых отелей можно обнаружить, что одна из стран имеет составное название - это Великобритания (United Kingdom):"
   ]
  },
  {
   "cell_type": "code",
   "execution_count": 18,
   "id": "194e0ec0",
   "metadata": {
    "execution": {
     "iopub.execute_input": "2023-05-24T01:14:59.353925Z",
     "iopub.status.busy": "2023-05-24T01:14:59.353623Z",
     "iopub.status.idle": "2023-05-24T01:14:59.359303Z",
     "shell.execute_reply": "2023-05-24T01:14:59.358100Z"
    },
    "papermill": {
     "duration": 0.030653,
     "end_time": "2023-05-24T01:14:59.360949",
     "exception": false,
     "start_time": "2023-05-24T01:14:59.330296",
     "status": "completed"
    },
    "tags": []
   },
   "outputs": [
    {
     "name": "stdout",
     "output_type": "stream",
     "text": [
      "Stratton Street Mayfair Westminster Borough London W1J 8LT United Kingdom\n",
      "Putget 68 Sarri St Gervasi 08023 Barcelona Spain\n",
      "50 rue des Bernardins 5th arr 75005 Paris France\n"
     ]
    }
   ],
   "source": [
    "print(data['hotel_address'].iloc[0])\n",
    "print(data['hotel_address'].iloc[14])\n",
    "print(data['hotel_address'].iloc[158])"
   ]
  },
  {
   "attachments": {},
   "cell_type": "markdown",
   "id": "f441aba8",
   "metadata": {
    "papermill": {
     "duration": 0.021726,
     "end_time": "2023-05-24T01:14:59.404568",
     "exception": false,
     "start_time": "2023-05-24T01:14:59.382842",
     "status": "completed"
    },
    "tags": []
   },
   "source": [
    "Учтем это при написании пользовательских функций:"
   ]
  },
  {
   "cell_type": "code",
   "execution_count": 19,
   "id": "3e181a00",
   "metadata": {
    "execution": {
     "iopub.execute_input": "2023-05-24T01:14:59.449003Z",
     "iopub.status.busy": "2023-05-24T01:14:59.448459Z",
     "iopub.status.idle": "2023-05-24T01:14:59.453841Z",
     "shell.execute_reply": "2023-05-24T01:14:59.453266Z"
    },
    "papermill": {
     "duration": 0.029233,
     "end_time": "2023-05-24T01:14:59.455377",
     "exception": false,
     "start_time": "2023-05-24T01:14:59.426144",
     "status": "completed"
    },
    "tags": []
   },
   "outputs": [],
   "source": [
    "def get_country(value):\n",
    "    \"\"\"Извлекает страну, в которой находится отель\n",
    "    \n",
    "    Args: \n",
    "        str: текстовое значение признака\n",
    "        \n",
    "    Returns:\n",
    "        str: очищенная строка в виде страны\n",
    "    \"\"\"\n",
    "    result = value.split()\n",
    "    if 'Kingdom' in value:\n",
    "        return ' '.join(result[-2:])\n",
    "    else:\n",
    "        return str(result[-1])\n",
    "    \n",
    "\n",
    "def get_city(value):\n",
    "    \"\"\"Извлекает город, в котором расположен отель\n",
    "    \n",
    "    Args:\n",
    "        str: текстовое значение признака\n",
    "        \n",
    "    Returns:\n",
    "        str: очищенная строка в виде города\n",
    "    \"\"\"        \n",
    "    result = value.split()\n",
    "    if 'Kingdom' in value:\n",
    "        return ''.join(result[-5])\n",
    "    else:\n",
    "        return str(result[-2])"
   ]
  },
  {
   "attachments": {},
   "cell_type": "markdown",
   "id": "f6033b65",
   "metadata": {
    "papermill": {
     "duration": 0.021635,
     "end_time": "2023-05-24T01:14:59.498443",
     "exception": false,
     "start_time": "2023-05-24T01:14:59.476808",
     "status": "completed"
    },
    "tags": []
   },
   "source": [
    "Применим функции к исходному столбцу с адресом отеля и сгенерируем два новых признака:"
   ]
  },
  {
   "cell_type": "code",
   "execution_count": 20,
   "id": "d8ebae29",
   "metadata": {
    "execution": {
     "iopub.execute_input": "2023-05-24T01:14:59.543602Z",
     "iopub.status.busy": "2023-05-24T01:14:59.543101Z",
     "iopub.status.idle": "2023-05-24T01:15:00.469268Z",
     "shell.execute_reply": "2023-05-24T01:15:00.468246Z"
    },
    "papermill": {
     "duration": 0.951226,
     "end_time": "2023-05-24T01:15:00.471326",
     "exception": false,
     "start_time": "2023-05-24T01:14:59.520100",
     "status": "completed"
    },
    "tags": []
   },
   "outputs": [],
   "source": [
    "# создаем признаки страны и города\n",
    "data['hotel_country'] = data['hotel_address'].apply(get_country)\n",
    "data['hotel_city'] = data['hotel_address'].apply(get_city)\n",
    "\n",
    "# удаляем исходный признак\n",
    "data = data.drop(['hotel_address'], axis=1)"
   ]
  },
  {
   "attachments": {},
   "cell_type": "markdown",
   "id": "8d5ef434",
   "metadata": {
    "papermill": {
     "duration": 0.021949,
     "end_time": "2023-05-24T01:15:00.515447",
     "exception": false,
     "start_time": "2023-05-24T01:15:00.493498",
     "status": "completed"
    },
    "tags": []
   },
   "source": [
    "Посмотрим, что у нас получилось:"
   ]
  },
  {
   "cell_type": "code",
   "execution_count": 21,
   "id": "1d419ec6",
   "metadata": {
    "execution": {
     "iopub.execute_input": "2023-05-24T01:15:00.560716Z",
     "iopub.status.busy": "2023-05-24T01:15:00.560383Z",
     "iopub.status.idle": "2023-05-24T01:15:01.316497Z",
     "shell.execute_reply": "2023-05-24T01:15:01.315456Z"
    },
    "papermill": {
     "duration": 0.780847,
     "end_time": "2023-05-24T01:15:01.318669",
     "exception": false,
     "start_time": "2023-05-24T01:15:00.537822",
     "status": "completed"
    },
    "tags": []
   },
   "outputs": [
    {
     "data": {
      "image/png": "[encoded data removed]",
      "text/plain": [
       "<Figure size 1200x400 with 2 Axes>"
      ]
     },
     "metadata": {},
     "output_type": "display_data"
    }
   ],
   "source": [
    "fig, ax = plt.subplots(nrows=1, ncols=2, figsize=(12, 4))\n",
    "\n",
    "# распределение по странам\n",
    "sns.countplot(x='hotel_country', data=data, ax=ax[0])\n",
    "ax[0].set_title('Распределение отелей по странам')\n",
    "ax[0].set_xlabel('Country')\n",
    "\n",
    "# распределение по городам\n",
    "sns.countplot(x='hotel_city', data=data, ax=ax[1])\n",
    "ax[1].set_title('Распределение отелей по городам')\n",
    "\n",
    "# настройка отображения меток и подписей осей\n",
    "ax[0].set_ylabel('')\n",
    "ax[0].tick_params(axis='x', rotation=90)\n",
    "\n",
    "ax[1].set_ylabel('')\n",
    "ax[1].tick_params(axis='x', rotation=90)\n",
    "ax[1].set_xlabel('City', labelpad=30)\n",
    "\n",
    "plt.show();"
   ]
  },
  {
   "attachments": {},
   "cell_type": "markdown",
   "id": "6dc31302",
   "metadata": {
    "papermill": {
     "duration": 0.022404,
     "end_time": "2023-05-24T01:15:01.364155",
     "exception": false,
     "start_time": "2023-05-24T01:15:01.341751",
     "status": "completed"
    },
    "tags": []
   },
   "source": [
    "6 стран, 6 городов с явным преобладанием британских отелей.\n",
    "\n",
    "Теперь вернемся к признакам координат. Опытным путем можно обнаружить, что заполнение данных признаков медианой дает наилучший результат. Именно этим способом и воспользуемся:"
   ]
  },
  {
   "cell_type": "code",
   "execution_count": 22,
   "id": "ade99d91",
   "metadata": {
    "execution": {
     "iopub.execute_input": "2023-05-24T01:15:01.411021Z",
     "iopub.status.busy": "2023-05-24T01:15:01.410739Z",
     "iopub.status.idle": "2023-05-24T01:15:01.438862Z",
     "shell.execute_reply": "2023-05-24T01:15:01.438129Z"
    },
    "papermill": {
     "duration": 0.053671,
     "end_time": "2023-05-24T01:15:01.440856",
     "exception": false,
     "start_time": "2023-05-24T01:15:01.387185",
     "status": "completed"
    },
    "tags": []
   },
   "outputs": [],
   "source": [
    "lat_median = data['lat'].median()\n",
    "lng_median = data['lng'].median()\n",
    "\n",
    "# заполняем пропуски в признаках медианным значением\n",
    "data['lat'] = data['lat'].fillna(lat_median)\n",
    "data['lng'] = data['lng'].fillna(lng_median)"
   ]
  },
  {
   "attachments": {},
   "cell_type": "markdown",
   "id": "f97c4dea",
   "metadata": {
    "papermill": {
     "duration": 0.021647,
     "end_time": "2023-05-24T01:15:01.484901",
     "exception": false,
     "start_time": "2023-05-24T01:15:01.463254",
     "status": "completed"
    },
    "tags": []
   },
   "source": [
    "**Примечание:** *я попробовал построчно выявить, в каких городах чаще всего координаты отелей остаются незаполненными. Это оказались Вена, Париж и Барселона. К сожалению, не удалось реализовать заполнение с помощью геокодера и библиотеки Nominatim в связи с отключенным сервером. При этом, работая в Colab, запрос выполняется и реализуется заполнение согласно переданному признаку адреса отеля. Возможно, это связано с тем, что код пишется в локальном Jupyter. Реализация через словарь с переданными в него координатами городов и последующим заполнением через функцию тоже не улучшило финальную метрику. Поэтому я остановился на первоначальном варианте меры центральной тенденции - медиане.*"
   ]
  },
  {
   "cell_type": "code",
   "execution_count": 23,
   "id": "f322bdf9",
   "metadata": {
    "execution": {
     "iopub.execute_input": "2023-05-24T01:15:01.531017Z",
     "iopub.status.busy": "2023-05-24T01:15:01.530686Z",
     "iopub.status.idle": "2023-05-24T01:15:01.546355Z",
     "shell.execute_reply": "2023-05-24T01:15:01.545572Z"
    },
    "papermill": {
     "duration": 0.040899,
     "end_time": "2023-05-24T01:15:01.548139",
     "exception": false,
     "start_time": "2023-05-24T01:15:01.507240",
     "status": "completed"
    },
    "tags": []
   },
   "outputs": [
    {
     "data": {
      "text/html": [
       "<div>\n",
       "<style scoped>\n",
       "    .dataframe tbody tr th:only-of-type {\n",
       "        vertical-align: middle;\n",
       "    }\n",
       "\n",
       "    .dataframe tbody tr th {\n",
       "        vertical-align: top;\n",
       "    }\n",
       "\n",
       "    .dataframe thead th {\n",
       "        text-align: right;\n",
       "    }\n",
       "</style>\n",
       "<table border=\"1\" class=\"dataframe\">\n",
       "  <thead>\n",
       "    <tr style=\"text-align: right;\">\n",
       "      <th></th>\n",
       "      <th>additional_number_of_scoring</th>\n",
       "      <th>review_date</th>\n",
       "      <th>average_score</th>\n",
       "      <th>hotel_name</th>\n",
       "      <th>reviewer_nationality</th>\n",
       "      <th>negative_review</th>\n",
       "      <th>review_total_negative_word_counts</th>\n",
       "      <th>total_number_of_reviews</th>\n",
       "      <th>positive_review</th>\n",
       "      <th>review_total_positive_word_counts</th>\n",
       "      <th>total_number_of_reviews_reviewer_has_given</th>\n",
       "      <th>reviewer_score</th>\n",
       "      <th>tags</th>\n",
       "      <th>days_since_review</th>\n",
       "      <th>lat</th>\n",
       "      <th>lng</th>\n",
       "      <th>sample</th>\n",
       "      <th>hotel_country</th>\n",
       "      <th>hotel_city</th>\n",
       "    </tr>\n",
       "  </thead>\n",
       "  <tbody>\n",
       "    <tr>\n",
       "      <th>0</th>\n",
       "      <td>581</td>\n",
       "      <td>2/19/2016</td>\n",
       "      <td>8.4</td>\n",
       "      <td>The May Fair Hotel</td>\n",
       "      <td>United Kingdom</td>\n",
       "      <td>Leaving</td>\n",
       "      <td>3</td>\n",
       "      <td>1994</td>\n",
       "      <td>Staff were amazing</td>\n",
       "      <td>4</td>\n",
       "      <td>7</td>\n",
       "      <td>10.0</td>\n",
       "      <td>[' Leisure trip ', ' Couple ', ' Studio Suite ...</td>\n",
       "      <td>531 day</td>\n",
       "      <td>51.507894</td>\n",
       "      <td>-0.143671</td>\n",
       "      <td>1</td>\n",
       "      <td>United Kingdom</td>\n",
       "      <td>London</td>\n",
       "    </tr>\n",
       "    <tr>\n",
       "      <th>1</th>\n",
       "      <td>299</td>\n",
       "      <td>1/12/2017</td>\n",
       "      <td>8.3</td>\n",
       "      <td>Mercure London Bloomsbury Hotel</td>\n",
       "      <td>United Kingdom</td>\n",
       "      <td>poor breakfast</td>\n",
       "      <td>3</td>\n",
       "      <td>1361</td>\n",
       "      <td>location</td>\n",
       "      <td>2</td>\n",
       "      <td>14</td>\n",
       "      <td>6.3</td>\n",
       "      <td>[' Business trip ', ' Couple ', ' Standard Dou...</td>\n",
       "      <td>203 day</td>\n",
       "      <td>51.521009</td>\n",
       "      <td>-0.123097</td>\n",
       "      <td>1</td>\n",
       "      <td>United Kingdom</td>\n",
       "      <td>London</td>\n",
       "    </tr>\n",
       "    <tr>\n",
       "      <th>2</th>\n",
       "      <td>32</td>\n",
       "      <td>10/18/2016</td>\n",
       "      <td>8.9</td>\n",
       "      <td>Legend Saint Germain by Elegancia</td>\n",
       "      <td>China</td>\n",
       "      <td>No kettle in room</td>\n",
       "      <td>6</td>\n",
       "      <td>406</td>\n",
       "      <td>No Positive</td>\n",
       "      <td>0</td>\n",
       "      <td>14</td>\n",
       "      <td>7.5</td>\n",
       "      <td>[' Leisure trip ', ' Solo traveler ', ' Modern...</td>\n",
       "      <td>289 day</td>\n",
       "      <td>48.845377</td>\n",
       "      <td>2.325643</td>\n",
       "      <td>1</td>\n",
       "      <td>France</td>\n",
       "      <td>Paris</td>\n",
       "    </tr>\n",
       "  </tbody>\n",
       "</table>\n",
       "</div>"
      ],
      "text/plain": [
       "   additional_number_of_scoring review_date  average_score  \\\n",
       "0                           581   2/19/2016            8.4   \n",
       "1                           299   1/12/2017            8.3   \n",
       "2                            32  10/18/2016            8.9   \n",
       "\n",
       "                          hotel_name reviewer_nationality  \\\n",
       "0                 The May Fair Hotel      United Kingdom    \n",
       "1    Mercure London Bloomsbury Hotel      United Kingdom    \n",
       "2  Legend Saint Germain by Elegancia               China    \n",
       "\n",
       "       negative_review  review_total_negative_word_counts  \\\n",
       "0             Leaving                                   3   \n",
       "1       poor breakfast                                  3   \n",
       "2   No kettle in room                                   6   \n",
       "\n",
       "   total_number_of_reviews      positive_review  \\\n",
       "0                     1994   Staff were amazing   \n",
       "1                     1361             location   \n",
       "2                      406          No Positive   \n",
       "\n",
       "   review_total_positive_word_counts  \\\n",
       "0                                  4   \n",
       "1                                  2   \n",
       "2                                  0   \n",
       "\n",
       "   total_number_of_reviews_reviewer_has_given  reviewer_score  \\\n",
       "0                                           7            10.0   \n",
       "1                                          14             6.3   \n",
       "2                                          14             7.5   \n",
       "\n",
       "                                                tags days_since_review  \\\n",
       "0  [' Leisure trip ', ' Couple ', ' Studio Suite ...           531 day   \n",
       "1  [' Business trip ', ' Couple ', ' Standard Dou...           203 day   \n",
       "2  [' Leisure trip ', ' Solo traveler ', ' Modern...           289 day   \n",
       "\n",
       "         lat       lng  sample   hotel_country hotel_city  \n",
       "0  51.507894 -0.143671       1  United Kingdom     London  \n",
       "1  51.521009 -0.123097       1  United Kingdom     London  \n",
       "2  48.845377  2.325643       1          France      Paris  "
      ]
     },
     "execution_count": 23,
     "metadata": {},
     "output_type": "execute_result"
    }
   ],
   "source": [
    "data.head(3)"
   ]
  },
  {
   "attachments": {},
   "cell_type": "markdown",
   "id": "fc6c00ca",
   "metadata": {
    "papermill": {
     "duration": 0.022057,
     "end_time": "2023-05-24T01:15:01.592560",
     "exception": false,
     "start_time": "2023-05-24T01:15:01.570503",
     "status": "completed"
    },
    "tags": []
   },
   "source": [
    "Итак мы выделили страну и город, в которых находятся отели. В нашем датасете есть также отдельный признак с национальностями ревьюеров. Давайте свяжем эти два признака вместе и создадим столбец - индикатор, где 0 будет сигнализировать о том, что ревьюер является иностранцем, а 1 - соотечественником:"
   ]
  },
  {
   "cell_type": "code",
   "execution_count": 24,
   "id": "c73362ee",
   "metadata": {
    "execution": {
     "iopub.execute_input": "2023-05-24T01:15:01.637910Z",
     "iopub.status.busy": "2023-05-24T01:15:01.637589Z",
     "iopub.status.idle": "2023-05-24T01:15:01.808173Z",
     "shell.execute_reply": "2023-05-24T01:15:01.807414Z"
    },
    "papermill": {
     "duration": 0.195807,
     "end_time": "2023-05-24T01:15:01.810362",
     "exception": false,
     "start_time": "2023-05-24T01:15:01.614555",
     "status": "completed"
    },
    "tags": []
   },
   "outputs": [],
   "source": [
    "# очистим признак от пробелов\n",
    "data['reviewer_nationality'] = data['reviewer_nationality'].apply(lambda x: x.strip())\n",
    "\n",
    "data['foreigner'] = np.where(data['hotel_country'] == data['reviewer_nationality'], 1, 0)"
   ]
  },
  {
   "attachments": {},
   "cell_type": "markdown",
   "id": "070d536a",
   "metadata": {
    "papermill": {
     "duration": 0.021855,
     "end_time": "2023-05-24T01:15:01.854629",
     "exception": false,
     "start_time": "2023-05-24T01:15:01.832774",
     "status": "completed"
    },
    "tags": []
   },
   "source": [
    "Давайте взглянем, насколько многонационален контингент в представленных отелях:"
   ]
  },
  {
   "cell_type": "code",
   "execution_count": 25,
   "id": "52fb339a",
   "metadata": {
    "execution": {
     "iopub.execute_input": "2023-05-24T01:15:01.900027Z",
     "iopub.status.busy": "2023-05-24T01:15:01.899716Z",
     "iopub.status.idle": "2023-05-24T01:15:01.938939Z",
     "shell.execute_reply": "2023-05-24T01:15:01.938146Z"
    },
    "papermill": {
     "duration": 0.064094,
     "end_time": "2023-05-24T01:15:01.940831",
     "exception": false,
     "start_time": "2023-05-24T01:15:01.876737",
     "status": "completed"
    },
    "tags": []
   },
   "outputs": [
    {
     "name": "stdout",
     "output_type": "stream",
     "text": [
      "Кол-во национальностей: 227\n"
     ]
    }
   ],
   "source": [
    "print(f\"Кол-во национальностей: {data['reviewer_nationality'].nunique()}\")"
   ]
  },
  {
   "attachments": {},
   "cell_type": "markdown",
   "id": "046a458f",
   "metadata": {
    "execution": {
     "iopub.execute_input": "2023-05-23T23:24:29.369027Z",
     "iopub.status.busy": "2023-05-23T23:24:29.368592Z",
     "iopub.status.idle": "2023-05-23T23:24:29.378480Z",
     "shell.execute_reply": "2023-05-23T23:24:29.376544Z",
     "shell.execute_reply.started": "2023-05-23T23:24:29.368997Z"
    },
    "papermill": {
     "duration": 0.022421,
     "end_time": "2023-05-24T01:15:01.986087",
     "exception": false,
     "start_time": "2023-05-24T01:15:01.963666",
     "status": "completed"
    },
    "tags": []
   },
   "source": [
    "Слишком много категорий. Сузим их до 20 самых популярных, остальные попадут в категорию other:"
   ]
  },
  {
   "cell_type": "code",
   "execution_count": 26,
   "id": "5524c53c",
   "metadata": {
    "execution": {
     "iopub.execute_input": "2023-05-24T01:15:02.031148Z",
     "iopub.status.busy": "2023-05-24T01:15:02.030847Z",
     "iopub.status.idle": "2023-05-24T01:15:02.491686Z",
     "shell.execute_reply": "2023-05-24T01:15:02.490744Z"
    },
    "papermill": {
     "duration": 0.485956,
     "end_time": "2023-05-24T01:15:02.493838",
     "exception": false,
     "start_time": "2023-05-24T01:15:02.007882",
     "status": "completed"
    },
    "tags": []
   },
   "outputs": [],
   "source": [
    "top_natio = data['reviewer_nationality'].value_counts().nlargest(20).index\n",
    "data['reviewer_nationality'] = data['reviewer_nationality'].apply(lambda x: x if x in top_natio else 'Other')"
   ]
  },
  {
   "attachments": {},
   "cell_type": "markdown",
   "id": "55e5f966",
   "metadata": {
    "papermill": {
     "duration": 0.021813,
     "end_time": "2023-05-24T01:15:02.538279",
     "exception": false,
     "start_time": "2023-05-24T01:15:02.516466",
     "status": "completed"
    },
    "tags": []
   },
   "source": [
    "Теперь закодируем полученные категории при помощи Label Encoder:"
   ]
  },
  {
   "cell_type": "code",
   "execution_count": 27,
   "id": "b43e9d94",
   "metadata": {
    "execution": {
     "iopub.execute_input": "2023-05-24T01:15:02.583894Z",
     "iopub.status.busy": "2023-05-24T01:15:02.583057Z",
     "iopub.status.idle": "2023-05-24T01:15:02.688371Z",
     "shell.execute_reply": "2023-05-24T01:15:02.687500Z"
    },
    "papermill": {
     "duration": 0.130105,
     "end_time": "2023-05-24T01:15:02.690361",
     "exception": false,
     "start_time": "2023-05-24T01:15:02.560256",
     "status": "completed"
    },
    "tags": []
   },
   "outputs": [],
   "source": [
    "# Создание экземпляра класса LabelEncoder()\n",
    "lab_enc = LabelEncoder()\n",
    "\n",
    "# Кодирование признака\n",
    "data['natio_label'] = lab_enc.fit_transform(data['reviewer_nationality'])"
   ]
  },
  {
   "attachments": {},
   "cell_type": "markdown",
   "id": "a28c351c",
   "metadata": {
    "papermill": {
     "duration": 0.021449,
     "end_time": "2023-05-24T01:15:02.734383",
     "exception": false,
     "start_time": "2023-05-24T01:15:02.712934",
     "status": "completed"
    },
    "tags": []
   },
   "source": [
    "# Сортировка отзывов"
   ]
  },
  {
   "attachments": {},
   "cell_type": "markdown",
   "id": "74a1ad42",
   "metadata": {
    "papermill": {
     "duration": 0.022281,
     "end_time": "2023-05-24T01:15:02.778305",
     "exception": false,
     "start_time": "2023-05-24T01:15:02.756024",
     "status": "completed"
    },
    "tags": []
   },
   "source": [
    "Наш датасет также включает в себя пару признаков с отзывами пользователей об отелях - это признаки **negative_review** и **positive_review**. Изучим более детально структуру данных признаков:"
   ]
  },
  {
   "cell_type": "code",
   "execution_count": 28,
   "id": "3959c2e7",
   "metadata": {
    "execution": {
     "iopub.execute_input": "2023-05-24T01:15:02.825492Z",
     "iopub.status.busy": "2023-05-24T01:15:02.825144Z",
     "iopub.status.idle": "2023-05-24T01:15:03.061388Z",
     "shell.execute_reply": "2023-05-24T01:15:03.060460Z"
    },
    "papermill": {
     "duration": 0.262138,
     "end_time": "2023-05-24T01:15:03.063176",
     "exception": false,
     "start_time": "2023-05-24T01:15:02.801038",
     "status": "completed"
    },
    "tags": []
   },
   "outputs": [
    {
     "data": {
      "text/plain": [
       "No Negative    127890\n",
       " Nothing        14295\n",
       " Nothing         4236\n",
       " nothing         2225\n",
       " N A             1037\n",
       " None             984\n",
       "                  849\n",
       " N a              509\n",
       " Breakfast        407\n",
       " Small room       373\n",
       "Name: negative_review, dtype: int64"
      ]
     },
     "execution_count": 28,
     "metadata": {},
     "output_type": "execute_result"
    }
   ],
   "source": [
    "data['negative_review'].value_counts().head(10)"
   ]
  },
  {
   "cell_type": "code",
   "execution_count": 29,
   "id": "3d80831a",
   "metadata": {
    "execution": {
     "iopub.execute_input": "2023-05-24T01:15:03.111188Z",
     "iopub.status.busy": "2023-05-24T01:15:03.110486Z",
     "iopub.status.idle": "2023-05-24T01:15:03.470947Z",
     "shell.execute_reply": "2023-05-24T01:15:03.470113Z"
    },
    "papermill": {
     "duration": 0.386714,
     "end_time": "2023-05-24T01:15:03.473086",
     "exception": false,
     "start_time": "2023-05-24T01:15:03.086372",
     "status": "completed"
    },
    "tags": []
   },
   "outputs": [
    {
     "data": {
      "text/plain": [
       "No Positive        35946\n",
       " Location           9222\n",
       " Everything         2284\n",
       " location           1677\n",
       " Nothing            1243\n",
       " The location       1126\n",
       " Great location     1047\n",
       " Good location       927\n",
       " Location            915\n",
       " Everything          613\n",
       "Name: positive_review, dtype: int64"
      ]
     },
     "execution_count": 29,
     "metadata": {},
     "output_type": "execute_result"
    }
   ],
   "source": [
    "data['positive_review'].value_counts().head(10)"
   ]
  },
  {
   "attachments": {},
   "cell_type": "markdown",
   "id": "a6dee602",
   "metadata": {
    "papermill": {
     "duration": 0.022604,
     "end_time": "2023-05-24T01:15:03.518375",
     "exception": false,
     "start_time": "2023-05-24T01:15:03.495771",
     "status": "completed"
    },
    "tags": []
   },
   "source": [
    "Данные явно нуждаются в очистке. Займемся этим. Избавимся от лишних пробелов и приведем их к единому регистру:"
   ]
  },
  {
   "cell_type": "code",
   "execution_count": 30,
   "id": "28b6d5b9",
   "metadata": {
    "execution": {
     "iopub.execute_input": "2023-05-24T01:15:03.565962Z",
     "iopub.status.busy": "2023-05-24T01:15:03.565366Z",
     "iopub.status.idle": "2023-05-24T01:15:04.594374Z",
     "shell.execute_reply": "2023-05-24T01:15:04.593470Z"
    },
    "papermill": {
     "duration": 1.055625,
     "end_time": "2023-05-24T01:15:04.596575",
     "exception": false,
     "start_time": "2023-05-24T01:15:03.540950",
     "status": "completed"
    },
    "tags": []
   },
   "outputs": [],
   "source": [
    "data['negative_review'] = data['negative_review'].apply(lambda x: x.strip().capitalize())\n",
    "data['positive_review'] = data['positive_review'].apply(lambda x: x.strip().capitalize())"
   ]
  },
  {
   "attachments": {},
   "cell_type": "markdown",
   "id": "e7923491",
   "metadata": {
    "papermill": {
     "duration": 0.025073,
     "end_time": "2023-05-24T01:15:04.645424",
     "exception": false,
     "start_time": "2023-05-24T01:15:04.620351",
     "status": "completed"
    },
    "tags": []
   },
   "source": [
    "Теперь изучим признак негативных отзывов более подробно:"
   ]
  },
  {
   "cell_type": "code",
   "execution_count": 31,
   "id": "89c67072",
   "metadata": {
    "execution": {
     "iopub.execute_input": "2023-05-24T01:15:04.693761Z",
     "iopub.status.busy": "2023-05-24T01:15:04.693176Z",
     "iopub.status.idle": "2023-05-24T01:15:04.942833Z",
     "shell.execute_reply": "2023-05-24T01:15:04.942261Z"
    },
    "papermill": {
     "duration": 0.275363,
     "end_time": "2023-05-24T01:15:04.944550",
     "exception": false,
     "start_time": "2023-05-24T01:15:04.669187",
     "status": "completed"
    },
    "tags": []
   },
   "outputs": [
    {
     "data": {
      "text/plain": [
       "No negative                       127890\n",
       "Nothing                            21185\n",
       "N a                                 1815\n",
       "None                                1501\n",
       "                                     849\n",
       "Nothing really                       656\n",
       "Small room                           570\n",
       "All good                             545\n",
       "Breakfast                            545\n",
       "No complaints                        523\n",
       "Location                             502\n",
       "Nothing at all                       467\n",
       "Everything                           420\n",
       "Nothing to dislike                   373\n",
       "Price                                348\n",
       "Nil                                  332\n",
       "Small rooms                          307\n",
       "Everything was perfect               276\n",
       "Na                                   272\n",
       "Can t think of anything              250\n",
       "Leaving                              244\n",
       "Absolutely nothing                   242\n",
       "Everything was great                 222\n",
       "Expensive                            206\n",
       "Nothing to complain about            205\n",
       "No                                   200\n",
       "Room size                            200\n",
       "Very small room                      200\n",
       "Nothing not to like                  185\n",
       "Staff                                181\n",
       "Nothing all good                     181\n",
       "Having to leave                      176\n",
       "Not much                             159\n",
       "Everything was good                  153\n",
       "I liked everything                   153\n",
       "Liked everything                     148\n",
       "See above                            141\n",
       "Expensive breakfast                  138\n",
       "Nothing it was perfect               136\n",
       "Non                                  134\n",
       "Nothing everything was perfect       133\n",
       "The price                            132\n",
       "Room too small                       127\n",
       "Room was very small                  126\n",
       "Nothing in particular                121\n",
       "Nothing everything was great         120\n",
       "Everything was fine                  120\n",
       "Not applicable                       115\n",
       "All was good                         114\n",
       "Wifi                                 112\n",
       "Name: negative_review, dtype: int64"
      ]
     },
     "execution_count": 31,
     "metadata": {},
     "output_type": "execute_result"
    }
   ],
   "source": [
    "data['negative_review'].value_counts().head(50)"
   ]
  },
  {
   "attachments": {},
   "cell_type": "markdown",
   "id": "2c99e72d",
   "metadata": {
    "papermill": {
     "duration": 0.023037,
     "end_time": "2023-05-24T01:15:04.991349",
     "exception": false,
     "start_time": "2023-05-24T01:15:04.968312",
     "status": "completed"
    },
    "tags": []
   },
   "source": [
    "Из увиденного можно сделать вывод, что большинство постояльцев отелей оставляют либо нейтральные отзывы, либо положительные только лишь для того, чтобы оставить хоть какой-нибудь комментарий в соответствующем поле. При этом также прослеживаются релевантные отзывы о недостатках отеля и негативном опыте гостя.  \n",
    "\n",
    "Можно было бы воспользоваться анализом тональности отзыва, чтобы определить степень негатива, однако смешанные внутри признака отзывы будут только затруднять работу модели. Поэтому просто **отсортируем данный признак, преобразовав его в бинарный вид**. Закодируем его следующим образом:  \n",
    "\n",
    "0 - отзыв нельзя считать негативным  \n",
    "1 - в отзыве присутствует негативный опыт  \n",
    "\n",
    "Разберем самые популярные значения внутри признака. Создадим список со стоп-фразами, содержащий фразы с положительный окрасом согласно словам ревьюера:"
   ]
  },
  {
   "cell_type": "code",
   "execution_count": 32,
   "id": "58b35794",
   "metadata": {
    "execution": {
     "iopub.execute_input": "2023-05-24T01:15:05.037795Z",
     "iopub.status.busy": "2023-05-24T01:15:05.037486Z",
     "iopub.status.idle": "2023-05-24T01:15:05.043115Z",
     "shell.execute_reply": "2023-05-24T01:15:05.042090Z"
    },
    "papermill": {
     "duration": 0.031173,
     "end_time": "2023-05-24T01:15:05.044800",
     "exception": false,
     "start_time": "2023-05-24T01:15:05.013627",
     "status": "completed"
    },
    "tags": []
   },
   "outputs": [],
   "source": [
    "pos_list = ['No negative', 'Nothing', 'N a', 'None', '', 'Nothing really', \n",
    "            'All good', 'No complaints', 'Nothing at all', 'Na', \n",
    "            'Everything was perfect', 'Can t think of anything', \n",
    "            'Everything was great', 'Nothing to complain about', 'No', \n",
    "            'Nothing not to like', 'Everything was good', 'Nothing all good', \n",
    "            'Having to leave', 'I liked everything', 'Liked everything', \n",
    "            'Nothing everything was perfect', 'Non', 'Nothing it was perfect', \n",
    "            'Everything was fine', 'Nothing everything was great', 'All was good', \n",
    "            'Not applicable', 'There was nothing i didn t like', 'Nothing comes to mind', \n",
    "            'Nil', 'Absolutely nothing', 'Nothing in particular', 'Not a thing', \n",
    "            'Nothing to report', 'No complaints at all', 'No negatives', \n",
    "            'No thing', 'It was all good', 'There was nothing to dislike', \n",
    "            'Nothing i didn t like', 'We liked everything', 'All ok', 'Loved everything', \n",
    "            'There was nothing we didn t like', 'Nothing to mention', 'Nothing i can think of', \n",
    "            'Nothing to say', 'No problems', 'No comment', 'Nothing to complain', 'No issues', \n",
    "            'No bad experience', 'Nothing bad to say', 'There was nothing not to like', \n",
    "            'No dislikes', 'Everything was ok']"
   ]
  },
  {
   "attachments": {},
   "cell_type": "markdown",
   "id": "5ec140be",
   "metadata": {
    "papermill": {
     "duration": 0.021528,
     "end_time": "2023-05-24T01:15:05.088636",
     "exception": false,
     "start_time": "2023-05-24T01:15:05.067108",
     "status": "completed"
    },
    "tags": []
   },
   "source": [
    "Выполним соответствующие преобразования:"
   ]
  },
  {
   "cell_type": "code",
   "execution_count": 33,
   "id": "72d1fb94",
   "metadata": {
    "execution": {
     "iopub.execute_input": "2023-05-24T01:15:05.135385Z",
     "iopub.status.busy": "2023-05-24T01:15:05.135062Z",
     "iopub.status.idle": "2023-05-24T01:15:05.535627Z",
     "shell.execute_reply": "2023-05-24T01:15:05.534691Z"
    },
    "papermill": {
     "duration": 0.426914,
     "end_time": "2023-05-24T01:15:05.537829",
     "exception": false,
     "start_time": "2023-05-24T01:15:05.110915",
     "status": "completed"
    },
    "tags": []
   },
   "outputs": [],
   "source": [
    "data['negative_review'] = data['negative_review'].apply(lambda x: 0 if x in pos_list else 1)"
   ]
  },
  {
   "attachments": {},
   "cell_type": "markdown",
   "id": "88bbb199",
   "metadata": {
    "papermill": {
     "duration": 0.022282,
     "end_time": "2023-05-24T01:15:05.583250",
     "exception": false,
     "start_time": "2023-05-24T01:15:05.560968",
     "status": "completed"
    },
    "tags": []
   },
   "source": [
    "Теперь анализу подвергнем признак положительных отзывов:"
   ]
  },
  {
   "cell_type": "code",
   "execution_count": 34,
   "id": "cd31a38a",
   "metadata": {
    "execution": {
     "iopub.execute_input": "2023-05-24T01:15:05.628864Z",
     "iopub.status.busy": "2023-05-24T01:15:05.628532Z",
     "iopub.status.idle": "2023-05-24T01:15:05.928128Z",
     "shell.execute_reply": "2023-05-24T01:15:05.927216Z"
    },
    "papermill": {
     "duration": 0.325055,
     "end_time": "2023-05-24T01:15:05.930000",
     "exception": false,
     "start_time": "2023-05-24T01:15:05.604945",
     "status": "completed"
    },
    "tags": []
   },
   "outputs": [
    {
     "data": {
      "text/plain": [
       "No positive                      35946\n",
       "Location                         11945\n",
       "Everything                        3314\n",
       "Nothing                           1731\n",
       "Great location                    1687\n",
       "The location                      1606\n",
       "Good location                     1496\n",
       "Breakfast                          795\n",
       "Friendly staff                     733\n",
       "Excellent location                 639\n",
       "Staff                              553\n",
       "Location and staff                 452\n",
       "Location staff                     432\n",
       "Location location location         345\n",
       "Location was great                 328\n",
       "Everything was perfect             316\n",
       "Good breakfast                     316\n",
       "Location was good                  312\n",
       "Comfy bed                          303\n",
       "Perfect location                   287\n",
       "The staff                          281\n",
       "Location is great                  280\n",
       "Location is good                   256\n",
       "All                                250\n",
       "Clean                              237\n",
       "Every thing                        235\n",
       "Very friendly staff                233\n",
       "Great breakfast                    222\n",
       "Breakfast was good                 220\n",
       "Excellent breakfast                218\n",
       "Location was excellent             205\n",
       "Comfortable bed                    202\n",
       "Very good location                 198\n",
       "Cleanliness                        193\n",
       "Location breakfast                 188\n",
       "                                   183\n",
       "Location is perfect                175\n",
       "Helpful staff                      172\n",
       "Great location friendly staff      172\n",
       "Location only                      168\n",
       "Great staff                        167\n",
       "Everything was great               163\n",
       "Location is excellent              163\n",
       "Central location                   157\n",
       "Friendly helpful staff             156\n",
       "Staff and location                 156\n",
       "The bed                            155\n",
       "Convenient location                151\n",
       "Position                           149\n",
       "Location and breakfast             148\n",
       "Name: positive_review, dtype: int64"
      ]
     },
     "execution_count": 34,
     "metadata": {},
     "output_type": "execute_result"
    }
   ],
   "source": [
    "data['positive_review'].value_counts().head(50)"
   ]
  },
  {
   "attachments": {},
   "cell_type": "markdown",
   "id": "a1fc513c",
   "metadata": {
    "papermill": {
     "duration": 0.022343,
     "end_time": "2023-05-24T01:15:05.975298",
     "exception": false,
     "start_time": "2023-05-24T01:15:05.952955",
     "status": "completed"
    },
    "tags": []
   },
   "source": [
    "А вот тут ситуация гораздо лучше. Много релевантных отзывов, соответственно работы по их обработке меньше.\n",
    "\n",
    "Алгоритм преобразования тот же самый. Единственное отличие - список со стоп-словами, но теперь уже с негативным или нейтральным окрасом:"
   ]
  },
  {
   "cell_type": "code",
   "execution_count": 35,
   "id": "ca8e0fc6",
   "metadata": {
    "execution": {
     "iopub.execute_input": "2023-05-24T01:15:06.022372Z",
     "iopub.status.busy": "2023-05-24T01:15:06.022011Z",
     "iopub.status.idle": "2023-05-24T01:15:06.218149Z",
     "shell.execute_reply": "2023-05-24T01:15:06.217488Z"
    },
    "papermill": {
     "duration": 0.222082,
     "end_time": "2023-05-24T01:15:06.220077",
     "exception": false,
     "start_time": "2023-05-24T01:15:05.997995",
     "status": "completed"
    },
    "tags": []
   },
   "outputs": [],
   "source": [
    "neg_list = ['No positive', 'Nothing', '']\n",
    "data['positive_review'] = data['positive_review'].apply(lambda x: 0 if x in neg_list else 1)"
   ]
  },
  {
   "attachments": {},
   "cell_type": "markdown",
   "id": "fe8958d5",
   "metadata": {
    "papermill": {
     "duration": 0.02359,
     "end_time": "2023-05-24T01:15:06.266850",
     "exception": false,
     "start_time": "2023-05-24T01:15:06.243260",
     "status": "completed"
    },
    "tags": []
   },
   "source": [
    "Займемся **признаком с тегами**. Избавимся от лишних символов и приведем его в единый формат:"
   ]
  },
  {
   "cell_type": "code",
   "execution_count": 36,
   "id": "dfec7bac",
   "metadata": {
    "execution": {
     "iopub.execute_input": "2023-05-24T01:15:06.313054Z",
     "iopub.status.busy": "2023-05-24T01:15:06.312057Z",
     "iopub.status.idle": "2023-05-24T01:15:07.600127Z",
     "shell.execute_reply": "2023-05-24T01:15:07.599243Z"
    },
    "papermill": {
     "duration": 1.313074,
     "end_time": "2023-05-24T01:15:07.602338",
     "exception": false,
     "start_time": "2023-05-24T01:15:06.289264",
     "status": "completed"
    },
    "tags": []
   },
   "outputs": [],
   "source": [
    "tags_list = data['tags'].apply(lambda x: x[3:-3].split(\" ', ' \"))\n",
    "tags = tags_list.explode(ignore_index=True)"
   ]
  },
  {
   "attachments": {},
   "cell_type": "markdown",
   "id": "d8955b1d",
   "metadata": {
    "papermill": {
     "duration": 0.022147,
     "end_time": "2023-05-24T01:15:07.647621",
     "exception": false,
     "start_time": "2023-05-24T01:15:07.625474",
     "status": "completed"
    },
    "tags": []
   },
   "source": [
    "Создадим вспомогательный признак - счетчик количества тегов, которые ревьер оставляет в своем отзыве:"
   ]
  },
  {
   "cell_type": "code",
   "execution_count": 37,
   "id": "52bd6c68",
   "metadata": {
    "execution": {
     "iopub.execute_input": "2023-05-24T01:15:07.695013Z",
     "iopub.status.busy": "2023-05-24T01:15:07.694667Z",
     "iopub.status.idle": "2023-05-24T01:15:07.904904Z",
     "shell.execute_reply": "2023-05-24T01:15:07.904270Z"
    },
    "papermill": {
     "duration": 0.236793,
     "end_time": "2023-05-24T01:15:07.907328",
     "exception": false,
     "start_time": "2023-05-24T01:15:07.670535",
     "status": "completed"
    },
    "tags": []
   },
   "outputs": [],
   "source": [
    "data['tags'] = tags_list\n",
    "data['tags_cnt'] = data['tags'].apply(lambda x: len(x))"
   ]
  },
  {
   "attachments": {},
   "cell_type": "markdown",
   "id": "759e3c2f",
   "metadata": {
    "execution": {
     "iopub.execute_input": "2023-05-23T23:33:25.259761Z",
     "iopub.status.busy": "2023-05-23T23:33:25.259353Z",
     "iopub.status.idle": "2023-05-23T23:33:25.268799Z",
     "shell.execute_reply": "2023-05-23T23:33:25.267241Z",
     "shell.execute_reply.started": "2023-05-23T23:33:25.259731Z"
    },
    "papermill": {
     "duration": 0.025373,
     "end_time": "2023-05-24T01:15:07.970256",
     "exception": false,
     "start_time": "2023-05-24T01:15:07.944883",
     "status": "completed"
    },
    "tags": []
   },
   "source": [
    "Посмотрим на самые популярные у гостей отелей теги:"
   ]
  },
  {
   "cell_type": "code",
   "execution_count": 38,
   "id": "c58c9e0e",
   "metadata": {
    "execution": {
     "iopub.execute_input": "2023-05-24T01:15:08.020416Z",
     "iopub.status.busy": "2023-05-24T01:15:08.020111Z",
     "iopub.status.idle": "2023-05-24T01:15:08.236985Z",
     "shell.execute_reply": "2023-05-24T01:15:08.236351Z"
    },
    "papermill": {
     "duration": 0.245472,
     "end_time": "2023-05-24T01:15:08.238582",
     "exception": false,
     "start_time": "2023-05-24T01:15:07.993110",
     "status": "completed"
    },
    "tags": []
   },
   "outputs": [
    {
     "data": {
      "text/plain": [
       "['Leisure trip',\n",
       " 'Submitted from a mobile device',\n",
       " 'Couple',\n",
       " 'Stayed 1 night',\n",
       " 'Stayed 2 nights',\n",
       " 'Solo traveler',\n",
       " 'Stayed 3 nights',\n",
       " 'Business trip',\n",
       " 'Group',\n",
       " 'Family with young children']"
      ]
     },
     "execution_count": 38,
     "metadata": {},
     "output_type": "execute_result"
    }
   ],
   "source": [
    "top_tags = list(tags.value_counts().head(10).index)\n",
    "top_tags"
   ]
  },
  {
   "attachments": {},
   "cell_type": "markdown",
   "id": "190defcb",
   "metadata": {
    "papermill": {
     "duration": 0.022204,
     "end_time": "2023-05-24T01:15:08.283640",
     "exception": false,
     "start_time": "2023-05-24T01:15:08.261436",
     "status": "completed"
    },
    "tags": []
   },
   "source": [
    "Из увиденного можно сделать вывод, что клиенты останавливаются в отелях по двум самым популярным причинам:  \n",
    "- с целью отдыха (**тег \"leisure trip\"**)  \n",
    "\n",
    "- командировка (**тег \"business trip\"**)  \n",
    "\n",
    "Также из отегов можно выделить, путешествуют люди соло или в группе, с детьми или без.  \n",
    "\n",
    "Закодируем теги, реализуя механизм One-Hot кодирования:"
   ]
  },
  {
   "cell_type": "code",
   "execution_count": 39,
   "id": "40084d1c",
   "metadata": {
    "execution": {
     "iopub.execute_input": "2023-05-24T01:15:08.331070Z",
     "iopub.status.busy": "2023-05-24T01:15:08.330515Z",
     "iopub.status.idle": "2023-05-24T01:15:10.302993Z",
     "shell.execute_reply": "2023-05-24T01:15:10.302102Z"
    },
    "papermill": {
     "duration": 1.99929,
     "end_time": "2023-05-24T01:15:10.305240",
     "exception": false,
     "start_time": "2023-05-24T01:15:08.305950",
     "status": "completed"
    },
    "tags": []
   },
   "outputs": [],
   "source": [
    "for tag in top_tags:\n",
    "    one_hot_feature = tag.lower().replace(' ', '_')\n",
    "    data[one_hot_feature] = data['tags'].apply(lambda x: 1 if tag in x else 0)"
   ]
  },
  {
   "attachments": {},
   "cell_type": "markdown",
   "id": "3c732225",
   "metadata": {
    "papermill": {
     "duration": 0.024618,
     "end_time": "2023-05-24T01:15:10.357001",
     "exception": false,
     "start_time": "2023-05-24T01:15:10.332383",
     "status": "completed"
    },
    "tags": []
   },
   "source": [
    "На очереди **признак days_since_review**. Проеобразуем его в числовой формат:"
   ]
  },
  {
   "cell_type": "code",
   "execution_count": 40,
   "id": "351e7532",
   "metadata": {
    "execution": {
     "iopub.execute_input": "2023-05-24T01:15:10.405783Z",
     "iopub.status.busy": "2023-05-24T01:15:10.405245Z",
     "iopub.status.idle": "2023-05-24T01:15:10.723687Z",
     "shell.execute_reply": "2023-05-24T01:15:10.722829Z"
    },
    "papermill": {
     "duration": 0.34474,
     "end_time": "2023-05-24T01:15:10.725450",
     "exception": false,
     "start_time": "2023-05-24T01:15:10.380710",
     "status": "completed"
    },
    "tags": []
   },
   "outputs": [
    {
     "data": {
      "text/html": [
       "<div>\n",
       "<style scoped>\n",
       "    .dataframe tbody tr th:only-of-type {\n",
       "        vertical-align: middle;\n",
       "    }\n",
       "\n",
       "    .dataframe tbody tr th {\n",
       "        vertical-align: top;\n",
       "    }\n",
       "\n",
       "    .dataframe thead th {\n",
       "        text-align: right;\n",
       "    }\n",
       "</style>\n",
       "<table border=\"1\" class=\"dataframe\">\n",
       "  <thead>\n",
       "    <tr style=\"text-align: right;\">\n",
       "      <th></th>\n",
       "      <th>additional_number_of_scoring</th>\n",
       "      <th>review_date</th>\n",
       "      <th>average_score</th>\n",
       "      <th>hotel_name</th>\n",
       "      <th>reviewer_nationality</th>\n",
       "      <th>negative_review</th>\n",
       "      <th>review_total_negative_word_counts</th>\n",
       "      <th>total_number_of_reviews</th>\n",
       "      <th>positive_review</th>\n",
       "      <th>review_total_positive_word_counts</th>\n",
       "      <th>...</th>\n",
       "      <th>leisure_trip</th>\n",
       "      <th>submitted_from_a_mobile_device</th>\n",
       "      <th>couple</th>\n",
       "      <th>stayed_1_night</th>\n",
       "      <th>stayed_2_nights</th>\n",
       "      <th>solo_traveler</th>\n",
       "      <th>stayed_3_nights</th>\n",
       "      <th>business_trip</th>\n",
       "      <th>group</th>\n",
       "      <th>family_with_young_children</th>\n",
       "    </tr>\n",
       "  </thead>\n",
       "  <tbody>\n",
       "    <tr>\n",
       "      <th>0</th>\n",
       "      <td>581</td>\n",
       "      <td>2/19/2016</td>\n",
       "      <td>8.4</td>\n",
       "      <td>The May Fair Hotel</td>\n",
       "      <td>United Kingdom</td>\n",
       "      <td>1</td>\n",
       "      <td>3</td>\n",
       "      <td>1994</td>\n",
       "      <td>1</td>\n",
       "      <td>4</td>\n",
       "      <td>...</td>\n",
       "      <td>1</td>\n",
       "      <td>1</td>\n",
       "      <td>1</td>\n",
       "      <td>0</td>\n",
       "      <td>1</td>\n",
       "      <td>0</td>\n",
       "      <td>0</td>\n",
       "      <td>0</td>\n",
       "      <td>0</td>\n",
       "      <td>0</td>\n",
       "    </tr>\n",
       "    <tr>\n",
       "      <th>1</th>\n",
       "      <td>299</td>\n",
       "      <td>1/12/2017</td>\n",
       "      <td>8.3</td>\n",
       "      <td>Mercure London Bloomsbury Hotel</td>\n",
       "      <td>United Kingdom</td>\n",
       "      <td>1</td>\n",
       "      <td>3</td>\n",
       "      <td>1361</td>\n",
       "      <td>1</td>\n",
       "      <td>2</td>\n",
       "      <td>...</td>\n",
       "      <td>0</td>\n",
       "      <td>0</td>\n",
       "      <td>1</td>\n",
       "      <td>1</td>\n",
       "      <td>0</td>\n",
       "      <td>0</td>\n",
       "      <td>0</td>\n",
       "      <td>1</td>\n",
       "      <td>0</td>\n",
       "      <td>0</td>\n",
       "    </tr>\n",
       "    <tr>\n",
       "      <th>2</th>\n",
       "      <td>32</td>\n",
       "      <td>10/18/2016</td>\n",
       "      <td>8.9</td>\n",
       "      <td>Legend Saint Germain by Elegancia</td>\n",
       "      <td>Other</td>\n",
       "      <td>1</td>\n",
       "      <td>6</td>\n",
       "      <td>406</td>\n",
       "      <td>0</td>\n",
       "      <td>0</td>\n",
       "      <td>...</td>\n",
       "      <td>1</td>\n",
       "      <td>1</td>\n",
       "      <td>0</td>\n",
       "      <td>0</td>\n",
       "      <td>0</td>\n",
       "      <td>1</td>\n",
       "      <td>1</td>\n",
       "      <td>0</td>\n",
       "      <td>0</td>\n",
       "      <td>0</td>\n",
       "    </tr>\n",
       "  </tbody>\n",
       "</table>\n",
       "<p>3 rows × 32 columns</p>\n",
       "</div>"
      ],
      "text/plain": [
       "   additional_number_of_scoring review_date  average_score  \\\n",
       "0                           581   2/19/2016            8.4   \n",
       "1                           299   1/12/2017            8.3   \n",
       "2                            32  10/18/2016            8.9   \n",
       "\n",
       "                          hotel_name reviewer_nationality  negative_review  \\\n",
       "0                 The May Fair Hotel       United Kingdom                1   \n",
       "1    Mercure London Bloomsbury Hotel       United Kingdom                1   \n",
       "2  Legend Saint Germain by Elegancia                Other                1   \n",
       "\n",
       "   review_total_negative_word_counts  total_number_of_reviews  \\\n",
       "0                                  3                     1994   \n",
       "1                                  3                     1361   \n",
       "2                                  6                      406   \n",
       "\n",
       "   positive_review  review_total_positive_word_counts  ...  leisure_trip  \\\n",
       "0                1                                  4  ...             1   \n",
       "1                1                                  2  ...             0   \n",
       "2                0                                  0  ...             1   \n",
       "\n",
       "   submitted_from_a_mobile_device couple  stayed_1_night  stayed_2_nights  \\\n",
       "0                               1      1               0                1   \n",
       "1                               0      1               1                0   \n",
       "2                               1      0               0                0   \n",
       "\n",
       "   solo_traveler  stayed_3_nights business_trip group  \\\n",
       "0              0                0             0     0   \n",
       "1              0                0             1     0   \n",
       "2              1                1             0     0   \n",
       "\n",
       "   family_with_young_children  \n",
       "0                           0  \n",
       "1                           0  \n",
       "2                           0  \n",
       "\n",
       "[3 rows x 32 columns]"
      ]
     },
     "execution_count": 40,
     "metadata": {},
     "output_type": "execute_result"
    }
   ],
   "source": [
    "data['days_since_review'] = data['days_since_review'].apply(lambda x: int(x.split()[0]))\n",
    "data.head(3)"
   ]
  },
  {
   "attachments": {},
   "cell_type": "markdown",
   "id": "63a33096",
   "metadata": {
    "papermill": {
     "duration": 0.023065,
     "end_time": "2023-05-24T01:15:10.772265",
     "exception": false,
     "start_time": "2023-05-24T01:15:10.749200",
     "status": "completed"
    },
    "tags": []
   },
   "source": [
    "Займемся **столбцом с датами**. Как мы помним, изначально тип данных этого признака - object. Преобразуем столбец в формат datetime, а затем извлечем из него год и месяц:"
   ]
  },
  {
   "cell_type": "code",
   "execution_count": 41,
   "id": "9e737901",
   "metadata": {
    "execution": {
     "iopub.execute_input": "2023-05-24T01:15:10.819074Z",
     "iopub.status.busy": "2023-05-24T01:15:10.818104Z",
     "iopub.status.idle": "2023-05-24T01:15:10.894299Z",
     "shell.execute_reply": "2023-05-24T01:15:10.893445Z"
    },
    "papermill": {
     "duration": 0.101555,
     "end_time": "2023-05-24T01:15:10.896558",
     "exception": false,
     "start_time": "2023-05-24T01:15:10.795003",
     "status": "completed"
    },
    "tags": []
   },
   "outputs": [],
   "source": [
    "data['review_date'] = pd.to_datetime(data.review_date)"
   ]
  },
  {
   "attachments": {},
   "cell_type": "markdown",
   "id": "f8e97e9b",
   "metadata": {
    "papermill": {
     "duration": 0.022253,
     "end_time": "2023-05-24T01:15:10.942123",
     "exception": false,
     "start_time": "2023-05-24T01:15:10.919870",
     "status": "completed"
    },
    "tags": []
   },
   "source": [
    "Данные в признаке представлены в формате месяц-день-год. Создадим два новых признака для года и месяца в числовом выражении, в которых был оставлен отзыв. Исходный признак позже удалим:"
   ]
  },
  {
   "cell_type": "code",
   "execution_count": 42,
   "id": "f84b703f",
   "metadata": {
    "execution": {
     "iopub.execute_input": "2023-05-24T01:15:10.989360Z",
     "iopub.status.busy": "2023-05-24T01:15:10.989038Z",
     "iopub.status.idle": "2023-05-24T01:15:11.044707Z",
     "shell.execute_reply": "2023-05-24T01:15:11.043982Z"
    },
    "papermill": {
     "duration": 0.08198,
     "end_time": "2023-05-24T01:15:11.046708",
     "exception": false,
     "start_time": "2023-05-24T01:15:10.964728",
     "status": "completed"
    },
    "tags": []
   },
   "outputs": [],
   "source": [
    "data['review_month'] = data['review_date'].dt.month\n",
    "data['review_year'] = data['review_date'].dt.year"
   ]
  },
  {
   "attachments": {},
   "cell_type": "markdown",
   "id": "0bee7747",
   "metadata": {
    "papermill": {
     "duration": 0.022361,
     "end_time": "2023-05-24T01:15:11.092149",
     "exception": false,
     "start_time": "2023-05-24T01:15:11.069788",
     "status": "completed"
    },
    "tags": []
   },
   "source": [
    "Кроме того, дополнительно из признака можно извлечь сезонность отзыва:"
   ]
  },
  {
   "cell_type": "code",
   "execution_count": 43,
   "id": "c9444a2b",
   "metadata": {
    "execution": {
     "iopub.execute_input": "2023-05-24T01:15:11.139077Z",
     "iopub.status.busy": "2023-05-24T01:15:11.138745Z",
     "iopub.status.idle": "2023-05-24T01:15:11.143376Z",
     "shell.execute_reply": "2023-05-24T01:15:11.142690Z"
    },
    "papermill": {
     "duration": 0.029764,
     "end_time": "2023-05-24T01:15:11.144842",
     "exception": false,
     "start_time": "2023-05-24T01:15:11.115078",
     "status": "completed"
    },
    "tags": []
   },
   "outputs": [],
   "source": [
    "def get_season_cat(month):\n",
    "    \"\"\"Кодирует признак даты в соответствии с месяцем\n",
    "    1 - зима\n",
    "    2 - весна\n",
    "    3 - лето\n",
    "    4 - осень\n",
    "    \n",
    "    Args:\n",
    "        int: номер месяца\n",
    "        \n",
    "    Returns:\n",
    "        int: категория сезона согласно кодировке выше\n",
    "    \"\"\"  \n",
    "    if month in [12, 1, 2]:\n",
    "        return 1\n",
    "    elif month in [3, 4, 5]:\n",
    "        return 2\n",
    "    elif month in [6, 7, 8]:\n",
    "        return 3\n",
    "    elif month in [9, 10, 11]:\n",
    "        return 4\n",
    "    else:\n",
    "        return None"
   ]
  },
  {
   "cell_type": "code",
   "execution_count": 44,
   "id": "fbbcbfc7",
   "metadata": {
    "execution": {
     "iopub.execute_input": "2023-05-24T01:15:11.191857Z",
     "iopub.status.busy": "2023-05-24T01:15:11.190996Z",
     "iopub.status.idle": "2023-05-24T01:15:11.487004Z",
     "shell.execute_reply": "2023-05-24T01:15:11.486245Z"
    },
    "papermill": {
     "duration": 0.321631,
     "end_time": "2023-05-24T01:15:11.488981",
     "exception": false,
     "start_time": "2023-05-24T01:15:11.167350",
     "status": "completed"
    },
    "tags": []
   },
   "outputs": [],
   "source": [
    "# создаем новый признак\n",
    "data['season'] = data['review_month'].apply(get_season_cat)\n",
    "\n",
    "# удаляем  исходный столбец с датой\n",
    "data = data.drop(['review_date'], axis=1)"
   ]
  },
  {
   "attachments": {},
   "cell_type": "markdown",
   "id": "bfc5cd04",
   "metadata": {
    "papermill": {
     "duration": 0.022759,
     "end_time": "2023-05-24T01:15:11.535585",
     "exception": false,
     "start_time": "2023-05-24T01:15:11.512826",
     "status": "completed"
    },
    "tags": []
   },
   "source": [
    "Итак, у нас остался признак названия отеля:"
   ]
  },
  {
   "cell_type": "code",
   "execution_count": 45,
   "id": "a76b73c5",
   "metadata": {
    "execution": {
     "iopub.execute_input": "2023-05-24T01:15:11.582410Z",
     "iopub.status.busy": "2023-05-24T01:15:11.582071Z",
     "iopub.status.idle": "2023-05-24T01:15:11.635355Z",
     "shell.execute_reply": "2023-05-24T01:15:11.634741Z"
    },
    "papermill": {
     "duration": 0.078245,
     "end_time": "2023-05-24T01:15:11.636974",
     "exception": false,
     "start_time": "2023-05-24T01:15:11.558729",
     "status": "completed"
    },
    "tags": []
   },
   "outputs": [
    {
     "name": "stdout",
     "output_type": "stream",
     "text": [
      "Кол-во уникальных отелей в датасете: 1492\n"
     ]
    }
   ],
   "source": [
    "print(f\"Кол-во уникальных отелей в датасете: {data['hotel_name'].nunique()}\")"
   ]
  },
  {
   "attachments": {},
   "cell_type": "markdown",
   "id": "9cd7d318",
   "metadata": {
    "papermill": {
     "duration": 0.024242,
     "end_time": "2023-05-24T01:15:11.684834",
     "exception": false,
     "start_time": "2023-05-24T01:15:11.660592",
     "status": "completed"
    },
    "tags": []
   },
   "source": [
    "Поскольку каждый отель потенциально является одним из самых значимых признаков для целевой переменной - рейтинга отеля, закодируем его с помощью Label Encoder:"
   ]
  },
  {
   "cell_type": "code",
   "execution_count": 46,
   "id": "f335b113",
   "metadata": {
    "execution": {
     "iopub.execute_input": "2023-05-24T01:15:11.735198Z",
     "iopub.status.busy": "2023-05-24T01:15:11.734550Z",
     "iopub.status.idle": "2023-05-24T01:15:11.853519Z",
     "shell.execute_reply": "2023-05-24T01:15:11.852727Z"
    },
    "papermill": {
     "duration": 0.145863,
     "end_time": "2023-05-24T01:15:11.855480",
     "exception": false,
     "start_time": "2023-05-24T01:15:11.709617",
     "status": "completed"
    },
    "tags": []
   },
   "outputs": [],
   "source": [
    "# Кодирование признака\n",
    "data['hotel_label'] = lab_enc.fit_transform(data['hotel_name'])"
   ]
  },
  {
   "attachments": {},
   "cell_type": "markdown",
   "id": "f846fc3a",
   "metadata": {
    "papermill": {
     "duration": 0.023557,
     "end_time": "2023-05-24T01:15:11.902623",
     "exception": false,
     "start_time": "2023-05-24T01:15:11.879066",
     "status": "completed"
    },
    "tags": []
   },
   "source": [
    "Также не забудем про признак страны отеля. Поскольку даже без статистических тестов значимости очевидно, что признаки страны и города отеля сильно коррелируют друг с другом, закодируем для нашей модели только один из них:"
   ]
  },
  {
   "cell_type": "code",
   "execution_count": 47,
   "id": "1b187412",
   "metadata": {
    "execution": {
     "iopub.execute_input": "2023-05-24T01:15:11.951334Z",
     "iopub.status.busy": "2023-05-24T01:15:11.950537Z",
     "iopub.status.idle": "2023-05-24T01:15:12.212958Z",
     "shell.execute_reply": "2023-05-24T01:15:12.211965Z"
    },
    "papermill": {
     "duration": 0.289159,
     "end_time": "2023-05-24T01:15:12.215170",
     "exception": false,
     "start_time": "2023-05-24T01:15:11.926011",
     "status": "completed"
    },
    "tags": []
   },
   "outputs": [],
   "source": [
    "col_name = ['hotel_country']\n",
    "data = pd.get_dummies(data, columns=col_name)"
   ]
  },
  {
   "attachments": {},
   "cell_type": "markdown",
   "id": "974b728c",
   "metadata": {
    "papermill": {
     "duration": 0.023169,
     "end_time": "2023-05-24T01:15:12.261865",
     "exception": false,
     "start_time": "2023-05-24T01:15:12.238696",
     "status": "completed"
    },
    "tags": []
   },
   "source": [
    "На этом преобразования закончены, удалим все ненужные признаки с типом object из датасета, поскольку модель принимает на вход только числовые признаки:"
   ]
  },
  {
   "cell_type": "code",
   "execution_count": 48,
   "id": "562e607a",
   "metadata": {
    "execution": {
     "iopub.execute_input": "2023-05-24T01:15:12.310787Z",
     "iopub.status.busy": "2023-05-24T01:15:12.310250Z",
     "iopub.status.idle": "2023-05-24T01:15:12.338972Z",
     "shell.execute_reply": "2023-05-24T01:15:12.338305Z"
    },
    "papermill": {
     "duration": 0.055649,
     "end_time": "2023-05-24T01:15:12.340837",
     "exception": false,
     "start_time": "2023-05-24T01:15:12.285188",
     "status": "completed"
    },
    "tags": []
   },
   "outputs": [],
   "source": [
    "# убираем признаки которые еще не успели обработать, \n",
    "# модель на признаках с dtypes \"object\" обучаться не будет, просто выберим их и удалим\n",
    "\n",
    "object_columns = [col for col in data.columns if data[col].dtypes == 'object']\n",
    "data.drop(object_columns, axis = 1, inplace=True)"
   ]
  },
  {
   "cell_type": "code",
   "execution_count": 49,
   "id": "de8d5543",
   "metadata": {
    "execution": {
     "iopub.execute_input": "2023-05-24T01:15:12.388864Z",
     "iopub.status.busy": "2023-05-24T01:15:12.388361Z",
     "iopub.status.idle": "2023-05-24T01:15:12.408901Z",
     "shell.execute_reply": "2023-05-24T01:15:12.408035Z"
    },
    "papermill": {
     "duration": 0.046326,
     "end_time": "2023-05-24T01:15:12.410691",
     "exception": false,
     "start_time": "2023-05-24T01:15:12.364365",
     "status": "completed"
    },
    "tags": []
   },
   "outputs": [
    {
     "name": "stdout",
     "output_type": "stream",
     "text": [
      "<class 'pandas.core.frame.DataFrame'>\n",
      "RangeIndex: 515738 entries, 0 to 515737\n",
      "Data columns (total 36 columns):\n",
      " #   Column                                      Non-Null Count   Dtype  \n",
      "---  ------                                      --------------   -----  \n",
      " 0   additional_number_of_scoring                515738 non-null  int64  \n",
      " 1   average_score                               515738 non-null  float64\n",
      " 2   negative_review                             515738 non-null  int64  \n",
      " 3   review_total_negative_word_counts           515738 non-null  int64  \n",
      " 4   total_number_of_reviews                     515738 non-null  int64  \n",
      " 5   positive_review                             515738 non-null  int64  \n",
      " 6   review_total_positive_word_counts           515738 non-null  int64  \n",
      " 7   total_number_of_reviews_reviewer_has_given  515738 non-null  int64  \n",
      " 8   reviewer_score                              515738 non-null  float64\n",
      " 9   days_since_review                           515738 non-null  int64  \n",
      " 10  lat                                         515738 non-null  float64\n",
      " 11  lng                                         515738 non-null  float64\n",
      " 12  sample                                      515738 non-null  int64  \n",
      " 13  foreigner                                   515738 non-null  int64  \n",
      " 14  natio_label                                 515738 non-null  int64  \n",
      " 15  tags_cnt                                    515738 non-null  int64  \n",
      " 16  leisure_trip                                515738 non-null  int64  \n",
      " 17  submitted_from_a_mobile_device              515738 non-null  int64  \n",
      " 18  couple                                      515738 non-null  int64  \n",
      " 19  stayed_1_night                              515738 non-null  int64  \n",
      " 20  stayed_2_nights                             515738 non-null  int64  \n",
      " 21  solo_traveler                               515738 non-null  int64  \n",
      " 22  stayed_3_nights                             515738 non-null  int64  \n",
      " 23  business_trip                               515738 non-null  int64  \n",
      " 24  group                                       515738 non-null  int64  \n",
      " 25  family_with_young_children                  515738 non-null  int64  \n",
      " 26  review_month                                515738 non-null  int64  \n",
      " 27  review_year                                 515738 non-null  int64  \n",
      " 28  season                                      515738 non-null  int64  \n",
      " 29  hotel_label                                 515738 non-null  int64  \n",
      " 30  hotel_country_Austria                       515738 non-null  uint8  \n",
      " 31  hotel_country_France                        515738 non-null  uint8  \n",
      " 32  hotel_country_Italy                         515738 non-null  uint8  \n",
      " 33  hotel_country_Netherlands                   515738 non-null  uint8  \n",
      " 34  hotel_country_Spain                         515738 non-null  uint8  \n",
      " 35  hotel_country_United Kingdom                515738 non-null  uint8  \n",
      "dtypes: float64(4), int64(26), uint8(6)\n",
      "memory usage: 121.0 MB\n"
     ]
    }
   ],
   "source": [
    "data.info()"
   ]
  },
  {
   "attachments": {},
   "cell_type": "markdown",
   "id": "4712640b",
   "metadata": {
    "papermill": {
     "duration": 0.022708,
     "end_time": "2023-05-24T01:15:12.456718",
     "exception": false,
     "start_time": "2023-05-24T01:15:12.434010",
     "status": "completed"
    },
    "tags": []
   },
   "source": [
    "# Корреляционный анализ и оценка значимости признаков"
   ]
  },
  {
   "attachments": {},
   "cell_type": "markdown",
   "id": "437b33dc",
   "metadata": {
    "papermill": {
     "duration": 0.022194,
     "end_time": "2023-05-24T01:15:12.502034",
     "exception": false,
     "start_time": "2023-05-24T01:15:12.479840",
     "status": "completed"
    },
    "tags": []
   },
   "source": [
    "Перед поиском корреляций, созданием и обучением разобъем датафрейм на части, необходимые для обучения и тестирования модели  \n",
    "\n",
    "**Х** — данные с информацией об отелях,  \n",
    "**у** — целевая переменная (рейтинги отелей)"
   ]
  },
  {
   "cell_type": "code",
   "execution_count": 50,
   "id": "1d48f417",
   "metadata": {
    "execution": {
     "iopub.execute_input": "2023-05-24T01:15:12.550354Z",
     "iopub.status.busy": "2023-05-24T01:15:12.549830Z",
     "iopub.status.idle": "2023-05-24T01:15:12.572925Z",
     "shell.execute_reply": "2023-05-24T01:15:12.572272Z"
    },
    "papermill": {
     "duration": 0.049929,
     "end_time": "2023-05-24T01:15:12.574803",
     "exception": false,
     "start_time": "2023-05-24T01:15:12.524874",
     "status": "completed"
    },
    "tags": []
   },
   "outputs": [],
   "source": [
    "# Разбиваем датафрейм на части, необходимые для обучения и тестирования модели  \n",
    "# Х — данные с информацией об отелях, у — целевая переменная (рейтинги отелей)  \n",
    "\n",
    "X = data.drop(['reviewer_score'], axis = 1)  \n",
    "y = data['reviewer_score']"
   ]
  },
  {
   "attachments": {},
   "cell_type": "markdown",
   "id": "59b22a67",
   "metadata": {
    "papermill": {
     "duration": 0.023088,
     "end_time": "2023-05-24T01:15:12.621620",
     "exception": false,
     "start_time": "2023-05-24T01:15:12.598532",
     "status": "completed"
    },
    "tags": []
   },
   "source": [
    "Теперь инициализируем списки непрерывных и категориальных признаков. Они понадобятся нам для дальнейшего анализа:"
   ]
  },
  {
   "cell_type": "code",
   "execution_count": 51,
   "id": "ce26e7e9",
   "metadata": {
    "execution": {
     "iopub.execute_input": "2023-05-24T01:15:12.670972Z",
     "iopub.status.busy": "2023-05-24T01:15:12.670167Z",
     "iopub.status.idle": "2023-05-24T01:15:12.675433Z",
     "shell.execute_reply": "2023-05-24T01:15:12.674872Z"
    },
    "papermill": {
     "duration": 0.032502,
     "end_time": "2023-05-24T01:15:12.677068",
     "exception": false,
     "start_time": "2023-05-24T01:15:12.644566",
     "status": "completed"
    },
    "tags": []
   },
   "outputs": [],
   "source": [
    "# непрерывные признаки\n",
    "num_cols = ['additional_number_of_scoring', 'average_score', 'review_total_negative_word_counts', \n",
    "            'total_number_of_reviews','review_total_positive_word_counts', \n",
    "            'total_number_of_reviews_reviewer_has_given', 'days_since_review', 'tags_cnt', \n",
    "            'review_year', 'review_month'\n",
    "           ]\n",
    "\n",
    "# категориальные признаки\n",
    "cat_cols = ['negative_review', 'positive_review', 'foreigner', 'natio_label', 'leisure_trip', \n",
    "            'submitted_from_a_mobile_device', 'couple', 'stayed_1_night', 'stayed_2_nights', \n",
    "            'solo_traveler', 'stayed_3_nights', 'business_trip', 'group', 'family_with_young_children', \n",
    "            'season', 'hotel_label', 'hotel_country_Austria', 'hotel_country_France', \n",
    "            'hotel_country_Italy', 'hotel_country_Netherlands', 'hotel_country_Spain', \n",
    "            'hotel_country_United Kingdom'\n",
    "           ]"
   ]
  },
  {
   "attachments": {},
   "cell_type": "markdown",
   "id": "cee43bb0",
   "metadata": {
    "papermill": {
     "duration": 0.022703,
     "end_time": "2023-05-24T01:15:12.723497",
     "exception": false,
     "start_time": "2023-05-24T01:15:12.700794",
     "status": "completed"
    },
    "tags": []
   },
   "source": [
    "Построим тепловую матрицу корреляции отдельно для каждого типа признаков. В качестве метода будет использовать корреляцию Спирмена для ненормально распределенных данных:"
   ]
  },
  {
   "cell_type": "code",
   "execution_count": 52,
   "id": "747ff3db",
   "metadata": {
    "execution": {
     "iopub.execute_input": "2023-05-24T01:15:12.771439Z",
     "iopub.status.busy": "2023-05-24T01:15:12.771098Z",
     "iopub.status.idle": "2023-05-24T01:15:16.476177Z",
     "shell.execute_reply": "2023-05-24T01:15:16.475265Z"
    },
    "papermill": {
     "duration": 3.731657,
     "end_time": "2023-05-24T01:15:16.478158",
     "exception": false,
     "start_time": "2023-05-24T01:15:12.746501",
     "status": "completed"
    },
    "tags": []
   },
   "outputs": [
    {
     "data": {
      "image/png": "[encoded data removed]",
      "text/plain": [
       "<Figure size 1500x1000 with 2 Axes>"
      ]
     },
     "metadata": {},
     "output_type": "display_data"
    }
   ],
   "source": [
    "fig, ax = plt.subplots(figsize=(15, 10))\n",
    "\n",
    "corr_cat_matrix = X[cat_cols].corr(method='spearman').abs()\n",
    "matrix = np.triu(X[cat_cols].corr(method='spearman'))\n",
    "\n",
    "sns.heatmap(corr_cat_matrix, \n",
    "            annot=True, \n",
    "            linewidths=0.3, \n",
    "            ax=ax, \n",
    "            mask=matrix, \n",
    "            cmap='coolwarm',\n",
    "            fmt='.2f')\n",
    "\n",
    "ax.set_title('Корреляция категориальных признаков', fontsize=20)\n",
    "\n",
    "plt.show()"
   ]
  },
  {
   "cell_type": "code",
   "execution_count": 53,
   "id": "13ef4da6",
   "metadata": {
    "execution": {
     "iopub.execute_input": "2023-05-24T01:15:16.533014Z",
     "iopub.status.busy": "2023-05-24T01:15:16.532682Z",
     "iopub.status.idle": "2023-05-24T01:15:18.054440Z",
     "shell.execute_reply": "2023-05-24T01:15:18.053612Z"
    },
    "papermill": {
     "duration": 1.551643,
     "end_time": "2023-05-24T01:15:18.056642",
     "exception": false,
     "start_time": "2023-05-24T01:15:16.504999",
     "status": "completed"
    },
    "tags": []
   },
   "outputs": [
    {
     "data": {
      "image/png": "[encoded data removed]",
      "text/plain": [
       "<Figure size 1500x1000 with 2 Axes>"
      ]
     },
     "metadata": {},
     "output_type": "display_data"
    }
   ],
   "source": [
    "fig, ax = plt.subplots(figsize=(15, 10))\n",
    "\n",
    "corr_num_matrix = X[num_cols].corr(method='spearman').abs()\n",
    "matrix = np.triu(X[num_cols].corr(method='spearman'))\n",
    "\n",
    "sns.heatmap(corr_num_matrix, \n",
    "            annot=True, \n",
    "            linewidths=0.3, \n",
    "            ax=ax, \n",
    "            mask=matrix, \n",
    "            cmap='coolwarm',\n",
    "            fmt='.2f')\n",
    "\n",
    "ax.set_title('Корреляция непрерывных признаков', fontsize=20)\n",
    "\n",
    "plt.show()"
   ]
  },
  {
   "attachments": {},
   "cell_type": "markdown",
   "id": "8dcce4f2",
   "metadata": {
    "papermill": {
     "duration": 0.026112,
     "end_time": "2023-05-24T01:15:18.110884",
     "exception": false,
     "start_time": "2023-05-24T01:15:18.084772",
     "status": "completed"
    },
    "tags": []
   },
   "source": [
    "Мы обнаружили 3 пары мультиколлинеарных признаков: **пара тегов business_trip и leisure_trip** среди категориальных, и две пары **review_year - days_since_review** и **additional_number_of_scoring и total_number_of_reviews** среди числовых.  \n",
    "\n",
    "Для оценки значимости категориальных признаков будем использовать тест хи-квадрат, для непрерывных признаков — функцию f_classif из библиотеки sklearn, в основе которой лежит статистический тест ANOVA."
   ]
  },
  {
   "cell_type": "code",
   "execution_count": 54,
   "id": "f729d974",
   "metadata": {
    "execution": {
     "iopub.execute_input": "2023-05-24T01:15:18.163880Z",
     "iopub.status.busy": "2023-05-24T01:15:18.163562Z",
     "iopub.status.idle": "2023-05-24T01:15:18.580432Z",
     "shell.execute_reply": "2023-05-24T01:15:18.579543Z"
    },
    "papermill": {
     "duration": 0.445647,
     "end_time": "2023-05-24T01:15:18.582163",
     "exception": false,
     "start_time": "2023-05-24T01:15:18.136516",
     "status": "completed"
    },
    "tags": []
   },
   "outputs": [
    {
     "data": {
      "image/png": "[encoded data removed]",
      "text/plain": [
       "<Figure size 640x480 with 1 Axes>"
      ]
     },
     "metadata": {},
     "output_type": "display_data"
    }
   ],
   "source": [
    "y_int = y.astype('int')\n",
    "\n",
    "# хи-квадрат, оценка значимости категориальных переменных\n",
    "\n",
    "imp_cat = pd.Series(chi2(X[cat_cols], y_int)[0], index=cat_cols)\n",
    "imp_cat.sort_values(inplace = True)\n",
    "imp_cat.plot(kind = 'barh');"
   ]
  },
  {
   "attachments": {},
   "cell_type": "markdown",
   "id": "9236e5ca",
   "metadata": {
    "papermill": {
     "duration": 0.027616,
     "end_time": "2023-05-24T01:15:18.637877",
     "exception": false,
     "start_time": "2023-05-24T01:15:18.610261",
     "status": "completed"
    },
    "tags": []
   },
   "source": [
    "По графику важности категориальных признаков мы можем понять, что признак hotel_label важнее, чем negative_review, в определении рейтинга отеля."
   ]
  },
  {
   "cell_type": "code",
   "execution_count": 55,
   "id": "b4db9da2",
   "metadata": {
    "execution": {
     "iopub.execute_input": "2023-05-24T01:15:18.696956Z",
     "iopub.status.busy": "2023-05-24T01:15:18.695913Z",
     "iopub.status.idle": "2023-05-24T01:15:19.029485Z",
     "shell.execute_reply": "2023-05-24T01:15:19.028664Z"
    },
    "papermill": {
     "duration": 0.365017,
     "end_time": "2023-05-24T01:15:19.031121",
     "exception": false,
     "start_time": "2023-05-24T01:15:18.666104",
     "status": "completed"
    },
    "tags": []
   },
   "outputs": [
    {
     "data": {
      "image/png": "[encoded data removed]",
      "text/plain": [
       "<Figure size 640x480 with 1 Axes>"
      ]
     },
     "metadata": {},
     "output_type": "display_data"
    }
   ],
   "source": [
    "# оценка значимости непрерывных переменных\n",
    "\n",
    "imp_num = pd.Series(f_classif(X[num_cols], y)[0], index = num_cols)\n",
    "imp_num.sort_values(inplace = True)\n",
    "imp_num.plot(kind = 'barh');"
   ]
  },
  {
   "attachments": {},
   "cell_type": "markdown",
   "id": "911856a6",
   "metadata": {
    "papermill": {
     "duration": 0.028656,
     "end_time": "2023-05-24T01:15:19.088479",
     "exception": false,
     "start_time": "2023-05-24T01:15:19.059823",
     "status": "completed"
    },
    "tags": []
   },
   "source": [
    "По графику важности непрерывных признаков можно понять, что признак review_total_negative_word_counts важнее, чем review_total_positive_word_counts, в определении рейтинга отеля.\n",
    "\n",
    "**Примечание**: *следующий этап - отбор признаков. Согласно проведенному выше корреляционному анализу и тесту значимости некоторые признаки менее значимы и незначительно влияют на качество модели. Кроме того, принято удалять мультиколлинеарные признаки с коэффициентом 0.7 и выше. Однако на практике удаление данных признаков значительно ухудшило показатель метрики точности. Модель интерпретировала данные признаки как не менее важные при проектировании, поэтому я отказался от их удаления.* "
   ]
  },
  {
   "attachments": {},
   "cell_type": "markdown",
   "id": "7ec86418",
   "metadata": {
    "papermill": {
     "duration": 0.027305,
     "end_time": "2023-05-24T01:15:19.144109",
     "exception": false,
     "start_time": "2023-05-24T01:15:19.116804",
     "status": "completed"
    },
    "tags": []
   },
   "source": [
    "# Создание и обучение модели"
   ]
  },
  {
   "cell_type": "code",
   "execution_count": 56,
   "id": "bbfec541",
   "metadata": {
    "execution": {
     "iopub.execute_input": "2023-05-24T01:15:19.200685Z",
     "iopub.status.busy": "2023-05-24T01:15:19.200169Z",
     "iopub.status.idle": "2023-05-24T01:15:19.397163Z",
     "shell.execute_reply": "2023-05-24T01:15:19.396523Z"
    },
    "papermill": {
     "duration": 0.227738,
     "end_time": "2023-05-24T01:15:19.399062",
     "exception": false,
     "start_time": "2023-05-24T01:15:19.171324",
     "status": "completed"
    },
    "tags": []
   },
   "outputs": [],
   "source": [
    "# выделим тестовую часть\n",
    "train_data = data.query('sample == 1').drop(['sample'], axis=1)\n",
    "test_data = data.query('sample == 0').drop(['sample'], axis=1)\n",
    "\n",
    "y = train_data.reviewer_score.values # наш таргет\n",
    "X = train_data.drop(['reviewer_score'], axis=1)\n",
    "\n",
    "# воспользуемся функцией train_test_split для разбивки тестовых данных\n",
    "# выделим 20% данных на валидацию (параметр test_size)\n",
    "\n",
    "X_train, X_test, y_train, y_test = train_test_split(X, y, test_size=0.2, random_state=RANDOM_SEED)"
   ]
  },
  {
   "cell_type": "code",
   "execution_count": 57,
   "id": "a1143782",
   "metadata": {
    "execution": {
     "iopub.execute_input": "2023-05-24T01:15:19.456356Z",
     "iopub.status.busy": "2023-05-24T01:15:19.455772Z",
     "iopub.status.idle": "2023-05-24T01:15:19.461424Z",
     "shell.execute_reply": "2023-05-24T01:15:19.460621Z"
    },
    "papermill": {
     "duration": 0.035665,
     "end_time": "2023-05-24T01:15:19.462984",
     "exception": false,
     "start_time": "2023-05-24T01:15:19.427319",
     "status": "completed"
    },
    "tags": []
   },
   "outputs": [
    {
     "data": {
      "text/plain": [
       "((128935, 35), (386803, 35), (386803, 34), (309442, 34), (77361, 34))"
      ]
     },
     "execution_count": 57,
     "metadata": {},
     "output_type": "execute_result"
    }
   ],
   "source": [
    "# проверяем\n",
    "\n",
    "test_data.shape, train_data.shape, X.shape, X_train.shape, X_test.shape"
   ]
  },
  {
   "cell_type": "code",
   "execution_count": 58,
   "id": "78cf2e03",
   "metadata": {
    "execution": {
     "iopub.execute_input": "2023-05-24T01:15:19.519981Z",
     "iopub.status.busy": "2023-05-24T01:15:19.519666Z",
     "iopub.status.idle": "2023-05-24T01:15:19.524007Z",
     "shell.execute_reply": "2023-05-24T01:15:19.523112Z"
    },
    "papermill": {
     "duration": 0.035551,
     "end_time": "2023-05-24T01:15:19.525735",
     "exception": false,
     "start_time": "2023-05-24T01:15:19.490184",
     "status": "completed"
    },
    "tags": []
   },
   "outputs": [],
   "source": [
    "# cоздаём модель\n",
    "\n",
    "model = RandomForestRegressor(n_estimators=100, verbose=1, n_jobs=-1, random_state=RANDOM_SEED)"
   ]
  },
  {
   "cell_type": "code",
   "execution_count": 59,
   "id": "df5cb01c",
   "metadata": {
    "execution": {
     "iopub.execute_input": "2023-05-24T01:15:19.584406Z",
     "iopub.status.busy": "2023-05-24T01:15:19.583846Z",
     "iopub.status.idle": "2023-05-24T01:17:16.115141Z",
     "shell.execute_reply": "2023-05-24T01:17:16.114560Z"
    },
    "papermill": {
     "duration": 116.562941,
     "end_time": "2023-05-24T01:17:16.117692",
     "exception": false,
     "start_time": "2023-05-24T01:15:19.554751",
     "status": "completed"
    },
    "tags": []
   },
   "outputs": [
    {
     "name": "stderr",
     "output_type": "stream",
     "text": [
      "[Parallel(n_jobs=-1)]: Using backend ThreadingBackend with 4 concurrent workers.\n",
      "[Parallel(n_jobs=-1)]: Done  42 tasks      | elapsed:   48.8s\n",
      "[Parallel(n_jobs=-1)]: Done 100 out of 100 | elapsed:  1.9min finished\n",
      "[Parallel(n_jobs=4)]: Using backend ThreadingBackend with 4 concurrent workers.\n",
      "[Parallel(n_jobs=4)]: Done  42 tasks      | elapsed:    0.5s\n",
      "[Parallel(n_jobs=4)]: Done 100 out of 100 | elapsed:    1.1s finished\n"
     ]
    }
   ],
   "source": [
    "# обучаем модель на тестовом наборе данных\n",
    "\n",
    "model.fit(X_train, y_train)\n",
    "\n",
    "# используем обученную модель для предсказания рейтинга ресторанов в тестовой выборке.\n",
    "# предсказанные значения записываем в переменную y_pred\n",
    "\n",
    "y_pred = model.predict(X_test)"
   ]
  },
  {
   "cell_type": "code",
   "execution_count": 60,
   "id": "2ced671e",
   "metadata": {
    "execution": {
     "iopub.execute_input": "2023-05-24T01:17:16.176946Z",
     "iopub.status.busy": "2023-05-24T01:17:16.176265Z",
     "iopub.status.idle": "2023-05-24T01:17:16.183569Z",
     "shell.execute_reply": "2023-05-24T01:17:16.182531Z"
    },
    "papermill": {
     "duration": 0.038686,
     "end_time": "2023-05-24T01:17:16.185409",
     "exception": false,
     "start_time": "2023-05-24T01:17:16.146723",
     "status": "completed"
    },
    "tags": []
   },
   "outputs": [
    {
     "name": "stdout",
     "output_type": "stream",
     "text": [
      "MAPE: 13.307339656787107\n"
     ]
    }
   ],
   "source": [
    "# оцениваем точность прогноза\n",
    "\n",
    "def mean_absolute_percentage_error(y_true, y_pred): \n",
    "    y_true, y_pred = np.array(y_true), np.array(y_pred)\n",
    "    return np.mean(np.abs((y_true - y_pred) / y_true)) * 100\n",
    "\n",
    "print('MAPE:', mean_absolute_percentage_error(y_test, y_pred))"
   ]
  },
  {
   "cell_type": "code",
   "execution_count": 61,
   "id": "0bc3538e",
   "metadata": {
    "execution": {
     "iopub.execute_input": "2023-05-24T01:17:16.247539Z",
     "iopub.status.busy": "2023-05-24T01:17:16.247224Z",
     "iopub.status.idle": "2023-05-24T01:17:16.592039Z",
     "shell.execute_reply": "2023-05-24T01:17:16.591188Z"
    },
    "papermill": {
     "duration": 0.377681,
     "end_time": "2023-05-24T01:17:16.593868",
     "exception": false,
     "start_time": "2023-05-24T01:17:16.216187",
     "status": "completed"
    },
    "tags": []
   },
   "outputs": [
    {
     "data": {
      "image/png": "[encoded data removed]",
      "text/plain": [
       "<Figure size 1000x1000 with 1 Axes>"
      ]
     },
     "metadata": {},
     "output_type": "display_data"
    }
   ],
   "source": [
    "# в RandomForestRegressor есть возможность вывести самые важные признаки для модели\n",
    "\n",
    "plt.rcParams['figure.figsize'] = (10,10)\n",
    "feat_importances = pd.Series(model.feature_importances_, index=X.columns)\n",
    "feat_importances.nlargest(15).plot(kind='barh');"
   ]
  },
  {
   "cell_type": "code",
   "execution_count": 62,
   "id": "b36fe0bb",
   "metadata": {
    "execution": {
     "iopub.execute_input": "2023-05-24T01:17:16.655816Z",
     "iopub.status.busy": "2023-05-24T01:17:16.655490Z",
     "iopub.status.idle": "2023-05-24T01:17:16.678433Z",
     "shell.execute_reply": "2023-05-24T01:17:16.677562Z"
    },
    "papermill": {
     "duration": 0.056218,
     "end_time": "2023-05-24T01:17:16.680190",
     "exception": false,
     "start_time": "2023-05-24T01:17:16.623972",
     "status": "completed"
    },
    "tags": []
   },
   "outputs": [
    {
     "data": {
      "text/html": [
       "<div>\n",
       "<style scoped>\n",
       "    .dataframe tbody tr th:only-of-type {\n",
       "        vertical-align: middle;\n",
       "    }\n",
       "\n",
       "    .dataframe tbody tr th {\n",
       "        vertical-align: top;\n",
       "    }\n",
       "\n",
       "    .dataframe thead th {\n",
       "        text-align: right;\n",
       "    }\n",
       "</style>\n",
       "<table border=\"1\" class=\"dataframe\">\n",
       "  <thead>\n",
       "    <tr style=\"text-align: right;\">\n",
       "      <th></th>\n",
       "      <th>additional_number_of_scoring</th>\n",
       "      <th>average_score</th>\n",
       "      <th>negative_review</th>\n",
       "      <th>review_total_negative_word_counts</th>\n",
       "      <th>total_number_of_reviews</th>\n",
       "      <th>positive_review</th>\n",
       "      <th>review_total_positive_word_counts</th>\n",
       "      <th>total_number_of_reviews_reviewer_has_given</th>\n",
       "      <th>reviewer_score</th>\n",
       "      <th>days_since_review</th>\n",
       "      <th>...</th>\n",
       "      <th>review_month</th>\n",
       "      <th>review_year</th>\n",
       "      <th>season</th>\n",
       "      <th>hotel_label</th>\n",
       "      <th>hotel_country_Austria</th>\n",
       "      <th>hotel_country_France</th>\n",
       "      <th>hotel_country_Italy</th>\n",
       "      <th>hotel_country_Netherlands</th>\n",
       "      <th>hotel_country_Spain</th>\n",
       "      <th>hotel_country_United Kingdom</th>\n",
       "    </tr>\n",
       "  </thead>\n",
       "  <tbody>\n",
       "    <tr>\n",
       "      <th>450270</th>\n",
       "      <td>487</td>\n",
       "      <td>8.8</td>\n",
       "      <td>0</td>\n",
       "      <td>0</td>\n",
       "      <td>1805</td>\n",
       "      <td>1</td>\n",
       "      <td>48</td>\n",
       "      <td>5</td>\n",
       "      <td>0.0</td>\n",
       "      <td>392</td>\n",
       "      <td>...</td>\n",
       "      <td>7</td>\n",
       "      <td>2016</td>\n",
       "      <td>3</td>\n",
       "      <td>291</td>\n",
       "      <td>0</td>\n",
       "      <td>0</td>\n",
       "      <td>0</td>\n",
       "      <td>0</td>\n",
       "      <td>0</td>\n",
       "      <td>1</td>\n",
       "    </tr>\n",
       "    <tr>\n",
       "      <th>390241</th>\n",
       "      <td>251</td>\n",
       "      <td>9.0</td>\n",
       "      <td>0</td>\n",
       "      <td>0</td>\n",
       "      <td>2304</td>\n",
       "      <td>1</td>\n",
       "      <td>16</td>\n",
       "      <td>1</td>\n",
       "      <td>0.0</td>\n",
       "      <td>591</td>\n",
       "      <td>...</td>\n",
       "      <td>12</td>\n",
       "      <td>2015</td>\n",
       "      <td>1</td>\n",
       "      <td>560</td>\n",
       "      <td>1</td>\n",
       "      <td>0</td>\n",
       "      <td>0</td>\n",
       "      <td>0</td>\n",
       "      <td>0</td>\n",
       "      <td>0</td>\n",
       "    </tr>\n",
       "    <tr>\n",
       "      <th>514347</th>\n",
       "      <td>465</td>\n",
       "      <td>8.9</td>\n",
       "      <td>0</td>\n",
       "      <td>0</td>\n",
       "      <td>2543</td>\n",
       "      <td>1</td>\n",
       "      <td>20</td>\n",
       "      <td>9</td>\n",
       "      <td>0.0</td>\n",
       "      <td>358</td>\n",
       "      <td>...</td>\n",
       "      <td>8</td>\n",
       "      <td>2016</td>\n",
       "      <td>3</td>\n",
       "      <td>1320</td>\n",
       "      <td>0</td>\n",
       "      <td>0</td>\n",
       "      <td>0</td>\n",
       "      <td>0</td>\n",
       "      <td>0</td>\n",
       "      <td>1</td>\n",
       "    </tr>\n",
       "    <tr>\n",
       "      <th>485274</th>\n",
       "      <td>120</td>\n",
       "      <td>8.4</td>\n",
       "      <td>1</td>\n",
       "      <td>17</td>\n",
       "      <td>918</td>\n",
       "      <td>1</td>\n",
       "      <td>5</td>\n",
       "      <td>1</td>\n",
       "      <td>0.0</td>\n",
       "      <td>266</td>\n",
       "      <td>...</td>\n",
       "      <td>11</td>\n",
       "      <td>2016</td>\n",
       "      <td>4</td>\n",
       "      <td>346</td>\n",
       "      <td>0</td>\n",
       "      <td>0</td>\n",
       "      <td>0</td>\n",
       "      <td>0</td>\n",
       "      <td>0</td>\n",
       "      <td>1</td>\n",
       "    </tr>\n",
       "    <tr>\n",
       "      <th>428817</th>\n",
       "      <td>211</td>\n",
       "      <td>8.9</td>\n",
       "      <td>1</td>\n",
       "      <td>15</td>\n",
       "      <td>2412</td>\n",
       "      <td>1</td>\n",
       "      <td>44</td>\n",
       "      <td>13</td>\n",
       "      <td>0.0</td>\n",
       "      <td>302</td>\n",
       "      <td>...</td>\n",
       "      <td>10</td>\n",
       "      <td>2016</td>\n",
       "      <td>4</td>\n",
       "      <td>752</td>\n",
       "      <td>0</td>\n",
       "      <td>1</td>\n",
       "      <td>0</td>\n",
       "      <td>0</td>\n",
       "      <td>0</td>\n",
       "      <td>0</td>\n",
       "    </tr>\n",
       "    <tr>\n",
       "      <th>450079</th>\n",
       "      <td>832</td>\n",
       "      <td>9.1</td>\n",
       "      <td>1</td>\n",
       "      <td>45</td>\n",
       "      <td>4672</td>\n",
       "      <td>1</td>\n",
       "      <td>2</td>\n",
       "      <td>1</td>\n",
       "      <td>0.0</td>\n",
       "      <td>45</td>\n",
       "      <td>...</td>\n",
       "      <td>6</td>\n",
       "      <td>2017</td>\n",
       "      <td>3</td>\n",
       "      <td>1489</td>\n",
       "      <td>0</td>\n",
       "      <td>0</td>\n",
       "      <td>0</td>\n",
       "      <td>0</td>\n",
       "      <td>0</td>\n",
       "      <td>1</td>\n",
       "    </tr>\n",
       "    <tr>\n",
       "      <th>448847</th>\n",
       "      <td>229</td>\n",
       "      <td>8.9</td>\n",
       "      <td>1</td>\n",
       "      <td>22</td>\n",
       "      <td>2369</td>\n",
       "      <td>1</td>\n",
       "      <td>34</td>\n",
       "      <td>8</td>\n",
       "      <td>0.0</td>\n",
       "      <td>95</td>\n",
       "      <td>...</td>\n",
       "      <td>4</td>\n",
       "      <td>2017</td>\n",
       "      <td>2</td>\n",
       "      <td>1068</td>\n",
       "      <td>0</td>\n",
       "      <td>0</td>\n",
       "      <td>0</td>\n",
       "      <td>0</td>\n",
       "      <td>1</td>\n",
       "      <td>0</td>\n",
       "    </tr>\n",
       "    <tr>\n",
       "      <th>487877</th>\n",
       "      <td>84</td>\n",
       "      <td>8.6</td>\n",
       "      <td>1</td>\n",
       "      <td>28</td>\n",
       "      <td>823</td>\n",
       "      <td>1</td>\n",
       "      <td>7</td>\n",
       "      <td>7</td>\n",
       "      <td>0.0</td>\n",
       "      <td>289</td>\n",
       "      <td>...</td>\n",
       "      <td>10</td>\n",
       "      <td>2016</td>\n",
       "      <td>4</td>\n",
       "      <td>351</td>\n",
       "      <td>0</td>\n",
       "      <td>1</td>\n",
       "      <td>0</td>\n",
       "      <td>0</td>\n",
       "      <td>0</td>\n",
       "      <td>0</td>\n",
       "    </tr>\n",
       "    <tr>\n",
       "      <th>427462</th>\n",
       "      <td>130</td>\n",
       "      <td>8.2</td>\n",
       "      <td>1</td>\n",
       "      <td>30</td>\n",
       "      <td>939</td>\n",
       "      <td>0</td>\n",
       "      <td>0</td>\n",
       "      <td>1</td>\n",
       "      <td>0.0</td>\n",
       "      <td>198</td>\n",
       "      <td>...</td>\n",
       "      <td>1</td>\n",
       "      <td>2017</td>\n",
       "      <td>1</td>\n",
       "      <td>1450</td>\n",
       "      <td>1</td>\n",
       "      <td>0</td>\n",
       "      <td>0</td>\n",
       "      <td>0</td>\n",
       "      <td>0</td>\n",
       "      <td>0</td>\n",
       "    </tr>\n",
       "    <tr>\n",
       "      <th>406587</th>\n",
       "      <td>145</td>\n",
       "      <td>8.4</td>\n",
       "      <td>0</td>\n",
       "      <td>0</td>\n",
       "      <td>1679</td>\n",
       "      <td>1</td>\n",
       "      <td>9</td>\n",
       "      <td>2</td>\n",
       "      <td>0.0</td>\n",
       "      <td>725</td>\n",
       "      <td>...</td>\n",
       "      <td>8</td>\n",
       "      <td>2015</td>\n",
       "      <td>3</td>\n",
       "      <td>1077</td>\n",
       "      <td>0</td>\n",
       "      <td>0</td>\n",
       "      <td>0</td>\n",
       "      <td>0</td>\n",
       "      <td>1</td>\n",
       "      <td>0</td>\n",
       "    </tr>\n",
       "  </tbody>\n",
       "</table>\n",
       "<p>10 rows × 35 columns</p>\n",
       "</div>"
      ],
      "text/plain": [
       "        additional_number_of_scoring  average_score  negative_review  \\\n",
       "450270                           487            8.8                0   \n",
       "390241                           251            9.0                0   \n",
       "514347                           465            8.9                0   \n",
       "485274                           120            8.4                1   \n",
       "428817                           211            8.9                1   \n",
       "450079                           832            9.1                1   \n",
       "448847                           229            8.9                1   \n",
       "487877                            84            8.6                1   \n",
       "427462                           130            8.2                1   \n",
       "406587                           145            8.4                0   \n",
       "\n",
       "        review_total_negative_word_counts  total_number_of_reviews  \\\n",
       "450270                                  0                     1805   \n",
       "390241                                  0                     2304   \n",
       "514347                                  0                     2543   \n",
       "485274                                 17                      918   \n",
       "428817                                 15                     2412   \n",
       "450079                                 45                     4672   \n",
       "448847                                 22                     2369   \n",
       "487877                                 28                      823   \n",
       "427462                                 30                      939   \n",
       "406587                                  0                     1679   \n",
       "\n",
       "        positive_review  review_total_positive_word_counts  \\\n",
       "450270                1                                 48   \n",
       "390241                1                                 16   \n",
       "514347                1                                 20   \n",
       "485274                1                                  5   \n",
       "428817                1                                 44   \n",
       "450079                1                                  2   \n",
       "448847                1                                 34   \n",
       "487877                1                                  7   \n",
       "427462                0                                  0   \n",
       "406587                1                                  9   \n",
       "\n",
       "        total_number_of_reviews_reviewer_has_given  reviewer_score  \\\n",
       "450270                                           5             0.0   \n",
       "390241                                           1             0.0   \n",
       "514347                                           9             0.0   \n",
       "485274                                           1             0.0   \n",
       "428817                                          13             0.0   \n",
       "450079                                           1             0.0   \n",
       "448847                                           8             0.0   \n",
       "487877                                           7             0.0   \n",
       "427462                                           1             0.0   \n",
       "406587                                           2             0.0   \n",
       "\n",
       "        days_since_review  ...  review_month  review_year  season  \\\n",
       "450270                392  ...             7         2016       3   \n",
       "390241                591  ...            12         2015       1   \n",
       "514347                358  ...             8         2016       3   \n",
       "485274                266  ...            11         2016       4   \n",
       "428817                302  ...            10         2016       4   \n",
       "450079                 45  ...             6         2017       3   \n",
       "448847                 95  ...             4         2017       2   \n",
       "487877                289  ...            10         2016       4   \n",
       "427462                198  ...             1         2017       1   \n",
       "406587                725  ...             8         2015       3   \n",
       "\n",
       "        hotel_label  hotel_country_Austria  hotel_country_France  \\\n",
       "450270          291                      0                     0   \n",
       "390241          560                      1                     0   \n",
       "514347         1320                      0                     0   \n",
       "485274          346                      0                     0   \n",
       "428817          752                      0                     1   \n",
       "450079         1489                      0                     0   \n",
       "448847         1068                      0                     0   \n",
       "487877          351                      0                     1   \n",
       "427462         1450                      1                     0   \n",
       "406587         1077                      0                     0   \n",
       "\n",
       "        hotel_country_Italy  hotel_country_Netherlands  hotel_country_Spain  \\\n",
       "450270                    0                          0                    0   \n",
       "390241                    0                          0                    0   \n",
       "514347                    0                          0                    0   \n",
       "485274                    0                          0                    0   \n",
       "428817                    0                          0                    0   \n",
       "450079                    0                          0                    0   \n",
       "448847                    0                          0                    1   \n",
       "487877                    0                          0                    0   \n",
       "427462                    0                          0                    0   \n",
       "406587                    0                          0                    1   \n",
       "\n",
       "        hotel_country_United Kingdom  \n",
       "450270                             1  \n",
       "390241                             0  \n",
       "514347                             1  \n",
       "485274                             1  \n",
       "428817                             0  \n",
       "450079                             1  \n",
       "448847                             0  \n",
       "487877                             0  \n",
       "427462                             0  \n",
       "406587                             0  \n",
       "\n",
       "[10 rows x 35 columns]"
      ]
     },
     "execution_count": 62,
     "metadata": {},
     "output_type": "execute_result"
    }
   ],
   "source": [
    "test_data.sample(10)"
   ]
  },
  {
   "cell_type": "code",
   "execution_count": 63,
   "id": "3f4ba789",
   "metadata": {
    "execution": {
     "iopub.execute_input": "2023-05-24T01:17:16.741403Z",
     "iopub.status.busy": "2023-05-24T01:17:16.741089Z",
     "iopub.status.idle": "2023-05-24T01:17:16.749020Z",
     "shell.execute_reply": "2023-05-24T01:17:16.748304Z"
    },
    "papermill": {
     "duration": 0.040342,
     "end_time": "2023-05-24T01:17:16.751013",
     "exception": false,
     "start_time": "2023-05-24T01:17:16.710671",
     "status": "completed"
    },
    "tags": []
   },
   "outputs": [],
   "source": [
    "test_data = test_data.drop(['reviewer_score'], axis=1)"
   ]
  },
  {
   "cell_type": "code",
   "execution_count": 64,
   "id": "6f100d85",
   "metadata": {
    "execution": {
     "iopub.execute_input": "2023-05-24T01:17:16.814181Z",
     "iopub.status.busy": "2023-05-24T01:17:16.813248Z",
     "iopub.status.idle": "2023-05-24T01:17:16.822446Z",
     "shell.execute_reply": "2023-05-24T01:17:16.821622Z"
    },
    "papermill": {
     "duration": 0.04292,
     "end_time": "2023-05-24T01:17:16.824089",
     "exception": false,
     "start_time": "2023-05-24T01:17:16.781169",
     "status": "completed"
    },
    "tags": []
   },
   "outputs": [
    {
     "data": {
      "text/html": [
       "<div>\n",
       "<style scoped>\n",
       "    .dataframe tbody tr th:only-of-type {\n",
       "        vertical-align: middle;\n",
       "    }\n",
       "\n",
       "    .dataframe tbody tr th {\n",
       "        vertical-align: top;\n",
       "    }\n",
       "\n",
       "    .dataframe thead th {\n",
       "        text-align: right;\n",
       "    }\n",
       "</style>\n",
       "<table border=\"1\" class=\"dataframe\">\n",
       "  <thead>\n",
       "    <tr style=\"text-align: right;\">\n",
       "      <th></th>\n",
       "      <th>reviewer_score</th>\n",
       "      <th>id</th>\n",
       "    </tr>\n",
       "  </thead>\n",
       "  <tbody>\n",
       "    <tr>\n",
       "      <th>0</th>\n",
       "      <td>1</td>\n",
       "      <td>488440</td>\n",
       "    </tr>\n",
       "    <tr>\n",
       "      <th>1</th>\n",
       "      <td>10</td>\n",
       "      <td>274649</td>\n",
       "    </tr>\n",
       "    <tr>\n",
       "      <th>2</th>\n",
       "      <td>3</td>\n",
       "      <td>374688</td>\n",
       "    </tr>\n",
       "    <tr>\n",
       "      <th>3</th>\n",
       "      <td>10</td>\n",
       "      <td>404352</td>\n",
       "    </tr>\n",
       "    <tr>\n",
       "      <th>4</th>\n",
       "      <td>9</td>\n",
       "      <td>451596</td>\n",
       "    </tr>\n",
       "    <tr>\n",
       "      <th>...</th>\n",
       "      <td>...</td>\n",
       "      <td>...</td>\n",
       "    </tr>\n",
       "    <tr>\n",
       "      <th>128930</th>\n",
       "      <td>7</td>\n",
       "      <td>495812</td>\n",
       "    </tr>\n",
       "    <tr>\n",
       "      <th>128931</th>\n",
       "      <td>1</td>\n",
       "      <td>315577</td>\n",
       "    </tr>\n",
       "    <tr>\n",
       "      <th>128932</th>\n",
       "      <td>3</td>\n",
       "      <td>511968</td>\n",
       "    </tr>\n",
       "    <tr>\n",
       "      <th>128933</th>\n",
       "      <td>6</td>\n",
       "      <td>303386</td>\n",
       "    </tr>\n",
       "    <tr>\n",
       "      <th>128934</th>\n",
       "      <td>5</td>\n",
       "      <td>103157</td>\n",
       "    </tr>\n",
       "  </tbody>\n",
       "</table>\n",
       "<p>128935 rows × 2 columns</p>\n",
       "</div>"
      ],
      "text/plain": [
       "        reviewer_score      id\n",
       "0                    1  488440\n",
       "1                   10  274649\n",
       "2                    3  374688\n",
       "3                   10  404352\n",
       "4                    9  451596\n",
       "...                ...     ...\n",
       "128930               7  495812\n",
       "128931               1  315577\n",
       "128932               3  511968\n",
       "128933               6  303386\n",
       "128934               5  103157\n",
       "\n",
       "[128935 rows x 2 columns]"
      ]
     },
     "execution_count": 64,
     "metadata": {},
     "output_type": "execute_result"
    }
   ],
   "source": [
    "sample_submission"
   ]
  },
  {
   "cell_type": "code",
   "execution_count": 65,
   "id": "6d9e5633",
   "metadata": {
    "execution": {
     "iopub.execute_input": "2023-05-24T01:17:16.888195Z",
     "iopub.status.busy": "2023-05-24T01:17:16.887885Z",
     "iopub.status.idle": "2023-05-24T01:17:18.868233Z",
     "shell.execute_reply": "2023-05-24T01:17:18.867362Z"
    },
    "papermill": {
     "duration": 2.014497,
     "end_time": "2023-05-24T01:17:18.869857",
     "exception": false,
     "start_time": "2023-05-24T01:17:16.855360",
     "status": "completed"
    },
    "tags": []
   },
   "outputs": [
    {
     "name": "stderr",
     "output_type": "stream",
     "text": [
      "[Parallel(n_jobs=4)]: Using backend ThreadingBackend with 4 concurrent workers.\n",
      "[Parallel(n_jobs=4)]: Done  42 tasks      | elapsed:    0.8s\n",
      "[Parallel(n_jobs=4)]: Done 100 out of 100 | elapsed:    2.0s finished\n"
     ]
    }
   ],
   "source": [
    "predict_submission = model.predict(test_data)"
   ]
  },
  {
   "cell_type": "code",
   "execution_count": 66,
   "id": "7287d63f",
   "metadata": {
    "execution": {
     "iopub.execute_input": "2023-05-24T01:17:18.931999Z",
     "iopub.status.busy": "2023-05-24T01:17:18.931666Z",
     "iopub.status.idle": "2023-05-24T01:17:18.937519Z",
     "shell.execute_reply": "2023-05-24T01:17:18.936687Z"
    },
    "papermill": {
     "duration": 0.039174,
     "end_time": "2023-05-24T01:17:18.939253",
     "exception": false,
     "start_time": "2023-05-24T01:17:18.900079",
     "status": "completed"
    },
    "tags": []
   },
   "outputs": [
    {
     "data": {
      "text/plain": [
       "array([8.721, 6.598, 7.63 , ..., 7.847, 9.505, 7.495])"
      ]
     },
     "execution_count": 66,
     "metadata": {},
     "output_type": "execute_result"
    }
   ],
   "source": [
    "predict_submission"
   ]
  },
  {
   "cell_type": "code",
   "execution_count": 67,
   "id": "93261e2b",
   "metadata": {
    "execution": {
     "iopub.execute_input": "2023-05-24T01:17:19.002434Z",
     "iopub.status.busy": "2023-05-24T01:17:19.001752Z",
     "iopub.status.idle": "2023-05-24T01:17:19.007526Z",
     "shell.execute_reply": "2023-05-24T01:17:19.006801Z"
    },
    "papermill": {
     "duration": 0.038763,
     "end_time": "2023-05-24T01:17:19.009144",
     "exception": false,
     "start_time": "2023-05-24T01:17:18.970381",
     "status": "completed"
    },
    "tags": []
   },
   "outputs": [
    {
     "data": {
      "text/plain": [
       "['reviewer_score', 'id']"
      ]
     },
     "execution_count": 67,
     "metadata": {},
     "output_type": "execute_result"
    }
   ],
   "source": [
    "list(sample_submission)"
   ]
  },
  {
   "cell_type": "code",
   "execution_count": 68,
   "id": "f266c226",
   "metadata": {
    "execution": {
     "iopub.execute_input": "2023-05-24T01:17:19.072177Z",
     "iopub.status.busy": "2023-05-24T01:17:19.071647Z",
     "iopub.status.idle": "2023-05-24T01:17:19.281891Z",
     "shell.execute_reply": "2023-05-24T01:17:19.281167Z"
    },
    "papermill": {
     "duration": 0.243904,
     "end_time": "2023-05-24T01:17:19.283592",
     "exception": false,
     "start_time": "2023-05-24T01:17:19.039688",
     "status": "completed"
    },
    "tags": []
   },
   "outputs": [
    {
     "data": {
      "text/html": [
       "<div>\n",
       "<style scoped>\n",
       "    .dataframe tbody tr th:only-of-type {\n",
       "        vertical-align: middle;\n",
       "    }\n",
       "\n",
       "    .dataframe tbody tr th {\n",
       "        vertical-align: top;\n",
       "    }\n",
       "\n",
       "    .dataframe thead th {\n",
       "        text-align: right;\n",
       "    }\n",
       "</style>\n",
       "<table border=\"1\" class=\"dataframe\">\n",
       "  <thead>\n",
       "    <tr style=\"text-align: right;\">\n",
       "      <th></th>\n",
       "      <th>reviewer_score</th>\n",
       "      <th>id</th>\n",
       "    </tr>\n",
       "  </thead>\n",
       "  <tbody>\n",
       "    <tr>\n",
       "      <th>0</th>\n",
       "      <td>8.721</td>\n",
       "      <td>488440</td>\n",
       "    </tr>\n",
       "    <tr>\n",
       "      <th>1</th>\n",
       "      <td>6.598</td>\n",
       "      <td>274649</td>\n",
       "    </tr>\n",
       "    <tr>\n",
       "      <th>2</th>\n",
       "      <td>7.630</td>\n",
       "      <td>374688</td>\n",
       "    </tr>\n",
       "    <tr>\n",
       "      <th>3</th>\n",
       "      <td>9.665</td>\n",
       "      <td>404352</td>\n",
       "    </tr>\n",
       "    <tr>\n",
       "      <th>4</th>\n",
       "      <td>9.431</td>\n",
       "      <td>451596</td>\n",
       "    </tr>\n",
       "    <tr>\n",
       "      <th>5</th>\n",
       "      <td>8.200</td>\n",
       "      <td>302161</td>\n",
       "    </tr>\n",
       "    <tr>\n",
       "      <th>6</th>\n",
       "      <td>8.031</td>\n",
       "      <td>317079</td>\n",
       "    </tr>\n",
       "    <tr>\n",
       "      <th>7</th>\n",
       "      <td>7.363</td>\n",
       "      <td>13963</td>\n",
       "    </tr>\n",
       "    <tr>\n",
       "      <th>8</th>\n",
       "      <td>8.524</td>\n",
       "      <td>159785</td>\n",
       "    </tr>\n",
       "    <tr>\n",
       "      <th>9</th>\n",
       "      <td>7.489</td>\n",
       "      <td>195089</td>\n",
       "    </tr>\n",
       "  </tbody>\n",
       "</table>\n",
       "</div>"
      ],
      "text/plain": [
       "   reviewer_score      id\n",
       "0           8.721  488440\n",
       "1           6.598  274649\n",
       "2           7.630  374688\n",
       "3           9.665  404352\n",
       "4           9.431  451596\n",
       "5           8.200  302161\n",
       "6           8.031  317079\n",
       "7           7.363   13963\n",
       "8           8.524  159785\n",
       "9           7.489  195089"
      ]
     },
     "execution_count": 68,
     "metadata": {},
     "output_type": "execute_result"
    }
   ],
   "source": [
    "sample_submission['reviewer_score'] = predict_submission\n",
    "sample_submission.to_csv('submission.csv', index=False)\n",
    "sample_submission.head(10)"
   ]
  },
  {
   "attachments": {},
   "cell_type": "markdown",
   "id": "e32b4518",
   "metadata": {
    "papermill": {
     "duration": 0.0305,
     "end_time": "2023-05-24T01:17:19.345444",
     "exception": false,
     "start_time": "2023-05-24T01:17:19.314944",
     "status": "completed"
    },
    "tags": []
   },
   "source": [
    "# Summary  \n",
    "\n",
    "Наибольший прирост к точности метрики был достигнут при помощи разбора отзывов и One-Hot Encoding признаков локации, названия и тегов отеля. Напротив, Feature Selection на основе корреляционного анализа и тестов значимости только навредили RandomForestRegressor. Это привело к утере информации, важной для предсказания и снизило объяснимость модели. \n",
    "\n",
    "Модель также не показала значительного прироста качества после удаления дубликатов и заполнения координатами. Нормализация также не помогла достичь радикального прироста метрики. Возможно, это особенность ансамблевой модели.\n",
    "\n",
    "Большой потенциал у признаков тегов и отзывов. Продолжая разбирать их и сосредоточившись на углубленной визуализации, можно получить различные инсайты и много дополнительной потенциально полезной информации для модели.\n",
    "\n",
    "Во избежание мультиколлинеарности и повышения качества можно попробовать различные варианты препроцессинга данных, таких как L1 и L2-регуляризация, но пока что я не работал с данной методологией. К тому же, цель по метрике MAPE в 13.5% была достигнута."
   ]
  }
 ],
 "metadata": {
  "kernelspec": {
   "display_name": "Python 3 (ipykernel)",
   "language": "python",
   "name": "python3"
  },
  "language_info": {
   "codemirror_mode": {
    "name": "ipython",
    "version": 3
   },
   "file_extension": ".py",
   "mimetype": "text/x-python",
   "name": "python",
   "nbconvert_exporter": "python",
   "pygments_lexer": "ipython3",
   "version": "3.10.9"
  },
  "papermill": {
   "default_parameters": {},
   "duration": 164.242409,
   "end_time": "2023-05-24T01:17:20.698256",
   "environment_variables": {},
   "exception": null,
   "input_path": "__notebook__.ipynb",
   "output_path": "__notebook__.ipynb",
   "parameters": {},
   "start_time": "2023-05-24T01:14:36.455847",
   "version": "2.4.0"
  }
 },
 "nbformat": 4,
 "nbformat_minor": 5
}
