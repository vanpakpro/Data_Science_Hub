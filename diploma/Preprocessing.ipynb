{
 "cells": [
  {
   "cell_type": "markdown",
   "id": "2acdb975",
   "metadata": {},
   "source": [
    "# <center> Дипломный проект      \n",
    "## <center> Прогнозирование стоимости жилья для агентства недвижимости\n",
    "<img src=https://alterainvest.ru/upload/iblock/6e6/6e6f3f357a1bbc1d4cff438167d91b99.jpg>"
   ]
  },
  {
   "cell_type": "markdown",
   "id": "75bd0876",
   "metadata": {},
   "source": [
    "Агентство недвижимости столкнулось с проблемой - риелторы тратят слишком много времени на сортировку объявлений и поиск выгодных предложений. Поэтому скорость их реакции и качество анализа не дотягивают до уровня конкурентов. Это сказывается на финансовых показателях агентства.  \n",
    "\n",
    "**Бизнес-задача:** найти закономерности и выделить наиболее значимые факторы, влияющие на стоимость недвижимости, что поможет обрабатывать объявления, увеличит число и качество совершения сделок, а также повысит прибыль агентства. \n",
    "\n",
    "**Техническая задача:** разработать модель регрессии, которая прогнозирует стоимость недвижимости."
   ]
  },
  {
   "cell_type": "markdown",
   "id": "9e2c9910",
   "metadata": {},
   "source": [
    "# 1. Исследование структуры данных"
   ]
  },
  {
   "cell_type": "code",
   "execution_count": 1,
   "id": "84f3f165",
   "metadata": {},
   "outputs": [],
   "source": [
    "# импорт библиотек\n",
    "import numpy as np\n",
    "import pandas as pd\n",
    "import re\n",
    "\n",
    "# визуализация\n",
    "import matplotlib.pyplot as plt\n",
    "import seaborn as sns"
   ]
  },
  {
   "cell_type": "markdown",
   "id": "bdfd2110",
   "metadata": {},
   "source": [
    "Прочитаем файл с исходными данными:"
   ]
  },
  {
   "cell_type": "code",
   "execution_count": 2,
   "id": "d5f274ba",
   "metadata": {},
   "outputs": [
    {
     "name": "stdout",
     "output_type": "stream",
     "text": [
      "Data shape: (377185, 18)\n"
     ]
    },
    {
     "data": {
      "text/html": [
       "<div>\n",
       "<style scoped>\n",
       "    .dataframe tbody tr th:only-of-type {\n",
       "        vertical-align: middle;\n",
       "    }\n",
       "\n",
       "    .dataframe tbody tr th {\n",
       "        vertical-align: top;\n",
       "    }\n",
       "\n",
       "    .dataframe thead th {\n",
       "        text-align: right;\n",
       "    }\n",
       "</style>\n",
       "<table border=\"1\" class=\"dataframe\">\n",
       "  <thead>\n",
       "    <tr style=\"text-align: right;\">\n",
       "      <th></th>\n",
       "      <th>status</th>\n",
       "      <th>private pool</th>\n",
       "      <th>propertyType</th>\n",
       "      <th>street</th>\n",
       "      <th>baths</th>\n",
       "      <th>homeFacts</th>\n",
       "      <th>fireplace</th>\n",
       "      <th>city</th>\n",
       "      <th>schools</th>\n",
       "      <th>sqft</th>\n",
       "      <th>zipcode</th>\n",
       "      <th>beds</th>\n",
       "      <th>state</th>\n",
       "      <th>stories</th>\n",
       "      <th>mls-id</th>\n",
       "      <th>PrivatePool</th>\n",
       "      <th>MlsId</th>\n",
       "      <th>target</th>\n",
       "    </tr>\n",
       "  </thead>\n",
       "  <tbody>\n",
       "    <tr>\n",
       "      <th>0</th>\n",
       "      <td>Active</td>\n",
       "      <td>NaN</td>\n",
       "      <td>Single Family Home</td>\n",
       "      <td>240 Heather Ln</td>\n",
       "      <td>3.5</td>\n",
       "      <td>{'atAGlanceFacts': [{'factValue': '2019', 'fac...</td>\n",
       "      <td>Gas Logs</td>\n",
       "      <td>Southern Pines</td>\n",
       "      <td>[{'rating': ['4', '4', '7', 'NR', '4', '7', 'N...</td>\n",
       "      <td>2900</td>\n",
       "      <td>28387</td>\n",
       "      <td>4</td>\n",
       "      <td>NC</td>\n",
       "      <td>NaN</td>\n",
       "      <td>NaN</td>\n",
       "      <td>NaN</td>\n",
       "      <td>611019</td>\n",
       "      <td>$418,000</td>\n",
       "    </tr>\n",
       "    <tr>\n",
       "      <th>1</th>\n",
       "      <td>for sale</td>\n",
       "      <td>NaN</td>\n",
       "      <td>single-family home</td>\n",
       "      <td>12911 E Heroy Ave</td>\n",
       "      <td>3 Baths</td>\n",
       "      <td>{'atAGlanceFacts': [{'factValue': '2019', 'fac...</td>\n",
       "      <td>NaN</td>\n",
       "      <td>Spokane Valley</td>\n",
       "      <td>[{'rating': ['4/10', 'None/10', '4/10'], 'data...</td>\n",
       "      <td>1,947 sqft</td>\n",
       "      <td>99216</td>\n",
       "      <td>3 Beds</td>\n",
       "      <td>WA</td>\n",
       "      <td>2.0</td>\n",
       "      <td>NaN</td>\n",
       "      <td>NaN</td>\n",
       "      <td>201916904</td>\n",
       "      <td>$310,000</td>\n",
       "    </tr>\n",
       "    <tr>\n",
       "      <th>2</th>\n",
       "      <td>for sale</td>\n",
       "      <td>NaN</td>\n",
       "      <td>single-family home</td>\n",
       "      <td>2005 Westridge Rd</td>\n",
       "      <td>2 Baths</td>\n",
       "      <td>{'atAGlanceFacts': [{'factValue': '1961', 'fac...</td>\n",
       "      <td>yes</td>\n",
       "      <td>Los Angeles</td>\n",
       "      <td>[{'rating': ['8/10', '4/10', '8/10'], 'data': ...</td>\n",
       "      <td>3,000 sqft</td>\n",
       "      <td>90049</td>\n",
       "      <td>3 Beds</td>\n",
       "      <td>CA</td>\n",
       "      <td>1.0</td>\n",
       "      <td>NaN</td>\n",
       "      <td>yes</td>\n",
       "      <td>FR19221027</td>\n",
       "      <td>$2,895,000</td>\n",
       "    </tr>\n",
       "    <tr>\n",
       "      <th>3</th>\n",
       "      <td>for sale</td>\n",
       "      <td>NaN</td>\n",
       "      <td>single-family home</td>\n",
       "      <td>4311 Livingston Ave</td>\n",
       "      <td>8 Baths</td>\n",
       "      <td>{'atAGlanceFacts': [{'factValue': '2006', 'fac...</td>\n",
       "      <td>yes</td>\n",
       "      <td>Dallas</td>\n",
       "      <td>[{'rating': ['9/10', '9/10', '10/10', '9/10'],...</td>\n",
       "      <td>6,457 sqft</td>\n",
       "      <td>75205</td>\n",
       "      <td>5 Beds</td>\n",
       "      <td>TX</td>\n",
       "      <td>3.0</td>\n",
       "      <td>NaN</td>\n",
       "      <td>NaN</td>\n",
       "      <td>14191809</td>\n",
       "      <td>$2,395,000</td>\n",
       "    </tr>\n",
       "    <tr>\n",
       "      <th>4</th>\n",
       "      <td>for sale</td>\n",
       "      <td>NaN</td>\n",
       "      <td>lot/land</td>\n",
       "      <td>1524 Kiscoe St</td>\n",
       "      <td>NaN</td>\n",
       "      <td>{'atAGlanceFacts': [{'factValue': '', 'factLab...</td>\n",
       "      <td>NaN</td>\n",
       "      <td>Palm Bay</td>\n",
       "      <td>[{'rating': ['4/10', '5/10', '5/10'], 'data': ...</td>\n",
       "      <td>NaN</td>\n",
       "      <td>32908</td>\n",
       "      <td>NaN</td>\n",
       "      <td>FL</td>\n",
       "      <td>NaN</td>\n",
       "      <td>NaN</td>\n",
       "      <td>NaN</td>\n",
       "      <td>861745</td>\n",
       "      <td>$5,000</td>\n",
       "    </tr>\n",
       "  </tbody>\n",
       "</table>\n",
       "</div>"
      ],
      "text/plain": [
       "     status private pool        propertyType               street    baths  \\\n",
       "0    Active          NaN  Single Family Home       240 Heather Ln      3.5   \n",
       "1  for sale          NaN  single-family home    12911 E Heroy Ave  3 Baths   \n",
       "2  for sale          NaN  single-family home    2005 Westridge Rd  2 Baths   \n",
       "3  for sale          NaN  single-family home  4311 Livingston Ave  8 Baths   \n",
       "4  for sale          NaN            lot/land       1524 Kiscoe St      NaN   \n",
       "\n",
       "                                           homeFacts fireplace  \\\n",
       "0  {'atAGlanceFacts': [{'factValue': '2019', 'fac...  Gas Logs   \n",
       "1  {'atAGlanceFacts': [{'factValue': '2019', 'fac...       NaN   \n",
       "2  {'atAGlanceFacts': [{'factValue': '1961', 'fac...       yes   \n",
       "3  {'atAGlanceFacts': [{'factValue': '2006', 'fac...       yes   \n",
       "4  {'atAGlanceFacts': [{'factValue': '', 'factLab...       NaN   \n",
       "\n",
       "             city                                            schools  \\\n",
       "0  Southern Pines  [{'rating': ['4', '4', '7', 'NR', '4', '7', 'N...   \n",
       "1  Spokane Valley  [{'rating': ['4/10', 'None/10', '4/10'], 'data...   \n",
       "2     Los Angeles  [{'rating': ['8/10', '4/10', '8/10'], 'data': ...   \n",
       "3          Dallas  [{'rating': ['9/10', '9/10', '10/10', '9/10'],...   \n",
       "4        Palm Bay  [{'rating': ['4/10', '5/10', '5/10'], 'data': ...   \n",
       "\n",
       "         sqft zipcode    beds state stories mls-id PrivatePool       MlsId  \\\n",
       "0        2900   28387       4    NC     NaN    NaN         NaN      611019   \n",
       "1  1,947 sqft   99216  3 Beds    WA     2.0    NaN         NaN   201916904   \n",
       "2  3,000 sqft   90049  3 Beds    CA     1.0    NaN         yes  FR19221027   \n",
       "3  6,457 sqft   75205  5 Beds    TX     3.0    NaN         NaN    14191809   \n",
       "4         NaN   32908     NaN    FL     NaN    NaN         NaN      861745   \n",
       "\n",
       "       target  \n",
       "0    $418,000  \n",
       "1    $310,000  \n",
       "2  $2,895,000  \n",
       "3  $2,395,000  \n",
       "4      $5,000  "
      ]
     },
     "execution_count": 2,
     "metadata": {},
     "output_type": "execute_result"
    }
   ],
   "source": [
    "data = pd.read_csv(\"data/data.csv\")\n",
    "print('Data shape: {}'.format(data.shape))\n",
    "data.head()"
   ]
  },
  {
   "cell_type": "markdown",
   "id": "43a464ca",
   "metadata": {},
   "source": [
    "В нашем распоряжении более 377 тыс. наблюдений, описываемых 18 признаками. Для более удобного восприятия условно поделим их по категориям и изучим более детально:  \n",
    "\n",
    "**Описание объекта недвижимости**  \n",
    "\n",
    "\n",
    "`status` — статус продажи;  \n",
    "`private pool` и `PrivatePool` — наличие собственного бассейна;  \n",
    "`propertyType` — тип объекта недвижимости;  \n",
    "`baths` — количество ванных комнат;  \n",
    "`homeFacts` — сведения о строительстве объекта (содержит несколько типов сведений, влияющих на оценку объекта);    \n",
    "`fireplace` — наличие камина;  \n",
    "`sqft` — площадь в футах;  \n",
    "`beds` — количество спален;  \n",
    "`stories` — количество этажей;  \n",
    "`mls-id` и `MlsId` — идентификатор MLS (Multiple Listing Service, система мультилистинга);\n",
    "\n",
    "**Географическая информация**  \n",
    "\n",
    "`street` — адрес объекта;  \n",
    "`city` — город;  \n",
    "`schools` — сведения о школах в районе;    \n",
    "`zipcode` — почтовый индекс;    \n",
    "`state` — штат;  \n",
    "\n",
    "**Целевой фактор**\n",
    "  \n",
    "`target` — цена объекта недвижимости (его и будем прогнозировать)."
   ]
  },
  {
   "cell_type": "markdown",
   "id": "9bebed7b",
   "metadata": {},
   "source": [
    "Изучим признаки на предмет явных пропусков в данных:"
   ]
  },
  {
   "cell_type": "code",
   "execution_count": 3,
   "id": "e7e33987",
   "metadata": {},
   "outputs": [
    {
     "name": "stdout",
     "output_type": "stream",
     "text": [
      "<class 'pandas.core.frame.DataFrame'>\n",
      "RangeIndex: 377185 entries, 0 to 377184\n",
      "Data columns (total 18 columns):\n",
      " #   Column        Non-Null Count   Dtype \n",
      "---  ------        --------------   ----- \n",
      " 0   status        337267 non-null  object\n",
      " 1   private pool  4181 non-null    object\n",
      " 2   propertyType  342452 non-null  object\n",
      " 3   street        377183 non-null  object\n",
      " 4   baths         270847 non-null  object\n",
      " 5   homeFacts     377185 non-null  object\n",
      " 6   fireplace     103115 non-null  object\n",
      " 7   city          377151 non-null  object\n",
      " 8   schools       377185 non-null  object\n",
      " 9   sqft          336608 non-null  object\n",
      " 10  zipcode       377185 non-null  object\n",
      " 11  beds          285903 non-null  object\n",
      " 12  state         377185 non-null  object\n",
      " 13  stories       226470 non-null  object\n",
      " 14  mls-id        24942 non-null   object\n",
      " 15  PrivatePool   40311 non-null   object\n",
      " 16  MlsId         310305 non-null  object\n",
      " 17  target        374704 non-null  object\n",
      "dtypes: object(18)\n",
      "memory usage: 51.8+ MB\n"
     ]
    }
   ],
   "source": [
    "data.info()"
   ]
  },
  {
   "cell_type": "markdown",
   "id": "839de213",
   "metadata": {},
   "source": [
    "Все признаки представлены строковым типом данных, а значит нам потребуется уделять повышенное внимание числовым значениям на этапе преобразования данных. Кроме того невооруженным глазом заметно, что лишь в нескольких факторах имеется полный набор наблюдений. Остальные признаки в большей или меньшей степени не заполнены. Чуть позже мы изучим данные также на предмет скрытых пропусков, а пока что попробуем проинтерпретировать описательные характеристики нашего датасета и сформируем первоначальное мнение о значениях, с которыми будем работать: "
   ]
  },
  {
   "cell_type": "code",
   "execution_count": 4,
   "id": "37c193b6",
   "metadata": {},
   "outputs": [
    {
     "data": {
      "text/html": [
       "<div>\n",
       "<style scoped>\n",
       "    .dataframe tbody tr th:only-of-type {\n",
       "        vertical-align: middle;\n",
       "    }\n",
       "\n",
       "    .dataframe tbody tr th {\n",
       "        vertical-align: top;\n",
       "    }\n",
       "\n",
       "    .dataframe thead th {\n",
       "        text-align: right;\n",
       "    }\n",
       "</style>\n",
       "<table border=\"1\" class=\"dataframe\">\n",
       "  <thead>\n",
       "    <tr style=\"text-align: right;\">\n",
       "      <th></th>\n",
       "      <th>status</th>\n",
       "      <th>private pool</th>\n",
       "      <th>propertyType</th>\n",
       "      <th>street</th>\n",
       "      <th>baths</th>\n",
       "      <th>homeFacts</th>\n",
       "      <th>fireplace</th>\n",
       "      <th>city</th>\n",
       "      <th>schools</th>\n",
       "      <th>sqft</th>\n",
       "      <th>zipcode</th>\n",
       "      <th>beds</th>\n",
       "      <th>state</th>\n",
       "      <th>stories</th>\n",
       "      <th>mls-id</th>\n",
       "      <th>PrivatePool</th>\n",
       "      <th>MlsId</th>\n",
       "      <th>target</th>\n",
       "    </tr>\n",
       "  </thead>\n",
       "  <tbody>\n",
       "    <tr>\n",
       "      <th>count</th>\n",
       "      <td>337267</td>\n",
       "      <td>4181</td>\n",
       "      <td>342452</td>\n",
       "      <td>377183</td>\n",
       "      <td>270847</td>\n",
       "      <td>377185</td>\n",
       "      <td>103115</td>\n",
       "      <td>377151</td>\n",
       "      <td>377185</td>\n",
       "      <td>336608</td>\n",
       "      <td>377185</td>\n",
       "      <td>285903</td>\n",
       "      <td>377185</td>\n",
       "      <td>226470</td>\n",
       "      <td>24942</td>\n",
       "      <td>40311</td>\n",
       "      <td>310305</td>\n",
       "      <td>374704</td>\n",
       "    </tr>\n",
       "    <tr>\n",
       "      <th>unique</th>\n",
       "      <td>159</td>\n",
       "      <td>1</td>\n",
       "      <td>1280</td>\n",
       "      <td>337076</td>\n",
       "      <td>229</td>\n",
       "      <td>321009</td>\n",
       "      <td>1653</td>\n",
       "      <td>2026</td>\n",
       "      <td>297365</td>\n",
       "      <td>25405</td>\n",
       "      <td>4549</td>\n",
       "      <td>1184</td>\n",
       "      <td>39</td>\n",
       "      <td>348</td>\n",
       "      <td>24907</td>\n",
       "      <td>2</td>\n",
       "      <td>232944</td>\n",
       "      <td>43939</td>\n",
       "    </tr>\n",
       "    <tr>\n",
       "      <th>top</th>\n",
       "      <td>for sale</td>\n",
       "      <td>Yes</td>\n",
       "      <td>single-family home</td>\n",
       "      <td>Address Not Disclosed</td>\n",
       "      <td>2 Baths</td>\n",
       "      <td>{'atAGlanceFacts': [{'factValue': '', 'factLab...</td>\n",
       "      <td>yes</td>\n",
       "      <td>Houston</td>\n",
       "      <td>[{'rating': [], 'data': {'Distance': [], 'Grad...</td>\n",
       "      <td>0</td>\n",
       "      <td>32137</td>\n",
       "      <td>3 Beds</td>\n",
       "      <td>FL</td>\n",
       "      <td>1.0</td>\n",
       "      <td>No MLS#</td>\n",
       "      <td>yes</td>\n",
       "      <td>NO MLS</td>\n",
       "      <td>$225,000</td>\n",
       "    </tr>\n",
       "    <tr>\n",
       "      <th>freq</th>\n",
       "      <td>156104</td>\n",
       "      <td>4181</td>\n",
       "      <td>92206</td>\n",
       "      <td>672</td>\n",
       "      <td>52466</td>\n",
       "      <td>7174</td>\n",
       "      <td>50356</td>\n",
       "      <td>24442</td>\n",
       "      <td>4204</td>\n",
       "      <td>11854</td>\n",
       "      <td>2141</td>\n",
       "      <td>53459</td>\n",
       "      <td>115449</td>\n",
       "      <td>67454</td>\n",
       "      <td>3</td>\n",
       "      <td>28793</td>\n",
       "      <td>24</td>\n",
       "      <td>1462</td>\n",
       "    </tr>\n",
       "  </tbody>\n",
       "</table>\n",
       "</div>"
      ],
      "text/plain": [
       "          status private pool        propertyType                 street  \\\n",
       "count     337267         4181              342452                 377183   \n",
       "unique       159            1                1280                 337076   \n",
       "top     for sale          Yes  single-family home  Address Not Disclosed   \n",
       "freq      156104         4181               92206                    672   \n",
       "\n",
       "          baths                                          homeFacts fireplace  \\\n",
       "count    270847                                             377185    103115   \n",
       "unique      229                                             321009      1653   \n",
       "top     2 Baths  {'atAGlanceFacts': [{'factValue': '', 'factLab...       yes   \n",
       "freq      52466                                               7174     50356   \n",
       "\n",
       "           city                                            schools    sqft  \\\n",
       "count    377151                                             377185  336608   \n",
       "unique     2026                                             297365   25405   \n",
       "top     Houston  [{'rating': [], 'data': {'Distance': [], 'Grad...       0   \n",
       "freq      24442                                               4204   11854   \n",
       "\n",
       "       zipcode    beds   state stories   mls-id PrivatePool   MlsId    target  \n",
       "count   377185  285903  377185  226470    24942       40311  310305    374704  \n",
       "unique    4549    1184      39     348    24907           2  232944     43939  \n",
       "top      32137  3 Beds      FL     1.0  No MLS#         yes  NO MLS  $225,000  \n",
       "freq      2141   53459  115449   67454        3       28793      24      1462  "
      ]
     },
     "execution_count": 4,
     "metadata": {},
     "output_type": "execute_result"
    }
   ],
   "source": [
    "data.describe()"
   ]
  },
  {
   "cell_type": "markdown",
   "id": "60da57e2",
   "metadata": {},
   "source": [
    "Согласно описательным характеристикам, **агентство недвижимости специализируется на продаже отдельных одноэтажных домов для семьи в американском стиле**, с личным бассейном и несколькими спальнями. При этом данные надежно защищены и не размещены в открытом доступе - об этом свидетельствует признак `street`, по которому сложно идентифицировать точное местонахождение объекта. Согласно признакам `city` и `state`, **большинство исследуемых объектов недвижимости находится на юге США**, а именно в городе Хьюстон, штат Техас и штате Флорида."
   ]
  },
  {
   "cell_type": "markdown",
   "id": "aace84c8",
   "metadata": {},
   "source": [
    "# 2. Преобразование данных"
   ]
  },
  {
   "cell_type": "markdown",
   "id": "47821883",
   "metadata": {},
   "source": [
    "В первую очередь поработаем с явными дубликатами. Посмотрим, сколько у нас их содержится в данных:"
   ]
  },
  {
   "cell_type": "code",
   "execution_count": 5,
   "id": "3e71ff4c",
   "metadata": {},
   "outputs": [
    {
     "name": "stdout",
     "output_type": "stream",
     "text": [
      "Число найденных дубликатов: 50\n"
     ]
    }
   ],
   "source": [
    "# список признаков для поиска дубликатов\n",
    "dupl_columns = list(data.columns)\n",
    "\n",
    "mask = data.duplicated(subset=dupl_columns)\n",
    "duplicates_data = data[mask]\n",
    "print(f\"Число найденных дубликатов: {duplicates_data.shape[0]}\")"
   ]
  },
  {
   "cell_type": "markdown",
   "id": "b63fc05e",
   "metadata": {},
   "source": [
    "Удаляем их:"
   ]
  },
  {
   "cell_type": "code",
   "execution_count": 6,
   "id": "6dd7325c",
   "metadata": {},
   "outputs": [],
   "source": [
    "data = data.drop_duplicates(subset=dupl_columns)"
   ]
  },
  {
   "cell_type": "markdown",
   "id": "7332a045",
   "metadata": {},
   "source": [
    "В наших данных содержится пара признаков с идентификаторами объектов в базах данных агентства недвижимости - признаки `mls-id` и `MlsId`. Для построения модели они бесполезны, однако их основная функция - поиск дублирующихся записей в данных. Посмотрим на их значения:"
   ]
  },
  {
   "cell_type": "code",
   "execution_count": 7,
   "id": "2df59f70",
   "metadata": {},
   "outputs": [
    {
     "data": {
      "text/plain": [
       "No MLS#      3\n",
       "No           3\n",
       "1498550      2\n",
       "39888954     2\n",
       "608063       2\n",
       "            ..\n",
       "1020314      1\n",
       "A10762436    1\n",
       "1592770      1\n",
       "14201834     1\n",
       "F10202858    1\n",
       "Name: mls-id, Length: 24907, dtype: int64"
      ]
     },
     "execution_count": 7,
     "metadata": {},
     "output_type": "execute_result"
    }
   ],
   "source": [
    "data['mls-id'].value_counts()"
   ]
  },
  {
   "cell_type": "markdown",
   "id": "0bfcfa5e",
   "metadata": {},
   "source": [
    "У некоторых объектов идентификатор отсутствует, у других представлен в виде числового или комбинированного со строчными символами значения."
   ]
  },
  {
   "cell_type": "code",
   "execution_count": 8,
   "id": "5d138f04",
   "metadata": {},
   "outputs": [
    {
     "data": {
      "text/plain": [
       "NO MLS                     24\n",
       "No MLS #                   16\n",
       " A, Houston, TX 77008      13\n",
       " 12A, Orlando, FL 32833    11\n",
       "No                          9\n",
       "                           ..\n",
       "219080357                   1\n",
       "PAPH850238                  1\n",
       "RX-10580440                 1\n",
       "10515909                    1\n",
       "10374233                    1\n",
       "Name: MlsId, Length: 232944, dtype: int64"
      ]
     },
     "execution_count": 8,
     "metadata": {},
     "output_type": "execute_result"
    }
   ],
   "source": [
    "data['MlsId'].value_counts()"
   ]
  },
  {
   "cell_type": "markdown",
   "id": "8be734f0",
   "metadata": {},
   "source": [
    "Здесь немного сложнее. По какой-то причине сюда попали не только сами идентификаторы, но и адреса объектов с почтовыми индексами в качестве самостоятельных значений. Если сопоставить такие значения со строками признака `zipcode`, то увидим полное совпадение. Заменим их на отсутствующие значения:"
   ]
  },
  {
   "cell_type": "code",
   "execution_count": 9,
   "id": "2599c87c",
   "metadata": {},
   "outputs": [],
   "source": [
    "def get_cleaned_id(row):\n",
    "    \"\"\"Очищает признак от нерелевантных значений\n",
    "    \n",
    "    Args:\n",
    "        int, str: идентификатор объекта\n",
    "        \n",
    "    Returns:\n",
    "        int, str: отфильтрованный идентификатор объекта\n",
    "        NaN - при отсутствии идентификатора\n",
    "    \"\"\"    \n",
    "    if pd.isnull(row):\n",
    "        return np.nan    \n",
    "    \n",
    "    row = row.strip() # очистка от лишних пробелов\n",
    "    \n",
    "    nan_values = {'no mls', 'no mls #', 'no', 'nomlsid'}\n",
    "    \n",
    "    if row in nan_values or not row:\n",
    "        return np.nan    \n",
    "        \n",
    "    words = row.split()\n",
    "    if words[-1].isdigit() and len(words) > 3: # фильтр\n",
    "        return np.nan \n",
    "    \n",
    "    return row\n",
    "        \n",
    "data['MlsId'] = data['MlsId'].apply(get_cleaned_id)"
   ]
  },
  {
   "cell_type": "markdown",
   "id": "951c440c",
   "metadata": {},
   "source": [
    "Признак подготовлен, теперь перенесем оставшиеся значения из второго, аккумулировав данные в одном месте и удалим второй признак как ненужный:"
   ]
  },
  {
   "cell_type": "code",
   "execution_count": 10,
   "id": "94f2c523",
   "metadata": {},
   "outputs": [],
   "source": [
    "data['MlsId'] = data['MlsId'].fillna(data['mls-id'])\n",
    "data.drop('mls-id', axis=1, inplace=True)"
   ]
  },
  {
   "cell_type": "markdown",
   "id": "3ff55109",
   "metadata": {},
   "source": [
    "Поскольку мы уже упомянули о признаке почтовых индексов при работе с идентификаторами, сразу же его и обработаем. Наша задача - преобразовать их в единый формат:"
   ]
  },
  {
   "cell_type": "code",
   "execution_count": 11,
   "id": "ba58116a",
   "metadata": {},
   "outputs": [],
   "source": [
    "def get_cleaned_zipcode(row):\n",
    "    \"\"\"Очищает признак от строковых символов\n",
    "    и приводит к единому формату\n",
    "    \n",
    "    Args:\n",
    "        int, str: смешанные значения признака\n",
    "        \n",
    "    Returns:\n",
    "        int: очищенный почтовый индекс объекта            \n",
    "    \"\"\"    \n",
    "    if row == '--':\n",
    "        return np.nan\n",
    "    \n",
    "    try:\n",
    "        return int(row)\n",
    "    \n",
    "    except ValueError:\n",
    "        words = row.split('-')\n",
    "        return int(words[0])\n",
    "    \n",
    "data['zipcode'] = data['zipcode'].apply(get_cleaned_zipcode)"
   ]
  },
  {
   "cell_type": "markdown",
   "id": "2b9a8d2a",
   "metadata": {},
   "source": [
    "Далее возьмем на обработку пару признаков `private pool` и `PrivatePool`. Они также дополняют друг друга, поэтому просто перекинем значения из одного признака, наименее заполненного, в другой. Также присвоим всем пропущенным значениям `no`, т.е. считаем, что отсутствие значения в признаке равно отсутствию бассейна:"
   ]
  },
  {
   "cell_type": "code",
   "execution_count": 12,
   "id": "0b800051",
   "metadata": {},
   "outputs": [],
   "source": [
    "# приводим все значения к единому регистру\n",
    "data['PrivatePool'] = data['PrivatePool'].replace({'yes': 'Yes'})\n",
    "\n",
    "# объединение значений признаков, заполнение пропусков и назначение категорий\n",
    "data['PrivatePool'] = data['PrivatePool'].fillna(data['private pool'])\n",
    "data['PrivatePool'] = data['PrivatePool'].apply(lambda x: 'yes' if x=='Yes' else 'no')\n",
    "\n",
    "# удаление исходного и переименование обработанного признака\n",
    "data.drop('private pool', axis=1, inplace=True)\n",
    "data.rename(columns={'PrivatePool': 'pool'}, inplace=True)"
   ]
  },
  {
   "cell_type": "markdown",
   "id": "9739d9ff",
   "metadata": {},
   "source": [
    "Обработаем нашу целевую переменную `target` - стоимость объекта недвижимости:"
   ]
  },
  {
   "cell_type": "code",
   "execution_count": 13,
   "id": "e4271206",
   "metadata": {},
   "outputs": [],
   "source": [
    "def get_cleaned_target(row):\n",
    "    \"\"\"Очищает целевую переменную от строковых символов\n",
    "    и преобразует к числовому значению\n",
    "    \n",
    "    Args:\n",
    "        float, str: значение в виде числа или строки\n",
    "        \n",
    "    Returns:\n",
    "        float: полная стоимость объекта\n",
    "        NaN - в случае отсутствия данных\n",
    "    \"\"\"    \n",
    "    if not row:\n",
    "        return np.nan\n",
    "    \n",
    "    try:\n",
    "        return float(row)\n",
    "    \n",
    "    except ValueError:\n",
    "        row = re.sub(r'[$,+]', '', row)\n",
    "        \n",
    "        if row.isdigit():\n",
    "            return float(row)\n",
    "        else:\n",
    "            words = re.split(r'[-/]', row)\n",
    "            \n",
    "            if words[0].isdigit() and len(words) == 2:\n",
    "                return float(words[0])\n",
    "            else:\n",
    "    \n",
    "        # берем среднее от диапазона стоимости\n",
    "    \n",
    "                words = [word.strip() for word in words]\n",
    "                return (float(words[0]) + float(words[1])) / 2\n",
    "    \n",
    "    return np.nan\n",
    "\n",
    "data['target'] = data['target'].apply(get_cleaned_target)"
   ]
  },
  {
   "cell_type": "markdown",
   "id": "8a157a6e",
   "metadata": {},
   "source": [
    "Приступим к категориальным признакам. Начнем обработку значений с признака `Status`. Преобразуем его в строковый формат и выведем возможные значения:"
   ]
  },
  {
   "cell_type": "code",
   "execution_count": 14,
   "id": "34b062ac",
   "metadata": {},
   "outputs": [
    {
     "name": "stdout",
     "output_type": "stream",
     "text": [
      "for sale       156058\n",
      "Active         105207\n",
      "For sale        43464\n",
      "nan             39917\n",
      "foreclosure      6425\n",
      "Name: status, dtype: int64\n",
      "\n",
      "['Active' 'for sale' 'nan' 'New construction' 'New' 'For sale' 'Pending'\n",
      " 'P' 'Active/Contingent' 'Pre-foreclosure / auction' ' / auction'\n",
      " 'Under Contract' 'Under Contract   Showing' 'Pre-foreclosure'\n",
      " 'Under Contract Backups' 'foreclosure' 'Active Under Contract'\n",
      " 'Foreclosed' 'Option Pending' 'Under Contract Show' 'for rent' 'Auction'\n",
      " 'A Active' 'Contingent' 'Pending   Continue To Show' 'Price Change'\n",
      " 'Back on Market' 'Active Option' 'Foreclosure' 'recently sold'\n",
      " 'Coming soon: Nov 21.' 'Contingent Finance And Inspection'\n",
      " 'Coming soon: Dec 4.' 'P Pending Sale' 'Coming soon: Nov 23.'\n",
      " 'Active With Contingencies' 'Pending Ab' 'Pf' 'Contingent Show'\n",
      " 'Contract P' 'Contingent Take Backup' 'Apartment for rent'\n",
      " 'Backup Contract' 'Option Contract' 'Pending Continue To Show' 'pending'\n",
      " 'Pending Inspection' 'Active Option Contract' 'C' 'Auction - Active'\n",
      " 'Contingent   Show' 'Pi' 'Due Diligence Period'\n",
      " 'Contract Contingent On Buyer Sale' 'U Under Contract'\n",
      " 'Coming soon: Nov 29.' 'Coming soon: Dec 2.' 'Active Contingency'\n",
      " 'Pending With Contingencies' 'Lease/Purchase Pending'\n",
      " 'Pending Bring Backup' 'C Continue Show' 'Pending Taking Backups'\n",
      " 'Offer Pending Signature' 'Under Contract - Show'\n",
      " 'Contingent Lien Holder Release' 'Active - Auction' 'Active With Offer'\n",
      " 'Coming soon: Nov 30.' 'Closed' 'Listing Extended'\n",
      " 'Pending, Continue to Show' 'For Sale' 'Contingency Contract'\n",
      " 'Coming soon: Dec 10.' 'Contingent Escape' 'Pending - Taking Backups'\n",
      " 'Coming soon: Dec 24.' 'Active Backup' 'Coming soon: Nov 14.'\n",
      " 'Coming soon: Nov 22.' 'Coming soon: Oct 21.' 'Under contract'\n",
      " 'Coming soon: Dec 14.' 'Coming soon: Oct 24.' 'Condo for rent'\n",
      " 'Active Contingent' 'Coming soon: Dec 18.' 'Pending Offer Approval'\n",
      " 'Pending In' 'Coming soon: Dec 16.' 'Ct' 'Pending W/Insp Finance'\n",
      " 'Coming soon: Dec 3.' 'Coming soon: Dec 25.' 'Coming soon: Nov 11.'\n",
      " 'Coming soon: Nov 28.' 'Contingent Finance and Inspection'\n",
      " 'Temporary Active' 'CT Insp - Inspection Contingency'\n",
      " 'Coming soon: Nov 17.' 'Pending (Do Not Show)' 'Contingency 48 Hr (+/ )'\n",
      " 'Pending   Continue To Show   Financing' 'Pending W/ Cont.'\n",
      " 'Coming soon: Dec 6.' 'Back On Market' 'Coming soon: Nov 27.'\n",
      " 'Pending W/Escape Clause' 'Coming soon: Nov 26.'\n",
      " 'Pending - Continue to Show' 'Under Contract - No Show' 'Contract'\n",
      " 'Coming soon: Dec 7.' 'Coming soon: Dec 27.' 'Coming soon: Dec 11.'\n",
      " 'Coming soon: Dec 5.' 'Coming soon: Nov 13.' 'Contingent   Release'\n",
      " 'Accepted Offer' 'Conditional Contract' 'Active - Contingent'\n",
      " 'Active with Contract' 'Coming soon: Nov 19.' 'Coming soon: Nov 8.'\n",
      " 'Coming soon: Oct 29.' 'Coming soon: Dec 15.' 'Pending W/Backup Wanted'\n",
      " 'Pending Backups Wanted' 'Pending Fe' 'Coming soon: Oct 30.'\n",
      " 'Contingent   No Show' 'Coming soon: Dec 9.' 'Pending Sale'\n",
      " 'Accepting backups' 'Coming soon: Dec 20.' 'Pending Take Backups'\n",
      " 'Contingent   Foreclosure' 'Conting Accpt Backups' 'Lease/Purchase'\n",
      " 'Coming soon: Dec 13.' 'Contingent - Sale of Home' 'Sold: $285,000'\n",
      " 'Sold: $15,000' 'Ps' 'Under Contract W/ Bckp' 'Re Activated'\n",
      " 'Pending - Backup Offer Requested' 'Coming soon: Dec 12.' 'Reactivated'\n",
      " 'Uc Continue To Show' 'Contingent - Financing' 'Coming soon: Nov 5.'\n",
      " 'Coming soon: Nov 12.' 'Coming soon: Dec 1.' 'Pending Sh'\n",
      " 'Coming soon: Nov 25.' 'Under Contract Taking Back Up Offers' 'Backup'\n",
      " 'Coming soon: Dec 23.']\n",
      "\n",
      "Кол-во уникальных значений: 160\n"
     ]
    }
   ],
   "source": [
    "data['status'] = data['status'].astype('str')\n",
    "print(data['status'].value_counts().head())\n",
    "print()\n",
    "print(data['status'].unique())\n",
    "print()\n",
    "print(f\"Кол-во уникальных значений: {data['status'].nunique()}\")"
   ]
  },
  {
   "cell_type": "markdown",
   "id": "0f57080c",
   "metadata": {},
   "source": [
    "По правилам отбора и преобразования, признаки с таким количеством категорий следует \"пускать под нож\". Однако, если присмотреться, то можно обнаружить, что большинство значений повторяются, либо несут одну и ту же информацию. По некоторым значениям различается и вовсе только регистр. Объединив такие значения в соответствующие по смыслу категории, мы получим не более 10 категорий, а с ними уже можно будет без проблем работать.  \n",
    "\n",
    "Проанализировав доступные значения, введем следующие категории статусов объектов недвижимости:\n",
    "- `pending` - оформление сделки с привязкой к клиенту (объект забронирован);  \n",
    "- `foreclosure` - изъятая у должника недвижимость с целью продажи (в счет погашения долга перед кредитором);  \n",
    "- `contract` - объект, доступный для показа потенциальному покупателю на условиях заключенного контракта;  \n",
    "- `contingent` - объект, доступный для покупки при выполнении заданных условий;  \n",
    "- `coming soon` - объект скоро будет доступен к показу (временно недоступен);   \n",
    "- `for rent` - объект доступен для аренды;  \n",
    "- `for sale` - объект доступен для продажи.  \n",
    "\n",
    "Создадим вспомогательный признак `mod_status`, в котором будут содержаться отфильтрованные статусы объектов недвижимости.  \n",
    "\n",
    "> Как поступаем с пропусками признака? Поскольку мы решаем задачу прогнозирования стоимости объектов недвижимости, в данном контексте не принципиальна точная идентификация статуса таких объектов. Будем считать, что такие объекты наравне с остальными реализуются агентством, поэтому присвоим им наиболее часто встречающееся значение `for sale`, т.е при обработке данного признака пропуски будем заполнять модальным значением."
   ]
  },
  {
   "cell_type": "code",
   "execution_count": 15,
   "id": "18f48180",
   "metadata": {},
   "outputs": [],
   "source": [
    "def get_cleaned_status(row):\n",
    "    \"\"\"Ищет пересечения входящего значения из аргумента \n",
    "    с элементами из указанных множеств и присваивает \n",
    "    соответствующую категорию\n",
    "    \n",
    "    Args:\n",
    "        str: значение признака (тип object)\n",
    "        \n",
    "    Returns:\n",
    "        str: категория статуса,\n",
    "        set (для отсутствующих категорий)\n",
    "    \"\"\"\n",
    "        \n",
    "    # преобразование во множество\n",
    "    \n",
    "    row = row.replace(',', '')\n",
    "    words = set(row.lower().split())\n",
    "    \n",
    "    # множества под каждую категорию\n",
    "    \n",
    "    pending_keywords = {'p', 'pi', 'ps', 'pending', 'lease/purchase'}\n",
    "    \n",
    "    contingent_keywords = {'contingent', 'contingency', 'contingencies', \n",
    "                           'conting', 'ct', 'offer', 'active/contingent', \n",
    "                           'active', 'backups', 'backup', 'activated', \n",
    "                           'reactivated'}\n",
    "    \n",
    "    foreclosure_keywords = {'pre-foreclosure', 'foreclosure', 'auction', \n",
    "                            'foreclosed', 'pf'}\n",
    "    \n",
    "    contract_keywords = {'contract', 'uc', 'c'}\n",
    "    \n",
    "    coming_soon_keywords = {'coming'}\n",
    "\n",
    "    rent_keywords = {'rent'}\n",
    "    \n",
    "    sale_keywords = {'sale', 'new', 'change', 'market', 'sold',\n",
    "                     'closed', 'extended', 'period'}\n",
    "    \n",
    "    if words & pending_keywords:\n",
    "        return 'pending'\n",
    "    elif words & contingent_keywords:\n",
    "        return 'contingent'\n",
    "    elif words & foreclosure_keywords:\n",
    "        return 'foreclosure'\n",
    "    elif words & contract_keywords:\n",
    "        return 'contract'\n",
    "    elif words & coming_soon_keywords:\n",
    "        return 'coming soon'\n",
    "    elif words & sale_keywords or words=={'nan'}:\n",
    "        return 'for sale'\n",
    "    elif words & rent_keywords:\n",
    "        return 'for rent'\n",
    "    else:\n",
    "        return words\n",
    "    \n",
    "data['mod_status'] = data['status'].apply(get_cleaned_status)"
   ]
  },
  {
   "cell_type": "markdown",
   "id": "56f9b6b3",
   "metadata": {},
   "source": [
    "Выведем полученный результат:"
   ]
  },
  {
   "cell_type": "code",
   "execution_count": 16,
   "id": "6453c0ae",
   "metadata": {},
   "outputs": [
    {
     "data": {
      "text/plain": [
       "for sale            246640\n",
       "contingent          107856\n",
       "foreclosure          12382\n",
       "pending               6927\n",
       "contract              2806\n",
       "for rent               412\n",
       "coming soon            110\n",
       "{$285000, sold:}         1\n",
       "{$15000, sold:}          1\n",
       "Name: mod_status, dtype: int64"
      ]
     },
     "execution_count": 16,
     "metadata": {},
     "output_type": "execute_result"
    }
   ],
   "source": [
    "data['mod_status'].value_counts()"
   ]
  },
  {
   "cell_type": "markdown",
   "id": "28de0941",
   "metadata": {},
   "source": [
    "Обратите внимание, что мы пока не стали преобразовывать две последние категории с единичным значением. Сейчас объясним почему. Выведем на экран строки с данными значениями:"
   ]
  },
  {
   "cell_type": "code",
   "execution_count": 17,
   "id": "e033e592",
   "metadata": {},
   "outputs": [
    {
     "data": {
      "text/html": [
       "<div>\n",
       "<style scoped>\n",
       "    .dataframe tbody tr th:only-of-type {\n",
       "        vertical-align: middle;\n",
       "    }\n",
       "\n",
       "    .dataframe tbody tr th {\n",
       "        vertical-align: top;\n",
       "    }\n",
       "\n",
       "    .dataframe thead th {\n",
       "        text-align: right;\n",
       "    }\n",
       "</style>\n",
       "<table border=\"1\" class=\"dataframe\">\n",
       "  <thead>\n",
       "    <tr style=\"text-align: right;\">\n",
       "      <th></th>\n",
       "      <th>status</th>\n",
       "      <th>propertyType</th>\n",
       "      <th>street</th>\n",
       "      <th>baths</th>\n",
       "      <th>homeFacts</th>\n",
       "      <th>fireplace</th>\n",
       "      <th>city</th>\n",
       "      <th>schools</th>\n",
       "      <th>sqft</th>\n",
       "      <th>zipcode</th>\n",
       "      <th>beds</th>\n",
       "      <th>state</th>\n",
       "      <th>stories</th>\n",
       "      <th>pool</th>\n",
       "      <th>MlsId</th>\n",
       "      <th>target</th>\n",
       "      <th>mod_status</th>\n",
       "    </tr>\n",
       "  </thead>\n",
       "  <tbody>\n",
       "    <tr>\n",
       "      <th>212348</th>\n",
       "      <td>Sold: $285,000</td>\n",
       "      <td>Single Family</td>\n",
       "      <td>2877 Uranium Ct</td>\n",
       "      <td>Bathrooms: 2</td>\n",
       "      <td>{'atAGlanceFacts': [{'factValue': '1984', 'fac...</td>\n",
       "      <td>NaN</td>\n",
       "      <td>Redding</td>\n",
       "      <td>[{'rating': ['6/10', '8/10'], 'data': {'Distan...</td>\n",
       "      <td>Total interior livable area: 1,610 sqft</td>\n",
       "      <td>96003.0</td>\n",
       "      <td>3 bd</td>\n",
       "      <td>CA</td>\n",
       "      <td>1.0</td>\n",
       "      <td>yes</td>\n",
       "      <td>NaN</td>\n",
       "      <td>NaN</td>\n",
       "      <td>{$285000, sold:}</td>\n",
       "    </tr>\n",
       "    <tr>\n",
       "      <th>218685</th>\n",
       "      <td>Sold: $15,000</td>\n",
       "      <td>Single Family</td>\n",
       "      <td>226 Milton Rd</td>\n",
       "      <td>Bathrooms: 2</td>\n",
       "      <td>{'atAGlanceFacts': [{'factValue': '2019', 'fac...</td>\n",
       "      <td>NaN</td>\n",
       "      <td>Pensacola</td>\n",
       "      <td>[{'rating': ['2/10', '1/10', '5/10'], 'data': ...</td>\n",
       "      <td>Total interior livable area: 1,248 sqft</td>\n",
       "      <td>32507.0</td>\n",
       "      <td>3 bd</td>\n",
       "      <td>FL</td>\n",
       "      <td>1.0</td>\n",
       "      <td>no</td>\n",
       "      <td>563864</td>\n",
       "      <td>NaN</td>\n",
       "      <td>{$15000, sold:}</td>\n",
       "    </tr>\n",
       "  </tbody>\n",
       "</table>\n",
       "</div>"
      ],
      "text/plain": [
       "                status   propertyType           street         baths  \\\n",
       "212348  Sold: $285,000  Single Family  2877 Uranium Ct  Bathrooms: 2   \n",
       "218685   Sold: $15,000  Single Family    226 Milton Rd  Bathrooms: 2   \n",
       "\n",
       "                                                homeFacts fireplace  \\\n",
       "212348  {'atAGlanceFacts': [{'factValue': '1984', 'fac...       NaN   \n",
       "218685  {'atAGlanceFacts': [{'factValue': '2019', 'fac...       NaN   \n",
       "\n",
       "             city                                            schools  \\\n",
       "212348    Redding  [{'rating': ['6/10', '8/10'], 'data': {'Distan...   \n",
       "218685  Pensacola  [{'rating': ['2/10', '1/10', '5/10'], 'data': ...   \n",
       "\n",
       "                                           sqft  zipcode  beds state stories  \\\n",
       "212348  Total interior livable area: 1,610 sqft  96003.0  3 bd    CA     1.0   \n",
       "218685  Total interior livable area: 1,248 sqft  32507.0  3 bd    FL     1.0   \n",
       "\n",
       "       pool   MlsId  target        mod_status  \n",
       "212348  yes     NaN     NaN  {$285000, sold:}  \n",
       "218685   no  563864     NaN   {$15000, sold:}  "
      ]
     },
     "execution_count": 17,
     "metadata": {},
     "output_type": "execute_result"
    }
   ],
   "source": [
    "data[(data['status'] == 'Sold: $285,000') | (data['status'] == 'Sold: $15,000')]"
   ]
  },
  {
   "cell_type": "markdown",
   "id": "c53b25f4",
   "metadata": {},
   "source": [
    "Целевая переменная `target` оказалась пустой. Однако в статусе объекта идет явная отсылка на стоимость проданной недвижимости. Поэтому наша задача сводится к технической - перенести стоимость объекта в прогнозируемый признак. Таким образом, мы не потеряем оба наблюдения и их не придется впоследствии удалять.  \n",
    "\n",
    "Напишем функцию, которая позволит нам реализовать задуманное:"
   ]
  },
  {
   "cell_type": "code",
   "execution_count": 18,
   "id": "c419efee",
   "metadata": {},
   "outputs": [],
   "source": [
    "def target_for_transfer(status):\n",
    "    \"\"\"Cканирует признак по заданному значению и извлекает \n",
    "    из него число в случае успешного поиска \n",
    "    \n",
    "    Args:\n",
    "        str: значение признака (тип object)\n",
    "        \n",
    "    Returns:\n",
    "        float: числовое значение \n",
    "    \"\"\"\n",
    "    if 'Sold: ' in status:\n",
    "        parts = status.split('$')\n",
    "        if len(parts) > 1:\n",
    "            return float(parts[1].replace(',', ''))\n",
    "        \n",
    "# заполнение пропусков с помощью функции\n",
    "data['target'] = data.apply(lambda row: target_for_transfer(row['status']) \\\n",
    "                            if pd.isna(row['target']) else row['target'], axis=1)"
   ]
  },
  {
   "cell_type": "markdown",
   "id": "4e7649ab",
   "metadata": {},
   "source": [
    "Проверим полученный результат:"
   ]
  },
  {
   "cell_type": "code",
   "execution_count": 19,
   "id": "09eb0f20",
   "metadata": {},
   "outputs": [
    {
     "data": {
      "text/html": [
       "<div>\n",
       "<style scoped>\n",
       "    .dataframe tbody tr th:only-of-type {\n",
       "        vertical-align: middle;\n",
       "    }\n",
       "\n",
       "    .dataframe tbody tr th {\n",
       "        vertical-align: top;\n",
       "    }\n",
       "\n",
       "    .dataframe thead th {\n",
       "        text-align: right;\n",
       "    }\n",
       "</style>\n",
       "<table border=\"1\" class=\"dataframe\">\n",
       "  <thead>\n",
       "    <tr style=\"text-align: right;\">\n",
       "      <th></th>\n",
       "      <th>status</th>\n",
       "      <th>propertyType</th>\n",
       "      <th>street</th>\n",
       "      <th>baths</th>\n",
       "      <th>homeFacts</th>\n",
       "      <th>fireplace</th>\n",
       "      <th>city</th>\n",
       "      <th>schools</th>\n",
       "      <th>sqft</th>\n",
       "      <th>zipcode</th>\n",
       "      <th>beds</th>\n",
       "      <th>state</th>\n",
       "      <th>stories</th>\n",
       "      <th>pool</th>\n",
       "      <th>MlsId</th>\n",
       "      <th>target</th>\n",
       "      <th>mod_status</th>\n",
       "    </tr>\n",
       "  </thead>\n",
       "  <tbody>\n",
       "    <tr>\n",
       "      <th>212348</th>\n",
       "      <td>Sold: $285,000</td>\n",
       "      <td>Single Family</td>\n",
       "      <td>2877 Uranium Ct</td>\n",
       "      <td>Bathrooms: 2</td>\n",
       "      <td>{'atAGlanceFacts': [{'factValue': '1984', 'fac...</td>\n",
       "      <td>NaN</td>\n",
       "      <td>Redding</td>\n",
       "      <td>[{'rating': ['6/10', '8/10'], 'data': {'Distan...</td>\n",
       "      <td>Total interior livable area: 1,610 sqft</td>\n",
       "      <td>96003.0</td>\n",
       "      <td>3 bd</td>\n",
       "      <td>CA</td>\n",
       "      <td>1.0</td>\n",
       "      <td>yes</td>\n",
       "      <td>NaN</td>\n",
       "      <td>285000.0</td>\n",
       "      <td>{$285000, sold:}</td>\n",
       "    </tr>\n",
       "    <tr>\n",
       "      <th>218685</th>\n",
       "      <td>Sold: $15,000</td>\n",
       "      <td>Single Family</td>\n",
       "      <td>226 Milton Rd</td>\n",
       "      <td>Bathrooms: 2</td>\n",
       "      <td>{'atAGlanceFacts': [{'factValue': '2019', 'fac...</td>\n",
       "      <td>NaN</td>\n",
       "      <td>Pensacola</td>\n",
       "      <td>[{'rating': ['2/10', '1/10', '5/10'], 'data': ...</td>\n",
       "      <td>Total interior livable area: 1,248 sqft</td>\n",
       "      <td>32507.0</td>\n",
       "      <td>3 bd</td>\n",
       "      <td>FL</td>\n",
       "      <td>1.0</td>\n",
       "      <td>no</td>\n",
       "      <td>563864</td>\n",
       "      <td>15000.0</td>\n",
       "      <td>{$15000, sold:}</td>\n",
       "    </tr>\n",
       "  </tbody>\n",
       "</table>\n",
       "</div>"
      ],
      "text/plain": [
       "                status   propertyType           street         baths  \\\n",
       "212348  Sold: $285,000  Single Family  2877 Uranium Ct  Bathrooms: 2   \n",
       "218685   Sold: $15,000  Single Family    226 Milton Rd  Bathrooms: 2   \n",
       "\n",
       "                                                homeFacts fireplace  \\\n",
       "212348  {'atAGlanceFacts': [{'factValue': '1984', 'fac...       NaN   \n",
       "218685  {'atAGlanceFacts': [{'factValue': '2019', 'fac...       NaN   \n",
       "\n",
       "             city                                            schools  \\\n",
       "212348    Redding  [{'rating': ['6/10', '8/10'], 'data': {'Distan...   \n",
       "218685  Pensacola  [{'rating': ['2/10', '1/10', '5/10'], 'data': ...   \n",
       "\n",
       "                                           sqft  zipcode  beds state stories  \\\n",
       "212348  Total interior livable area: 1,610 sqft  96003.0  3 bd    CA     1.0   \n",
       "218685  Total interior livable area: 1,248 sqft  32507.0  3 bd    FL     1.0   \n",
       "\n",
       "       pool   MlsId    target        mod_status  \n",
       "212348  yes     NaN  285000.0  {$285000, sold:}  \n",
       "218685   no  563864   15000.0   {$15000, sold:}  "
      ]
     },
     "execution_count": 19,
     "metadata": {},
     "output_type": "execute_result"
    }
   ],
   "source": [
    "data[(data['status'] == 'Sold: $285,000') | (data['status'] == 'Sold: $15,000')]"
   ]
  },
  {
   "cell_type": "markdown",
   "id": "4a95f8ce",
   "metadata": {},
   "source": [
    "Осталось только присвоить медианное значение статуса данным объектам и удалить исходный признак `status`:"
   ]
  },
  {
   "cell_type": "code",
   "execution_count": 20,
   "id": "b946ba76",
   "metadata": {},
   "outputs": [
    {
     "data": {
      "text/html": [
       "<div>\n",
       "<style scoped>\n",
       "    .dataframe tbody tr th:only-of-type {\n",
       "        vertical-align: middle;\n",
       "    }\n",
       "\n",
       "    .dataframe tbody tr th {\n",
       "        vertical-align: top;\n",
       "    }\n",
       "\n",
       "    .dataframe thead th {\n",
       "        text-align: right;\n",
       "    }\n",
       "</style>\n",
       "<table border=\"1\" class=\"dataframe\">\n",
       "  <thead>\n",
       "    <tr style=\"text-align: right;\">\n",
       "      <th></th>\n",
       "      <th>propertyType</th>\n",
       "      <th>street</th>\n",
       "      <th>baths</th>\n",
       "      <th>homeFacts</th>\n",
       "      <th>fireplace</th>\n",
       "      <th>city</th>\n",
       "      <th>schools</th>\n",
       "      <th>sqft</th>\n",
       "      <th>zipcode</th>\n",
       "      <th>beds</th>\n",
       "      <th>state</th>\n",
       "      <th>stories</th>\n",
       "      <th>pool</th>\n",
       "      <th>MlsId</th>\n",
       "      <th>target</th>\n",
       "      <th>mod_status</th>\n",
       "    </tr>\n",
       "  </thead>\n",
       "  <tbody>\n",
       "    <tr>\n",
       "      <th>0</th>\n",
       "      <td>Single Family Home</td>\n",
       "      <td>240 Heather Ln</td>\n",
       "      <td>3.5</td>\n",
       "      <td>{'atAGlanceFacts': [{'factValue': '2019', 'fac...</td>\n",
       "      <td>Gas Logs</td>\n",
       "      <td>Southern Pines</td>\n",
       "      <td>[{'rating': ['4', '4', '7', 'NR', '4', '7', 'N...</td>\n",
       "      <td>2900</td>\n",
       "      <td>28387.0</td>\n",
       "      <td>4</td>\n",
       "      <td>NC</td>\n",
       "      <td>NaN</td>\n",
       "      <td>no</td>\n",
       "      <td>611019</td>\n",
       "      <td>418000.0</td>\n",
       "      <td>contingent</td>\n",
       "    </tr>\n",
       "    <tr>\n",
       "      <th>1</th>\n",
       "      <td>single-family home</td>\n",
       "      <td>12911 E Heroy Ave</td>\n",
       "      <td>3 Baths</td>\n",
       "      <td>{'atAGlanceFacts': [{'factValue': '2019', 'fac...</td>\n",
       "      <td>NaN</td>\n",
       "      <td>Spokane Valley</td>\n",
       "      <td>[{'rating': ['4/10', 'None/10', '4/10'], 'data...</td>\n",
       "      <td>1,947 sqft</td>\n",
       "      <td>99216.0</td>\n",
       "      <td>3 Beds</td>\n",
       "      <td>WA</td>\n",
       "      <td>2.0</td>\n",
       "      <td>no</td>\n",
       "      <td>201916904</td>\n",
       "      <td>310000.0</td>\n",
       "      <td>for sale</td>\n",
       "    </tr>\n",
       "    <tr>\n",
       "      <th>2</th>\n",
       "      <td>single-family home</td>\n",
       "      <td>2005 Westridge Rd</td>\n",
       "      <td>2 Baths</td>\n",
       "      <td>{'atAGlanceFacts': [{'factValue': '1961', 'fac...</td>\n",
       "      <td>yes</td>\n",
       "      <td>Los Angeles</td>\n",
       "      <td>[{'rating': ['8/10', '4/10', '8/10'], 'data': ...</td>\n",
       "      <td>3,000 sqft</td>\n",
       "      <td>90049.0</td>\n",
       "      <td>3 Beds</td>\n",
       "      <td>CA</td>\n",
       "      <td>1.0</td>\n",
       "      <td>yes</td>\n",
       "      <td>FR19221027</td>\n",
       "      <td>2895000.0</td>\n",
       "      <td>for sale</td>\n",
       "    </tr>\n",
       "    <tr>\n",
       "      <th>3</th>\n",
       "      <td>single-family home</td>\n",
       "      <td>4311 Livingston Ave</td>\n",
       "      <td>8 Baths</td>\n",
       "      <td>{'atAGlanceFacts': [{'factValue': '2006', 'fac...</td>\n",
       "      <td>yes</td>\n",
       "      <td>Dallas</td>\n",
       "      <td>[{'rating': ['9/10', '9/10', '10/10', '9/10'],...</td>\n",
       "      <td>6,457 sqft</td>\n",
       "      <td>75205.0</td>\n",
       "      <td>5 Beds</td>\n",
       "      <td>TX</td>\n",
       "      <td>3.0</td>\n",
       "      <td>no</td>\n",
       "      <td>14191809</td>\n",
       "      <td>2395000.0</td>\n",
       "      <td>for sale</td>\n",
       "    </tr>\n",
       "    <tr>\n",
       "      <th>4</th>\n",
       "      <td>lot/land</td>\n",
       "      <td>1524 Kiscoe St</td>\n",
       "      <td>NaN</td>\n",
       "      <td>{'atAGlanceFacts': [{'factValue': '', 'factLab...</td>\n",
       "      <td>NaN</td>\n",
       "      <td>Palm Bay</td>\n",
       "      <td>[{'rating': ['4/10', '5/10', '5/10'], 'data': ...</td>\n",
       "      <td>NaN</td>\n",
       "      <td>32908.0</td>\n",
       "      <td>NaN</td>\n",
       "      <td>FL</td>\n",
       "      <td>NaN</td>\n",
       "      <td>no</td>\n",
       "      <td>861745</td>\n",
       "      <td>5000.0</td>\n",
       "      <td>for sale</td>\n",
       "    </tr>\n",
       "  </tbody>\n",
       "</table>\n",
       "</div>"
      ],
      "text/plain": [
       "         propertyType               street    baths  \\\n",
       "0  Single Family Home       240 Heather Ln      3.5   \n",
       "1  single-family home    12911 E Heroy Ave  3 Baths   \n",
       "2  single-family home    2005 Westridge Rd  2 Baths   \n",
       "3  single-family home  4311 Livingston Ave  8 Baths   \n",
       "4            lot/land       1524 Kiscoe St      NaN   \n",
       "\n",
       "                                           homeFacts fireplace  \\\n",
       "0  {'atAGlanceFacts': [{'factValue': '2019', 'fac...  Gas Logs   \n",
       "1  {'atAGlanceFacts': [{'factValue': '2019', 'fac...       NaN   \n",
       "2  {'atAGlanceFacts': [{'factValue': '1961', 'fac...       yes   \n",
       "3  {'atAGlanceFacts': [{'factValue': '2006', 'fac...       yes   \n",
       "4  {'atAGlanceFacts': [{'factValue': '', 'factLab...       NaN   \n",
       "\n",
       "             city                                            schools  \\\n",
       "0  Southern Pines  [{'rating': ['4', '4', '7', 'NR', '4', '7', 'N...   \n",
       "1  Spokane Valley  [{'rating': ['4/10', 'None/10', '4/10'], 'data...   \n",
       "2     Los Angeles  [{'rating': ['8/10', '4/10', '8/10'], 'data': ...   \n",
       "3          Dallas  [{'rating': ['9/10', '9/10', '10/10', '9/10'],...   \n",
       "4        Palm Bay  [{'rating': ['4/10', '5/10', '5/10'], 'data': ...   \n",
       "\n",
       "         sqft  zipcode    beds state stories pool       MlsId     target  \\\n",
       "0        2900  28387.0       4    NC     NaN   no      611019   418000.0   \n",
       "1  1,947 sqft  99216.0  3 Beds    WA     2.0   no   201916904   310000.0   \n",
       "2  3,000 sqft  90049.0  3 Beds    CA     1.0  yes  FR19221027  2895000.0   \n",
       "3  6,457 sqft  75205.0  5 Beds    TX     3.0   no    14191809  2395000.0   \n",
       "4         NaN  32908.0     NaN    FL     NaN   no      861745     5000.0   \n",
       "\n",
       "   mod_status  \n",
       "0  contingent  \n",
       "1    for sale  \n",
       "2    for sale  \n",
       "3    for sale  \n",
       "4    for sale  "
      ]
     },
     "execution_count": 20,
     "metadata": {},
     "output_type": "execute_result"
    }
   ],
   "source": [
    "data.loc[data.index.isin([212348, 218685]), 'mod_status'] = 'for sale'\n",
    "data.drop('status', axis=1, inplace=True)\n",
    "data.head()"
   ]
  },
  {
   "cell_type": "markdown",
   "id": "9f4f3778",
   "metadata": {},
   "source": [
    "Переходим к обработке значений из признака `propertyType`. Здесь ситуация с количеством уникальных значений схожая, поэтому действуем уже знакомым способом - сводим их к нескольким категориям:  \n",
    "\n",
    "`single-family` - дом на одну семью;   \n",
    "`multi-family` - многоквартирный дом;  \n",
    "`condo` - недвижимость с несколькими собственниками и территорией для общего пользования;  \n",
    "`townhouse` - городская недвижимость, малый дом на несколько семей;  \n",
    "`land` - земельный участок под строительство;    \n",
    "`ranch` - ранчо;  \n",
    "`mobile` - трейлер, \"дом на колесах\";  \n",
    "`apartments` - более доступный вид недвижимости, но с временной регистрацией;  \n",
    "`other` - объекты, которые не относятся ни к одной из вышеперечисленных категорий (дома в различных стилях, памятники архитектуры, туристическая отельная инфраструктура etc.)  \n",
    "\n",
    "Однако не будем спешить. Перед тем, как начать обработку значений признака, необходимо посмотреть на количество пропусков и поискать возможные значения в других признаках. И действительно, такие значения обнаруживаются в признаке `stories`:"
   ]
  },
  {
   "cell_type": "code",
   "execution_count": 21,
   "id": "51883746",
   "metadata": {},
   "outputs": [
    {
     "name": "stdout",
     "output_type": "stream",
     "text": [
      "Кол-во пропусков в признаке 'propertyType': 34733\n",
      "\n",
      "Данные о типах объектов из признака 'stories:'\n",
      "High-Rise\n",
      "Farm House\n"
     ]
    }
   ],
   "source": [
    "print(f\"Кол-во пропусков в признаке 'propertyType': \\\n",
    "{data['propertyType'].isnull().sum()}\")\n",
    "print()\n",
    "print(\"Данные о типах объектов из признака 'stories:'\")\n",
    "print(data['stories'].iloc[7491])\n",
    "print(data['stories'].iloc[995])"
   ]
  },
  {
   "cell_type": "markdown",
   "id": "13f67f0a",
   "metadata": {},
   "source": [
    "Наша задача - построчно перенести такие значения в 'родной' для них признак на место пропусков. Кроме того, проанализировав значения типов недвижимости, можно обнаружить неопределенные значения - давайте их тоже считать отсутствующими данными:"
   ]
  },
  {
   "cell_type": "code",
   "execution_count": 22,
   "id": "09ea9e74",
   "metadata": {},
   "outputs": [],
   "source": [
    "def types_for_transfer(row):\n",
    "    \"\"\"Переносит тип объекта недвижимости из одного \n",
    "    признака в другой по ключевым значениям из списка\n",
    "    на место пропущенных значений\n",
    "    \n",
    "    Args:\n",
    "        float, str: исходное смешанное значение признака,\n",
    "        из которого осуществлен трансфер\n",
    "        \n",
    "    Returns:\n",
    "        str: перенесенное значение из списка\n",
    "        str: исходное значение при отсутствии пропуска\n",
    "    \"\"\"    \n",
    "    \n",
    "    # список значений для трансфера\n",
    "    \n",
    "    key_values = {'Ranch', 'Farm House', 'Cottage', 'Townhouse', 'Condominium', \n",
    "                  'Condo', 'Apartments', 'High-Rise', 'Mid-Rise', 'Multi', 'Duplex', 'Triplex', \n",
    "                  'Fourplex', 'Sixplex', 'Rise', 'Mobile', 'Traditional', 'Split Foyer', \n",
    "                  'Commercial', 'Garden', 'Contemporary', 'Manufactured', 'Modular Home', \n",
    "                  'Victorian', 'Colonial', 'Loft', 'Chalet', 'Federal', 'Tudor', 'Craftsman'}\n",
    "    \n",
    "    # маркировка скрытых пропущенных значений\n",
    "    \n",
    "    null_values = {' ', 'unknown'}\n",
    "    \n",
    "    if pd.isnull(row['propertyType']) or row['propertyType'] in null_values:\n",
    "    \n",
    "    # проверка на входящий тип и преобразование к строке\n",
    "        \n",
    "        if isinstance(row['stories'], str):\n",
    "            for value in key_values:\n",
    "                if value in row['stories']:\n",
    "                    return value\n",
    "    \n",
    "    # исходное значение при невыполнении хотя бы одного условия\n",
    "    \n",
    "    return row['propertyType']\n",
    "\n",
    "# дополнение признака перенесенными значениями \n",
    "data['propertyType'] = data.apply(types_for_transfer, axis=1)"
   ]
  },
  {
   "cell_type": "markdown",
   "id": "6c9387ef",
   "metadata": {},
   "source": [
    "Прекрасно, мы восстановили максимально возможное количество потерянных данных благодаря другому признаку. Это поможет нам более точно обработать значения признака `propertyType`:"
   ]
  },
  {
   "cell_type": "code",
   "execution_count": 23,
   "id": "3d438c04",
   "metadata": {},
   "outputs": [],
   "source": [
    "def get_cleaned_types(arg):\n",
    "    \"\"\"Ищет пересечения входящего значения из аргумента \n",
    "    с элементами из указанных множеств и присваивает \n",
    "    соответствующую категорию\n",
    "    \n",
    "    Args:\n",
    "        str, float: смешанное значение признака (тип object)\n",
    "        \n",
    "    Returns:\n",
    "        str: категория типа недвижимости\n",
    "    \"\"\"\n",
    "    \n",
    "    # маркировка скрытых пропусков\n",
    "    \n",
    "    null_values = {' ', 'unknown'}\n",
    "    \n",
    "    if arg is np.nan or arg in null_values:\n",
    "        return np.nan   \n",
    "    else:\n",
    "        arg = arg.replace('+', '')\n",
    "        words = set(re.split(r'[-, /]+', arg.lower()))\n",
    "        \n",
    "        ranch_keywords = {'farm', 'farms', 'farmhouse', 'farm house', 'ranch', \n",
    "                          'ranches', 'rancher', 'single, detached, ranch'}\n",
    "        \n",
    "        single_keywords = {'singlefamilyresidence', 'single family', 'single', \n",
    "                           'cottage', 'penthouse'}\n",
    "        \n",
    "        townhouse_keywords = {'townhouse'}\n",
    "        \n",
    "        condo_keywords = {'condominium', 'condo', 'coop', 'co op', \n",
    "                          'cooperative', 'townhome'}\n",
    "        \n",
    "        multi_keywords = {'multi', 'multiple', 'multiplex', 'duplex', 'triplex', \n",
    "                          'fourplex', '4, plex', 'sixplex', 'rise'}\n",
    "        \n",
    "        mobile_keywords = {'mobile'}\n",
    "        \n",
    "        apartment_keywords = {'apartment', 'apartments'}\n",
    "        \n",
    "        land_keywords = {'lot', 'land'}\n",
    "        \n",
    "        if words & ranch_keywords:\n",
    "            return 'ranch'\n",
    "        elif words & single_keywords:\n",
    "            return 'single-family'\n",
    "        elif words & townhouse_keywords:\n",
    "            return 'townhouse'\n",
    "        elif words & condo_keywords:\n",
    "            return 'condo'\n",
    "        elif words & multi_keywords:\n",
    "            return 'multi-family'\n",
    "        elif words & mobile_keywords:\n",
    "            return 'mobile'\n",
    "        elif words & apartment_keywords:\n",
    "            return 'apartments'\n",
    "        elif words & land_keywords:\n",
    "            return 'land'\n",
    "        else:\n",
    "            return 'other'\n",
    "\n",
    "# создание признака на основе исходного\n",
    "data['mod_type'] = data['propertyType'].apply(get_cleaned_types)"
   ]
  },
  {
   "cell_type": "markdown",
   "id": "6d9d7618",
   "metadata": {},
   "source": [
    "Выведем получившиеся категории:"
   ]
  },
  {
   "cell_type": "code",
   "execution_count": 24,
   "id": "d42392d8",
   "metadata": {},
   "outputs": [
    {
     "data": {
      "text/plain": [
       "single-family    190244\n",
       "condo             55309\n",
       "land              31478\n",
       "other             24155\n",
       "townhouse         18584\n",
       "multi-family      14867\n",
       "mobile             3482\n",
       "ranch              3288\n",
       "apartments          939\n",
       "Name: mod_type, dtype: int64"
      ]
     },
     "execution_count": 24,
     "metadata": {},
     "output_type": "execute_result"
    }
   ],
   "source": [
    "data['mod_type'].value_counts()"
   ]
  },
  {
   "cell_type": "markdown",
   "id": "055553a1",
   "metadata": {},
   "source": [
    "Вы можете удивиться и задаться вопросом - зачем создавать лишний признак, когда можно применить преобразование к имеющемуся? Все дело в том, что в процессе обработки признака типа недвижимости в нем была также обнаружена нерелевантная информация о количестве этажей (признак `stories`)! Часть данных из `Stories` попала в `propertyType`, а часть данных `propertyType` оказалась в `Stories`. Напрямую преобразовав признак `propertyType`, мы бы потеряли эти данные. Видимо, такие повторяющиеся ситуации связаны с ошибками в процессе выгрузки данных или с неструктурированностью самих баз данных. Например:"
   ]
  },
  {
   "cell_type": "code",
   "execution_count": 25,
   "id": "6edb4394",
   "metadata": {},
   "outputs": [
    {
     "name": "stdout",
     "output_type": "stream",
     "text": [
      "Detached, One Story\n",
      "2 Stories\n",
      "3+ Stories\n",
      "Mid-Rise (4-7 Stories)\n"
     ]
    }
   ],
   "source": [
    "print(data['propertyType'].iloc[166])\n",
    "print(data['propertyType'].iloc[846])\n",
    "print(data['propertyType'].iloc[20978])\n",
    "print(data['propertyType'].iloc[17128])"
   ]
  },
  {
   "cell_type": "markdown",
   "id": "f3ca1c23",
   "metadata": {},
   "source": [
    "Конечно, мы можем проанализировать медианные значения в разрезе категорий и сразу же заполнить ими соответствующие пропуски в столбце `stories`, однако это будет не совсем корректно, тем более зачем упускать такую возможность восстановить несколько значений потерянных данных. Однако перед проведением трансфера из `propertyType` следует все же провести обработку самого признака, куда будут попадать наши отфильтрованные значения, чтобы избежать дополнительных обработок после переноса:"
   ]
  },
  {
   "cell_type": "code",
   "execution_count": 26,
   "id": "beb39c75",
   "metadata": {},
   "outputs": [],
   "source": [
    "def get_cleaned_stories(row):\n",
    "    \"\"\"Очищает от строковых и инородных значений\n",
    "    и возвращает количество этажей в рассматриваемом\n",
    "    объекте\n",
    "    \n",
    "    Args:\n",
    "        str, float: смешанное значение признака (тип object)\n",
    "        \n",
    "    Returns:\n",
    "        float: количество этажей объекта\n",
    "        NaN: в случае отсутствия данных или нерелевантных\n",
    "        значений\n",
    "    \"\"\"\n",
    "    row = (str(row)).replace('-', ' ').replace('+', '')\n",
    "    \n",
    "    # словарь для замены строковых значений количественными\n",
    "    \n",
    "    word_to_number = {'One': 1, 'Two': 2, 'Three': 3}\n",
    "    \n",
    "    for word, number in word_to_number.items():\n",
    "        row = row.replace(word, str(number))\n",
    "        \n",
    "    if row == 'Ranch/1 Story':\n",
    "        return float(1)\n",
    "\n",
    "    # обработка нерелевантных значений\n",
    "    \n",
    "    if 'Level' in row:\n",
    "        return np.nan\n",
    "\n",
    "    # обработка строковых значений\n",
    "    \n",
    "    words = re.split(r'[, /]+', row)\n",
    "\n",
    "    if 'More' in words:\n",
    "        return float(words[0])\n",
    "\n",
    "    if 'Half' in words:\n",
    "        return float(words[0]) + 0.5\n",
    "\n",
    "    if words[0].replace('.', '').isdigit():\n",
    "        return float(words[0])\n",
    "\n",
    "    # обработка количественных значений\n",
    "    \n",
    "    try:\n",
    "        return round(float(row), 1)\n",
    "    except ValueError:\n",
    "        return np.nan\n",
    "    \n",
    "data['stories'] = data['stories'].apply(get_cleaned_stories)"
   ]
  },
  {
   "cell_type": "markdown",
   "id": "5aac364e",
   "metadata": {},
   "source": [
    "Что такое \"половинчатые\" значения? Зачастую таким способом риелторы пытаются более подробно описывать объекты недвижимости, прибавляя к \"цельным\" этажам подвальные помещения или чердак.  \n",
    "\n",
    "Теперь мы готовы написать функцию, которая перенесет данные из признака типа объектов недвижимости в признак количества этажей:"
   ]
  },
  {
   "cell_type": "code",
   "execution_count": 27,
   "id": "04b3fe71",
   "metadata": {},
   "outputs": [],
   "source": [
    "def stories_for_transfer(arg):\n",
    "    \"\"\"Сканирует входящий аргумент по ключевым словам\n",
    "    и извлекает значение кол-ва этажей в случае\n",
    "    успешного поиска\n",
    "    \n",
    "    Args:\n",
    "        float, str: значение признака (тип object)\n",
    "        \n",
    "    Returns:\n",
    "        float: значение кол-ва этажей в виде\n",
    "        числового значения \n",
    "    \n",
    "    \"\"\"\n",
    "    arg = (str(arg)).replace('+', '')\n",
    "    words = re.split(r'[, ()]+', arg.lower())\n",
    "    \n",
    "    key_words = {'story', 'stories', 'floors'}\n",
    "    \n",
    "    word_to_number = {'one': 1, 'two': 2}\n",
    "    \n",
    "    for index, value in enumerate(words):         \n",
    "        if words[index-1] in word_to_number: # замена по словарю\n",
    "            return float(word_to_number[words[index-1]])        \n",
    "        elif value=='than':\n",
    "            return (float(words[index+1])-1)\n",
    "        elif value in key_words:\n",
    "            if words[index-1]=='1/2': # обработка половинчатых значений\n",
    "                return (float(words[index-2]) + 0.5)\n",
    "            elif '-' in words[index-1]: # обработка диапазонов значений\n",
    "                return float(words[index-1].split('-')[0])\n",
    "                \n",
    "            return float(words[index-1])\n",
    "        \n",
    "# заполнение пропусков\n",
    "data['stories'] = data.apply(lambda row: stories_for_transfer(row['propertyType']) \\\n",
    "                            if pd.isna(row['stories']) else row['stories'], axis=1)\n",
    "\n",
    "# данные получены - удаляем использованный признак\n",
    "data.drop('propertyType', axis=1, inplace=True)"
   ]
  },
  {
   "cell_type": "markdown",
   "id": "75cc749a",
   "metadata": {},
   "source": [
    "Теперь рассмотрим признак `Beds` - количество спален. Вначале традиционно исследуем встречающиеся в нем значения:"
   ]
  },
  {
   "cell_type": "code",
   "execution_count": 28,
   "id": "119ca60b",
   "metadata": {},
   "outputs": [
    {
     "data": {
      "text/plain": [
       "array(['4', '3 Beds', '5 Beds', ..., '9,565 sqft', '1.74 acres',\n",
       "       '8,479 sqft'], dtype=object)"
      ]
     },
     "execution_count": 28,
     "metadata": {},
     "output_type": "execute_result"
    }
   ],
   "source": [
    "data['beds'].unique()"
   ]
  },
  {
   "cell_type": "markdown",
   "id": "3ec6ef1b",
   "metadata": {},
   "source": [
    "И здесь у нас целый \"винегрет\" значений. Здесь можно встретить как количество спальных комнат, так и размерности - количество квадратных футов и даже акры. Обработаем признак уже по традиции - под \"родные\" значения создаем отдельный признак, а остальное переносим в свои столбцы:"
   ]
  },
  {
   "cell_type": "code",
   "execution_count": 29,
   "id": "e7e87b45",
   "metadata": {},
   "outputs": [],
   "source": [
    "def get_cleaned_beds(row):\n",
    "    \"\"\"Фильтрует признак по релевантным значениям\n",
    "    и очищает от строковых символов\n",
    "    \n",
    "    Args:\n",
    "        int, float, str: значение признака\n",
    "        \n",
    "    Returns:\n",
    "        float: значение кол-ва спален в объекте \n",
    "    \n",
    "    \"\"\"\n",
    "    if row is np.nan or row == '-- bd' or row == ' ':\n",
    "        return np.nan\n",
    "\n",
    "    # преобразование количественных значений\n",
    "    \n",
    "    try:\n",
    "        return float(row)\n",
    "    except ValueError:\n",
    "        words = re.split(r'[ ,-]+', row)\n",
    "    \n",
    "    # фильтрация по ключевым словам \n",
    "    \n",
    "        if 'Beds' in words or 'bd' in words:\n",
    "            return float(words[0])\n",
    "        else:\n",
    "            for i, word in enumerate(words):\n",
    "                if word == 'Bedrooms':\n",
    "                    if i > 0 and words[i-1].isdigit():\n",
    "                        return float(words[i-1])\n",
    "                    elif i > 2 and words[i-1]=='More' and words[i-3].isdigit():\n",
    "                        return float(words[i-3])\n",
    "                    elif words[0].isdigit():\n",
    "                        return float(words[0])\n",
    "\n",
    "    return np.nan\n",
    "\n",
    "def sqft_for_transfer(row):\n",
    "    \"\"\"Извлекает кол-во кв. футов и \n",
    "    отфильтровывает нерелевантные значения\n",
    "    \n",
    "    Args:\n",
    "        str: значение признака (тип данных 'object')\n",
    "        \n",
    "    Returns:\n",
    "        float: значение кол-ва кв. футов \n",
    "    \"\"\"\n",
    "    row = str(row)\n",
    "    \n",
    "    if '-- sqft' in row: # пустые значения\n",
    "        return np.nan\n",
    "    elif 'sqft' in row:\n",
    "        row = row.replace(',', '').split()\n",
    "        return float(row[0])\n",
    "    \n",
    "# отфильтрованный признак\n",
    "data['mod_beds'] = data['beds'].apply(get_cleaned_beds)\n",
    "\n",
    "# перенос кв. футов обратно в релевантный признак\n",
    "data['sqft'] = data.apply(lambda row: sqft_for_transfer(row['beds']) \\\n",
    "                          if pd.isna(row['sqft']) else row['sqft'], axis=1)"
   ]
  },
  {
   "cell_type": "markdown",
   "id": "8b584bb6",
   "metadata": {},
   "source": [
    "В исходном признаке осталось значение акров - их мы пока не трогаем, просто запомним этот факт и вернемся к признаку `Beds` позже.  \n",
    "\n",
    "Пока что приведем в порядок признак количества квадратных футов объекта:"
   ]
  },
  {
   "cell_type": "code",
   "execution_count": 30,
   "id": "1c3bd549",
   "metadata": {},
   "outputs": [],
   "source": [
    "def get_cleaned_sqft(row):\n",
    "    \"\"\"Извлекает количество кв. футов объекта\n",
    "    и очищает от строковых символов\n",
    "    \n",
    "    Args:\n",
    "        int, float, str: смешанное значение признака\n",
    "        \n",
    "    Returns:\n",
    "        float: значение кол-ва кв. футов в объекте     \n",
    "    \"\"\"    \n",
    "    nan_values = {'--', '-- sqft'}\n",
    "\n",
    "    if row in nan_values or not row:\n",
    "        return np.nan\n",
    "\n",
    "    try:\n",
    "        return float(row)\n",
    "    \n",
    "    except ValueError:                \n",
    "        row = str(row).replace(',', '')\n",
    "        if row.isdigit():\n",
    "            return float(row)\n",
    "        else:\n",
    "            words = row.split() # обработка смешанных значений\n",
    "            \n",
    "            if words[-1] == 'sqft' and words[-2].isdigit():\n",
    "                return float(words[-2])\n",
    "    \n",
    "    return np.nan\n",
    "\n",
    "data['sqft'] = data['sqft'].apply(get_cleaned_sqft)"
   ]
  },
  {
   "cell_type": "markdown",
   "id": "38e45cb5",
   "metadata": {},
   "source": [
    "Из дискретных признаков остался только признак количества ванных комнат. Его мы оставили напоследок, поскольку никаких трансферов ни из него, ни в него осуществлять не требуется. Однако его значения сильно варьируются и требуют очистки:"
   ]
  },
  {
   "cell_type": "code",
   "execution_count": 31,
   "id": "7d7fc0db",
   "metadata": {},
   "outputs": [
    {
     "data": {
      "text/plain": [
       "2 Baths         52458\n",
       "3 Baths         35503\n",
       "2               20452\n",
       "2.0             16575\n",
       "4 Baths         14763\n",
       "3.0             10868\n",
       "3               10113\n",
       "Bathrooms: 2     9538\n",
       "2.5              8113\n",
       "Bathrooms: 3     6613\n",
       "1                6583\n",
       "1.0              5930\n",
       "5 Baths          5370\n",
       "4.0              4593\n",
       "2.5 Baths        4486\n",
       "Name: baths, dtype: int64"
      ]
     },
     "execution_count": 31,
     "metadata": {},
     "output_type": "execute_result"
    }
   ],
   "source": [
    "data['baths'].value_counts().head(15)"
   ]
  },
  {
   "cell_type": "markdown",
   "id": "5c0be8c8",
   "metadata": {},
   "source": [
    "В признаке присутствуют и целые, и дробные числа, смешанные значения, также встречаются и чисто строковые. С целыми числами все понятно - их мы оставляем в исходном виде. Однако что делать с дробными? Вначале может показаться, что это выбросы и от них нужно безжалостно избавляться. На самом деле это не совсем так. Все дело в специфике риелторских баз данных. Дробными значениями обычно обозначаются неполные ванные комнаты (туалет, раковина, но без полноценной душевой кабины или ванны). Однако оставлять разнородные количественные данные - тоже признак плохого тона, к тому же \"половинчатые\" значения в данном контексте вряд ли значительно повлияют на стоимость объекта недвижимости. У нас уже есть признак `stories`, содержащий \"половинчатые\" значения, однако в том случае наличие самостоятельного подвального помещения или чердака действительно может оказывать потенциальное воздействие на целевую переменную.  Поэтому значения в `baths` мы будем округлять в пользу целых значений ванных комнат, а дробные значения меньше 1 не будем считать полноценной ванной комнатой и присвоим таким значениям 0: "
   ]
  },
  {
   "cell_type": "code",
   "execution_count": 32,
   "id": "4737a59c",
   "metadata": {},
   "outputs": [],
   "source": [
    "def get_cleaned_baths(row):\n",
    "    \"\"\"Очищает признак от строковых и дробных значений\n",
    "    и приводит к единому целочисленному формату\n",
    "    \n",
    "    Args:\n",
    "        int, float, str: смешанные значения признака\n",
    "        \n",
    "    Returns:\n",
    "        int: число полноценных ванных комнат в объекте            \n",
    "    \"\"\"    \n",
    "    nan_values = {'~', '-- baths', 'Sq. Ft. ', '—'} # пустые значения\n",
    "    \n",
    "    if not row or row in nan_values:\n",
    "        return np.nan\n",
    "    \n",
    "    # преобразование количественных значений к int\n",
    "    \n",
    "    elif isinstance(row, (int, float)) and row is not np.nan:\n",
    "        return int(float(row))\n",
    "    \n",
    "    # обработка смешанных и строковых значений\n",
    "    \n",
    "    else:\n",
    "        row = (str(row)).replace(',', '.').replace('+', '')\n",
    "        \n",
    "        try:\n",
    "            return int(float(row))\n",
    "        \n",
    "        except ValueError:\n",
    "            \n",
    "            words = row.lower()\n",
    "                        \n",
    "            if '/' in words:\n",
    "                if '-' in words:\n",
    "                    values = re.split(r'[ / -]+', words)\n",
    "                    return int(values[0])\n",
    "                else:\n",
    "                    values = words.split(' / ')\n",
    "                    return int(values[0])\n",
    "            \n",
    "            if 'baths' in words or 'ba' in words and words[0].isdigit():\n",
    "                if 0 < float(words[0]) < 1:\n",
    "                    return 0 \n",
    "                else:\n",
    "                    return int(float(words[0]))           \n",
    "            \n",
    "            if '-' in words:\n",
    "                value = words.split('-')\n",
    "                if value[0].isdigit():\n",
    "                    return int(value[0])\n",
    "            \n",
    "            if 'bathrooms' in words and words[-1].isdigit():\n",
    "                value = words.split()\n",
    "                return int(value[-1])\n",
    "            \n",
    "            return np.nan                           \n",
    "        \n",
    "data['baths'] = data['baths'].apply(get_cleaned_baths)    "
   ]
  },
  {
   "cell_type": "markdown",
   "id": "106d0b65",
   "metadata": {},
   "source": [
    "Перейдем к оставшимся категориальным признакам. Посмотрим на содержимое признака `state`:"
   ]
  },
  {
   "cell_type": "code",
   "execution_count": 33,
   "id": "09ed555f",
   "metadata": {},
   "outputs": [
    {
     "data": {
      "text/plain": [
       "FL    115434\n",
       "TX     83780\n",
       "NY     24474\n",
       "CA     23385\n",
       "NC     21854\n",
       "TN     18339\n",
       "WA     13820\n",
       "OH     12587\n",
       "IL      8938\n",
       "NV      8482\n",
       "GA      6701\n",
       "CO      6404\n",
       "PA      5561\n",
       "MI      5161\n",
       "DC      4673\n",
       "AZ      3347\n",
       "IN      3327\n",
       "OR      2789\n",
       "MA      1516\n",
       "UT      1325\n",
       "MD      1090\n",
       "VT       868\n",
       "MO       866\n",
       "VA       801\n",
       "WI       452\n",
       "NJ       436\n",
       "ME       259\n",
       "IA       242\n",
       "KY        90\n",
       "OK        49\n",
       "MS        40\n",
       "SC        28\n",
       "MT         7\n",
       "DE         5\n",
       "Fl         1\n",
       "BA         1\n",
       "AL         1\n",
       "OT         1\n",
       "OS         1\n",
       "Name: state, dtype: int64"
      ]
     },
     "execution_count": 33,
     "metadata": {},
     "output_type": "execute_result"
    }
   ],
   "source": [
    "data['state'].value_counts()"
   ]
  },
  {
   "cell_type": "markdown",
   "id": "7970e8b9",
   "metadata": {},
   "source": [
    "Здесь всё хорошо - оставляем его в исходном виде. На очереди признаки `city` и `street`. Посмотрим на их количество категорий:"
   ]
  },
  {
   "cell_type": "code",
   "execution_count": 34,
   "id": "5f7a855a",
   "metadata": {},
   "outputs": [
    {
     "name": "stdout",
     "output_type": "stream",
     "text": [
      "Кол-во категорий в признаке 'city': 2026\n",
      "Кол-во категорий в признаке 'street': 337076\n"
     ]
    }
   ],
   "source": [
    "print(f\"Кол-во категорий в признаке 'city': {data['city'].nunique()}\")\n",
    "print(f\"Кол-во категорий в признаке 'street': {data['street'].nunique()}\")"
   ]
  },
  {
   "cell_type": "markdown",
   "id": "1cdd3830",
   "metadata": {},
   "source": [
    "Числа шокируют. Но на самом деле нам признак `street` с таким количеством категорий необходим только для поиска дублирующихся объектов. А вот из признака города можно было бы попробовать получить полезные данные, попытавшись обработать его. Данные в нем очень \"грязные\". Взгляните на эти значения:"
   ]
  },
  {
   "cell_type": "code",
   "execution_count": 35,
   "id": "ab0e1908",
   "metadata": {},
   "outputs": [
    {
     "name": "stdout",
     "output_type": "stream",
     "text": [
      "Los Angeles\n",
      "Brooklyn\n",
      "New York\n",
      "PORT CHARLOTTE\n",
      "Hollywood\n",
      "ST PETERSBURG\n",
      "Bronx\n",
      "Saint Petersburg\n"
     ]
    }
   ],
   "source": [
    "print(data['city'].iloc[2])\n",
    "print(data['city'].iloc[15])\n",
    "print(data['city'].iloc[17])\n",
    "print(data['city'].iloc[72])\n",
    "print(data['city'].iloc[146])\n",
    "print(data['city'].iloc[155])\n",
    "print(data['city'].iloc[184])\n",
    "print(data['city'].iloc[200])"
   ]
  },
  {
   "cell_type": "markdown",
   "id": "723b337b",
   "metadata": {},
   "source": [
    "Здесь присутствуют одни и те же города в разных сокращениях и регистрах, и тут же отдельно представлены районы внутри этих городов как полноценные категориальные значения. Несомненно, внутри населенных пунктов одни районы престижнее других, соответственно и стоимость недвижимости там выше. Однако не для всех городов указывается район, где расположен объект, и у нас нет такого источника или признаков, откуда можно было бы \"добрать\" недостающие данные и отдельно выделить район как самостоятельный признак. Также наоборот, для обозначенного района не указан город, а только штат, соответственно не очень понятно, что считается полноценным городом, а что районом. Фактически данный признак - \"сборная солянка\", где районы указываются как \"город в городе\" или как самостоятельная единица, что многократно увеличивает количество значений. Однако положительный момент заключается в том, что наличие района будет повышать точность модели при определении стоимости такого объекта - необходимо только расшифровать имеющиеся аббревиатуры и привести все значения к единому формату:"
   ]
  },
  {
   "cell_type": "code",
   "execution_count": 36,
   "id": "62f3edf0",
   "metadata": {},
   "outputs": [],
   "source": [
    "def get_cleaned_city(row):   \n",
    "    \"\"\"Преобразует признак к единому формату и\n",
    "    расшифровывает аббревиатуры различного типа\n",
    "    \n",
    "    Args:\n",
    "        str: строковые значения признака в разных регистрах\n",
    "        \n",
    "    Returns:\n",
    "        str: категория в виде города или района            \n",
    "    \"\"\"    \n",
    "    if row is np.nan or row=='--' or not row.strip(): # пустые значения\n",
    "        return np.nan    \n",
    "\n",
    "    # словарь для замены аббревиатур полными названиями    \n",
    "    replace_dict = {'St': 'Saint', 'ST': 'Saint', 'Ft': 'Fort', 'Twp': 'Township', \n",
    "                    'Pa': 'Park', 'Is': 'Island', 'Hts': 'Heights', \n",
    "                    'Spgs': 'Springs', 'Ter': 'Terrace'}\n",
    "    \n",
    "    # вспомогательный словарь для идентификации сокращения    \n",
    "    point_words = {'College', 'Piney', 'Yarrow', 'East', 'High'}\n",
    "    \n",
    "    row = re.sub(r'[.]', '', row) # убираем лишние точки у сокращений\n",
    "    words = row.split()\n",
    "    cleaned_words = []\n",
    "\n",
    "    for i, word in enumerate(words):\n",
    "        if word == 'Pt' and i > 0 and words[i-1] in point_words:\n",
    "            cleaned_words.append('Point')\n",
    "        elif word == 'Pt':\n",
    "            cleaned_words.append('Port')\n",
    "        else: # замена всех оставшихся сокращений кроме `Pt`\n",
    "            cleaned_words.append(replace_dict.get(word, word))\n",
    "    \n",
    "    # приводим все значения к единому формату\n",
    "    cleaned_words = [word.capitalize() for word in cleaned_words]\n",
    "    cleaned_row = ' '.join(cleaned_words)\n",
    "\n",
    "    # словарь всех оставшихся сокращенных значений признака\n",
    "    city_dict = {\n",
    "        'Petersburg': 'Saint Petersburg',\n",
    "        'Saint Pete': 'Saint Petersburg',\n",
    "        'Mc Kinney': 'Mckinney',\n",
    "        'Mcgregor': 'Mc Gregor',\n",
    "        'Redford Township': 'Redford',\n",
    "        'Pete Beach': 'Saint Pete Beach',\n",
    "        'Atlaanta': 'Atlanta',\n",
    "        'P C Beach': 'Panama City Beach',\n",
    "        'Nyc': 'New York',\n",
    "        'New York City': 'New York'\n",
    "    }\n",
    "    \n",
    "    if cleaned_row in city_dict:\n",
    "        return city_dict[cleaned_row]\n",
    "                           \n",
    "    return cleaned_row\n",
    "\n",
    "# преобразование исходного признака\n",
    "data['city'] = data['city'].apply(get_cleaned_city)"
   ]
  },
  {
   "cell_type": "markdown",
   "id": "af40dbe2",
   "metadata": {},
   "source": [
    "Удалим ненужный признак `street`, а также образовавшиеся дубликаты:"
   ]
  },
  {
   "cell_type": "code",
   "execution_count": 37,
   "id": "aa27546e",
   "metadata": {},
   "outputs": [
    {
     "name": "stdout",
     "output_type": "stream",
     "text": [
      "Число удаленных дубликатов: 549\n"
     ]
    }
   ],
   "source": [
    "# удаление признаков\n",
    "data.drop('street', axis=1, inplace=True)\n",
    "\n",
    "dupl_columns = list(data.columns)\n",
    "mask = data.duplicated(subset=dupl_columns)\n",
    "duplicates_data = data[mask]\n",
    "data = data.drop_duplicates(subset=dupl_columns)\n",
    "print(f\"Число удаленных дубликатов: {duplicates_data.shape[0]}\")"
   ]
  },
  {
   "cell_type": "markdown",
   "id": "d6160831",
   "metadata": {},
   "source": [
    "Перейдем к разбору признака `homeFacts`. Значения в нем представлены в виде словаря и являются составными, а значит из них можно извлечь много полезной информации. Рассмотрим признак более детально:"
   ]
  },
  {
   "cell_type": "code",
   "execution_count": 38,
   "id": "566ec3c9",
   "metadata": {},
   "outputs": [
    {
     "data": {
      "text/plain": [
       "\"{'atAGlanceFacts': [{'factValue': '2019', 'factLabel': 'Year built'}, {'factValue': '', 'factLabel': 'Remodeled year'}, {'factValue': 'Central A/C, Heat Pump', 'factLabel': 'Heating'}, {'factValue': '', 'factLabel': 'Cooling'}, {'factValue': '', 'factLabel': 'Parking'}, {'factValue': None, 'factLabel': 'lotsize'}, {'factValue': '$144', 'factLabel': 'Price/sqft'}]}\""
      ]
     },
     "execution_count": 38,
     "metadata": {},
     "output_type": "execute_result"
    }
   ],
   "source": [
    "data['homeFacts'].iloc[0]"
   ]
  },
  {
   "cell_type": "markdown",
   "id": "492f4555",
   "metadata": {},
   "source": [
    "Какая информация может быть нам потенциально полезна? Из данного словаря мы можем извлечь данные об:  \n",
    "- годе постройки объекта;  \n",
    "- годе реконструкции (для старых зданий);  \n",
    "- системе отопления;  \n",
    "- наличии кондиционера;  \n",
    "- количестве парковочных мест;  \n",
    "- площади земельного участка, который прилагается к объекту;  \n",
    "- стоимость за 1 квадратный фут объекта.  \n",
    "\n",
    "Начинаем с признака года постройки:"
   ]
  },
  {
   "cell_type": "code",
   "execution_count": 39,
   "id": "a4f662d8",
   "metadata": {},
   "outputs": [],
   "source": [
    "def extract_year_built(row):\n",
    "    \"\"\"Извлекает год постройки объекта по ключу словаря\n",
    "    \n",
    "    Args:\n",
    "        str: значение признака в виде строки\n",
    "        \n",
    "    Returns:\n",
    "        float: год постройки\n",
    "        NaN: в случае отсутствия значения\n",
    "    \"\"\"\n",
    "    # преобразование строки в словарь\n",
    "    data_dict = eval(row)\n",
    "    value = data_dict['atAGlanceFacts'][0]['factValue']\n",
    "    \n",
    "    # проверка на отсутствующие значения\n",
    "    if not value or value=='No Data':\n",
    "        return np.nan\n",
    "    \n",
    "    return float(value)\n",
    "    \n",
    "# создание нового признака\n",
    "data['year_built'] = data['homeFacts'].apply(lambda row: extract_year_built(row))"
   ]
  },
  {
   "cell_type": "markdown",
   "id": "2c7c23e2",
   "metadata": {},
   "source": [
    "На очереди год реконструкции:"
   ]
  },
  {
   "cell_type": "code",
   "execution_count": 40,
   "id": "b85fe8a2",
   "metadata": {},
   "outputs": [],
   "source": [
    "def extract_remodeled_year(row):\n",
    "    \"\"\"Извлекает год реновации объекта по ключу словаря\n",
    "    \n",
    "    Args:\n",
    "        str: значение признака в виде строки\n",
    "        \n",
    "    Returns:\n",
    "        float: год реновации\n",
    "        NaN: в случае отсутствия значения\n",
    "    \"\"\"\n",
    "    data_dict = eval(row)\n",
    "    value = data_dict['atAGlanceFacts'][1]['factValue']\n",
    "    \n",
    "    if not value:\n",
    "        return np.nan\n",
    "    \n",
    "    return float(value)\n",
    "    \n",
    "# создание нового признака\n",
    "data['remodeled_year'] = data['homeFacts'].apply(lambda row: extract_remodeled_year(row))"
   ]
  },
  {
   "cell_type": "markdown",
   "id": "4ffa9ed4",
   "metadata": {},
   "source": [
    "Следующая информация, которую можно извлечь из словаря - данные о системах обогрева и охлаждения. В стандартной ситуации мы могли бы действовать предсказуемо - создать два отдельных признака под системы отопления и кондиционирования воздуха. Однако и здесь возникают нюансы. Если присмотреться к значениям, извлеченным по ключам для обоих признаков, можно обнаружить, что:  \n",
    "- данные, относящиеся к `cooling`, зачастую пересекаются с `heating` и несут мало информации об имеющейся системе охлаждения дома;  \n",
    "- данных по системе охлаждения почти в 2 раза меньше, чем по системе отопления домов;  \n",
    "- часть данных из признака наличия камина `fireplace` также пересекается со значениями `heating`.\n",
    "\n",
    "Ок, но что это дает нам в практическом смысле? Данные в `cooling` слишком \"грязные\" и будут искажать точность модели. Поэтому целесообразно такой признак не извлекать, а работать только с `heating`:"
   ]
  },
  {
   "cell_type": "code",
   "execution_count": 41,
   "id": "af26872c",
   "metadata": {},
   "outputs": [],
   "source": [
    "def extract_heating(row):\n",
    "    \"\"\"Извлекает тип обогрева объекта в исходном формате\n",
    "    \n",
    "    Args:\n",
    "        str, float: значение признака в виде строки\n",
    "        \n",
    "    Returns:\n",
    "        str: категория в зависимости от значения\n",
    "        NaN: в случае отсутствия значения\n",
    "    \"\"\"   \n",
    "    data_dict = eval(row)\n",
    "    value = data_dict['atAGlanceFacts'][2]['factValue']\n",
    "    \n",
    "    # фильтрация по отсутствующим значениям\n",
    "    if not value or value=='No Data' or value=='None':\n",
    "        return np.nan        \n",
    "                \n",
    "    return value\n",
    "\n",
    "# создание признака\n",
    "data['heating'] = data['homeFacts'].apply(lambda row: extract_heating(row))"
   ]
  },
  {
   "cell_type": "markdown",
   "id": "8c8cc953",
   "metadata": {},
   "source": [
    "Сами значения в `heating` также \"оставляют желать лучшего\", поэтому не имеет смысла пытаться выделять в них какие-либо значимые категории. Вместо этого превратим признак в бинарный, где заполненные значения по умолчанию будут сигнализировать о наличии готового отопления на объекте, а пустые значения будут подразумевать, что отопление не предусмотрено или еще не проведено:"
   ]
  },
  {
   "cell_type": "code",
   "execution_count": 42,
   "id": "c7cf47a1",
   "metadata": {},
   "outputs": [],
   "source": [
    "def transform_heating(row):\n",
    "    \"\"\"Преобразует значения признака к одной из двух категорий\n",
    "    `yes` - объект подключен к системе отопления\n",
    "    'no' - отопление отсутствует\n",
    "    \n",
    "    Args:\n",
    "        str: смешанное значение признака\n",
    "        \n",
    "    Returns:\n",
    "        str: категория в зависимости от заполненности значением\n",
    "    \"\"\"\n",
    "    # проверка на NaN    \n",
    "    if isinstance(row, float) and np.isnan(row):\n",
    "        return 'no'\n",
    "    return 'yes'\n",
    "        \n",
    "data['heating'] = data['heating'].apply(transform_heating)"
   ]
  },
  {
   "cell_type": "markdown",
   "id": "c5f3c5b5",
   "metadata": {},
   "source": [
    "Что делать с признаком `Fireplace`? Обрабатывать его также нет смысла. Следует помнить, что камины бывают разных типов (классические дровяные, газовые, электрические, на биотопливе etc.) и могут нести как вспомогательную функцию обогрева помещения в дополнение к системе отопления, так и быть простым декоративным элементом. К сожалению, данные по каждому типу камина доступны не для каждого объекта недвижимости. Также непонятно, какой камин считать декоративным, а какой полноценным дополнительным источником обогрева. Несомненно, аутентичные дровяные камины будут сильно дороже в эксплуатации, к ним нужны дополнительные системы фильтрации, дымоход, и это, естественно, скажется на финальной стоимости недвижимости, в то время как электрические камины несут чисто эстетическую функцию и достаточно неприхотливы в обслуживании. По этим причинам признак камина будет лишь добавлять шумы в модель, поэтому его также отправляем на удаление:"
   ]
  },
  {
   "cell_type": "code",
   "execution_count": 43,
   "id": "c08efdd3",
   "metadata": {},
   "outputs": [],
   "source": [
    "data.drop('fireplace', axis=1, inplace=True)"
   ]
  },
  {
   "cell_type": "markdown",
   "id": "bfb058a8",
   "metadata": {},
   "source": [
    "Следующая информация, которую мы можем получить из словаря - данные о парковке. Как обычно, извлекаем их в отдельный признак:"
   ]
  },
  {
   "cell_type": "code",
   "execution_count": 44,
   "id": "72a5d65b",
   "metadata": {},
   "outputs": [],
   "source": [
    "def extract_parking(row):\n",
    "    \"\"\"Извлекает данные о парковке в исходном формате\n",
    "    \n",
    "    Args:\n",
    "        str, float: значение признака в виде строки или числа\n",
    "        \n",
    "    Returns:\n",
    "        str: данные о парковке\n",
    "        NaN: в случае отсутствия значения \n",
    "    \"\"\"\n",
    "\n",
    "    data_dict = eval(row)\n",
    "    value = data_dict['atAGlanceFacts'][4]['factValue']\n",
    "    \n",
    "    # идентификация пропусков\n",
    "    if not value or value=='No Data':\n",
    "        return np.nan\n",
    "    \n",
    "    return value\n",
    "\n",
    "data['parking'] = data['homeFacts'].apply(extract_parking)"
   ]
  },
  {
   "cell_type": "markdown",
   "id": "d7762512",
   "metadata": {},
   "source": [
    "Изучим полученные значения:"
   ]
  },
  {
   "cell_type": "code",
   "execution_count": 45,
   "id": "3c7454a6",
   "metadata": {},
   "outputs": [
    {
     "data": {
      "text/plain": [
       "Attached Garage                                                                                                                     70702\n",
       "2 spaces                                                                                                                            28001\n",
       "1 space                                                                                                                             14230\n",
       "Detached Garage                                                                                                                     13198\n",
       "Carport                                                                                                                              7741\n",
       "                                                                                                                                    ...  \n",
       "Attached Garage, Opener                                                                                                                 1\n",
       "Carport, Detached Garage, None                                                                                                          1\n",
       "Carport - 2 Car, Detached Garage, Garage - 1 Car, Side Load Garage                                                                      1\n",
       "Attached, Concrete, Gravel                                                                                                              1\n",
       "Deed Restrictions, Fitness, Gated Community, Golf Carts OK, No Truck/RV/Motorcycle Parking, Pool, Special Community Restrictions        1\n",
       "Name: parking, Length: 3344, dtype: int64"
      ]
     },
     "execution_count": 45,
     "metadata": {},
     "output_type": "execute_result"
    }
   ],
   "source": [
    "data['parking'].value_counts()"
   ]
  },
  {
   "cell_type": "markdown",
   "id": "d47c9134",
   "metadata": {},
   "source": [
    "Мы получили разнородные данные - здесь информация и о наличии, расположении парковки, и о количестве парковочных мест. Очевидно, точно выделить информацию о количестве доступных мест для паркинга не представляется возможным - кое-где у потенциальных владельцев имеется гараж, вместимость которого нам неизвестна, у кого-то парковка на частной платной стоянке, кто-то имеет подземную парковку, у кого-то простой навес, а у некоторых она и вовсе не предусмотрена. Поэтому мы также, как и в предыдущем случае с `heating`, просто сведем информацию к наличию или отсутствию парковки, т.е. к двум категориям - `yes` и `no`. Однако перед этим выделим дополнительный признак-маркер наличия гаража:"
   ]
  },
  {
   "cell_type": "code",
   "execution_count": 46,
   "id": "ccfb36b9",
   "metadata": {},
   "outputs": [],
   "source": [
    "mask1 = data['parking'].str.contains('Garage', na=False)\n",
    "mask2 = data['parking'] != 'No Garage'\n",
    "data['is_garage'] = mask1 & mask2"
   ]
  },
  {
   "cell_type": "markdown",
   "id": "9a2974c2",
   "metadata": {},
   "source": [
    "У большинства объектов парковка предусмотрена, поэтому пропуски признака также заполним модальным значением:"
   ]
  },
  {
   "cell_type": "code",
   "execution_count": 47,
   "id": "9c0d146f",
   "metadata": {},
   "outputs": [],
   "source": [
    "def transform_parking(row):\n",
    "    \"\"\"Преобразует значения признака к одной из категорий\n",
    "    \n",
    "    'yes' - парковка предусмотрена\n",
    "    'no' - парковка не предусмотрена\n",
    "    \n",
    "    Args:\n",
    "        str: исходное значение признака\n",
    "        \n",
    "    Returns:\n",
    "        str: категория в зависимости от значения\n",
    "    \"\"\"    \n",
    "    no_parking = {'0', 'No', 'No Parking'}\n",
    "    \n",
    "    if row in no_parking:\n",
    "        return 'no'\n",
    "    \n",
    "    return 'yes'\n",
    "\n",
    "data['parking'] = data['parking'].apply(transform_parking)"
   ]
  },
  {
   "cell_type": "markdown",
   "id": "29d79cff",
   "metadata": {},
   "source": [
    "На очереди - размер земли в качестве приложения к объекту недвижимости, либо как самостоятельный участок. Однако есть проблема - данные представлены как в акрах (например, `0.34 acres`), так и в квадратных футах (например, `7,275 Sq. Ft.`) в американском формате, либо в виде целого числа. Что означает это число? Можно подумать, что это еще одна ситуация, при которой значения из признака `sqft` по ошибке попали в данные с акрами. Сопоставив построчно значения обоих столбцов, можно понять, что это не так. В данном контексте целое число - это еще одно обозначение размера участка в квадратных футах, но без указания единиц измерения (учитывая, что большинство данных чаще всего четырехзначные - пятизначные, нетрудно об этом догадаться).   \n",
    "\n",
    "Наша задача - перевести данные в единый формат. Если обратиться к справочной информации, то можно выяснить, что 1 акр равен 43560 квадратным футам (источник https://www.metric-conversions.org/ru/area/acres-to-square-feet.htm). Воспользуемся этим. Количество акров будем извлекать как есть, а квадратные футы будем высчитывать по формуле:  \n",
    " \n",
    "### <center> *Acre_cnt = sqft_cnt / 1 Acre (in sqft)*"
   ]
  },
  {
   "cell_type": "code",
   "execution_count": 48,
   "id": "437d37bd",
   "metadata": {},
   "outputs": [],
   "source": [
    "def extract_acres(row):\n",
    "    \"\"\"Извлекает данные о размере участка земли\n",
    "    (в акрах или кв. футах) и преобразует к единому\n",
    "    формату\n",
    "    \n",
    "    Args:\n",
    "        int, str: исходное значение по ключу словаря\n",
    "        \n",
    "    Returns:\n",
    "        float: размер участка (в акрах)    \n",
    "    \"\"\"\n",
    "    data_dict = eval(row)\n",
    "    value = str(data_dict['atAGlanceFacts'][5]['factValue']).lower()\n",
    "    value = value.replace(',', '').replace('. ', '')\n",
    "    \n",
    "    null_values = {'none', '—', '-- sqft lot', 'no data'}\n",
    "       \n",
    "    acre_size = 43560 # кол-во кв. футов в 1 акре земли \n",
    "    \n",
    "    # обработка пустых и отсутствующих значений\n",
    "    \n",
    "    if not value or value in null_values:\n",
    "        return np.nan\n",
    "    \n",
    "    # извлечение кол-ва в исходном формате\n",
    "    \n",
    "    elif 'acres' in value or 'acre' in value:\n",
    "        words = value.split()\n",
    "        for i in range(len(words)):\n",
    "            if words[i] == 'acres' or words[i] == 'acre':\n",
    "                return round(float(words[i-1]), 2)\n",
    "            \n",
    "    # конвертация кв. футов в акры\n",
    "    \n",
    "    elif 'sqft' in value or 'sqft.' in value:\n",
    "        words = value.split()\n",
    "        for i in range(len(words)):\n",
    "            if words[i] == 'sqft' or words[i] == 'sqft.':\n",
    "                return round(float(words[i-1]) / acre_size, 2)\n",
    "            \n",
    "    # обработка значений без единиц измерения\n",
    "    \n",
    "    elif value.isdigit():\n",
    "        return round(float(value) / acre_size, 2)    \n",
    "    \n",
    "    return np.nan\n",
    "\n",
    "# создание нового признака\n",
    "data['acres'] = data['homeFacts'].apply(extract_acres)"
   ]
  },
  {
   "cell_type": "markdown",
   "id": "43ce5a53",
   "metadata": {},
   "source": [
    "И тут мы возвращаемся немного назад и вспоминаем, что у нас уже встречались такого рода данные, а именно в признаке `Beds`. Поэтому переносим их в предназначенный для этого столбец:"
   ]
  },
  {
   "cell_type": "code",
   "execution_count": 49,
   "id": "aeea695f",
   "metadata": {},
   "outputs": [],
   "source": [
    "def acres_for_transfer(row):\n",
    "    \"\"\"Извлекает кол-во акров для последующего переноса\n",
    "    \n",
    "    Args:\n",
    "        str: исходное значение по ключу словаря\n",
    "        \n",
    "    Returns:\n",
    "        float: размер участка земли (в акрах)    \n",
    "    \"\"\"\n",
    "    row = str(row)\n",
    "    if 'acre' in row:\n",
    "        words = row.split()\n",
    "        return float(words[0])\n",
    "    \n",
    "data['acres'] = data.apply(lambda row: acres_for_transfer(row['beds']) \\\n",
    "                           if pd.isna(row['acres']) else row['acres'], axis=1)"
   ]
  },
  {
   "cell_type": "markdown",
   "id": "d603cf47",
   "metadata": {},
   "source": [
    "Из признака `homeFacts` нам осталось только извлечь данные о стоимости 1 квадратного фута объекта:"
   ]
  },
  {
   "cell_type": "code",
   "execution_count": 50,
   "id": "158c6799",
   "metadata": {},
   "outputs": [],
   "source": [
    "def extract_price_sqft(row):\n",
    "    \"\"\"Извлекает данные о стоимости объекта или\n",
    "    земельного участка за один кв. фут (в долларах)\n",
    "    \n",
    "    Args:\n",
    "        str: исходное значение по ключу словаря\n",
    "        \n",
    "    Returns:\n",
    "        float: стоимость за кв. фут\n",
    "        NaN - в случае отсутствия данных\n",
    "    \"\"\"\n",
    "    data_dict = eval(row)\n",
    "    value = str(data_dict['atAGlanceFacts'][6]['factValue'])\n",
    "    \n",
    "    # очистка от лишних символов\n",
    "    value = re.sub(r'[,.]', '', value)\n",
    "    \n",
    "    null_values = {'None', 'No Data', 'No Info'}\n",
    "    \n",
    "    if not value or value in null_values:\n",
    "        return np.nan\n",
    "    \n",
    "    elif '$' in value:\n",
    "        words = re.split(r'[$/]+', value)\n",
    "        return float(words[1])\n",
    "    \n",
    "    return np.nan\n",
    "\n",
    "data['price_sqft'] = data['homeFacts'].apply(extract_price_sqft)"
   ]
  },
  {
   "cell_type": "markdown",
   "id": "76716115",
   "metadata": {},
   "source": [
    "И тут мы подходим к важнейшему этапу нашего преобразования. Сейчас мы получили уникальную возможность восстановить часть данных целевого признака `target`! Если посмотреть внимательно на данные, то можно понять, что стоимость объекта недвижимости рассчитывается по формуле:  \n",
    "### <center> Target = price_sqft * sqft  \n",
    "\n",
    "Зная стоимость за один квадратный фут и общую площадь объекта, можно рассчитать его полную стоимость. Также справедливо, что имея знания о полной стоимости объекта и цене за квадратный фут, можно выразить количество квадратных футов объекта!  \n",
    "    \n",
    "Имея на руках такие данные, попробуем восстановить часть пропущенных значений для признаков `target` и `sqft`. Чтобы реализовать нашу идею, выразим один признак через два имеющихся:"
   ]
  },
  {
   "cell_type": "code",
   "execution_count": 51,
   "id": "be7f9e5b",
   "metadata": {},
   "outputs": [],
   "source": [
    "def fill_target(row):\n",
    "    \"\"\"Заполняет пропуски целевого признака\n",
    "    результатом произведения 'price_sqft'\n",
    "    и 'sqft'\n",
    "    \n",
    "    Args:\n",
    "        float: значение признака\n",
    "        \n",
    "    Returns:\n",
    "        float: заполненное значение\n",
    "        row: исходное значение (при отсутствии пропуска)\n",
    "    \"\"\"    \n",
    "    if np.isnan(row['target']):\n",
    "        if not np.isnan(row['price_sqft']) and not np.isnan(row['sqft']):\n",
    "            return row['price_sqft'] * row['sqft']\n",
    "    \n",
    "    return row['target']\n",
    "\n",
    "def fill_sqft(row):\n",
    "    \"\"\"Заполняет пропуски признака количества\n",
    "    кв. футов объекта частным признаков 'target'\n",
    "    и 'price_sqft'\n",
    "     \n",
    "    Args:\n",
    "        float: значение признака\n",
    "        \n",
    "    Returns:\n",
    "        float: заполненное значение\n",
    "        row: исходное значение (при отсутствии пропуска)\n",
    "    \"\"\"\n",
    "    if np.isnan(row['sqft']):\n",
    "        if not np.isnan(row['target']) and not np.isnan(row['price_sqft']):\n",
    "            return row['target'] * row['price_sqft']\n",
    "    \n",
    "    return row['sqft']\n",
    "\n",
    "# заполнение пропущенных значений\n",
    "data['target'] = data.apply(fill_target, axis=1)\n",
    "data['sqft'] = data.apply(fill_sqft, axis=1)"
   ]
  },
  {
   "cell_type": "markdown",
   "id": "b26e7491",
   "metadata": {},
   "source": [
    "Итак, признак `target` пополнился 348 новыми значениями, а признак `sqft` - 1259, и это неплохой результат. Однако вы могли заметить, что мы не стали заполнять `price_sqft` - стоимость за один квадратный метр. Причина заключается в так называемом `data leaks` или явлении утечки данных. Поскольку мы выразили один признак через два других, один из них следует удалить, иначе это может негативно сказаться на работе модели - она просто не сможет эффективно делать прогнозы из-за недоступности некоторых данных, используемых при обучении модели, на этапе эксплуатации заказчиком:"
   ]
  },
  {
   "cell_type": "code",
   "execution_count": 52,
   "id": "95bfed6b",
   "metadata": {},
   "outputs": [],
   "source": [
    "data.drop(['price_sqft', 'homeFacts'], axis=1, inplace=True)"
   ]
  },
  {
   "cell_type": "markdown",
   "id": "83f55952",
   "metadata": {},
   "source": [
    "Перейдем к распаковке признака `schools`. Он составной и также содержит в себе словарь:"
   ]
  },
  {
   "cell_type": "code",
   "execution_count": 53,
   "id": "483efd08",
   "metadata": {},
   "outputs": [
    {
     "data": {
      "text/plain": [
       "\"[{'rating': ['4/10', 'None/10', '4/10'], 'data': {'Distance': ['1.65mi', '1.32mi', '1.01mi'], 'Grades': ['9-12', '3-8', 'PK-8']}, 'name': ['East Valley High School&Extension', 'Eastvalley Middle School', 'Trentwood Elementary School']}]\""
      ]
     },
     "execution_count": 53,
     "metadata": {},
     "output_type": "execute_result"
    }
   ],
   "source": [
    "data['schools'].iloc[1]"
   ]
  },
  {
   "cell_type": "markdown",
   "id": "ccfb67b8",
   "metadata": {},
   "source": [
    "Что мы можем от него получить? В наличии:  \n",
    "- рейтинг оценок по каждой школе в виде списка;  \n",
    "- расстояние до каждой школы;  \n",
    "- классы, доступные для приема детей в зависимости от возраста (младшая школа, средняя, для старшеклассников);  \n",
    "- названия школ.  \n",
    "\n",
    "Непосредственно сами школы нас мало интересуют, а вот их рейтинги, дистанция и доступность классов для обучения могут оказаться полезными данными для модели.  \n",
    "\n",
    "Начнем с рейтинга. Будем извлекать не сам список оценок, а их вычисленное среднее, что потенциально может влиять на привлекательность района, в котором расположен рассматриваемый объект недвижимости, и соответственно его стоимость:"
   ]
  },
  {
   "cell_type": "code",
   "execution_count": 54,
   "id": "b5064dd2",
   "metadata": {},
   "outputs": [],
   "source": [
    "def extract_rating(row):\n",
    "    \"\"\"Извлекает данные по рейтингу школ, расположенных в\n",
    "    окрестностях рассматриваемого объекта недвижимости, и\n",
    "    вычисляет среднее значение оценки\n",
    "    \n",
    "    Args:\n",
    "        list: список оценок по каждой школе\n",
    "        \n",
    "    Returns:\n",
    "        float: средний значение рейтинга по всем представленным\n",
    "        школам \n",
    "    \"\"\"    \n",
    "    data_dict = eval(row)\n",
    "    rating_list = data_dict[0]['rating']\n",
    "    \n",
    "    if not rating_list: # данные не представлены\n",
    "        return np.nan\n",
    "    \n",
    "    filtered_list = [] # очищенный список рейтинговых оценок\n",
    "    \n",
    "    for mark in rating_list: # фильтр и заполнение списка\n",
    "        \n",
    "        if mark.split('/')[0] not in ['None', 'NR', 'NA', '']:\n",
    "            filtered_list.append(mark.split('/')[0])\n",
    "    \n",
    "    if not filtered_list: # для пустых списков\n",
    "        return np.nan\n",
    "    \n",
    "    # расчет среднего значения\n",
    "    \n",
    "    total = 0\n",
    "    count = 0\n",
    "    \n",
    "    for elem in filtered_list:\n",
    "        total += float(elem)\n",
    "        count += 1\n",
    "    \n",
    "    average = total / count    \n",
    "    return round(average, 1)\n",
    "\n",
    "data['avg_rating_school'] = data['schools'].apply(extract_rating)"
   ]
  },
  {
   "cell_type": "markdown",
   "id": "7112ff7a",
   "metadata": {},
   "source": [
    "Теперь таким же образом вычислим среднюю дистанцию до школы:"
   ]
  },
  {
   "cell_type": "code",
   "execution_count": 55,
   "id": "d4c4c5f7",
   "metadata": {},
   "outputs": [],
   "source": [
    "def extract_distance(row):\n",
    "    \"\"\"Извлекает данные по дистанции до школ, расположенных в\n",
    "    окрестностях рассматриваемого объекта недвижимости, и\n",
    "    вычисляет среднее расстояние\n",
    "    \n",
    "    Args:\n",
    "        list: расстояние до каждой школы\n",
    "        \n",
    "    Returns:\n",
    "        float: среднее расстояние \n",
    "    \"\"\"    \n",
    "    data_dict = eval(row)\n",
    "    dist_list = data_dict[0]['data']['Distance']\n",
    "    \n",
    "    if not dist_list:\n",
    "        return np.nan\n",
    "    \n",
    "    filtered_list = []\n",
    "    \n",
    "    for dist in dist_list:\n",
    "        dist = dist.replace('mi', '').strip()\n",
    "        \n",
    "        if dist != '0': # исключаем из подсчета как выброс\n",
    "            \n",
    "            filtered_list.append(float(dist))\n",
    "        \n",
    "    total = sum(filtered_list)\n",
    "    count = len(filtered_list)\n",
    "    \n",
    "    average = total / count    \n",
    "    \n",
    "    return round(average, 2)\n",
    "\n",
    "data['avg_distance_school'] = data['schools'].apply(extract_distance)"
   ]
  },
  {
   "cell_type": "markdown",
   "id": "9b185d41",
   "metadata": {},
   "source": [
    "Перейдем к доступным для обучения классам в школах. Здесь все не так однозначно. Само обучение охватывает периоды от дошкольного возраста до окончания средней школы (12 класс), после которого молодые люди обычно идут работать или продолжают обучение в колледже, университете или проф. училище (источник https://usahello.org/ru/образование/children/ступени-образования/). Данные по образованию этих уровней нам недоступны, однако у нас есть информация о четырых начальных ступенях:  \n",
    "\n",
    "- 0 уровень - подготовка к обучению в средней школе (ясли, детские сады, частные подготовительные курсы при средней школе), она маркируется как `PK` или `Preschool`;  \n",
    "- 1 уровень - начальная средняя школа (elementary school, с 1 по 5 классы). Здесь и далее классы маркируются либо как `K` - признак обучения в средней школе, либо просто представлены диапазоном доступных классов, например, `1-5` или `1 to 5`;  \n",
    "- 2 уровень - школа среднего звена (middle school, с 6 по 8 класс), маркируется аналогичным образом с начальной школой;  \n",
    "- 3 уровень - старшая школа (high school, с 9 по 12 класс), завершающие годы обучения в средней школе и подготовка к поступлению в высшие учебные заведения.  \n",
    "\n",
    "Можно было бы выделить наличие классов для каждого уровня обучения, однако, если более детально приступить к изучению значений списка, содержащемся в словаре, можно понять, что для каждого объекта недвижимости имеющиеся в окрестностях школы в совокупности покрывают доступными классами все уровни обучения, что теряет смысл выделять их отдельно. Другими словами, проблема отсутствия некоторых классов в отдельной школе решается переходом ребенка в соседнюю, где такие классы гарантированно есть. Кроме того, некоторые школы зачастую совмещают в себе классы разных уровней образования и один уровень плавно перетекает в другой, т.е. по факту ребенок продолжает обучение в старших классах без необходимости смены школы. Налицо пересечение потенциальных категорий. К тому же, такого рода информация вряд ли поможет нам в контексте решения задачи прогнозирования объекта недвижимости.  \n",
    "\n",
    "Однако потенциально полезная информация здесь все же имеется. Если присмотреться, то можно обнаружить, что для некоторых объектов отсутствуют данные о подготовительных курсах перед обучением в школе (0 уровень). Возможность с ранних лет начать заниматься развитием ребенка трансформируется в его конкурентное преимущество перед теми детьми, родители которых по привычке отдают их в школы только при достижении необходимого возраста. Опция раннего образования, да еще и в шаговой доступности, потенциально может влиять на привлекательность района и стоимость объектов недвижимости. Выделим эту опцию, создав бинарный признак `has_pk`, который сигнализирует о наличии такого преимущества: "
   ]
  },
  {
   "cell_type": "code",
   "execution_count": 56,
   "id": "2444d7ba",
   "metadata": {},
   "outputs": [],
   "source": [
    "def extract_pk(row):\n",
    "    \"\"\"Извлекает данные о наличии возможности\n",
    "    пройти подготовительные курсы перед поступлением\n",
    "    ребенка в среднюю школу\n",
    "    \n",
    "    Args:\n",
    "        list: список доступных классов для зачисления\n",
    "        \n",
    "    Returns:\n",
    "        int: маркер доступности класса            \n",
    "        \n",
    "        0 - классы отсутствуют\n",
    "        1 - классы доступны\n",
    "    \"\"\"\n",
    "    data_dict = eval(row)\n",
    "    grades_list = data_dict[0]['data']['Grades']\n",
    "    \n",
    "    for grade in grades_list:\n",
    "        if grade and ('-' in grade or ' to ' in grade or '–' in grade):\n",
    "            if grade.startswith('PK') or grade.startswith('Preschool'):\n",
    "                return 1\n",
    "    \n",
    "    return 0\n",
    "\n",
    "data['has_pk'] = data['schools'].apply(extract_pk)"
   ]
  },
  {
   "cell_type": "markdown",
   "id": "195f9a63",
   "metadata": {},
   "source": [
    "Со словарями закончили, теперь немного подчистим наш датасет. Удалим исходные признаки, которые нам больше не нужны, а модифицированным дадим более читабельные названия:"
   ]
  },
  {
   "cell_type": "code",
   "execution_count": 57,
   "id": "a33f1c04",
   "metadata": {},
   "outputs": [],
   "source": [
    "data.drop(['schools', 'beds'], axis=1, inplace=True)\n",
    "\n",
    "# переименование\n",
    "data.rename(columns={'mod_status': 'status', 'mod_type': 'type', \n",
    "                     'mod_beds': 'beds'}, inplace=True)"
   ]
  },
  {
   "cell_type": "markdown",
   "id": "c88c93e6",
   "metadata": {},
   "source": [
    "Удалим оставшиеся дубликаты:"
   ]
  },
  {
   "cell_type": "code",
   "execution_count": 58,
   "id": "55efd3e2",
   "metadata": {},
   "outputs": [
    {
     "name": "stdout",
     "output_type": "stream",
     "text": [
      "Число удаленных дубликатов: 289\n"
     ]
    }
   ],
   "source": [
    "dupl_columns = list(data.columns)\n",
    "mask = data.duplicated(subset=dupl_columns)\n",
    "duplicates_data = data[mask]\n",
    "data = data.drop_duplicates(subset=dupl_columns)\n",
    "print(f\"Число удаленных дубликатов: {duplicates_data.shape[0]}\")"
   ]
  },
  {
   "cell_type": "markdown",
   "id": "eec2857e",
   "metadata": {},
   "source": [
    "Итак, мы проделали колоссальную работу и закончили этап преобразования. Однако у нас осталось много выбросов в данных."
   ]
  },
  {
   "cell_type": "markdown",
   "id": "0b1ae940",
   "metadata": {},
   "source": [
    "# 2. Очистка данных и заполнение пропусков. Работа с выбросами"
   ]
  },
  {
   "cell_type": "markdown",
   "id": "f9a6ed82",
   "metadata": {},
   "source": [
    "Прежде всего, поработаем с целевой переменной `target`. Некоторые данные нам все же не удалось восстановить. Строки с отсутствующими значениями по этому признаку для нас бесполезны, поэтому избавимся от них: "
   ]
  },
  {
   "cell_type": "code",
   "execution_count": 59,
   "id": "00ee9375",
   "metadata": {},
   "outputs": [],
   "source": [
    "target_outliers = data[data['target'].isnull()].index\n",
    "data.drop(target_outliers, axis=0, inplace=True)"
   ]
  },
  {
   "cell_type": "markdown",
   "id": "c52c7068",
   "metadata": {},
   "source": [
    "Давайте вспомним, какова наша финальная цель. Мы решаем задачу прогнозирования стоимости недвижимости, следовательно нас интересует покупка объекта по какой-то цене. В наших данных есть признак `status`, одна из категорий в котором отвечает за аренду недвижимости. Согласитесь, такого рода объекты не помогут нам решить задачу регрессии, к тому же зачастую значения целевого признака содержат в себе арендную стоимость за месяц проживания, а не сам ценник объекта. Удалим такие наблюдения:"
   ]
  },
  {
   "cell_type": "code",
   "execution_count": 60,
   "id": "23355002",
   "metadata": {},
   "outputs": [],
   "source": [
    "rent_data = data[data['status'] == 'for rent'].index\n",
    "data.drop(rent_data, inplace=True)"
   ]
  },
  {
   "cell_type": "markdown",
   "id": "fdf4185c",
   "metadata": {},
   "source": [
    "Похожая ситуация и с типами недвижимости - категория земельного участка не очень хорошо вписывается в наше исследование. Нас интересуют только сами объекты недвижимости или объекты в совокупности с земельным участком: "
   ]
  },
  {
   "cell_type": "code",
   "execution_count": 61,
   "id": "abebc9b7",
   "metadata": {},
   "outputs": [],
   "source": [
    "land_data= data[data['type'] == 'land'].index\n",
    "data.drop(land_data, inplace=True)"
   ]
  },
  {
   "cell_type": "markdown",
   "id": "fec2a53c",
   "metadata": {},
   "source": [
    "Отлично, теперь поработаем с временными признаками. Посмотрим на распределения пары признаков `year_built` и `remodeled_year`. Предварительно напишем функцию, которая по методу межквартильного размаха будет фильтровать признаки от выбросов:"
   ]
  },
  {
   "cell_type": "code",
   "execution_count": 62,
   "id": "97bbc7db",
   "metadata": {},
   "outputs": [],
   "source": [
    "def outliers_iqr(data, feature, left=1.5, right=1.5, log_scale=False):\n",
    "    \"\"\"Фильтрует признак от выбросов\n",
    "    по методу Тьюки\n",
    "    \n",
    "    Args:\n",
    "        \n",
    "        'data' - исходный датафрейм                \n",
    "        \n",
    "        'feature' - признак, по которому осуществляется\n",
    "        поиск аномальных значений       \n",
    "        \n",
    "        'left' - левая граница межкв. размаха (1.5 по умолчанию)\n",
    "        \n",
    "        'right' - правая граница межкв. размаха (1.5 по умолчанию)\n",
    "        \n",
    "        'log_scale' - параметр логарифмирования признака (False по умолчанию)\n",
    "        \n",
    "    Returns:\n",
    "        \n",
    "        'outliers' - cтроки датафрейма, не попавшие в \n",
    "        диапазон первого и третьего квартилей\n",
    "        (потенциальные выбросы)\n",
    "        \n",
    "        'cleaned' - строки в границах межквартильного \n",
    "        размаха\n",
    "    \"\"\"     \n",
    "    if log_scale:\n",
    "        x = np.log(data[feature] + 1)\n",
    "    else:\n",
    "        x = data[feature]\n",
    "    \n",
    "    quartile_1, quartile_3 = x.quantile(0.25), x.quantile(0.75)\n",
    "    \n",
    "    iqr = quartile_3 - quartile_1 # межквартильный размах\n",
    "   \n",
    "    lower_bound = quartile_1 - (iqr * left)\n",
    "    upper_bound = quartile_3 + (iqr * right)\n",
    "    \n",
    "    outliers = data[(x < lower_bound) | (x > upper_bound)]\n",
    "    cleaned = data[(x > lower_bound) & (x < upper_bound)]\n",
    "    \n",
    "    return outliers, cleaned"
   ]
  },
  {
   "cell_type": "markdown",
   "id": "75194ff0",
   "metadata": {},
   "source": [
    "Применим функцию к признаку постройки объекта:"
   ]
  },
  {
   "cell_type": "code",
   "execution_count": 63,
   "id": "d8c268ac",
   "metadata": {},
   "outputs": [],
   "source": [
    "outliers, cleaned = outliers_iqr(data, 'year_built')"
   ]
  },
  {
   "cell_type": "markdown",
   "id": "ed1dae9c",
   "metadata": {},
   "source": [
    "Признак `remodeled_year` следует брать в логарифмическом масштабе, поскольку в нем присутствуют нулевые значения: "
   ]
  },
  {
   "cell_type": "code",
   "execution_count": 64,
   "id": "a07bae21",
   "metadata": {},
   "outputs": [],
   "source": [
    "log_outliers, log_cleaned = outliers_iqr(data, 'remodeled_year', log_scale=True)"
   ]
  },
  {
   "cell_type": "markdown",
   "id": "476f2a9a",
   "metadata": {},
   "source": [
    "Построим визуализацию интересующих нас признаков и посмотрим на распределения их значений:"
   ]
  },
  {
   "cell_type": "code",
   "execution_count": 65,
   "id": "16422f9b",
   "metadata": {},
   "outputs": [
    {
     "data": {
      "image/png": "[encoded data removed]",
      "text/plain": [
       "<Figure size 1800x1100 with 4 Axes>"
      ]
     },
     "metadata": {},
     "output_type": "display_data"
    }
   ],
   "source": [
    "fig, axes = plt.subplots(nrows=2, ncols=2, figsize=(18, 11))\n",
    "\n",
    "# визуализация 'year_built'\n",
    "histplot = sns.histplot(data=cleaned, x='year_built', ax=axes[0, 0])\n",
    "histplot.set_title('Year Built Distribution')\n",
    "boxplot = sns.boxplot(data=cleaned, x='year_built', ax=axes[0, 1])\n",
    "boxplot.set_title('Year Built Boxplot')\n",
    "\n",
    "# визуализация 'remodeled_year'\n",
    "histplot = sns.histplot(data=log_cleaned, x='remodeled_year', ax=axes[1, 0])\n",
    "histplot.set_title('Remodeled Year Distribution')\n",
    "boxplot = sns.boxplot(data=log_cleaned, x='remodeled_year', ax=axes[1, 1])\n",
    "boxplot.set_title('Remodeled Year Boxplot')\n",
    "\n",
    "plt.tight_layout()\n",
    "plt.show()"
   ]
  },
  {
   "cell_type": "markdown",
   "id": "29bc97b2",
   "metadata": {},
   "source": [
    "Большинство данных представлено в период с 2000 по 2020 годы, также имеется информация об объектах XX и даже XIX века, при этом данных, начиная с 1900 года, сильно меньше. Также нельзя не обратить внимание на боксплот признака `remodeled_year`, который указывает на все значения меньше 1920 как выбросы, не вписывающиеся в межквартильный размах. В целом, данные согласуются с признаком `year_built`, поэтому считаем целесообразным удалить все данные ранее 1900 года: "
   ]
  },
  {
   "cell_type": "code",
   "execution_count": 66,
   "id": "9f1ac99c",
   "metadata": {},
   "outputs": [],
   "source": [
    "mask1 = data['year_built'] < 1900\n",
    "mask2 = data['year_built'] > 2023\n",
    "\n",
    "# объекты на удаление\n",
    "year_outliers = data[mask1 | mask2].index\n",
    "\n",
    "data.drop(year_outliers, inplace=True)"
   ]
  },
  {
   "cell_type": "markdown",
   "id": "43cd0497",
   "metadata": {},
   "source": [
    "Вспомним визуализацию признака `remodeled_year` и удалим все данные, не вошедшие в диапазон межквартильного размаха:"
   ]
  },
  {
   "cell_type": "code",
   "execution_count": 67,
   "id": "35b2f60b",
   "metadata": {},
   "outputs": [],
   "source": [
    "mask3 = data['remodeled_year'] < 1920\n",
    "remodeled_outliers = data[mask3].index\n",
    "data.drop(remodeled_outliers, inplace=True)"
   ]
  },
  {
   "cell_type": "markdown",
   "id": "7b7e94a9",
   "metadata": {},
   "source": [
    "Теперь поработаем с признаком `acres` - размером земельного участка. Для начала посмотрим его распределение:"
   ]
  },
  {
   "cell_type": "code",
   "execution_count": 68,
   "id": "7557cfb8",
   "metadata": {},
   "outputs": [
    {
     "data": {
      "image/png": "[encoded data removed]",
      "text/plain": [
       "<Figure size 640x480 with 1 Axes>"
      ]
     },
     "metadata": {},
     "output_type": "display_data"
    }
   ],
   "source": [
    "acres_histplot = sns.histplot(\n",
    "    data = data, \n",
    "    x = np.log(data['acres'] + 1), \n",
    "    bins = 20\n",
    ")\n",
    "acres_histplot.set_title('Log Acres Distribution');"
   ]
  },
  {
   "cell_type": "markdown",
   "id": "023bcb3f",
   "metadata": {},
   "source": [
    "Выведем статистику по интересующему нас признаку:"
   ]
  },
  {
   "cell_type": "code",
   "execution_count": 69,
   "id": "8865d1cd",
   "metadata": {},
   "outputs": [
    {
     "data": {
      "text/plain": [
       "count    245167.000000\n",
       "mean          2.244071\n",
       "std         148.237179\n",
       "min           0.000000\n",
       "25%           0.120000\n",
       "50%           0.180000\n",
       "75%           0.300000\n",
       "max       49299.440000\n",
       "Name: acres, dtype: float64"
      ]
     },
     "execution_count": 69,
     "metadata": {},
     "output_type": "execute_result"
    }
   ],
   "source": [
    "acres_stat = data['acres'].describe()\n",
    "acres_stat"
   ]
  },
  {
   "cell_type": "markdown",
   "id": "7eb549ae",
   "metadata": {},
   "source": [
    "Все значения выше 3 акров встречаются относительно нечасто и выглядят скорее как выбросы, чем реальные данные. Однако вспомним об особенностях наших данных. Среди объектов недвижимости присутствуют ранчо, главный смысл приобретения которых - большой кусок земли для развития сельскохозяйственного бизнеса. Теперь всё встает на свои места. Для таких объектов внушительные размеры участков - скорее правило, чем исключение.  \n",
    "\n",
    "Тем не менее, нам все равно нужно каким-либо образом очистить признак от потенциальных выбросов. В этот раз мы остановимся на методе сигм - он использует 3 стандартных отклонения от среднего и менее жестко фильтрует значения по сравнению с методом межквартильного размаха, основанном на перцентилях:"
   ]
  },
  {
   "cell_type": "code",
   "execution_count": 70,
   "id": "89f8966d",
   "metadata": {},
   "outputs": [],
   "source": [
    "def outliers_z_score(data, feature, left=3, right=3, log_scale=False):\n",
    "    \"\"\"Использует метод z-отклонений (метод сигм) для фильтрации\n",
    "    признака от выбросов\n",
    "    \n",
    "    Args:\n",
    "        \n",
    "        'data' - исходный датафрейм                \n",
    "        \n",
    "        'feature' - признак, по которому осуществляется\n",
    "        поиск аномальных значений       \n",
    "        \n",
    "        'left' - левая нижняя граница  (3 по умолчанию)\n",
    "        \n",
    "        'right' - правая верхняя граница (3 по умолчанию)\n",
    "        \n",
    "        'log_scale' - параметр логарифмирования признака (False по умолчанию)\n",
    "        \n",
    "    Returns:\n",
    "        \n",
    "        'outliers' - потенциальные выбросы\n",
    "        \n",
    "        'cleaned' - очищенные строки датафрейма\n",
    "    \"\"\"\n",
    "    if log_scale:\n",
    "        x = np.log(data[feature] + 1)\n",
    "    else:\n",
    "        x = data[feature]\n",
    "    \n",
    "    mu = x.mean()\n",
    "    sigma = x.std()\n",
    "    \n",
    "    lower_bound = mu - left * sigma\n",
    "    upper_bound = mu + right * sigma\n",
    "    \n",
    "    outliers = data[(x < lower_bound) | (x > upper_bound)]\n",
    "    cleaned = data[(x > lower_bound) & (x < upper_bound)]\n",
    "    \n",
    "    return outliers, cleaned\n",
    "\n",
    "# применение функции к признаку\n",
    "outliers, cleaned = outliers_z_score(data, 'acres', log_scale=True)"
   ]
  },
  {
   "cell_type": "markdown",
   "id": "d79c4e83",
   "metadata": {},
   "source": [
    "Посмотрим, с каких величин метод обозначает значения признака как выбросы:"
   ]
  },
  {
   "cell_type": "code",
   "execution_count": 71,
   "id": "fc3d2f60",
   "metadata": {},
   "outputs": [
    {
     "name": "stdout",
     "output_type": "stream",
     "text": [
      "Нижняя граница выбросов: 4.47\n"
     ]
    }
   ],
   "source": [
    "print(f\"Нижняя граница выбросов: {outliers['acres'].min()}\")"
   ]
  },
  {
   "cell_type": "markdown",
   "id": "96d07b22",
   "metadata": {},
   "source": [
    "Удалим все строки с указанным значением и выше:"
   ]
  },
  {
   "cell_type": "code",
   "execution_count": 72,
   "id": "a8e6d138",
   "metadata": {},
   "outputs": [],
   "source": [
    "mask4 = data['acres'] >= 4.47\n",
    "acres_outliers = data[mask4].index\n",
    "data.drop(acres_outliers, inplace=True)"
   ]
  },
  {
   "cell_type": "markdown",
   "id": "c1404adc",
   "metadata": {},
   "source": [
    "Теперь посмотрим на распределение признака `sqft`:"
   ]
  },
  {
   "cell_type": "code",
   "execution_count": 73,
   "id": "e482f245",
   "metadata": {},
   "outputs": [
    {
     "data": {
      "image/png": "[encoded data removed]",
      "text/plain": [
       "<Figure size 1500x400 with 2 Axes>"
      ]
     },
     "metadata": {},
     "output_type": "display_data"
    }
   ],
   "source": [
    "outliers_log, cleaned_log = outliers_iqr(data, 'sqft', log_scale=True)\n",
    "\n",
    "# визуализация признака кв. футов\n",
    "fig, axes = plt.subplots(nrows=1, ncols=2, figsize=(15, 4))\n",
    "histplot = sns.histplot(data=cleaned_log, x='sqft', ax=axes[0])\n",
    "histplot.set_title('Cleaned Log Sqft Distribution')\n",
    "boxplot = sns.boxplot(data=cleaned_log, x='sqft', ax=axes[1])\n",
    "boxplot.set_title('Cleaned Log Sqft Boxplot');"
   ]
  },
  {
   "cell_type": "markdown",
   "id": "1996e0fe",
   "metadata": {},
   "source": [
    "Большинство объектов имеет среднюю площадь приблизительно в 1500 квадратных футов. Боксплот маркирует объекты площадью 4500 кв. футов как аномальные значения.  \n",
    "\n",
    "Также в нашем признаке есть несуществующие площади, стремящиеся к нулю. Очевидно, такие размеры противоречат здравому смыслу. Из открытых источников известно, что самое маленькое жилье составляет 7 кв. метров (70 кв. футов) https://www.pravilamag.ru/articles/705945-razmer-ne-glavnoe-samye-malenkie-kvartiry-mira/. От этого и будем отталкиваться. Удалим все объекты, размер площади которых меньше 70 или больше 4500 кв. футов:"
   ]
  },
  {
   "cell_type": "code",
   "execution_count": 74,
   "id": "ce06cfcb",
   "metadata": {},
   "outputs": [],
   "source": [
    "mask1 = data['sqft'] < 70\n",
    "mask2 = data['sqft'] > 4500\n",
    "\n",
    "# объекты на удаление\n",
    "sqft_outliers = data[mask1 | mask2].index\n",
    "data.drop(sqft_outliers, inplace=True)"
   ]
  },
  {
   "cell_type": "markdown",
   "id": "c4f3ad1f",
   "metadata": {},
   "source": [
    "Вооружившись знаниями о размерах самой маленькой недвижимости, вспомним, что ранее мы удаляли признак `price_sqft` - цену за 1 кв. фут объекта во избежание явления утечки данных. Типичная цена за 1 кв. фут недвижимости составляла `$125`. Путем нехитрых математических вычислений мы понимаем, что адекватная стоимость такого объекта должна быть не менее `$8750`. Однако в наших данных целевой признак содержит и меньшие значения:   "
   ]
  },
  {
   "cell_type": "code",
   "execution_count": 75,
   "id": "dab488db",
   "metadata": {},
   "outputs": [
    {
     "name": "stdout",
     "output_type": "stream",
     "text": [
      "Мин. стоимость объекта недвижимости: $ 1.0\n"
     ]
    }
   ],
   "source": [
    "print(f\"Мин. стоимость объекта недвижимости: $ {data['target'].min()}\")"
   ]
  },
  {
   "cell_type": "markdown",
   "id": "dccce676",
   "metadata": {},
   "source": [
    "Не спорим, такие ситуации имеют место быть. Чаще всего такие дома продаются по символической цене на определенных условиях - по программам переселения, восстановление ветхих домов за счет средств будущего владельца etc. https://immigrant.today/usa/14559-kak-kupit-dom-v-amerike-za-1-dollar.htm. Однако такие значения не очень хорошо будут сказываться на точности прогнозной модели и коррелировать с типичными ценами на оставшиеся дома. Поэтому избавимся от таких объектов:"
   ]
  },
  {
   "cell_type": "code",
   "execution_count": 76,
   "id": "026586a4",
   "metadata": {},
   "outputs": [],
   "source": [
    "mask = data['target'] < 8750\n",
    "target_outliers = data[mask].index\n",
    "data.drop(target_outliers, inplace=True)"
   ]
  },
  {
   "cell_type": "markdown",
   "id": "1df4e97f",
   "metadata": {},
   "source": [
    "Воспользуемся методом z-отклонений для очистки признака `beds`:"
   ]
  },
  {
   "cell_type": "code",
   "execution_count": 77,
   "id": "f380bfa8",
   "metadata": {},
   "outputs": [
    {
     "name": "stdout",
     "output_type": "stream",
     "text": [
      "Макс. допустимое кол-во спален: 8.0\n"
     ]
    }
   ],
   "source": [
    "outliers, cleaned = outliers_z_score(data, 'beds', log_scale=True)\n",
    "print(f\"Макс. допустимое кол-во спален: {cleaned['beds'].max()}\")"
   ]
  },
  {
   "cell_type": "markdown",
   "id": "a7539d71",
   "metadata": {},
   "source": [
    "Если поразмыслить, то дом с 9 спальными комнатами и выше - это огромные апартаменты или целый дворец. Такой роскошью не каждая президентская резиденция может похвастаться."
   ]
  },
  {
   "cell_type": "code",
   "execution_count": 78,
   "id": "d55b5153",
   "metadata": {},
   "outputs": [],
   "source": [
    "mask = data['beds'] > 8\n",
    "beds_outliers = data[mask].index\n",
    "data.drop(beds_outliers, inplace=True)"
   ]
  },
  {
   "cell_type": "markdown",
   "id": "493029d2",
   "metadata": {},
   "source": [
    "На очереди - признак количества ванных комнат:"
   ]
  },
  {
   "cell_type": "code",
   "execution_count": 79,
   "id": "8a64ac5e",
   "metadata": {},
   "outputs": [
    {
     "name": "stdout",
     "output_type": "stream",
     "text": [
      "Макс. допустимое кол-во ванных комнат: 7.0\n"
     ]
    }
   ],
   "source": [
    "outliers, cleaned = outliers_z_score(data, 'baths', log_scale=True)\n",
    "print(f\"Макс. допустимое кол-во ванных комнат: {cleaned['baths'].max()}\")"
   ]
  },
  {
   "cell_type": "markdown",
   "id": "651c6ef1",
   "metadata": {},
   "source": [
    "Конечно, в дополнение к методу мы могли бы построить визуализацию его работы, однако это не будет репрезентативно в силу того, что мы еще не до конца избавились от выбросов в признаке. Поэтому, как и раньше отфильтруем объекты по верхней границе и оставим только данные, у которых встречается до 7 полноценных ванных комнат включительно:"
   ]
  },
  {
   "cell_type": "code",
   "execution_count": 80,
   "id": "4da183cd",
   "metadata": {},
   "outputs": [],
   "source": [
    "mask = data['baths'] > 7\n",
    "baths_outliers = data[mask].index\n",
    "data.drop(baths_outliers, inplace=True)"
   ]
  },
  {
   "cell_type": "markdown",
   "id": "348e28cd",
   "metadata": {},
   "source": [
    "Далее очистим признак средней дистанции до школы:"
   ]
  },
  {
   "cell_type": "code",
   "execution_count": 81,
   "id": "b41fc32f",
   "metadata": {},
   "outputs": [
    {
     "name": "stdout",
     "output_type": "stream",
     "text": [
      "Макс. допустимое расстояние: 16.56 miles\n"
     ]
    }
   ],
   "source": [
    "outliers, cleaned = outliers_z_score(data, 'avg_distance_school', log_scale=True)\n",
    "print(f\"Макс. допустимое расстояние: {cleaned['avg_distance_school'].max()} miles\")"
   ]
  },
  {
   "cell_type": "markdown",
   "id": "2f180d7e",
   "metadata": {},
   "source": [
    "В американской сельской местности такие дистанции до ближайших населенных пунктов - обычное явление, поскольку практически каждая семья имеет несколько машин. "
   ]
  },
  {
   "cell_type": "code",
   "execution_count": 82,
   "id": "2fb98dbb",
   "metadata": {},
   "outputs": [],
   "source": [
    "mask = data['avg_distance_school'] > 16.56\n",
    "distance_outliers = data[mask].index\n",
    "data.drop(distance_outliers, inplace=True)"
   ]
  },
  {
   "cell_type": "markdown",
   "id": "032f1edd",
   "metadata": {},
   "source": [
    "У нас остался последний количественный признак `stories` - количество этажей в здании. Посмотрим на его описательные характеристики:"
   ]
  },
  {
   "cell_type": "code",
   "execution_count": 83,
   "id": "98fbc29e",
   "metadata": {},
   "outputs": [
    {
     "data": {
      "text/plain": [
       "count    204964.000000\n",
       "mean          1.859379\n",
       "std           4.294012\n",
       "min           0.000000\n",
       "25%           1.000000\n",
       "50%           1.000000\n",
       "75%           2.000000\n",
       "max        1120.000000\n",
       "Name: stories, dtype: float64"
      ]
     },
     "execution_count": 83,
     "metadata": {},
     "output_type": "execute_result"
    }
   ],
   "source": [
    "stories_stat = data['stories'].describe()\n",
    "stories_stat"
   ]
  },
  {
   "cell_type": "markdown",
   "id": "36dd1e60",
   "metadata": {},
   "source": [
    "Большинство американских домов являются одноэтажными или двухэтажными. Запредельное значение в 1120 этажей - это очевидный выброс.  \n",
    "\n",
    "В данном случае ни один их двух ранее использованных методов не подходит, поэтому воспользуемся здравым смыслом. Общеизвестный факт, что в США сконцентрировано большое количество небоскребов. Давайте вспомним, что в наших данных встречались такие типы недвижимости как `High-Rise`, `Mid-Rise`, `Penthouse`. В сельской местности земля более доступна, чем в городской черте, соответственно дома за городом редко бывают выше двух этажей. Напротив, в городах и крупных населенных пунктах плотность застройки максимально высокая, что ведет к увеличению высоты зданий. Таким образом, зная обо всем этом, высотки и небоскребы до 100 этажей уже не кажутся аномальными значениями.  \n",
    "\n",
    "Обратим также внимание, что в данных находятся объекты с нулевыми значениями. Очевидно, что это выбросы, поэтому отфильтруем объекты и от них:"
   ]
  },
  {
   "cell_type": "code",
   "execution_count": 84,
   "id": "08bb6ab1",
   "metadata": {},
   "outputs": [],
   "source": [
    "mask1 = data['stories'] < 1\n",
    "mask2 = data['stories'] >= 100\n",
    "\n",
    "# объекты на удаление\n",
    "stories_outliers = data[mask1 | mask2].index\n",
    "data.drop(stories_outliers, inplace=True)"
   ]
  },
  {
   "cell_type": "markdown",
   "id": "a287b39f",
   "metadata": {},
   "source": [
    "Также давайте избавимся от признака - идентификатора, поскольку он нам больше не потребуется:"
   ]
  },
  {
   "cell_type": "code",
   "execution_count": 85,
   "id": "dd6c528c",
   "metadata": {},
   "outputs": [],
   "source": [
    "data = data.drop('MlsId', axis=1)"
   ]
  },
  {
   "cell_type": "markdown",
   "id": "45499062",
   "metadata": {},
   "source": [
    "Осталось только заполнить пропуски в данных. Выведем информацию по каждому из признаков:"
   ]
  },
  {
   "cell_type": "code",
   "execution_count": 86,
   "id": "8521fce0",
   "metadata": {},
   "outputs": [
    {
     "name": "stdout",
     "output_type": "stream",
     "text": [
      "<class 'pandas.core.frame.DataFrame'>\n",
      "Int64Index: 296534 entries, 0 to 377184\n",
      "Data columns (total 20 columns):\n",
      " #   Column               Non-Null Count   Dtype  \n",
      "---  ------               --------------   -----  \n",
      " 0   baths                227363 non-null  float64\n",
      " 1   city                 296516 non-null  object \n",
      " 2   sqft                 276804 non-null  float64\n",
      " 3   zipcode              296533 non-null  float64\n",
      " 4   state                296534 non-null  object \n",
      " 5   stories              194674 non-null  float64\n",
      " 6   pool                 296534 non-null  object \n",
      " 7   target               296534 non-null  float64\n",
      " 8   status               296534 non-null  object \n",
      " 9   type                 266604 non-null  object \n",
      " 10  beds                 223894 non-null  float64\n",
      " 11  year_built           264605 non-null  float64\n",
      " 12  remodeled_year       126394 non-null  float64\n",
      " 13  heating              296534 non-null  object \n",
      " 14  parking              296534 non-null  object \n",
      " 15  is_garage            296534 non-null  bool   \n",
      " 16  acres                211927 non-null  float64\n",
      " 17  avg_rating_school    293103 non-null  float64\n",
      " 18  avg_distance_school  293797 non-null  float64\n",
      " 19  has_pk               296534 non-null  int64  \n",
      "dtypes: bool(1), float64(11), int64(1), object(7)\n",
      "memory usage: 45.5+ MB\n"
     ]
    }
   ],
   "source": [
    "data.info()"
   ]
  },
  {
   "cell_type": "markdown",
   "id": "7ae6e5d0",
   "metadata": {},
   "source": [
    "Заполним `type`, `baths`, `stories` и `beds` модальным значением признаков:"
   ]
  },
  {
   "cell_type": "code",
   "execution_count": 87,
   "id": "0e408aea",
   "metadata": {},
   "outputs": [],
   "source": [
    "# инициализация модальных значений\n",
    "mode_type = data['type'].mode()[0]\n",
    "mode_baths = data['baths'].mode()[0]\n",
    "mode_stories = data['stories'].mode()[0]\n",
    "mode_beds = data['beds'].mode()[0]\n",
    "\n",
    "# заполнение пропусков\n",
    "data['type'] = data['type'].fillna(mode_type)\n",
    "data['baths'] = data['baths'].fillna(mode_baths)\n",
    "data['stories'] = data['stories'].fillna(mode_stories)\n",
    "data['beds'] = data['beds'].fillna(mode_beds)"
   ]
  },
  {
   "cell_type": "markdown",
   "id": "3d40e48b",
   "metadata": {},
   "source": [
    "С некоторыми признаками ситуация не такая простая. В процессе обработки `year_built` и `remodeled_year` получилось так, что для некоторых объектов год модернизации здания оказался меньше года постройки. Такая ситуация противоречит здравому смыслу, ведь еще не построенный объект не может проходить реставрацию (если только его специально кто-то не телепортировал во времени -_-).  \n",
    "\n",
    "Посмотрим, сколько таких объектов на данный момент содержится в данных:"
   ]
  },
  {
   "cell_type": "code",
   "execution_count": 88,
   "id": "5568bd0b",
   "metadata": {},
   "outputs": [
    {
     "name": "stdout",
     "output_type": "stream",
     "text": [
      "Кол-во выбросов: 2154\n"
     ]
    }
   ],
   "source": [
    "print(f\"Кол-во выбросов: {len(data[data['remodeled_year'] < data['year_built']])}\")"
   ]
  },
  {
   "cell_type": "markdown",
   "id": "8ed7e118",
   "metadata": {},
   "source": [
    "Удалим такие объекты как аномальные:"
   ]
  },
  {
   "cell_type": "code",
   "execution_count": 89,
   "id": "01b60da4",
   "metadata": {},
   "outputs": [],
   "source": [
    "years_outliers = data[data['remodeled_year'] < data['year_built']].index\n",
    "data.drop(years_outliers, axis=0, inplace=True)"
   ]
  },
  {
   "cell_type": "markdown",
   "id": "ab2a66f7",
   "metadata": {},
   "source": [
    "Оба признака содержат отсутствующие значения, причем признак `remodeled_year` наименее заполнен:"
   ]
  },
  {
   "cell_type": "code",
   "execution_count": 90,
   "id": "01138ade",
   "metadata": {},
   "outputs": [
    {
     "name": "stdout",
     "output_type": "stream",
     "text": [
      "Кол-во пропущенных значений признака `remodeled_year`: 57.8 %\n"
     ]
    }
   ],
   "source": [
    "rem_missing = data['remodeled_year'].isnull().sum()\n",
    "total = data.shape[0]\n",
    "rem_missing_percent = (rem_missing / total) * 100\n",
    "\n",
    "print(f\"Кол-во пропущенных значений признака `remodeled_year`: \\\n",
    "{rem_missing_percent:.1f} %\")"
   ]
  },
  {
   "cell_type": "markdown",
   "id": "7fc9543f",
   "metadata": {},
   "source": [
    "Увы, но восстанавливать данные медианным значением - не самый подходящий метод, к тому же есть риск внести ненужный дополнительный шум в данные. Признак отфильтрован от аномальных значений, поэтому воспользуемся уже проверенным способом - превратим его в бинарный категориальный, где наличие года будет свидетельствовать о том, что реновация проводилась, отсутствие значения - объект не подвергался реставрации:"
   ]
  },
  {
   "cell_type": "code",
   "execution_count": 91,
   "id": "99c76326",
   "metadata": {},
   "outputs": [],
   "source": [
    "data['remodeled_year'] = data['remodeled_year'].fillna('no').apply(\n",
    "    lambda x: 'yes' if x != 'no' else x)"
   ]
  },
  {
   "cell_type": "markdown",
   "id": "e3b6cd17",
   "metadata": {},
   "source": [
    "Восстановим пропущенные данные в `year_built`, заполнив год постройки модальным значением признака:"
   ]
  },
  {
   "cell_type": "code",
   "execution_count": 92,
   "id": "550f5298",
   "metadata": {},
   "outputs": [],
   "source": [
    "mode_year_built = data['year_built'].mode()[0]\n",
    "data['year_built'] = data['year_built'].fillna(mode_year_built)"
   ]
  },
  {
   "cell_type": "markdown",
   "id": "63e59963",
   "metadata": {},
   "source": [
    "Признак количества акров также содержит в себе пропущенные значения. Будем считать, что для таких объектов недвижимости земельный участок не предусмотрен, поэтому заполним признак нулевыми значениями:"
   ]
  },
  {
   "cell_type": "code",
   "execution_count": 93,
   "id": "1b6d6685",
   "metadata": {},
   "outputs": [],
   "source": [
    "data['acres'] = data['acres'].fillna(0)"
   ]
  },
  {
   "cell_type": "markdown",
   "id": "44df74d3",
   "metadata": {},
   "source": [
    "Также у нас остались пропуски в признаках `avg_rating_school` и `avg_distance_school`. Такие объекты составляют незначительную часть датасета, поэтому во избежание лишних искажений в данных считаем целесообразным удалить их:"
   ]
  },
  {
   "cell_type": "code",
   "execution_count": 94,
   "id": "cf0fd40b",
   "metadata": {},
   "outputs": [],
   "source": [
    "mask1 = data['avg_rating_school'].isnull()\n",
    "mask2 = data['avg_distance_school'].isnull()\n",
    "\n",
    "# объекты на удаление\n",
    "outliers = data[mask1 | mask2].index\n",
    "data.drop(outliers, inplace=True)"
   ]
  },
  {
   "cell_type": "markdown",
   "id": "79339aca",
   "metadata": {},
   "source": [
    "Строки, по которым не удалось восстановить количество квадратных футов объекта для нас также бесполезны:"
   ]
  },
  {
   "cell_type": "code",
   "execution_count": 95,
   "id": "bf3b6eea",
   "metadata": {},
   "outputs": [],
   "source": [
    "sqft_outliers = data[data['sqft'].isnull()].index\n",
    "data.drop(sqft_outliers, axis=0, inplace=True)"
   ]
  },
  {
   "cell_type": "markdown",
   "id": "c806972c",
   "metadata": {},
   "source": [
    "Избавимся также от пропусков в признаках `city` и `zipcode`:"
   ]
  },
  {
   "cell_type": "code",
   "execution_count": 96,
   "id": "223128bd",
   "metadata": {},
   "outputs": [],
   "source": [
    "# удаляем пустые строки по признаку 'zipcode'\n",
    "zip_outliers = data[data['zipcode'].isnull()].index\n",
    "data.drop(zip_outliers, axis=0, inplace=True)\n",
    "\n",
    "# удаляем пустые строки по признаку 'city'\n",
    "city_outliers = data[data['city'].isnull()].index\n",
    "data.drop(city_outliers, axis=0, inplace=True)"
   ]
  },
  {
   "cell_type": "markdown",
   "id": "41c79923",
   "metadata": {},
   "source": [
    "Дадим признакам `year_built` и `remodeled_year` более подходящие названия:"
   ]
  },
  {
   "cell_type": "code",
   "execution_count": 97,
   "id": "1392ccc3",
   "metadata": {},
   "outputs": [],
   "source": [
    "data.rename(\n",
    "    columns={'year_built': 'built', 'remodeled_year': 'remodeled'}, \n",
    "    inplace=True\n",
    ")"
   ]
  },
  {
   "cell_type": "markdown",
   "id": "2d325faa",
   "metadata": {},
   "source": [
    "Выведем статистику по полученным признакам:"
   ]
  },
  {
   "cell_type": "code",
   "execution_count": 98,
   "id": "e96e9f47",
   "metadata": {},
   "outputs": [
    {
     "data": {
      "text/html": [
       "<div>\n",
       "<style scoped>\n",
       "    .dataframe tbody tr th:only-of-type {\n",
       "        vertical-align: middle;\n",
       "    }\n",
       "\n",
       "    .dataframe tbody tr th {\n",
       "        vertical-align: top;\n",
       "    }\n",
       "\n",
       "    .dataframe thead th {\n",
       "        text-align: right;\n",
       "    }\n",
       "</style>\n",
       "<table border=\"1\" class=\"dataframe\">\n",
       "  <thead>\n",
       "    <tr style=\"text-align: right;\">\n",
       "      <th></th>\n",
       "      <th>baths</th>\n",
       "      <th>sqft</th>\n",
       "      <th>zipcode</th>\n",
       "      <th>stories</th>\n",
       "      <th>target</th>\n",
       "      <th>beds</th>\n",
       "      <th>built</th>\n",
       "      <th>acres</th>\n",
       "      <th>avg_rating_school</th>\n",
       "      <th>avg_distance_school</th>\n",
       "      <th>has_pk</th>\n",
       "    </tr>\n",
       "  </thead>\n",
       "  <tbody>\n",
       "    <tr>\n",
       "      <th>count</th>\n",
       "      <td>271765.000000</td>\n",
       "      <td>271765.000000</td>\n",
       "      <td>271765.000000</td>\n",
       "      <td>271765.000000</td>\n",
       "      <td>2.717650e+05</td>\n",
       "      <td>271765.000000</td>\n",
       "      <td>271765.000000</td>\n",
       "      <td>271765.000000</td>\n",
       "      <td>271765.000000</td>\n",
       "      <td>271765.000000</td>\n",
       "      <td>271765.000000</td>\n",
       "    </tr>\n",
       "    <tr>\n",
       "      <th>mean</th>\n",
       "      <td>2.406487</td>\n",
       "      <td>1930.030600</td>\n",
       "      <td>53062.547944</td>\n",
       "      <td>1.654198</td>\n",
       "      <td>4.714844e+05</td>\n",
       "      <td>3.174390</td>\n",
       "      <td>1983.544014</td>\n",
       "      <td>0.204752</td>\n",
       "      <td>5.135962</td>\n",
       "      <td>2.697997</td>\n",
       "      <td>0.771118</td>\n",
       "    </tr>\n",
       "    <tr>\n",
       "      <th>std</th>\n",
       "      <td>0.867778</td>\n",
       "      <td>853.743361</td>\n",
       "      <td>26610.632253</td>\n",
       "      <td>2.345178</td>\n",
       "      <td>6.852514e+05</td>\n",
       "      <td>0.917078</td>\n",
       "      <td>31.639153</td>\n",
       "      <td>0.392983</td>\n",
       "      <td>1.908339</td>\n",
       "      <td>2.774823</td>\n",
       "      <td>0.420114</td>\n",
       "    </tr>\n",
       "    <tr>\n",
       "      <th>min</th>\n",
       "      <td>0.000000</td>\n",
       "      <td>72.000000</td>\n",
       "      <td>1104.000000</td>\n",
       "      <td>1.000000</td>\n",
       "      <td>8.900000e+03</td>\n",
       "      <td>0.000000</td>\n",
       "      <td>1900.000000</td>\n",
       "      <td>0.000000</td>\n",
       "      <td>1.000000</td>\n",
       "      <td>0.020000</td>\n",
       "      <td>0.000000</td>\n",
       "    </tr>\n",
       "    <tr>\n",
       "      <th>25%</th>\n",
       "      <td>2.000000</td>\n",
       "      <td>1274.000000</td>\n",
       "      <td>33062.000000</td>\n",
       "      <td>1.000000</td>\n",
       "      <td>2.099000e+05</td>\n",
       "      <td>3.000000</td>\n",
       "      <td>1960.000000</td>\n",
       "      <td>0.000000</td>\n",
       "      <td>3.700000</td>\n",
       "      <td>1.040000</td>\n",
       "      <td>1.000000</td>\n",
       "    </tr>\n",
       "    <tr>\n",
       "      <th>50%</th>\n",
       "      <td>2.000000</td>\n",
       "      <td>1778.000000</td>\n",
       "      <td>37377.000000</td>\n",
       "      <td>1.000000</td>\n",
       "      <td>3.200000e+05</td>\n",
       "      <td>3.000000</td>\n",
       "      <td>1990.000000</td>\n",
       "      <td>0.130000</td>\n",
       "      <td>5.000000</td>\n",
       "      <td>1.710000</td>\n",
       "      <td>1.000000</td>\n",
       "    </tr>\n",
       "    <tr>\n",
       "      <th>75%</th>\n",
       "      <td>3.000000</td>\n",
       "      <td>2440.000000</td>\n",
       "      <td>78045.000000</td>\n",
       "      <td>2.000000</td>\n",
       "      <td>5.199000e+05</td>\n",
       "      <td>4.000000</td>\n",
       "      <td>2012.000000</td>\n",
       "      <td>0.220000</td>\n",
       "      <td>6.500000</td>\n",
       "      <td>3.060000</td>\n",
       "      <td>1.000000</td>\n",
       "    </tr>\n",
       "    <tr>\n",
       "      <th>max</th>\n",
       "      <td>7.000000</td>\n",
       "      <td>4500.000000</td>\n",
       "      <td>331446.000000</td>\n",
       "      <td>96.000000</td>\n",
       "      <td>5.000000e+07</td>\n",
       "      <td>8.000000</td>\n",
       "      <td>2022.000000</td>\n",
       "      <td>4.460000</td>\n",
       "      <td>10.000000</td>\n",
       "      <td>16.560000</td>\n",
       "      <td>1.000000</td>\n",
       "    </tr>\n",
       "  </tbody>\n",
       "</table>\n",
       "</div>"
      ],
      "text/plain": [
       "               baths           sqft        zipcode        stories  \\\n",
       "count  271765.000000  271765.000000  271765.000000  271765.000000   \n",
       "mean        2.406487    1930.030600   53062.547944       1.654198   \n",
       "std         0.867778     853.743361   26610.632253       2.345178   \n",
       "min         0.000000      72.000000    1104.000000       1.000000   \n",
       "25%         2.000000    1274.000000   33062.000000       1.000000   \n",
       "50%         2.000000    1778.000000   37377.000000       1.000000   \n",
       "75%         3.000000    2440.000000   78045.000000       2.000000   \n",
       "max         7.000000    4500.000000  331446.000000      96.000000   \n",
       "\n",
       "             target           beds          built          acres  \\\n",
       "count  2.717650e+05  271765.000000  271765.000000  271765.000000   \n",
       "mean   4.714844e+05       3.174390    1983.544014       0.204752   \n",
       "std    6.852514e+05       0.917078      31.639153       0.392983   \n",
       "min    8.900000e+03       0.000000    1900.000000       0.000000   \n",
       "25%    2.099000e+05       3.000000    1960.000000       0.000000   \n",
       "50%    3.200000e+05       3.000000    1990.000000       0.130000   \n",
       "75%    5.199000e+05       4.000000    2012.000000       0.220000   \n",
       "max    5.000000e+07       8.000000    2022.000000       4.460000   \n",
       "\n",
       "       avg_rating_school  avg_distance_school         has_pk  \n",
       "count      271765.000000        271765.000000  271765.000000  \n",
       "mean            5.135962             2.697997       0.771118  \n",
       "std             1.908339             2.774823       0.420114  \n",
       "min             1.000000             0.020000       0.000000  \n",
       "25%             3.700000             1.040000       1.000000  \n",
       "50%             5.000000             1.710000       1.000000  \n",
       "75%             6.500000             3.060000       1.000000  \n",
       "max            10.000000            16.560000       1.000000  "
      ]
     },
     "execution_count": 98,
     "metadata": {},
     "output_type": "execute_result"
    }
   ],
   "source": [
    "data.describe()"
   ]
  },
  {
   "cell_type": "markdown",
   "id": "41d17468",
   "metadata": {},
   "source": [
    "Данные пришли в норму, теперь можно продолжать работу с ними. Сбросим индексы датасета и переназначим заново:"
   ]
  },
  {
   "cell_type": "code",
   "execution_count": 99,
   "id": "ce550b3b",
   "metadata": {},
   "outputs": [],
   "source": [
    "data.reset_index(drop=True, inplace=True)"
   ]
  },
  {
   "cell_type": "markdown",
   "id": "4fc1dc7f",
   "metadata": {},
   "source": [
    "Выстроим признаки в удобном для нас порядке и сохраним очищенный датасет в новый файл:"
   ]
  },
  {
   "cell_type": "code",
   "execution_count": 100,
   "id": "0ecd4add",
   "metadata": {},
   "outputs": [],
   "source": [
    "columns_order = ['status', 'type', 'zipcode', 'state', 'city', 'sqft', 'stories', 'baths', \n",
    "                 'beds', 'heating', 'parking', 'is_garage', \n",
    "                 'pool', 'acres', 'avg_rating_school', 'avg_distance_school', \n",
    "                 'has_pk', 'built', 'remodeled', 'target']\n",
    "\n",
    "# переназначение порядка признаков\n",
    "data = data.reindex(columns=columns_order)\n",
    "\n",
    "# сохранение датасета\n",
    "data.to_csv(\"data/realty_data.csv\", index=False)"
   ]
  }
 ],
 "metadata": {
  "kernelspec": {
   "display_name": "Python 3 (ipykernel)",
   "language": "python",
   "name": "python3"
  },
  "language_info": {
   "codemirror_mode": {
    "name": "ipython",
    "version": 3
   },
   "file_extension": ".py",
   "mimetype": "text/x-python",
   "name": "python",
   "nbconvert_exporter": "python",
   "pygments_lexer": "ipython3",
   "version": "3.10.9"
  }
 },
 "nbformat": 4,
 "nbformat_minor": 5
}
